{
 "cells": [
  {
   "cell_type": "markdown",
   "id": "a676dabe",
   "metadata": {},
   "source": [
    "# Combination vs. Individual Models"
   ]
  },
  {
   "cell_type": "code",
   "execution_count": 1,
   "id": "6dd311a5",
   "metadata": {},
   "outputs": [],
   "source": [
    "import os\n",
    "os.chdir(\"../../\")\n",
    "import numpy as np\n",
    "import pandas as pd\n",
    "\n",
    "\n",
    "from bokeh.palettes import Spectral10\n",
    "from bokeh.plotting import figure, show\n",
    "from bokeh.models import ColumnDataSource, HoverTool, CustomJS, Label\n",
    "from bokeh.io import output_notebook\n",
    "from bokeh.models.widgets import Select\n",
    "from bokeh.layouts import column\n",
    "\n",
    "# output_notebook()"
   ]
  },
  {
   "cell_type": "code",
   "execution_count": 2,
   "id": "66c678f5",
   "metadata": {
    "scrolled": false,
    "tags": [
     "hide-input"
    ]
   },
   "outputs": [],
   "source": [
    "countries = [\"palau\", \"samoa\", \"tonga\", \"solomon_islands\", \"vanuatu\"]\n",
    "data = {}\n",
    "for country in countries:\n",
    "    filepath = os.getcwd() + f\"/data/tourism/{country}/model/forecast_combo.csv\"\n",
    "    df = pd.read_csv(filepath).drop(\"Unnamed: 0\", axis=1)\n",
    "    df[\"date\"] = pd.to_datetime(df[\"date\"])\n",
    "    data[country] = ColumnDataSource(df)\n",
    "\n",
    "# Create the dropdown menu\n",
    "country_select = Select(title=\"Select Country\", width=200,\n",
    "                        options=countries, value=countries[0])\n",
    "\n",
    "# Create the initial plot\n",
    "current_country = country_select.value\n",
    "current_data = data[current_country]\n",
    "p = figure(width=800, height=500, x_axis_type=\"datetime\")\n",
    "\n",
    "# Select all models\n",
    "models = df.columns[~df.columns.isin([\"date\"])].tolist()\n",
    "\n",
    "for name, color in zip(models, Spectral10):\n",
    "    r = p.line(x=\"date\", y=name, line_width=2, source=current_data,\n",
    "               color=color, alpha=0.8, name=name,\n",
    "               muted_color=color, muted_alpha=0.2, legend_label=name)\n",
    "\n",
    "hover = HoverTool(tooltips=[(\"date\", \"@date{%F}\"),\n",
    "                            (\"method\", \"$name\"),\n",
    "                            ('value', '$y{f}'),\n",
    "                            ('total', \"@total\")],\n",
    "                  formatters={\"@date\": \"datetime\"})\n",
    "\n",
    "p.add_tools(hover)\n",
    "\n",
    "p.legend.location = \"top_left\"\n",
    "p.legend.title_text_font_style = \"bold\"\n",
    "p.legend.title_text_font_size = \"20px\"\n",
    "p.legend.click_policy = \"mute\"\n",
    "\n",
    "js_callback = CustomJS(args=dict(data=data, country_select=country_select, p=p, models=models), code=\"\"\"\n",
    "    const selectedCountry = country_select.value;\n",
    "    const currentData = data[selectedCountry];\n",
    "    \n",
    "    // Update the data source of the plot\n",
    "    for (let i = 0; i < p.renderers.length; i++) {\n",
    "        const renderer = p.renderers[i];\n",
    "        const name = models[i];\n",
    "        renderer.data_source.data = currentData.data;\n",
    "        renderer.name = name;\n",
    "    }\n",
    "\"\"\")\n",
    "\n",
    "# Add the JavaScript callback to the dropdown menu\n",
    "country_select.js_on_change('value', js_callback)\n",
    "\n",
    "# Add a label to display the length of the select menu\n",
    "layout = column(country_select, p)\n",
    "\n",
    "# Show the layout with the dropdown menu and the plot\n",
    "show(layout)"
   ]
  }
 ],
 "metadata": {
  "celltoolbar": "Tags",
  "kernelspec": {
   "display_name": "Python 3 (ipykernel)",
   "language": "python",
   "name": "python3"
  },
  "language_info": {
   "codemirror_mode": {
    "name": "ipython",
    "version": 3
   },
   "file_extension": ".py",
   "mimetype": "text/x-python",
   "name": "python",
   "nbconvert_exporter": "python",
   "pygments_lexer": "ipython3",
   "version": "3.9.10"
  },
  "toc": {
   "base_numbering": 1,
   "nav_menu": {},
   "number_sections": true,
   "sideBar": true,
   "skip_h1_title": false,
   "title_cell": "Table of Contents",
   "title_sidebar": "Contents",
   "toc_cell": false,
   "toc_position": {},
   "toc_section_display": true,
   "toc_window_display": false
  }
 },
 "nbformat": 4,
 "nbformat_minor": 5
}
