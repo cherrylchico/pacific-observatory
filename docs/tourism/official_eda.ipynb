{
 "cells": [
  {
   "cell_type": "markdown",
   "id": "c42bd8f9",
   "metadata": {},
   "source": [
    "# Official Data"
   ]
  },
  {
   "cell_type": "code",
   "execution_count": 1,
   "id": "c5df696f",
   "metadata": {},
   "outputs": [],
   "source": [
    "import os\n",
    "os.chdir(\"../../\")\n",
    "import pandas as pd\n",
    "import numpy as np\n",
    "import seaborn as sns\n",
    "\n",
    "from scripts.python.PdfParse import *\n",
    "from scripts.python.ts_utils import *\n",
    "from scripts.python.utils import *"
   ]
  },
  {
   "cell_type": "code",
   "execution_count": 2,
   "id": "5b2d4934",
   "metadata": {
    "scrolled": true
   },
   "outputs": [
    {
     "name": "stdout",
     "output_type": "stream",
     "text": [
      "PALAU's ADF test results:\n"
     ]
    },
    {
     "data": {
      "text/html": [
       "<div>\n",
       "<style scoped>\n",
       "    .dataframe tbody tr th:only-of-type {\n",
       "        vertical-align: middle;\n",
       "    }\n",
       "\n",
       "    .dataframe tbody tr th {\n",
       "        vertical-align: top;\n",
       "    }\n",
       "\n",
       "    .dataframe thead th {\n",
       "        text-align: right;\n",
       "    }\n",
       "</style>\n",
       "<table border=\"1\" class=\"dataframe\">\n",
       "  <thead>\n",
       "    <tr style=\"text-align: right;\">\n",
       "      <th></th>\n",
       "      <th>Test Statistic</th>\n",
       "      <th>p-value</th>\n",
       "      <th># Lags Used</th>\n",
       "      <th>Number of Observations Used</th>\n",
       "      <th>Critical Value (1%)</th>\n",
       "      <th>Critical Value (5%)</th>\n",
       "      <th>Critical Value (10%)</th>\n",
       "    </tr>\n",
       "  </thead>\n",
       "  <tbody>\n",
       "    <tr>\n",
       "      <th>total</th>\n",
       "      <td>-1.230261</td>\n",
       "      <td>0.660444</td>\n",
       "      <td>13.0</td>\n",
       "      <td>170.0</td>\n",
       "      <td>-3.469413</td>\n",
       "      <td>-2.878696</td>\n",
       "      <td>-2.575917</td>\n",
       "    </tr>\n",
       "  </tbody>\n",
       "</table>\n",
       "</div>"
      ],
      "text/plain": [
       "       Test Statistic   p-value  # Lags Used  Number of Observations Used  \\\n",
       "total       -1.230261  0.660444         13.0                        170.0   \n",
       "\n",
       "       Critical Value (1%)  Critical Value (5%)  Critical Value (10%)  \n",
       "total            -3.469413            -2.878696             -2.575917  "
      ]
     },
     "metadata": {},
     "output_type": "display_data"
    },
    {
     "name": "stdout",
     "output_type": "stream",
     "text": [
      "SOLOMON's ADF test results:\n"
     ]
    },
    {
     "data": {
      "text/html": [
       "<div>\n",
       "<style scoped>\n",
       "    .dataframe tbody tr th:only-of-type {\n",
       "        vertical-align: middle;\n",
       "    }\n",
       "\n",
       "    .dataframe tbody tr th {\n",
       "        vertical-align: top;\n",
       "    }\n",
       "\n",
       "    .dataframe thead th {\n",
       "        text-align: right;\n",
       "    }\n",
       "</style>\n",
       "<table border=\"1\" class=\"dataframe\">\n",
       "  <thead>\n",
       "    <tr style=\"text-align: right;\">\n",
       "      <th></th>\n",
       "      <th>Test Statistic</th>\n",
       "      <th>p-value</th>\n",
       "      <th># Lags Used</th>\n",
       "      <th>Number of Observations Used</th>\n",
       "      <th>Critical Value (1%)</th>\n",
       "      <th>Critical Value (5%)</th>\n",
       "      <th>Critical Value (10%)</th>\n",
       "    </tr>\n",
       "  </thead>\n",
       "  <tbody>\n",
       "    <tr>\n",
       "      <th>total</th>\n",
       "      <td>-2.393654</td>\n",
       "      <td>0.143535</td>\n",
       "      <td>14.0</td>\n",
       "      <td>129.0</td>\n",
       "      <td>-3.482088</td>\n",
       "      <td>-2.884219</td>\n",
       "      <td>-2.578864</td>\n",
       "    </tr>\n",
       "  </tbody>\n",
       "</table>\n",
       "</div>"
      ],
      "text/plain": [
       "       Test Statistic   p-value  # Lags Used  Number of Observations Used  \\\n",
       "total       -2.393654  0.143535         14.0                        129.0   \n",
       "\n",
       "       Critical Value (1%)  Critical Value (5%)  Critical Value (10%)  \n",
       "total            -3.482088            -2.884219             -2.578864  "
      ]
     },
     "metadata": {},
     "output_type": "display_data"
    },
    {
     "name": "stdout",
     "output_type": "stream",
     "text": [
      "VANUATU's ADF test results:\n"
     ]
    },
    {
     "data": {
      "text/html": [
       "<div>\n",
       "<style scoped>\n",
       "    .dataframe tbody tr th:only-of-type {\n",
       "        vertical-align: middle;\n",
       "    }\n",
       "\n",
       "    .dataframe tbody tr th {\n",
       "        vertical-align: top;\n",
       "    }\n",
       "\n",
       "    .dataframe thead th {\n",
       "        text-align: right;\n",
       "    }\n",
       "</style>\n",
       "<table border=\"1\" class=\"dataframe\">\n",
       "  <thead>\n",
       "    <tr style=\"text-align: right;\">\n",
       "      <th></th>\n",
       "      <th>Test Statistic</th>\n",
       "      <th>p-value</th>\n",
       "      <th># Lags Used</th>\n",
       "      <th>Number of Observations Used</th>\n",
       "      <th>Critical Value (1%)</th>\n",
       "      <th>Critical Value (5%)</th>\n",
       "      <th>Critical Value (10%)</th>\n",
       "    </tr>\n",
       "  </thead>\n",
       "  <tbody>\n",
       "    <tr>\n",
       "      <th>total</th>\n",
       "      <td>-2.425354</td>\n",
       "      <td>0.134708</td>\n",
       "      <td>13.0</td>\n",
       "      <td>211.0</td>\n",
       "      <td>-3.461727</td>\n",
       "      <td>-2.875337</td>\n",
       "      <td>-2.574124</td>\n",
       "    </tr>\n",
       "  </tbody>\n",
       "</table>\n",
       "</div>"
      ],
      "text/plain": [
       "       Test Statistic   p-value  # Lags Used  Number of Observations Used  \\\n",
       "total       -2.425354  0.134708         13.0                        211.0   \n",
       "\n",
       "       Critical Value (1%)  Critical Value (5%)  Critical Value (10%)  \n",
       "total            -3.461727            -2.875337             -2.574124  "
      ]
     },
     "metadata": {},
     "output_type": "display_data"
    }
   ],
   "source": [
    "countries_df = pd.DataFrame()\n",
    "for country in [\"palau\", \"solomon\", \"vanuatu\"]:\n",
    "    path = os.getcwd() + \"/data/tourism/\" + str(country) + \\\n",
    "        \"/intermediate/\" + str(country) + \"_monthly_visitor.csv\"\n",
    "    df = pd.read_csv(path).drop(\"Unnamed: 0\", axis=1)\n",
    "    df.columns = [col.lower() for col in df.columns]\n",
    "    df[\"country\"] = str(country)\n",
    "    temp = df[[\"date\", \"country\", \"total\"]]\n",
    "    print(f\"{country.upper()}'s ADF test results:\")\n",
    "    display(get_adf_df(temp, [\"total\"]))\n",
    "    countries_df = pd.concat([countries_df, temp], axis=0)"
   ]
  }
 ],
 "metadata": {
  "kernelspec": {
   "display_name": "Python 3 (ipykernel)",
   "language": "python",
   "name": "python3"
  },
  "language_info": {
   "codemirror_mode": {
    "name": "ipython",
    "version": 3
   },
   "file_extension": ".py",
   "mimetype": "text/x-python",
   "name": "python",
   "nbconvert_exporter": "python",
   "pygments_lexer": "ipython3",
   "version": "3.9.10"
  },
  "toc": {
   "base_numbering": 1,
   "nav_menu": {},
   "number_sections": true,
   "sideBar": true,
   "skip_h1_title": false,
   "title_cell": "Table of Contents",
   "title_sidebar": "Contents",
   "toc_cell": false,
   "toc_position": {},
   "toc_section_display": true,
   "toc_window_display": false
  }
 },
 "nbformat": 4,
 "nbformat_minor": 5
}
