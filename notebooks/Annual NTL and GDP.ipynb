{
 "cells": [
  {
   "cell_type": "code",
   "execution_count": 1,
   "id": "2e00d2b4",
   "metadata": {},
   "outputs": [
    {
     "name": "stdout",
     "output_type": "stream",
     "text": [
      "eemont not available\n",
      "Google Drive tools are not available\n"
     ]
    }
   ],
   "source": [
    "import geemap\n",
    "from geemap import colormaps\n",
    "from geemap import foliumap\n",
    "import ee\n",
    "import sys\n",
    "sys.path.append('C:/Users/wb514197/Repos/GEE_Zonal/src')\n",
    "from gee_tools import Catalog, ZonalStats\n",
    "from gee_helpers import get_zonal_res\n",
    "import pandas as pd\n",
    "import os\n",
    "import glob\n",
    "import seaborn as sns\n",
    "from datetime import datetime\n",
    "from matplotlib import pyplot as plt\n",
    "from geemap.conversion import *\n",
    "import geopandas as gpd"
   ]
  },
  {
   "cell_type": "code",
   "execution_count": 2,
   "id": "3fd73411",
   "metadata": {},
   "outputs": [],
   "source": [
    "pac_path = r'C:\\Users\\wb514197\\WBG\\EEAPV Pacific Observatory Files - Geospatial and Big Data\\Data\\Admin Boundaries'\n",
    "pac_adm0 = gpd.read_file(os.path.join(pac_path, \"Adm0_Pacific_Edit.shp\"))"
   ]
  },
  {
   "cell_type": "code",
   "execution_count": 3,
   "id": "bb80dfbd",
   "metadata": {},
   "outputs": [],
   "source": [
    "from osgeo import gdal\n",
    "from rasterio.warp import Resampling, reproject\n",
    "import pandas as pd\n",
    "import boto3\n",
    "from rasterstats import zonal_stats\n",
    "from affine import Affine"
   ]
  },
  {
   "cell_type": "code",
   "execution_count": 4,
   "id": "a048612e",
   "metadata": {},
   "outputs": [],
   "source": [
    "s3 = boto3.resource('s3')"
   ]
  },
  {
   "cell_type": "code",
   "execution_count": 5,
   "id": "b962e136",
   "metadata": {},
   "outputs": [],
   "source": [
    "aws_bucket = \"wbgdecinternal-ntl\"\n",
    "path = \"NTL/VIIRS/Annual/VIIRS_ANNUAL_EOG\""
   ]
  },
  {
   "cell_type": "code",
   "execution_count": 6,
   "id": "6b9b1cf6",
   "metadata": {},
   "outputs": [],
   "source": [
    "client = boto3.client('s3')"
   ]
  },
  {
   "cell_type": "code",
   "execution_count": 10,
   "id": "c2fd2caf",
   "metadata": {},
   "outputs": [],
   "source": [
    "viirs_file_list = client.list_objects_v2(Bucket=aws_bucket, Prefix=path, MaxKeys=5000)\n",
    "viirs_files = [os.path.join(\"s3://\", aws_bucket, content['Key']) for content in viirs_file_list['Contents']]"
   ]
  },
  {
   "cell_type": "code",
   "execution_count": 16,
   "id": "c6dab30b",
   "metadata": {},
   "outputs": [],
   "source": [
    "file = viirs_files[-3]"
   ]
  },
  {
   "cell_type": "code",
   "execution_count": 17,
   "id": "48f670b1",
   "metadata": {},
   "outputs": [
    {
     "name": "stdout",
     "output_type": "stream",
     "text": [
      "0\n",
      "1\n",
      "2\n",
      "3\n",
      "4\n",
      "5\n",
      "6\n",
      "7\n",
      "8\n",
      "9\n",
      "10\n",
      "11\n"
     ]
    }
   ],
   "source": [
    "for idx, row in pac_adm0.iterrows():\n",
    "    "
   ]
  },
  {
   "cell_type": "code",
   "execution_count": null,
   "id": "22303f44",
   "metadata": {},
   "outputs": [],
   "source": []
  }
 ],
 "metadata": {
  "kernelspec": {
   "display_name": "Earth Engine",
   "language": "python",
   "name": "ee"
  },
  "language_info": {
   "codemirror_mode": {
    "name": "ipython",
    "version": 3
   },
   "file_extension": ".py",
   "mimetype": "text/x-python",
   "name": "python",
   "nbconvert_exporter": "python",
   "pygments_lexer": "ipython3",
   "version": "3.9.13"
  }
 },
 "nbformat": 4,
 "nbformat_minor": 5
}
