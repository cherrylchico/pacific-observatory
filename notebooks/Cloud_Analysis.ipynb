{
 "cells": [
  {
   "cell_type": "markdown",
   "id": "99436bf5",
   "metadata": {},
   "source": [
    "# Cloud Coverage Analysis"
   ]
  },
  {
   "cell_type": "code",
   "execution_count": 2,
   "id": "everyday-mills",
   "metadata": {},
   "outputs": [
    {
     "name": "stdout",
     "output_type": "stream",
     "text": [
      "eemont not available\n",
      "Google Drive tools are not available\n"
     ]
    }
   ],
   "source": [
    "import geemap\n",
    "from geemap import colormaps\n",
    "from geemap import foliumap\n",
    "import ee\n",
    "import sys\n",
    "sys.path.append('C:/Users/wb514197/Repos/GEE_Zonal/src')\n",
    "from gee_tools import Catalog, ZonalStats\n",
    "from gee_helpers import get_zonal_res\n",
    "import pandas as pd\n",
    "import os\n",
    "import glob\n",
    "import seaborn as sns\n",
    "from datetime import datetime\n",
    "from matplotlib import pyplot as plt\n",
    "from geemap.conversion import *\n",
    "import geopandas as gpd"
   ]
  },
  {
   "cell_type": "code",
   "execution_count": 3,
   "id": "specialized-necessity",
   "metadata": {},
   "outputs": [],
   "source": [
    "%load_ext autoreload\n",
    "%autoreload 2"
   ]
  },
  {
   "cell_type": "code",
   "execution_count": 4,
   "id": "graduate-tracy",
   "metadata": {},
   "outputs": [
    {
     "data": {
      "text/plain": [
       "'C:\\\\Users\\\\wb514197\\\\Repos\\\\pacific-observatory'"
      ]
     },
     "execution_count": 4,
     "metadata": {},
     "output_type": "execute_result"
    }
   ],
   "source": [
    "os.path.realpath(\"..\")"
   ]
  },
  {
   "cell_type": "code",
   "execution_count": 5,
   "id": "digital-myrtle",
   "metadata": {},
   "outputs": [],
   "source": [
    "ee.Initialize()"
   ]
  },
  {
   "cell_type": "code",
   "execution_count": 6,
   "id": "attractive-cache",
   "metadata": {},
   "outputs": [],
   "source": [
    "# pac_dir = os.path.join(os.path.expanduser(\"~\"), 'data', 'pacific')\n",
    "pac_dir = 'X:/data/pacific'\n",
    "png_dir = os.path.join(pac_dir, \"PNG\")\n",
    "out_dir = os.path.join(png_dir, 'output')\n",
    "min_dir = os.path.join(png_dir, 'mining')"
   ]
  },
  {
   "cell_type": "code",
   "execution_count": 9,
   "id": "satisfied-austria",
   "metadata": {},
   "outputs": [],
   "source": [
    "pac_path = r'C:\\Users\\wb514197\\WBG\\EEAPV Pacific Observatory Files - Geospatial and Big Data\\Data\\Admin Boundaries'\n",
    "pac_adm0 = gpd.read_file(os.path.join(pac_path, \"Adm0_Pacific.shp\"))\n",
    "pac_adm0 = pac_adm0.to_crs('EPSG:4326')"
   ]
  },
  {
   "cell_type": "code",
   "execution_count": 10,
   "id": "a89cc408",
   "metadata": {},
   "outputs": [
    {
     "data": {
      "text/plain": [
       "array(['American Samoa (U.S.)', 'Baker Island (U.S.)',\n",
       "       'Cook Islands (N.Z.)', 'Fiji', 'French Polynesia (Fr.)',\n",
       "       'Guam (U.S.)', 'Howland Island (U.S.)', 'Jarvis Island (U.S.)',\n",
       "       'Johnston Atoll (U.S.)', 'Kingman Reef (U.S.)', 'Kiribati',\n",
       "       'Marshall Islands', 'Federated States of Micronesia',\n",
       "       'Midway Island (U.S.)', 'Nauru', 'New Caledonia (Fr.)',\n",
       "       'Niue (N.Z.)', 'Norfolk Island (Aus.)',\n",
       "       'Northern Mariana Islands (U.S.)', 'Palau', 'Palmyra Atoll (U.S.)',\n",
       "       'Papua New Guinea', 'Pitcairn Islands (U.K.)', 'Samoa',\n",
       "       'Solomon Islands', 'Tokelau (N.Z.)', 'Tonga', 'Tuvalu', 'Vanuatu',\n",
       "       'Wake Island (U.S.)', 'Wallis and Futuna (Fr.)'], dtype=object)"
      ]
     },
     "execution_count": 10,
     "metadata": {},
     "output_type": "execute_result"
    }
   ],
   "source": [
    "pac_adm0.WB_ADM0_NA.unique()"
   ]
  },
  {
   "cell_type": "code",
   "execution_count": 11,
   "id": "6239a941",
   "metadata": {},
   "outputs": [],
   "source": [
    "sel = [\n",
    "    'Federated States of Micronesia', \n",
    "    'Fiji',\n",
    "    'Kiribati',\n",
    "    'Marshall Islands',\n",
    "    'Nauru',\n",
    "    'Palau',\n",
    "    'Papua New Guinea',\n",
    "    'Samoa',\n",
    "    'Solomon Islands',\n",
    "    'Tonga',\n",
    "    'Tuvalu',\n",
    "    'Vanuatu'\n",
    "]"
   ]
  },
  {
   "cell_type": "code",
   "execution_count": 12,
   "id": "69192e4d",
   "metadata": {},
   "outputs": [],
   "source": [
    "pac = pac_adm0.loc[pac_adm0.WB_ADM0_NA.isin(sel)].copy()"
   ]
  },
  {
   "cell_type": "code",
   "execution_count": 13,
   "id": "0221fbda",
   "metadata": {},
   "outputs": [],
   "source": [
    "coverage = ee.ImageCollection(\"NOAA/VIIRS/DNB/MONTHLY_V1/VCMSLCFG\").select('cf_cvg') #.filterDate('2019-01-01', \"2021-12-31\")"
   ]
  },
  {
   "cell_type": "code",
   "execution_count": 14,
   "id": "7f59f6c5",
   "metadata": {},
   "outputs": [],
   "source": [
    "def getGT0(image):\n",
    "    return image.gt(0).clip(aoi).set('system:time_start', image.get('system:time_start')) #.multiply(ee.Image.pixelArea())\n",
    "def getGTE0(image):\n",
    "    return image.gte(0).clip(aoi).set('system:time_start', image.get('system:time_start')) #.multiply(ee.Image.pixelArea())"
   ]
  },
  {
   "cell_type": "code",
   "execution_count": 15,
   "id": "eb021312",
   "metadata": {},
   "outputs": [],
   "source": [
    "aoi = geopandas_to_ee(pac)"
   ]
  },
  {
   "cell_type": "markdown",
   "id": "dirty-bristol",
   "metadata": {},
   "source": [
    "Check cloud issues"
   ]
  },
  {
   "cell_type": "code",
   "execution_count": 16,
   "id": "collected-watershed",
   "metadata": {},
   "outputs": [],
   "source": [
    "coverage = ee.ImageCollection(\"NOAA/VIIRS/DNB/MONTHLY_V1/VCMSLCFG\").select('cf_cvg')# .filterDate('2019-01-01', \"2021-12-31\")\n",
    "# one = cf_cvg.first().clip(aoi)\n",
    "# one = one.mask(one)"
   ]
  },
  {
   "cell_type": "code",
   "execution_count": 17,
   "id": "adapted-adobe",
   "metadata": {},
   "outputs": [],
   "source": [
    "def getGT0(image):\n",
    "    return image.gt(0).clip(aoi).set('system:time_start', image.get('system:time_start')) #.multiply(ee.Image.pixelArea())\n",
    "def getGTE0(image):\n",
    "    return image.gte(0).clip(aoi).set('system:time_start', image.get('system:time_start')) #.multiply(ee.Image.pixelArea())"
   ]
  },
  {
   "cell_type": "code",
   "execution_count": 18,
   "id": "useful-anniversary",
   "metadata": {},
   "outputs": [],
   "source": [
    "coverage_gt0 = coverage.map(getGT0)\n",
    "coverage_gte0 = coverage.map(getGTE0)"
   ]
  },
  {
   "cell_type": "code",
   "execution_count": 19,
   "id": "expired-shirt",
   "metadata": {},
   "outputs": [],
   "source": [
    "zs = ZonalStats(\n",
    "    collection_id = 'NOAA/VIIRS/DNB/MONTHLY_V1/VCMCFG',\n",
    "    target_features = aoi,\n",
    "    statistic_type = 'sum',\n",
    "    scale = 500,\n",
    "    frequency = 'original',\n",
    "    ee_dataset = coverage_gt0\n",
    ")\n",
    "res = zs.runZonalStats()\n",
    "res = res.getInfo()"
   ]
  },
  {
   "cell_type": "code",
   "execution_count": 20,
   "id": "509f66c3",
   "metadata": {},
   "outputs": [],
   "source": [
    "df_gt0 = get_zonal_res(res)"
   ]
  },
  {
   "cell_type": "code",
   "execution_count": 21,
   "id": "usual-nylon",
   "metadata": {},
   "outputs": [],
   "source": [
    "zs = ZonalStats(\n",
    "    collection_id = 'NOAA/VIIRS/DNB/MONTHLY_V1/VCMCFG',\n",
    "    target_features = aoi,\n",
    "    statistic_type = 'sum',\n",
    "    scale = 500,\n",
    "    frequency = 'original',\n",
    "    ee_dataset = coverage_gte0\n",
    ")\n",
    "res = zs.runZonalStats()\n",
    "res = res.getInfo()"
   ]
  },
  {
   "cell_type": "code",
   "execution_count": 22,
   "id": "2366c4f2",
   "metadata": {},
   "outputs": [],
   "source": [
    "df_gte0 = get_zonal_res(res)"
   ]
  },
  {
   "cell_type": "code",
   "execution_count": 23,
   "id": "993f1755",
   "metadata": {},
   "outputs": [
    {
     "data": {
      "text/plain": [
       "Index(['20140101_cf_cvg', '20140201_cf_cvg', '20140301_cf_cvg',\n",
       "       '20140401_cf_cvg', '20140501_cf_cvg', '20140601_cf_cvg',\n",
       "       '20140701_cf_cvg', '20140801_cf_cvg', '20140901_cf_cvg',\n",
       "       '20141001_cf_cvg',\n",
       "       ...\n",
       "       'OBJECTID', 'Region', 'SPC', 'Shape_Area', 'Shape_Leng', 'UN_m49',\n",
       "       'WB_ADM0_CO', 'WB_ADM0_NA', 'incomeG', 'lendingC'],\n",
       "      dtype='object', length=115)"
      ]
     },
     "execution_count": 23,
     "metadata": {},
     "output_type": "execute_result"
    }
   ],
   "source": [
    "df_gt0.columns"
   ]
  },
  {
   "cell_type": "code",
   "execution_count": 24,
   "id": "cc08d348",
   "metadata": {},
   "outputs": [],
   "source": [
    "# pac_df = pac.drop(columns='geometry')\n",
    "# pac_df.columns"
   ]
  },
  {
   "cell_type": "code",
   "execution_count": 25,
   "id": "a99ed364",
   "metadata": {},
   "outputs": [],
   "source": [
    "cols_cf = ['cf' in col for col in df_gt0.columns]\n",
    "cols = list(~pd.Series(cols_cf))\n",
    "# df_gt0.loc[:, pac_df.columns]\n",
    "# import numpy as np\n",
    "# list(np.invert(filt))"
   ]
  },
  {
   "cell_type": "code",
   "execution_count": 26,
   "id": "b7734d81",
   "metadata": {
    "scrolled": true
   },
   "outputs": [],
   "source": [
    "df_pct = df_gt0.iloc[:, cols].join(df_gt0.loc[:, cols_cf].divide(df_gte0.loc[:, cols_cf]))"
   ]
  },
  {
   "cell_type": "code",
   "execution_count": 27,
   "id": "6262da46",
   "metadata": {},
   "outputs": [
    {
     "data": {
      "text/plain": [
       "Index(['FID_100', 'ISO3', 'ISO_A2', 'OBJECTID', 'Region', 'SPC', 'Shape_Area',\n",
       "       'Shape_Leng', 'UN_m49', 'WB_ADM0_CO',\n",
       "       ...\n",
       "       '20210901_cf_cvg', '20211001_cf_cvg', '20211101_cf_cvg',\n",
       "       '20211201_cf_cvg', '20220101_cf_cvg', '20220201_cf_cvg',\n",
       "       '20220301_cf_cvg', '20220401_cf_cvg', '20220501_cf_cvg',\n",
       "       '20220601_cf_cvg'],\n",
       "      dtype='object', length=115)"
      ]
     },
     "execution_count": 27,
     "metadata": {},
     "output_type": "execute_result"
    }
   ],
   "source": [
    "df_pct.columns"
   ]
  },
  {
   "cell_type": "code",
   "execution_count": 28,
   "id": "passive-melissa",
   "metadata": {},
   "outputs": [],
   "source": [
    "def rename_func(col):\n",
    "    if \"cf_cvg\" in col:\n",
    "        p = col.split(\"_\")\n",
    "        new_name = \"pct\"+\"__\"+p[0]\n",
    "        return(new_name)\n",
    "    else:\n",
    "        return col"
   ]
  },
  {
   "cell_type": "code",
   "execution_count": 29,
   "id": "revised-continuity",
   "metadata": {},
   "outputs": [],
   "source": [
    "df_pct.rename(rename_func, axis=1, inplace=True)"
   ]
  },
  {
   "cell_type": "code",
   "execution_count": 30,
   "id": "lightweight-gabriel",
   "metadata": {},
   "outputs": [
    {
     "data": {
      "text/plain": [
       "Index(['FID_100', 'ISO3', 'ISO_A2', 'OBJECTID', 'Region', 'SPC', 'Shape_Area',\n",
       "       'Shape_Leng', 'UN_m49', 'WB_ADM0_CO',\n",
       "       ...\n",
       "       'pct__20210901', 'pct__20211001', 'pct__20211101', 'pct__20211201',\n",
       "       'pct__20220101', 'pct__20220201', 'pct__20220301', 'pct__20220401',\n",
       "       'pct__20220501', 'pct__20220601'],\n",
       "      dtype='object', length=115)"
      ]
     },
     "execution_count": 30,
     "metadata": {},
     "output_type": "execute_result"
    }
   ],
   "source": [
    "df_pct.columns"
   ]
  },
  {
   "cell_type": "code",
   "execution_count": 31,
   "id": "prescribed-turtle",
   "metadata": {},
   "outputs": [],
   "source": [
    "df_pct_re = pd.wide_to_long(\n",
    "    df_pct,\n",
    "    stubnames = ['pct'],\n",
    "    i = 'WB_ADM0_NA',\n",
    "    j = 'date',\n",
    "    sep = \"__\"\n",
    ")"
   ]
  },
  {
   "cell_type": "code",
   "execution_count": 32,
   "id": "billion-juice",
   "metadata": {},
   "outputs": [],
   "source": [
    "df_pct_re.reset_index(inplace=True)"
   ]
  },
  {
   "cell_type": "code",
   "execution_count": 33,
   "id": "proprietary-citation",
   "metadata": {},
   "outputs": [],
   "source": [
    "df_pct_re.loc[:,\"date\"] = pd.to_datetime(df_pct_re.date, format=\"%Y%m%d\")"
   ]
  },
  {
   "cell_type": "code",
   "execution_count": 34,
   "id": "81b65b35",
   "metadata": {},
   "outputs": [],
   "source": [
    "# df_pct_re.to_csv(os.path.join(out_dir, \"adm0_pct_cloud.csv\"))"
   ]
  },
  {
   "cell_type": "code",
   "execution_count": 35,
   "id": "exempt-scheduling",
   "metadata": {},
   "outputs": [],
   "source": [
    "sns.set()\n",
    "# sns.reset_defaults()"
   ]
  },
  {
   "cell_type": "code",
   "execution_count": 36,
   "id": "floating-marine",
   "metadata": {},
   "outputs": [
    {
     "data": {
      "text/plain": [
       "<AxesSubplot:xlabel='date', ylabel='pct'>"
      ]
     },
     "execution_count": 36,
     "metadata": {},
     "output_type": "execute_result"
    },
    {
     "data": {
      "image/png": "[encoded data removed]",
      "text/plain": [
       "<Figure size 792x432 with 1 Axes>"
      ]
     },
     "metadata": {
      "needs_background": "light"
     },
     "output_type": "display_data"
    }
   ],
   "source": [
    "fig, ax = plt.subplots(figsize=(11, 6))\n",
    "sns.lineplot(data=df_pct_re, x=\"date\", y=\"pct\", hue='WB_ADM0_NA')\n",
    "# ax.set(ylim=(0, 36000))"
   ]
  },
  {
   "cell_type": "markdown",
   "id": "relative-payday",
   "metadata": {},
   "source": [
    "Map cloud"
   ]
  },
  {
   "cell_type": "code",
   "execution_count": 37,
   "id": "9ddf29b4",
   "metadata": {},
   "outputs": [],
   "source": [
    "cent = aoi.geometry().centroid().getInfo()['coordinates']"
   ]
  },
  {
   "cell_type": "code",
   "execution_count": 38,
   "id": "c8e24385",
   "metadata": {
    "scrolled": true
   },
   "outputs": [],
   "source": [
    "# pac_adm0.representative_point()"
   ]
  },
  {
   "cell_type": "code",
   "execution_count": 39,
   "id": "noble-sport",
   "metadata": {},
   "outputs": [],
   "source": [
    "vis_cloud = {\n",
    "    'bands': ['cf_cvg'], \n",
    "    'palette': ['ffffff', 'cc0013'], \n",
    "    'min': 0, \n",
    "    'max': 1, \n",
    "    'opacity': 0.5\n",
    "}"
   ]
  },
  {
   "cell_type": "code",
   "execution_count": 40,
   "id": "flexible-excerpt",
   "metadata": {},
   "outputs": [],
   "source": [
    "one = coverage_gt0.filterDate('2020-02-01', \"2020-03-01\")"
   ]
  },
  {
   "cell_type": "code",
   "execution_count": 41,
   "id": "smoking-proxy",
   "metadata": {},
   "outputs": [],
   "source": [
    "months = ['01', '02', '03', '04', '05', '06', '07', '08', '09', '10', '11', '12']"
   ]
  },
  {
   "cell_type": "code",
   "execution_count": 42,
   "id": "eab285ea",
   "metadata": {},
   "outputs": [
    {
     "data": {
      "application/vnd.jupyter.widget-view+json": {
       "model_id": "e28584def893424bb50c0989935fedeb",
       "version_major": 2,
       "version_minor": 0
      },
      "text/plain": [
       "Map(center=[-7.29794580250415, 147.91153951306083], controls=(WidgetControl(options=['position', 'transparent_…"
      ]
     },
     "metadata": {},
     "output_type": "display_data"
    }
   ],
   "source": [
    "Map = geemap.Map(center = [cent[1], cent[0]], zoom=6)\n",
    "# Map.addLayer(aoi, vis_countries, \"Country\")\n",
    "Map.addLayer(one, vis_cloud, 'Cloud Free Coverage')\n",
    "Map.addLayerControl()\n",
    "Map"
   ]
  },
  {
   "cell_type": "code",
   "execution_count": 45,
   "id": "related-stanley",
   "metadata": {
    "scrolled": true
   },
   "outputs": [],
   "source": [
    "# to remove\n",
    "# Map.remove_layer(Map.find_layer('Cloud Free Coverage'))"
   ]
  },
  {
   "cell_type": "code",
   "execution_count": 53,
   "id": "caroline-tender",
   "metadata": {},
   "outputs": [],
   "source": [
    "# viirs_col_raw = ee.ImageCollection(\"NOAA/VIIRS/DNB/MONTHLY_V1/VCMCFG\") \\\n",
    "#     .select('avg_rad') \\\n",
    "#     .filterDate('2020-01-01', \"2021-06-01\")"
   ]
  },
  {
   "cell_type": "code",
   "execution_count": 68,
   "id": "younger-merit",
   "metadata": {},
   "outputs": [],
   "source": [
    "viirs_col = ee.ImageCollection(\"NOAA/VIIRS/DNB/MONTHLY_V1/VCMSLCFG\") \\\n",
    "    .filterDate('2020-01-01', \"2021-06-01\")\n",
    "#     .select('avg_rad') \\"
   ]
  },
  {
   "cell_type": "code",
   "execution_count": 74,
   "id": "f1f4e121",
   "metadata": {},
   "outputs": [],
   "source": [
    "def prepareImage(img):\n",
    "    img = img.clip(aoi)\n",
    "    rad = img.select('avg_rad')\n",
    "    cf_cvg = img.select('cf_cvg') #.rename('avg_rad')\n",
    "    cf_eq0 = cf_cvg.gt(0)\n",
    "    img_masked = rad.mask(cf_eq0)\n",
    "    \n",
    "    return img_masked"
   ]
  },
  {
   "cell_type": "code",
   "execution_count": 75,
   "id": "warming-blond",
   "metadata": {},
   "outputs": [],
   "source": [
    "# def prepareImage(img):\n",
    "#     img_clip = img.clip(aoi)\n",
    "#     img_masked = img_clip.mask(img_clip.gt(0))\n",
    "#     return img_masked"
   ]
  },
  {
   "cell_type": "code",
   "execution_count": 76,
   "id": "informal-reunion",
   "metadata": {},
   "outputs": [],
   "source": [
    "# viirs_col_clip_raw = viirs_col_raw.map(prepareImage)"
   ]
  },
  {
   "cell_type": "code",
   "execution_count": 77,
   "id": "rational-sword",
   "metadata": {},
   "outputs": [],
   "source": [
    "viirs_col_clip = viirs_col.map(prepareImage)"
   ]
  },
  {
   "cell_type": "code",
   "execution_count": 78,
   "id": "antique-verse",
   "metadata": {},
   "outputs": [],
   "source": [
    "# def ymList_ee(self):\n",
    "#     '''\n",
    "#     Create list of year/month pairs from a given dataset using EE\n",
    "#     '''\n",
    "#     def iter_func(image, newlist):\n",
    "#         date = ee.String(image.date().format(\"YYYY-MM\"))\n",
    "#         newlist = ee.List(newlist);\n",
    "#         return ee.List(newlist.add(date).sort())\n",
    "#     ymd = self.iterate(iter_func, ee.List([]))\n",
    "#     return ee.List(ymd).distinct()"
   ]
  },
  {
   "cell_type": "code",
   "execution_count": 79,
   "id": "fifth-freedom",
   "metadata": {},
   "outputs": [],
   "source": [
    "# dates = ymList_ee(viirs_col_clip)"
   ]
  },
  {
   "cell_type": "code",
   "execution_count": 80,
   "id": "worthy-mandate",
   "metadata": {},
   "outputs": [],
   "source": [
    "# dates = dates.getInfo()"
   ]
  },
  {
   "cell_type": "code",
   "execution_count": 81,
   "id": "9529760b",
   "metadata": {},
   "outputs": [],
   "source": [
    "pal = colormaps.get_palette('viridis', 20)\n",
    "vis_params = {\n",
    "    'bands': ['avg_rad'], \n",
    "    'palette': pal, \n",
    "    'min': 0.0, \n",
    "    'max': 5.0, \n",
    "    'opacity': 1.0\n",
    "}"
   ]
  },
  {
   "cell_type": "code",
   "execution_count": 84,
   "id": "e718da81",
   "metadata": {},
   "outputs": [],
   "source": [
    "one = viirs_col_clip.filterDate('2020-02-01', \"2020-03-01\")"
   ]
  },
  {
   "cell_type": "code",
   "execution_count": 85,
   "id": "deb93c79",
   "metadata": {},
   "outputs": [
    {
     "data": {
      "application/vnd.jupyter.widget-view+json": {
       "model_id": "53b3c167354f477e96c86e080ed6b8a8",
       "version_major": 2,
       "version_minor": 0
      },
      "text/plain": [
       "Map(center=[-7.29794580250415, 147.91153951306083], controls=(WidgetControl(options=['position', 'transparent_…"
      ]
     },
     "metadata": {},
     "output_type": "display_data"
    }
   ],
   "source": [
    "Map2 = geemap.Map(center = [cent[1], cent[0]], zoom=6)\n",
    "Map2.addLayer(one, vis_params, \"VIIRS\")\n",
    "Map2.addLayerControl()\n",
    "Map2"
   ]
  },
  {
   "cell_type": "code",
   "execution_count": 65,
   "id": "fa1100a7",
   "metadata": {},
   "outputs": [
    {
     "data": {
      "application/vnd.jupyter.widget-view+json": {
       "model_id": "b2279d5f64c3403ba682e6066e30ecd2",
       "version_major": 2,
       "version_minor": 0
      },
      "text/plain": [
       "Map(center=[-7.29794580250415, 147.91153951306083], controls=(WidgetControl(options=['position', 'transparent_…"
      ]
     },
     "metadata": {},
     "output_type": "display_data"
    }
   ],
   "source": [
    "Map2 = geemap.Map(center = [cent[1], cent[0]], zoom=6)\n",
    "Map2.addLayer(viirs_col_clip.first(), vis_params, \"VIIRS\")\n",
    "Map2.addLayerControl()\n",
    "Map2"
   ]
  },
  {
   "cell_type": "code",
   "execution_count": null,
   "id": "d0044977",
   "metadata": {},
   "outputs": [],
   "source": []
  }
 ],
 "metadata": {
  "kernelspec": {
   "display_name": "Earth Engine",
   "language": "python",
   "name": "ee"
  },
  "language_info": {
   "codemirror_mode": {
    "name": "ipython",
    "version": 3
   },
   "file_extension": ".py",
   "mimetype": "text/x-python",
   "name": "python",
   "nbconvert_exporter": "python",
   "pygments_lexer": "ipython3",
   "version": "3.9.13"
  },
  "toc": {
   "base_numbering": 1,
   "nav_menu": {},
   "number_sections": true,
   "sideBar": true,
   "skip_h1_title": false,
   "title_cell": "Table of Contents",
   "title_sidebar": "Contents",
   "toc_cell": false,
   "toc_position": {
    "height": "429.333px",
    "left": "57px",
    "top": "176px",
    "width": "165px"
   },
   "toc_section_display": true,
   "toc_window_display": false
  },
  "varInspector": {
   "cols": {
    "lenName": 16,
    "lenType": 16,
    "lenVar": 40
   },
   "kernels_config": {
    "python": {
     "delete_cmd_postfix": "",
     "delete_cmd_prefix": "del ",
     "library": "var_list.py",
     "varRefreshCmd": "print(var_dic_list())"
    },
    "r": {
     "delete_cmd_postfix": ") ",
     "delete_cmd_prefix": "rm(",
     "library": "var_list.r",
     "varRefreshCmd": "cat(var_dic_list()) "
    }
   },
   "types_to_exclude": [
    "module",
    "function",
    "builtin_function_or_method",
    "instance",
    "_Feature"
   ],
   "window_display": false
  }
 },
 "nbformat": 4,
 "nbformat_minor": 5
}
