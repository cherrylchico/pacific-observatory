{
 "cells": [
  {
   "cell_type": "code",
   "execution_count": 1,
   "id": "f497ecd7",
   "metadata": {},
   "outputs": [
    {
     "name": "stdout",
     "output_type": "stream",
     "text": [
      "eemont not available\n",
      "Google Drive tools are not available\n"
     ]
    }
   ],
   "source": [
    "import geemap\n",
    "from geemap import colormaps\n",
    "from geemap import foliumap\n",
    "import ee\n",
    "import sys\n",
    "sys.path.append('C:/Users/wb514197/Repos/GEE_Zonal/src')\n",
    "from gee_tools import Catalog, ZonalStats\n",
    "from gee_helpers import get_zonal_res\n",
    "import pandas as pd\n",
    "import os\n",
    "import glob\n",
    "import seaborn as sns\n",
    "from datetime import datetime\n",
    "from matplotlib import pyplot as plt\n",
    "from geemap.conversion import *\n",
    "import geopandas as gpd"
   ]
  },
  {
   "cell_type": "code",
   "execution_count": 2,
   "id": "b473dc95",
   "metadata": {},
   "outputs": [],
   "source": [
    "%load_ext autoreload\n",
    "%autoreload 2"
   ]
  },
  {
   "cell_type": "code",
   "execution_count": 5,
   "id": "9a5ed6e0",
   "metadata": {},
   "outputs": [
    {
     "data": {
      "text/html": [
       "<p>To authorize access needed by Earth Engine, open the following\n",
       "        URL in a web browser and follow the instructions:</p>\n",
       "        <p><a href=https://code.earthengine.google.com/client-auth?scopes=https%3A//www.googleapis.com/auth/earthengine%20https%3A//www.googleapis.com/auth/devstorage.full_control&request_id=Ua8WyJFahd75AG3jpUcnHrdP4AFC0mPFNK4egioufwM&tc=Ny4uyjJcZ2H2h7FYq6QrNHiblah-ir5fjDXnUBjsYyE&cc=kSqIe-MGxwdf6XM9JrNHcVvzReK1TO6DynSkpXnO6yo>https://code.earthengine.google.com/client-auth?scopes=https%3A//www.googleapis.com/auth/earthengine%20https%3A//www.googleapis.com/auth/devstorage.full_control&request_id=Ua8WyJFahd75AG3jpUcnHrdP4AFC0mPFNK4egioufwM&tc=Ny4uyjJcZ2H2h7FYq6QrNHiblah-ir5fjDXnUBjsYyE&cc=kSqIe-MGxwdf6XM9JrNHcVvzReK1TO6DynSkpXnO6yo</a></p>\n",
       "        <p>The authorization workflow will generate a code, which you\n",
       "        should paste in the box below</p>\n",
       "        "
      ],
      "text/plain": [
       "<IPython.core.display.HTML object>"
      ]
     },
     "metadata": {},
     "output_type": "display_data"
    },
    {
     "name": "stdout",
     "output_type": "stream",
     "text": [
      "Enter verification code: 4/1AdQt8qh8LOWkSKMYJWeBPmQCCUoYTt56BJCpYEporMS7_8JThBLAKmeJTNs\n",
      "\n",
      "Successfully saved authorization token.\n"
     ]
    }
   ],
   "source": [
    "ee.Authenticate()"
   ]
  },
  {
   "cell_type": "code",
   "execution_count": 3,
   "id": "12099ebb",
   "metadata": {},
   "outputs": [],
   "source": [
    "ee.Initialize()"
   ]
  },
  {
   "cell_type": "code",
   "execution_count": 4,
   "id": "ab49e62f",
   "metadata": {},
   "outputs": [],
   "source": [
    "# pac_dir = os.path.join(os.path.expanduser(\"~\"), 'data', 'pacific')\n",
    "pac_dir = 'X:/data/pacific'\n",
    "png_dir = os.path.join(pac_dir, \"PNG\")\n",
    "out_dir = os.path.join(pac_dir, 'temp')\n",
    "min_dir = os.path.join(png_dir, 'mining')"
   ]
  },
  {
   "cell_type": "code",
   "execution_count": 5,
   "id": "e2472cc8",
   "metadata": {},
   "outputs": [],
   "source": [
    "# pac_path = 'C:/Users/wb514197/WBG/Pacific Observatory - WB Group - Geospatial and Big Data/Data/Admin Boundaries'\n",
    "pac_path = r'C:\\Users\\wb514197\\WBG\\EEAPV Pacific Observatory Files - Geospatial and Big Data\\Data\\Admin Boundaries'\n",
    "pac_adm0 = gpd.read_file(os.path.join(pac_path, \"Adm0_Pacific_Edit.shp\"))"
   ]
  },
  {
   "cell_type": "code",
   "execution_count": 6,
   "id": "42cfcfe4",
   "metadata": {},
   "outputs": [],
   "source": [
    "sel = [\n",
    "    'Federated States of Micronesia', \n",
    "    'Fiji',\n",
    "    'Kiribati',\n",
    "    'Marshall Islands',\n",
    "    'Nauru',\n",
    "    'Palau',\n",
    "    'Papua New Guinea',\n",
    "    'Samoa',\n",
    "    'Solomon Islands',\n",
    "    'Tonga',\n",
    "    'Tuvalu',\n",
    "    'Vanuatu'\n",
    "]"
   ]
  },
  {
   "cell_type": "code",
   "execution_count": 7,
   "id": "cc4f6f58",
   "metadata": {},
   "outputs": [],
   "source": [
    "pac = pac_adm0.loc[pac_adm0.WB_ADM0_NA.isin(sel)].copy()"
   ]
  },
  {
   "cell_type": "code",
   "execution_count": 8,
   "id": "abc15c77",
   "metadata": {},
   "outputs": [],
   "source": [
    "viirs = ee.ImageCollection(\"NOAA/VIIRS/DNB/MONTHLY_V1/VCMSLCFG\") \\\n",
    "    .filterDate('2021-01-01', \"2021-12-31\")\n",
    "#     .select('avg_rad') \\"
   ]
  },
  {
   "cell_type": "code",
   "execution_count": 9,
   "id": "696d3bba",
   "metadata": {},
   "outputs": [],
   "source": [
    "def prepareImage(img):\n",
    "    rad = img.select('avg_rad')\n",
    "    cf_cvg = img.select('cf_cvg') #.rename('avg_rad')\n",
    "    cf_eq0 = cf_cvg.gt(0)\n",
    "    img_masked = rad.mask(cf_eq0)\n",
    "    \n",
    "    return img_masked"
   ]
  },
  {
   "cell_type": "code",
   "execution_count": 10,
   "id": "5f918165",
   "metadata": {},
   "outputs": [],
   "source": [
    "data = viirs.map(prepareImage)"
   ]
  },
  {
   "cell_type": "code",
   "execution_count": 11,
   "id": "1514df51",
   "metadata": {},
   "outputs": [],
   "source": [
    "composite = data.mean()"
   ]
  },
  {
   "cell_type": "markdown",
   "id": "e5900c7c",
   "metadata": {},
   "source": [
    "Test Vanuatu"
   ]
  },
  {
   "cell_type": "code",
   "execution_count": 74,
   "id": "0b2f62c9",
   "metadata": {},
   "outputs": [],
   "source": [
    "aoi = pac.loc[pac.WB_ADM0_NA==\"Vanuatu\"].copy()\n",
    "aoi.geometry = aoi.buffer(2000)\n",
    "aoi = aoi.to_crs(\"EPSG:4326\")"
   ]
  },
  {
   "cell_type": "code",
   "execution_count": 75,
   "id": "92518389",
   "metadata": {},
   "outputs": [],
   "source": [
    "aoi = geopandas_to_ee(aoi)"
   ]
  },
  {
   "cell_type": "code",
   "execution_count": 76,
   "id": "ba094feb",
   "metadata": {},
   "outputs": [],
   "source": [
    "roi = aoi.geometry()"
   ]
  },
  {
   "cell_type": "code",
   "execution_count": 77,
   "id": "4416da99",
   "metadata": {},
   "outputs": [],
   "source": [
    "country_comp = composite.clip(roi)\n",
    "country_comp_masked = composite.updateMask(country_comp)\n",
    "country_comp_unmasked = country_comp_masked.unmask(-1)"
   ]
  },
  {
   "cell_type": "code",
   "execution_count": 78,
   "id": "28b96cde",
   "metadata": {},
   "outputs": [],
   "source": [
    "filename = os.path.join(out_dir, 'vanuatu_2021_unmasked.tif')"
   ]
  },
  {
   "cell_type": "code",
   "execution_count": 79,
   "id": "6bc7049e",
   "metadata": {},
   "outputs": [
    {
     "name": "stdout",
     "output_type": "stream",
     "text": [
      "Generating URL ...\n",
      "Downloading data from https://earthengine.googleapis.com/v1alpha/projects/earthengine-legacy/thumbnails/ef1a3c7b4f3b8a0a688131efa498974d-a4167e1510a902583602c8f567e04268:getPixels\n",
      "Please wait ...\n",
      "Data downloaded to X:\\data\\pacific\\temp\\vanuatu_2021_unmasked.tif\n"
     ]
    }
   ],
   "source": [
    "geemap.ee_export_image(\n",
    "    country_comp_unmasked, filename=filename, scale=500, region=roi, file_per_band=False\n",
    ")"
   ]
  },
  {
   "cell_type": "code",
   "execution_count": 91,
   "id": "ea2c694f",
   "metadata": {},
   "outputs": [],
   "source": [
    "geemap.ee_export_image_to_drive?"
   ]
  },
  {
   "cell_type": "markdown",
   "id": "423a8848",
   "metadata": {},
   "source": [
    "Run all"
   ]
  },
  {
   "cell_type": "code",
   "execution_count": 102,
   "id": "cad19bd4",
   "metadata": {
    "scrolled": true
   },
   "outputs": [
    {
     "name": "stdout",
     "output_type": "stream",
     "text": [
      "done with Fiji\n",
      "done with Kiribati\n",
      "done with Marshall Islands\n",
      "done with Federated States of Micronesia\n",
      "done with Nauru\n",
      "done with Palau\n",
      "done with Papua New Guinea\n",
      "done with Samoa\n",
      "done with Solomon Islands\n",
      "done with Tonga\n",
      "done with Tuvalu\n",
      "done with Vanuatu\n"
     ]
    }
   ],
   "source": [
    "for idx, row in pac.iterrows():\n",
    "    aoi = pac.loc[pac.WB_ADM0_NA==row.WB_ADM0_NA].copy()\n",
    "    aoi.geometry = aoi.buffer(2000)\n",
    "    aoi = aoi.to_crs(\"EPSG:4326\")\n",
    "    aoi = geopandas_to_ee(aoi)\n",
    "    roi = aoi.geometry()\n",
    "    country_comp = composite.clip(roi)\n",
    "    country_comp_masked = composite.updateMask(country_comp)\n",
    "    country_comp_unmasked = country_comp_masked.unmask(-1)\n",
    "#     filename = os.path.join(out_dir, f'{row.ISO3}_2021.tif')\n",
    "    filename = f'{row.ISO3}_2021'\n",
    "#     geemap.ee_export_image(\n",
    "#         country_comp_unmasked, filename=filename, scale=500, region=roi, file_per_band=False\n",
    "#     )\n",
    "    geemap.ee_export_image_to_drive(\n",
    "        country_comp_unmasked, description=filename, folder='pacific-ntl', region=roi, scale=500, maxPixels=1e13\n",
    "    )\n",
    "    print(f'done with {row.WB_ADM0_NA}')"
   ]
  },
  {
   "cell_type": "markdown",
   "id": "5b419d55",
   "metadata": {},
   "source": [
    "Kir"
   ]
  },
  {
   "cell_type": "code",
   "execution_count": 12,
   "id": "d8f9deab",
   "metadata": {},
   "outputs": [
    {
     "data": {
      "text/plain": [
       "['Federated States of Micronesia',\n",
       " 'Fiji',\n",
       " 'Kiribati',\n",
       " 'Marshall Islands',\n",
       " 'Nauru',\n",
       " 'Palau',\n",
       " 'Papua New Guinea',\n",
       " 'Samoa',\n",
       " 'Solomon Islands',\n",
       " 'Tonga',\n",
       " 'Tuvalu',\n",
       " 'Vanuatu']"
      ]
     },
     "execution_count": 12,
     "metadata": {},
     "output_type": "execute_result"
    }
   ],
   "source": [
    "sel"
   ]
  },
  {
   "cell_type": "code",
   "execution_count": 13,
   "id": "d97d6bd1",
   "metadata": {},
   "outputs": [],
   "source": [
    "# aoi = pac.loc[pac.WB_ADM0_NA==\"Kiribati\"].copy()"
   ]
  },
  {
   "cell_type": "code",
   "execution_count": 15,
   "id": "132d91be",
   "metadata": {},
   "outputs": [],
   "source": [
    "utm = 'EPSG:32659' # Kir\n",
    "# utm = 'EPSG:32758' # NRU\n",
    "# 3832 is PDC Mercator\n",
    "# EPSG:32760 Fiji"
   ]
  },
  {
   "cell_type": "code",
   "execution_count": 16,
   "id": "41ca7a15",
   "metadata": {},
   "outputs": [],
   "source": [
    "row = pac.loc[pac.WB_ADM0_NA==\"Kiribati\"].iloc[0]\n",
    "aoi = pac.loc[pac.WB_ADM0_NA==row.WB_ADM0_NA].copy()\n",
    "aoi = aoi.to_crs(utm)\n",
    "aoi.geometry = aoi.buffer(2000)\n",
    "aoi = aoi.to_crs(\"EPSG:4326\")"
   ]
  },
  {
   "cell_type": "code",
   "execution_count": 17,
   "id": "a677289f",
   "metadata": {},
   "outputs": [
    {
     "name": "stdout",
     "output_type": "stream",
     "text": [
      "done with Kiribati\n"
     ]
    }
   ],
   "source": [
    "aoi = geopandas_to_ee(aoi)\n",
    "roi = aoi.geometry()\n",
    "country_comp = composite.clip(roi)\n",
    "country_comp_masked = composite.updateMask(country_comp)\n",
    "country_comp_unmasked = country_comp_masked.unmask(-1)\n",
    "#     filename = os.path.join(out_dir, f'{row.ISO3}_2021.tif')\n",
    "filename = f'{row.ISO3}_2021'\n",
    "#     geemap.ee_export_image(\n",
    "#         country_comp_unmasked, filename=filename, scale=500, region=roi, file_per_band=False\n",
    "#     )\n",
    "geemap.ee_export_image_to_drive(\n",
    "    country_comp_unmasked, description=filename, folder='pacific-ntl', region=roi, scale=500, maxPixels=1e13\n",
    ")\n",
    "print(f'done with {row.WB_ADM0_NA}')"
   ]
  },
  {
   "cell_type": "markdown",
   "id": "36f0ecfe",
   "metadata": {},
   "source": [
    "Test export with utm"
   ]
  },
  {
   "cell_type": "code",
   "execution_count": 32,
   "id": "d03cc6a8",
   "metadata": {},
   "outputs": [],
   "source": [
    "aoi = geopandas_to_ee(aoi)\n",
    "roi = aoi.geometry()"
   ]
  },
  {
   "cell_type": "code",
   "execution_count": 33,
   "id": "c6651929",
   "metadata": {},
   "outputs": [],
   "source": [
    "country_comp = composite.clip(roi)\n",
    "country_comp_masked = composite.updateMask(country_comp)\n",
    "country_comp_unmasked = country_comp_masked.unmask(-1)"
   ]
  },
  {
   "cell_type": "code",
   "execution_count": 36,
   "id": "6694cc2e",
   "metadata": {},
   "outputs": [],
   "source": [
    "filename = f'NRU_2021_proj'"
   ]
  },
  {
   "cell_type": "code",
   "execution_count": 37,
   "id": "740ff34f",
   "metadata": {},
   "outputs": [
    {
     "data": {
      "text/plain": [
       "{'type': 'Projection', 'crs': 'EPSG:4326', 'transform': [1, 0, 0, 0, 1, 0]}"
      ]
     },
     "execution_count": 37,
     "metadata": {},
     "output_type": "execute_result"
    }
   ],
   "source": [
    "country_comp_unmasked.projection().getInfo()"
   ]
  },
  {
   "cell_type": "code",
   "execution_count": 38,
   "id": "3010fdae",
   "metadata": {},
   "outputs": [],
   "source": [
    "geemap.ee_export_image_to_drive(\n",
    "    country_comp_unmasked, description=filename, folder='pacific-ntl', region=roi, \n",
    "    scale=500, maxPixels=1e13, crs=utm\n",
    ")"
   ]
  }
 ],
 "metadata": {
  "kernelspec": {
   "display_name": "Python 3 (ipykernel)",
   "language": "python",
   "name": "python3"
  },
  "language_info": {
   "codemirror_mode": {
    "name": "ipython",
    "version": 3
   },
   "file_extension": ".py",
   "mimetype": "text/x-python",
   "name": "python",
   "nbconvert_exporter": "python",
   "pygments_lexer": "ipython3",
   "version": "3.9.13"
  }
 },
 "nbformat": 4,
 "nbformat_minor": 5
}
