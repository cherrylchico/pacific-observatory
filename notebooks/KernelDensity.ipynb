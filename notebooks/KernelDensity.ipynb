{
 "cells": [
  {
   "cell_type": "code",
   "execution_count": 66,
   "metadata": {},
   "outputs": [],
   "source": [
    "import os\n",
    "import rasterio as rio\n",
    "import seaborn as sns\n",
    "import geopandas as gpd\n",
    "from glob import glob\n",
    "import numpy as np\n",
    "from matplotlib import pyplot as plt\n",
    "import pandas as pd"
   ]
  },
  {
   "cell_type": "code",
   "execution_count": 6,
   "metadata": {},
   "outputs": [],
   "source": [
    "pac_dir = 'X:/data/pacific'\n",
    "out_dir = os.path.join(pac_dir, 'temp')"
   ]
  },
  {
   "cell_type": "code",
   "execution_count": 7,
   "metadata": {},
   "outputs": [],
   "source": [
    "pac_path = r'C:\\Users\\wb514197\\WBG\\EEAPV Pacific Observatory Files - Geospatial and Big Data\\Data\\Admin Boundaries'\n",
    "pac_adm0 = gpd.read_file(os.path.join(pac_path, \"Adm0_Pacific.shp\"))"
   ]
  },
  {
   "cell_type": "code",
   "execution_count": 10,
   "metadata": {},
   "outputs": [],
   "source": [
    "sel = [\n",
    "    'Federated States of Micronesia', \n",
    "    'Fiji',\n",
    "    'Kiribati',\n",
    "    'Marshall Islands',\n",
    "    'Nauru',\n",
    "    'Palau',\n",
    "    'Papua New Guinea',\n",
    "    'Samoa',\n",
    "    'Solomon Islands',\n",
    "    'Tonga',\n",
    "    'Tuvalu',\n",
    "    'Vanuatu'\n",
    "]"
   ]
  },
  {
   "cell_type": "code",
   "execution_count": 11,
   "metadata": {},
   "outputs": [],
   "source": [
    "pac = pac_adm0.loc[pac_adm0.WB_ADM0_NA.isin(sel)].copy()"
   ]
  },
  {
   "cell_type": "code",
   "execution_count": 12,
   "metadata": {},
   "outputs": [
    {
     "name": "stdout",
     "output_type": "stream",
     "text": [
      "3\n",
      "10\n",
      "11\n",
      "12\n",
      "14\n",
      "19\n",
      "21\n",
      "23\n",
      "24\n",
      "26\n",
      "27\n",
      "28\n"
     ]
    }
   ],
   "source": [
    "for idx, row in pac.iterrows():\n",
    "    print(idx)"
   ]
  },
  {
   "cell_type": "code",
   "execution_count": 17,
   "metadata": {},
   "outputs": [],
   "source": [
    "files = glob(out_dir+f\"/{row.ISO3}*.tif\")"
   ]
  },
  {
   "cell_type": "code",
   "execution_count": 18,
   "metadata": {},
   "outputs": [
    {
     "data": {
      "text/plain": [
       "['X:/data/pacific\\\\temp\\\\VUT_2021.tif']"
      ]
     },
     "execution_count": 18,
     "metadata": {},
     "output_type": "execute_result"
    }
   ],
   "source": [
    "files"
   ]
  },
  {
   "cell_type": "code",
   "execution_count": 40,
   "metadata": {},
   "outputs": [],
   "source": [
    "data_rio = rio.open(files[0])\n",
    "data = data_rio.read(1)"
   ]
  },
  {
   "cell_type": "code",
   "execution_count": 41,
   "metadata": {},
   "outputs": [],
   "source": [
    "data[data==-1] = np.nan"
   ]
  },
  {
   "cell_type": "code",
   "execution_count": 42,
   "metadata": {},
   "outputs": [],
   "source": [
    "data = data.flatten()"
   ]
  },
  {
   "cell_type": "code",
   "execution_count": 58,
   "metadata": {},
   "outputs": [],
   "source": [
    "data = data[~np.isnan(data)]"
   ]
  },
  {
   "cell_type": "code",
   "execution_count": 75,
   "metadata": {},
   "outputs": [
    {
     "data": {
      "text/plain": [
       "(array([0.00000000e+00, 2.76796000e+00, 7.05217824e+00, 8.46947324e-02,\n",
       "        2.94533459e-02, 1.34830872e-02, 1.15195308e-02, 7.59241805e-03,\n",
       "        5.36705414e-03, 4.84343910e-03, 3.79620903e-03, 2.87988271e-03,\n",
       "        2.09446015e-03, 1.83265263e-03, 2.61807519e-03, 5.23615038e-04,\n",
       "        1.04723008e-03, 7.85422557e-04, 9.16326317e-04, 7.85422557e-04,\n",
       "        6.54518798e-04, 1.17813384e-03, 1.30903760e-04, 6.54518798e-04,\n",
       "        6.54518798e-04, 1.30903760e-03, 1.30903760e-04, 3.92711279e-04,\n",
       "        5.23615038e-04]),\n",
       " array([0. , 0.1, 0.2, 0.3, 0.4, 0.5, 0.6, 0.7, 0.8, 0.9, 1. , 1.1, 1.2,\n",
       "        1.3, 1.4, 1.5, 1.6, 1.7, 1.8, 1.9, 2. , 2.1, 2.2, 2.3, 2.4, 2.5,\n",
       "        2.6, 2.7, 2.8, 2.9]),\n",
       " <a list of 29 Patch objects>)"
      ]
     },
     "execution_count": 75,
     "metadata": {},
     "output_type": "execute_result"
    },
    {
     "data": {
      "image/png": "[encoded data removed]",
      "text/plain": [
       "<Figure size 432x288 with 1 Axes>"
      ]
     },
     "metadata": {
      "needs_background": "light"
     },
     "output_type": "display_data"
    }
   ],
   "source": [
    "plt.hist(data, bins=np.arange(0, 3, 0.1), density=True)"
   ]
  },
  {
   "cell_type": "code",
   "execution_count": 70,
   "metadata": {},
   "outputs": [],
   "source": [
    "df = pd.DataFrame(data, columns=['rad'])"
   ]
  },
  {
   "cell_type": "code",
   "execution_count": 72,
   "metadata": {
    "scrolled": true
   },
   "outputs": [
    {
     "ename": "AttributeError",
     "evalue": "module 'seaborn' has no attribute 'displot'",
     "output_type": "error",
     "traceback": [
      "\u001b[1;31m---------------------------------------------------------------------------\u001b[0m",
      "\u001b[1;31mAttributeError\u001b[0m                            Traceback (most recent call last)",
      "\u001b[1;32m<ipython-input-72-dde9594f5bab>\u001b[0m in \u001b[0;36m<module>\u001b[1;34m\u001b[0m\n\u001b[1;32m----> 1\u001b[1;33m \u001b[0msns\u001b[0m\u001b[1;33m.\u001b[0m\u001b[0mdisplot\u001b[0m\u001b[1;33m(\u001b[0m\u001b[0mdata\u001b[0m\u001b[1;33m,\u001b[0m \u001b[0mx\u001b[0m\u001b[1;33m=\u001b[0m\u001b[1;34m\"rad\"\u001b[0m\u001b[1;33m,\u001b[0m \u001b[0mstat\u001b[0m\u001b[1;33m=\u001b[0m\u001b[1;34m\"density\"\u001b[0m\u001b[1;33m,\u001b[0m \u001b[0mcommon_norm\u001b[0m\u001b[1;33m=\u001b[0m\u001b[1;32mFalse\u001b[0m\u001b[1;33m)\u001b[0m\u001b[1;33m\u001b[0m\u001b[1;33m\u001b[0m\u001b[0m\n\u001b[0m",
      "\u001b[1;31mAttributeError\u001b[0m: module 'seaborn' has no attribute 'displot'"
     ]
    }
   ],
   "source": [
    "sns.displot(data, x=\"rad\", stat=\"density\", common_norm=False)"
   ]
  },
  {
   "cell_type": "code",
   "execution_count": null,
   "metadata": {},
   "outputs": [],
   "source": []
  },
  {
   "cell_type": "code",
   "execution_count": null,
   "metadata": {},
   "outputs": [],
   "source": [
    "sns.displot(data, x=\"rad\", hue='pop_density_cut', stat=\"density\", common_norm=False)"
   ]
  }
 ],
 "metadata": {
  "kernelspec": {
   "display_name": "Python 3",
   "language": "python",
   "name": "python3"
  },
  "language_info": {
   "codemirror_mode": {
    "name": "ipython",
    "version": 3
   },
   "file_extension": ".py",
   "mimetype": "text/x-python",
   "name": "python",
   "nbconvert_exporter": "python",
   "pygments_lexer": "ipython3",
   "version": "3.6.10"
  }
 },
 "nbformat": 4,
 "nbformat_minor": 5
}
