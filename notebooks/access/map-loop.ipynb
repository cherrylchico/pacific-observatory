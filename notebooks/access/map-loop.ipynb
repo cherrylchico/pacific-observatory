{
 "cells": [
  {
   "cell_type": "code",
   "execution_count": 2,
   "metadata": {},
   "outputs": [],
   "source": [
    "import sys, os\n",
    "import leafmap.foliumap as leafmap\n",
    "import leafmap.colormaps as cm\n",
    "\n",
    "import folium as flm\n",
    "from folium import plugins\n",
    "from os.path import join, expanduser\n",
    "import geopandas as gpd\n",
    "import xyzservices as xyz\n",
    "import country_converter as coco"
   ]
  },
  {
   "cell_type": "code",
   "execution_count": 3,
   "metadata": {},
   "outputs": [],
   "source": [
    "tmp_dir = join(expanduser(\"~\"), \"tmp\", \"market-access\")\n",
    "# cities = gpd.read_file(join(tmp_dir, \"urban_vut.json\"))"
   ]
  },
  {
   "cell_type": "code",
   "execution_count": 4,
   "metadata": {},
   "outputs": [],
   "source": [
    "basemap = xyz.providers.Esri.WorldImagery\n",
    "name = basemap.name\n",
    "url = basemap.build_url()\n",
    "attribution = basemap.attribution\n",
    "max_zoom = 22"
   ]
  },
  {
   "cell_type": "code",
   "execution_count": 5,
   "metadata": {},
   "outputs": [],
   "source": [
    "ddh = {\n",
    "    \"fji\": 'https://datacatalogfiles.worldbank.org/ddh-published/0066655/DR0094852/tt_city_min_motorized_friction_fji.tif?versionId=2025-01-24T20:07:11.4644808Z',\n",
    "    \"kir\": 'https://datacatalogfiles.worldbank.org/ddh-published/0066655/DR0094854/tt_city_min_motorized_friction_kir.tif?versionId=2025-01-24T20:07:16.5979249Z',\n",
    "    \"mhl\": 'https://datacatalogfiles.worldbank.org/ddh-published/0066655/DR0094855/tt_city_min_motorized_friction_mhl.tif?versionId=2025-01-24T20:07:05.9168562Z',\n",
    "    \"fsm\": 'https://datacatalogfiles.worldbank.org/ddh-published/0066655/DR0094853/tt_city_min_motorized_friction_fsm.tif?versionId=2025-01-24T20:07:13.0037176Z',\n",
    "    \"nru\": 'https://datacatalogfiles.worldbank.org/ddh-published/0066655/DR0094856/tt_city_min_motorized_friction_nru.tif?versionId=2025-01-24T20:07:25.8861128Z',\n",
    "    \"plw\": 'https://datacatalogfiles.worldbank.org/ddh-published/0066655/DR0094857/tt_city_min_motorized_friction_plw.tif?versionId=2025-01-24T20:07:14.7231620Z',\n",
    "    \"png\": 'https://datacatalogfiles.worldbank.org/ddh-published/0066655/DR0094858/tt_city_min_motorized_friction_png.tif?versionId=2025-01-24T20:07:07.6323197Z',\n",
    "    \"wsm\": 'https://datacatalogfiles.worldbank.org/ddh-published/0066655/DR0094862/tt_city_min_motorized_friction_wsm.tif?versionId=2025-01-24T20:07:21.9991922Z',\n",
    "    \"slb\": 'https://datacatalogfiles.worldbank.org/ddh-published/0066655/DR0094859/tt_city_min_motorized_friction_slb.tif?versionId=2025-01-24T20:07:18.2725666Z',\n",
    "    \"ton\": 'https://datacatalogfiles.worldbank.org/ddh-published/0066655/DR0094860/tt_city_min_motorized_friction_ton.tif?versionId=2025-01-24T20:07:19.9780738Z',\n",
    "    \"tuv\": 'https://datacatalogfiles.worldbank.org/ddh-published/0066655/DR0094861/tt_city_min_motorized_friction_tuv.tif?versionId=2025-01-24T20:07:09.7958126Z',\n",
    "    \"vut\": 'https://datacatalogfiles.worldbank.org/ddh-published/0066655/DR0094836/tt_city_min_motorized_friction_vut.tif?versionId=2025-01-23T21:20:49.4125383Z'\n",
    "}"
   ]
  },
  {
   "cell_type": "code",
   "execution_count": 6,
   "metadata": {},
   "outputs": [],
   "source": [
    "adm1 = gpd.read_file(r'C:\\Users\\WB514197\\WBG\\EEAPV Pacific Observatory Files - Geospatial and Big Data\\Data\\Admin Boundaries\\PIC_adm1.shp')\n",
    "countries = adm1['ADM0_NAME'].unique()\n",
    "cc = coco.CountryConverter()\n",
    "adm1.loc[:, 'iso'] = cc.pandas_convert(series=adm1.ADM0_PCODE, to='ISO3')"
   ]
  },
  {
   "cell_type": "code",
   "execution_count": 7,
   "metadata": {},
   "outputs": [],
   "source": [
    "adm1.loc[:, 'iso'] = adm1.iso.str.lower()"
   ]
  },
  {
   "cell_type": "code",
   "execution_count": 8,
   "metadata": {},
   "outputs": [],
   "source": [
    "iso_list = adm1.iso.unique()"
   ]
  },
  {
   "cell_type": "code",
   "execution_count": 9,
   "metadata": {},
   "outputs": [
    {
     "name": "stdout",
     "output_type": "stream",
     "text": [
      "png\n",
      "kir\n",
      "ton\n",
      "fsm\n",
      "mhl\n",
      "slb\n",
      "vut\n",
      "nru\n",
      "plw\n",
      "tuv\n",
      "wsm\n",
      "fji\n"
     ]
    }
   ],
   "source": [
    "for iso in iso_list:\n",
    "    cities = gpd.read_file(join(tmp_dir, f\"urban_{iso}.json\"))\n",
    "    src = ddh[iso]\n",
    "    print(iso)\n",
    "    m = leafmap.Map()\n",
    "    m.add_cog_layer(src, name=\"Travel Time Map\", colormap_name=\"magma\", fit_bounds=True, rescale=\"0,8\")\n",
    "    m.add_colorbar(caption=\"Travel Time (hrs.)\", colors=cm.palettes['magma']['n08'], vmin=0, vmax=10)\n",
    "    cities.explore(m=m, style_kwds={'radius':5, 'color':'teal'}, name=\"Major Cities\", highlight=False, control_scale=True)\n",
    "    m.add_tile_layer(\n",
    "        url=url,\n",
    "        name=\"Imagery (ESRI)\",\n",
    "        attribution=attribution,\n",
    "        shown=False\n",
    "    )\n",
    "    flm.LayerControl('topright', collapsed = False).add_to(m)\n",
    "    m.to_html(join(tmp_dir, f\"travel_time_{iso}.html\"))"
   ]
  },
  {
   "cell_type": "code",
   "execution_count": null,
   "metadata": {},
   "outputs": [],
   "source": []
  },
  {
   "cell_type": "code",
   "execution_count": null,
   "metadata": {},
   "outputs": [],
   "source": []
  },
  {
   "cell_type": "code",
   "execution_count": null,
   "metadata": {},
   "outputs": [],
   "source": []
  },
  {
   "cell_type": "code",
   "execution_count": 2,
   "metadata": {},
   "outputs": [],
   "source": [
    "m = leafmap.Map()\n",
    "m.add_cog_layer(src, name=\"Travel Time Map\", colormap_name=\"magma\", fit_bounds=True, rescale=\"0,8\")\n",
    "m.add_colorbar(caption=\"Travel Time (hrs.)\", colors=cm.palettes['magma']['n08'], vmin=0, vmax=8)\n",
    "cities.explore(m=m, style_kwds={'radius':5, 'color':'teal'}, name=\"Major Cities\", highlight=False, control_scale=True)\n",
    "m.add_tile_layer(\n",
    "    url=url,\n",
    "    name=\"Imagery (ESRI)\",\n",
    "    attribution=attribution,\n",
    "    shown=False\n",
    ")\n",
    "flm.LayerControl('topright', collapsed = False).add_to(m)\n",
    "m.to_html(join(tmp_dir, f\"travel_time_{iso}.html\"))"
   ]
  },
  {
   "cell_type": "code",
   "execution_count": null,
   "metadata": {},
   "outputs": [],
   "source": []
  },
  {
   "cell_type": "code",
   "execution_count": 20,
   "metadata": {},
   "outputs": [],
   "source": [
    "# m.to_html(outfile=\"cog.html\", title=\"COG Map\", width=\"100%\", height=\"880px\", open_browser=False)\n",
    "m.to_html(outfile=\"cog.html\", title=\"COG Map\")"
   ]
  },
  {
   "cell_type": "code",
   "execution_count": 8,
   "metadata": {},
   "outputs": [],
   "source": [
    "adm1 = gpd.read_file(r'C:\\Users\\WB514197\\WBG\\EEAPV Pacific Observatory Files - Geospatial and Big Data\\Data\\Admin Boundaries\\PIC_adm1.shp')\n",
    "# adm0 = gpd.read_file(join(expanduser(\"~\"), 'data', 'pacific', 'Adm0_Pacific_Edit.shp'))\n",
    "# adm1 = gpd.read_file(join(expanduser(\"~\"), 'data', 'pacific', 'PIC_adm1.json'))"
   ]
  },
  {
   "cell_type": "code",
   "execution_count": 4,
   "metadata": {},
   "outputs": [],
   "source": [
    "# adm1.head()"
   ]
  },
  {
   "cell_type": "code",
   "execution_count": 9,
   "metadata": {},
   "outputs": [],
   "source": [
    "adm1 = adm1.loc[adm1.ADM0_NAME==\"Vanuatu\"].copy()"
   ]
  },
  {
   "cell_type": "code",
   "execution_count": 7,
   "metadata": {},
   "outputs": [],
   "source": [
    "# adm1.total_bounds\n",
    "# minx, miny, maxx, maxy = adm1.total_bounds"
   ]
  },
  {
   "cell_type": "code",
   "execution_count": 10,
   "metadata": {},
   "outputs": [],
   "source": [
    "# ox.graph_from_bbox?"
   ]
  },
  {
   "cell_type": "code",
   "execution_count": 11,
   "metadata": {},
   "outputs": [],
   "source": [
    "# G = ox.graph_from_bbox((maxy, miny, maxx, minx), network_type='drive')"
   ]
  },
  {
   "cell_type": "code",
   "execution_count": 12,
   "metadata": {},
   "outputs": [],
   "source": [
    "G = ox.graph_from_place('Vanuatu', network_type='drive', retain_all=True)"
   ]
  },
  {
   "cell_type": "code",
   "execution_count": 13,
   "metadata": {},
   "outputs": [],
   "source": [
    "edges = ox.graph_to_gdfs(G, nodes=False)"
   ]
  },
  {
   "cell_type": "code",
   "execution_count": 14,
   "metadata": {},
   "outputs": [
    {
     "data": {
      "text/plain": [
       "highway\n",
       "residential                              5717\n",
       "unclassified                             3050\n",
       "tertiary                                  842\n",
       "secondary                                 590\n",
       "primary                                   288\n",
       "[unclassified, residential]                29\n",
       "[residential, unclassified]                29\n",
       "[unclassified, tertiary]                   15\n",
       "living_street                               8\n",
       "tertiary_link                               2\n",
       "road                                        2\n",
       "[residential, secondary]                    2\n",
       "[unclassified, secondary]                   2\n",
       "[residential, primary]                      2\n",
       "[residential, tertiary, unclassified]       1\n",
       "[unclassified, tertiary, residential]       1\n",
       "Name: count, dtype: int64"
      ]
     },
     "execution_count": 14,
     "metadata": {},
     "output_type": "execute_result"
    }
   ],
   "source": [
    "edges.highway.value_counts()"
   ]
  },
  {
   "cell_type": "code",
   "execution_count": 20,
   "metadata": {},
   "outputs": [],
   "source": [
    "# edges.explore(style_kwds={'color':'black', 'weight':0.5})"
   ]
  },
  {
   "cell_type": "code",
   "execution_count": 42,
   "metadata": {},
   "outputs": [],
   "source": [
    "# ox.graph_from_place?"
   ]
  },
  {
   "cell_type": "code",
   "execution_count": null,
   "metadata": {},
   "outputs": [],
   "source": []
  },
  {
   "cell_type": "code",
   "execution_count": 28,
   "metadata": {},
   "outputs": [],
   "source": [
    "# m\n",
    "# m.add_cog_layer(\"https://opendata.digitalglobe.com/events/california-fire-2020/pre-event/2019-10-01/pine_flat/pre-event_pine_flat_2019-10-01.tif\", \"Pine Flat Fire 2019\", show_footprint=True)"
   ]
  },
  {
   "cell_type": "code",
   "execution_count": 17,
   "metadata": {},
   "outputs": [],
   "source": [
    "\n",
    "src = \"https://datacatalogfiles.worldbank.org/ddh-published/0037584/DR0045417/LS_TH_COG.tif\""
   ]
  },
  {
   "cell_type": "code",
   "execution_count": 19,
   "metadata": {},
   "outputs": [
    {
     "ename": "ImportError",
     "evalue": "localtileserver is not installed. Please install it before proceeding. https://github.com/banesullivan/localtileserver",
     "output_type": "error",
     "traceback": [
      "\u001b[1;31m---------------------------------------------------------------------------\u001b[0m",
      "\u001b[1;31mModuleNotFoundError\u001b[0m                       Traceback (most recent call last)",
      "\u001b[1;32mc:\\WBG\\Anaconda3\\envs\\leafmap-v2\\Lib\\site-packages\\leafmap\\common.py\u001b[0m in \u001b[0;36m?\u001b[1;34m(name, URL)\u001b[0m\n\u001b[0;32m    166\u001b[0m         \u001b[0m__import__\u001b[0m\u001b[1;33m(\u001b[0m\u001b[0mname\u001b[0m\u001b[1;33m.\u001b[0m\u001b[0mlower\u001b[0m\u001b[1;33m(\u001b[0m\u001b[1;33m)\u001b[0m\u001b[1;33m)\u001b[0m\u001b[1;33m\u001b[0m\u001b[1;33m\u001b[0m\u001b[0m\n\u001b[0;32m    167\u001b[0m     \u001b[1;32mexcept\u001b[0m \u001b[0mException\u001b[0m\u001b[1;33m:\u001b[0m\u001b[1;33m\u001b[0m\u001b[1;33m\u001b[0m\u001b[0m\n\u001b[1;32m--> 168\u001b[1;33m         raise ImportError(\n\u001b[0m\u001b[0;32m    169\u001b[0m             \u001b[1;33mf\"\u001b[0m\u001b[1;33m{\u001b[0m\u001b[0mname\u001b[0m\u001b[1;33m}\u001b[0m\u001b[1;33m is not installed. Please install it before proceeding. \u001b[0m\u001b[1;33m{\u001b[0m\u001b[0mURL\u001b[0m\u001b[1;33m}\u001b[0m\u001b[1;33m\"\u001b[0m\u001b[1;33m\u001b[0m\u001b[1;33m\u001b[0m\u001b[0m\n",
      "\u001b[1;31mModuleNotFoundError\u001b[0m: No module named 'localtileserver'",
      "\nDuring handling of the above exception, another exception occurred:\n",
      "\u001b[1;31mImportError\u001b[0m                               Traceback (most recent call last)",
      "\u001b[1;32m~\\AppData\\Local\\Temp\\ipykernel_10548\\2164767886.py\u001b[0m in \u001b[0;36m?\u001b[1;34m()\u001b[0m\n\u001b[0;32m      1\u001b[0m \u001b[0mm\u001b[0m \u001b[1;33m=\u001b[0m \u001b[0mleafmap\u001b[0m\u001b[1;33m.\u001b[0m\u001b[0mMap\u001b[0m\u001b[1;33m(\u001b[0m\u001b[1;33m)\u001b[0m\u001b[1;33m\u001b[0m\u001b[1;33m\u001b[0m\u001b[0m\n\u001b[1;32m----> 2\u001b[1;33m \u001b[0mm\u001b[0m\u001b[1;33m.\u001b[0m\u001b[0madd_raster\u001b[0m\u001b[1;33m(\u001b[0m\u001b[0msrc\u001b[0m\u001b[1;33m,\u001b[0m \u001b[0mcolormap\u001b[0m\u001b[1;33m=\u001b[0m\u001b[1;34m\"terrain\"\u001b[0m\u001b[1;33m,\u001b[0m \u001b[0mlayer_name\u001b[0m\u001b[1;33m=\u001b[0m\u001b[1;34m\"Terrain\"\u001b[0m\u001b[1;33m)\u001b[0m\u001b[1;33m\u001b[0m\u001b[1;33m\u001b[0m\u001b[0m\n\u001b[0m\u001b[0;32m      3\u001b[0m \u001b[0mm\u001b[0m\u001b[1;33m\u001b[0m\u001b[1;33m\u001b[0m\u001b[0m\n",
      "\u001b[1;32mc:\\WBG\\Anaconda3\\envs\\leafmap-v2\\Lib\\site-packages\\leafmap\\foliumap.py\u001b[0m in \u001b[0;36m?\u001b[1;34m(self, source, indexes, colormap, vmin, vmax, nodata, attribution, layer_name, array_args, **kwargs)\u001b[0m\n\u001b[0;32m    618\u001b[0m \u001b[1;33m\u001b[0m\u001b[0m\n\u001b[0;32m    619\u001b[0m         \u001b[1;32mif\u001b[0m \u001b[1;34m\"google.colab\"\u001b[0m \u001b[1;32min\u001b[0m \u001b[0msys\u001b[0m\u001b[1;33m.\u001b[0m\u001b[0mmodules\u001b[0m\u001b[1;33m:\u001b[0m\u001b[1;33m\u001b[0m\u001b[1;33m\u001b[0m\u001b[0m\n\u001b[0;32m    620\u001b[0m             \u001b[0mkwargs\u001b[0m\u001b[1;33m[\u001b[0m\u001b[1;34m\"cors_all\"\u001b[0m\u001b[1;33m]\u001b[0m \u001b[1;33m=\u001b[0m \u001b[1;32mTrue\u001b[0m\u001b[1;33m\u001b[0m\u001b[1;33m\u001b[0m\u001b[0m\n\u001b[0;32m    621\u001b[0m \u001b[1;33m\u001b[0m\u001b[0m\n\u001b[1;32m--> 622\u001b[1;33m         tile_layer, tile_client = common.get_local_tile_layer(\n\u001b[0m\u001b[0;32m    623\u001b[0m             \u001b[0msource\u001b[0m\u001b[1;33m,\u001b[0m\u001b[1;33m\u001b[0m\u001b[1;33m\u001b[0m\u001b[0m\n\u001b[0;32m    624\u001b[0m             \u001b[0mindexes\u001b[0m\u001b[1;33m=\u001b[0m\u001b[0mindexes\u001b[0m\u001b[1;33m,\u001b[0m\u001b[1;33m\u001b[0m\u001b[1;33m\u001b[0m\u001b[0m\n\u001b[0;32m    625\u001b[0m             \u001b[0mcolormap\u001b[0m\u001b[1;33m=\u001b[0m\u001b[0mcolormap\u001b[0m\u001b[1;33m,\u001b[0m\u001b[1;33m\u001b[0m\u001b[1;33m\u001b[0m\u001b[0m\n",
      "\u001b[1;32mc:\\WBG\\Anaconda3\\envs\\leafmap-v2\\Lib\\site-packages\\leafmap\\common.py\u001b[0m in \u001b[0;36m?\u001b[1;34m(source, port, debug, indexes, colormap, vmin, vmax, nodata, attribution, tile_format, layer_name, client_args, return_client, quiet, **kwargs)\u001b[0m\n\u001b[0;32m   2860\u001b[0m         \u001b[0mipyleaflet\u001b[0m\u001b[1;33m.\u001b[0m\u001b[0mTileLayer\u001b[0m \u001b[1;33m|\u001b[0m \u001b[0mfolium\u001b[0m\u001b[1;33m.\u001b[0m\u001b[0mTileLayer\u001b[0m\u001b[1;33m:\u001b[0m \u001b[0mAn\u001b[0m \u001b[0mipyleaflet\u001b[0m\u001b[1;33m.\u001b[0m\u001b[0mTileLayer\u001b[0m \u001b[1;32mor\u001b[0m \u001b[0mfolium\u001b[0m\u001b[1;33m.\u001b[0m\u001b[0mTileLayer\u001b[0m\u001b[1;33m.\u001b[0m\u001b[1;33m\u001b[0m\u001b[1;33m\u001b[0m\u001b[0m\n\u001b[0;32m   2861\u001b[0m     \"\"\"\n\u001b[0;32m   2862\u001b[0m     \u001b[1;32mimport\u001b[0m \u001b[0mrasterio\u001b[0m\u001b[1;33m\u001b[0m\u001b[1;33m\u001b[0m\u001b[0m\n\u001b[0;32m   2863\u001b[0m \u001b[1;33m\u001b[0m\u001b[0m\n\u001b[1;32m-> 2864\u001b[1;33m     check_package(\n\u001b[0m\u001b[0;32m   2865\u001b[0m         \u001b[1;34m\"localtileserver\"\u001b[0m\u001b[1;33m,\u001b[0m \u001b[0mURL\u001b[0m\u001b[1;33m=\u001b[0m\u001b[1;34m\"https://github.com/banesullivan/localtileserver\"\u001b[0m\u001b[1;33m\u001b[0m\u001b[1;33m\u001b[0m\u001b[0m\n\u001b[0;32m   2866\u001b[0m     \u001b[1;33m)\u001b[0m\u001b[1;33m\u001b[0m\u001b[1;33m\u001b[0m\u001b[0m\n\u001b[0;32m   2867\u001b[0m \u001b[1;33m\u001b[0m\u001b[0m\n",
      "\u001b[1;32mc:\\WBG\\Anaconda3\\envs\\leafmap-v2\\Lib\\site-packages\\leafmap\\common.py\u001b[0m in \u001b[0;36m?\u001b[1;34m(name, URL)\u001b[0m\n\u001b[0;32m    164\u001b[0m \u001b[1;32mdef\u001b[0m \u001b[0mcheck_package\u001b[0m\u001b[1;33m(\u001b[0m\u001b[0mname\u001b[0m\u001b[1;33m:\u001b[0m \u001b[0mstr\u001b[0m\u001b[1;33m,\u001b[0m \u001b[0mURL\u001b[0m\u001b[1;33m:\u001b[0m \u001b[0mOptional\u001b[0m\u001b[1;33m[\u001b[0m\u001b[0mstr\u001b[0m\u001b[1;33m]\u001b[0m \u001b[1;33m=\u001b[0m \u001b[1;34m\"\"\u001b[0m\u001b[1;33m)\u001b[0m \u001b[1;33m->\u001b[0m \u001b[1;32mNone\u001b[0m\u001b[1;33m:\u001b[0m\u001b[1;33m\u001b[0m\u001b[1;33m\u001b[0m\u001b[0m\n\u001b[0;32m    165\u001b[0m     \u001b[1;32mtry\u001b[0m\u001b[1;33m:\u001b[0m\u001b[1;33m\u001b[0m\u001b[1;33m\u001b[0m\u001b[0m\n\u001b[0;32m    166\u001b[0m         \u001b[0m__import__\u001b[0m\u001b[1;33m(\u001b[0m\u001b[0mname\u001b[0m\u001b[1;33m.\u001b[0m\u001b[0mlower\u001b[0m\u001b[1;33m(\u001b[0m\u001b[1;33m)\u001b[0m\u001b[1;33m)\u001b[0m\u001b[1;33m\u001b[0m\u001b[1;33m\u001b[0m\u001b[0m\n\u001b[0;32m    167\u001b[0m     \u001b[1;32mexcept\u001b[0m \u001b[0mException\u001b[0m\u001b[1;33m:\u001b[0m\u001b[1;33m\u001b[0m\u001b[1;33m\u001b[0m\u001b[0m\n\u001b[1;32m--> 168\u001b[1;33m         raise ImportError(\n\u001b[0m\u001b[0;32m    169\u001b[0m             \u001b[1;33mf\"\u001b[0m\u001b[1;33m{\u001b[0m\u001b[0mname\u001b[0m\u001b[1;33m}\u001b[0m\u001b[1;33m is not installed. Please install it before proceeding. \u001b[0m\u001b[1;33m{\u001b[0m\u001b[0mURL\u001b[0m\u001b[1;33m}\u001b[0m\u001b[1;33m\"\u001b[0m\u001b[1;33m\u001b[0m\u001b[1;33m\u001b[0m\u001b[0m\n\u001b[0;32m    170\u001b[0m         \u001b[1;33m)\u001b[0m\u001b[1;33m\u001b[0m\u001b[1;33m\u001b[0m\u001b[0m\n",
      "\u001b[1;31mImportError\u001b[0m: localtileserver is not installed. Please install it before proceeding. https://github.com/banesullivan/localtileserver"
     ]
    }
   ],
   "source": [
    "m = leafmap.Map()\n",
    "m.add_raster(src, colormap=\"terrain\", layer_name=\"Terrain\")\n",
    "m"
   ]
  },
  {
   "cell_type": "code",
   "execution_count": null,
   "metadata": {},
   "outputs": [],
   "source": [
    "m"
   ]
  }
 ],
 "metadata": {
  "kernelspec": {
   "display_name": "leafmap-v2",
   "language": "python",
   "name": "python3"
  },
  "language_info": {
   "codemirror_mode": {
    "name": "ipython",
    "version": 3
   },
   "file_extension": ".py",
   "mimetype": "text/x-python",
   "name": "python",
   "nbconvert_exporter": "python",
   "pygments_lexer": "ipython3",
   "version": "3.13.1"
  }
 },
 "nbformat": 4,
 "nbformat_minor": 2
}
