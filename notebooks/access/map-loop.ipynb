{
 "cells": [
  {
   "cell_type": "code",
   "execution_count": 1,
   "metadata": {},
   "outputs": [],
   "source": [
    "import sys, os\n",
    "import leafmap.foliumap as leafmap\n",
    "import leafmap.colormaps as cm\n",
    "\n",
    "import folium as flm\n",
    "from folium import plugins\n",
    "from os.path import join, expanduser\n",
    "import geopandas as gpd\n",
    "import xyzservices as xyz\n",
    "import country_converter as coco"
   ]
  },
  {
   "cell_type": "code",
   "execution_count": 2,
   "metadata": {},
   "outputs": [],
   "source": [
    "tmp_dir = join(expanduser(\"~\"), \"tmp\", \"market-access\")\n",
    "# cities = gpd.read_file(join(tmp_dir, \"urban_vut.json\"))"
   ]
  },
  {
   "cell_type": "code",
   "execution_count": 3,
   "metadata": {},
   "outputs": [],
   "source": [
    "basemap = xyz.providers.Esri.WorldImagery\n",
    "name = basemap.name\n",
    "url = basemap.build_url()\n",
    "attribution = basemap.attribution\n",
    "max_zoom = 22"
   ]
  },
  {
   "cell_type": "code",
   "execution_count": 15,
   "metadata": {},
   "outputs": [],
   "source": [
    "# ddh = {\n",
    "#     \"fji\": 'https://datacatalogfiles.worldbank.org/ddh-published/0066655/DR0094852/tt_city_min_motorized_friction_fji.tif?versionId=2025-01-24T20:07:11.4644808Z',\n",
    "#     \"kir\": 'https://datacatalogfiles.worldbank.org/ddh-published/0066655/DR0094854/tt_city_min_motorized_friction_kir.tif?versionId=2025-01-24T20:07:16.5979249Z',\n",
    "#     \"mhl\": 'https://datacatalogfiles.worldbank.org/ddh-published/0066655/DR0094855/tt_city_min_motorized_friction_mhl.tif?versionId=2025-01-24T20:07:05.9168562Z',\n",
    "#     \"fsm\": 'https://datacatalogfiles.worldbank.org/ddh-published/0066655/DR0094853/tt_city_min_motorized_friction_fsm.tif?versionId=2025-01-24T20:07:13.0037176Z',\n",
    "#     \"nru\": 'https://datacatalogfiles.worldbank.org/ddh-published/0066655/DR0094856/tt_city_min_motorized_friction_nru.tif?versionId=2025-01-24T20:07:25.8861128Z',\n",
    "#     \"plw\": 'https://datacatalogfiles.worldbank.org/ddh-published/0066655/DR0094857/tt_city_min_motorized_friction_plw.tif?versionId=2025-01-24T20:07:14.7231620Z',\n",
    "#     \"png\": 'https://datacatalogfiles.worldbank.org/ddh-published/0066655/DR0094858/tt_city_min_motorized_friction_png.tif?versionId=2025-01-24T20:07:07.6323197Z',\n",
    "#     \"wsm\": 'https://datacatalogfiles.worldbank.org/ddh-published/0066655/DR0094862/tt_city_min_motorized_friction_wsm.tif?versionId=2025-01-24T20:07:21.9991922Z',\n",
    "#     \"slb\": 'https://datacatalogfiles.worldbank.org/ddh-published/0066655/DR0094859/tt_city_min_motorized_friction_slb.tif?versionId=2025-01-24T20:07:18.2725666Z',\n",
    "#     \"ton\": 'https://datacatalogfiles.worldbank.org/ddh-published/0066655/DR0094860/tt_city_min_motorized_friction_ton.tif?versionId=2025-01-24T20:07:19.9780738Z',\n",
    "#     \"tuv\": 'https://datacatalogfiles.worldbank.org/ddh-published/0066655/DR0094861/tt_city_min_motorized_friction_tuv.tif?versionId=2025-01-24T20:07:09.7958126Z',\n",
    "#     \"vut\": 'https://datacatalogfiles.worldbank.org/ddh-published/0066655/DR0094836/tt_city_min_motorized_friction_vut.tif?versionId=2025-01-23T21:20:49.4125383Z'\n",
    "# }\n",
    "ddh = {\n",
    "    \"fji\": 'https://datacatalogfiles.worldbank.org/ddh-published-v2/0066655/2/DR0094852/tt_city_min_motorized_friction_fji.tif',\n",
    "    \"kir\": 'https://datacatalogfiles.worldbank.org/ddh-published-v2/0066655/2/DR0094854/tt_city_min_motorized_friction_kir.tif',\n",
    "    \"mhl\": 'https://datacatalogfiles.worldbank.org/ddh-published-v2/0066655/2/DR0094855/tt_city_min_motorized_friction_mhl.tif',\n",
    "    \"fsm\": 'https://datacatalogfiles.worldbank.org/ddh-published-v2/0066655/2/DR0094853/tt_city_min_motorized_friction_fsm.tif',\n",
    "    \"nru\": 'https://datacatalogfiles.worldbank.org/ddh-published-v2/0066655/2/DR0094856/tt_city_min_motorized_friction_nru.tif',\n",
    "    \"plw\": 'https://datacatalogfiles.worldbank.org/ddh-published-v2/0066655/2/DR0094857/tt_city_min_motorized_friction_plw.tif',\n",
    "    \"png\": 'https://datacatalogfiles.worldbank.org/ddh-published-v2/0066655/2/DR0094858/tt_city_min_motorized_friction_png.tif',\n",
    "    \"wsm\": 'https://datacatalogfiles.worldbank.org/ddh-published-v2/0066655/2/DR0094862/tt_city_min_motorized_friction_wsm.tif',\n",
    "    \"slb\": 'https://datacatalogfiles.worldbank.org/ddh-published-v2/0066655/2/DR0094859/tt_city_min_motorized_friction_slb.tif',\n",
    "    \"ton\": 'https://datacatalogfiles.worldbank.org/ddh-published-v2/0066655/2/DR0094860/tt_city_min_motorized_friction_ton.tif',\n",
    "    \"tuv\": 'https://datacatalogfiles.worldbank.org/ddh-published-v2/0066655/2/DR0094861/tt_city_min_motorized_friction_tuv.tif',\n",
    "    \"vut\": 'https://datacatalogfiles.worldbank.org/ddh-published-v2/0066655/2/DR0094836/tt_city_min_motorized_friction_vut.tif'\n",
    "}"
   ]
  },
  {
   "cell_type": "code",
   "execution_count": 16,
   "metadata": {},
   "outputs": [],
   "source": [
    "adm1 = gpd.read_file(r'C:\\Users\\WB514197\\WBG\\EEAPV Pacific Observatory Files - Geospatial and Big Data\\Data\\Admin Boundaries\\PIC_adm1.shp')\n",
    "countries = adm1['ADM0_NAME'].unique()\n",
    "cc = coco.CountryConverter()\n",
    "adm1.loc[:, 'iso'] = cc.pandas_convert(series=adm1.ADM0_PCODE, to='ISO3')"
   ]
  },
  {
   "cell_type": "code",
   "execution_count": 17,
   "metadata": {},
   "outputs": [],
   "source": [
    "adm1.loc[:, 'iso'] = adm1.iso.str.lower()"
   ]
  },
  {
   "cell_type": "code",
   "execution_count": 18,
   "metadata": {},
   "outputs": [],
   "source": [
    "iso_list = adm1.iso.unique()"
   ]
  },
  {
   "cell_type": "code",
   "execution_count": 21,
   "metadata": {},
   "outputs": [
    {
     "name": "stdout",
     "output_type": "stream",
     "text": [
      "png\n",
      "kir\n",
      "ton\n",
      "fsm\n",
      "mhl\n",
      "slb\n",
      "vut\n",
      "nru\n",
      "plw\n",
      "tuv\n",
      "wsm\n",
      "fji\n"
     ]
    }
   ],
   "source": [
    "for iso in iso_list:\n",
    "    cities = gpd.read_file(join(tmp_dir, f\"urban_{iso}.json\"))\n",
    "    src = ddh[iso]\n",
    "    print(iso)\n",
    "    m = leafmap.Map()\n",
    "    m.add_cog_layer(src, name=\"Travel Time Map\", colormap_name=\"magma\", fit_bounds=True, rescale=\"0,8\")\n",
    "    m.add_colorbar(caption=\"Travel Time (hrs.)\", colors=cm.palettes['magma']['n08'], vmin=0, vmax=10)\n",
    "    cities.explore(m=m, style_kwds={'radius':5, 'color':'teal'}, name=\"Major Cities\", highlight=False, control_scale=True)\n",
    "    m.add_tile_layer(\n",
    "        url=url,\n",
    "        name=\"Imagery (ESRI)\",\n",
    "        attribution=attribution,\n",
    "        shown=False\n",
    "    )\n",
    "    flm.LayerControl('topright', collapsed = False).add_to(m)\n",
    "    m.to_html(join(tmp_dir, f\"travel_time_{iso}.html\"))"
   ]
  },
  {
   "cell_type": "code",
   "execution_count": 19,
   "metadata": {},
   "outputs": [
    {
     "data": {
      "text/plain": [
       "'https://datacatalogfiles.worldbank.org/ddh-published/0066655/DR0094858/tt_city_min_motorized_friction_png.tif?versionId=2025-01-24T20:07:07.6323197Z'"
      ]
     },
     "execution_count": 19,
     "metadata": {},
     "output_type": "execute_result"
    }
   ],
   "source": [
    "src\n"
   ]
  },
  {
   "cell_type": "code",
   "execution_count": 14,
   "metadata": {},
   "outputs": [
    {
     "ename": "KeyError",
     "evalue": "'band_descriptions'",
     "output_type": "error",
     "traceback": [
      "\u001b[1;31m---------------------------------------------------------------------------\u001b[0m",
      "\u001b[1;31mKeyError\u001b[0m                                  Traceback (most recent call last)",
      "Cell \u001b[1;32mIn[14], line 2\u001b[0m\n\u001b[0;32m      1\u001b[0m m \u001b[38;5;241m=\u001b[39m leafmap\u001b[38;5;241m.\u001b[39mMap()\n\u001b[1;32m----> 2\u001b[0m \u001b[43mm\u001b[49m\u001b[38;5;241;43m.\u001b[39;49m\u001b[43madd_cog_layer\u001b[49m\u001b[43m(\u001b[49m\u001b[43msrc\u001b[49m\u001b[43m,\u001b[49m\u001b[43m \u001b[49m\u001b[43mname\u001b[49m\u001b[38;5;241;43m=\u001b[39;49m\u001b[38;5;124;43m\"\u001b[39;49m\u001b[38;5;124;43mTravel Time Map\u001b[39;49m\u001b[38;5;124;43m\"\u001b[39;49m\u001b[43m,\u001b[49m\u001b[43m \u001b[49m\u001b[43mcolormap_name\u001b[49m\u001b[38;5;241;43m=\u001b[39;49m\u001b[38;5;124;43m\"\u001b[39;49m\u001b[38;5;124;43mmagma\u001b[39;49m\u001b[38;5;124;43m\"\u001b[39;49m\u001b[43m,\u001b[49m\u001b[43m \u001b[49m\u001b[43mfit_bounds\u001b[49m\u001b[38;5;241;43m=\u001b[39;49m\u001b[38;5;28;43;01mTrue\u001b[39;49;00m\u001b[43m)\u001b[49m \u001b[38;5;66;03m# rescale=\"0,8\"\u001b[39;00m\n\u001b[0;32m      3\u001b[0m m\u001b[38;5;241m.\u001b[39madd_colorbar(caption\u001b[38;5;241m=\u001b[39m\u001b[38;5;124m\"\u001b[39m\u001b[38;5;124mTravel Time (hrs.)\u001b[39m\u001b[38;5;124m\"\u001b[39m, colors\u001b[38;5;241m=\u001b[39mcm\u001b[38;5;241m.\u001b[39mpalettes[\u001b[38;5;124m'\u001b[39m\u001b[38;5;124mmagma\u001b[39m\u001b[38;5;124m'\u001b[39m][\u001b[38;5;124m'\u001b[39m\u001b[38;5;124mn08\u001b[39m\u001b[38;5;124m'\u001b[39m], vmin\u001b[38;5;241m=\u001b[39m\u001b[38;5;241m0\u001b[39m, vmax\u001b[38;5;241m=\u001b[39m\u001b[38;5;241m8\u001b[39m)\n\u001b[0;32m      4\u001b[0m cities\u001b[38;5;241m.\u001b[39mexplore(m\u001b[38;5;241m=\u001b[39mm, style_kwds\u001b[38;5;241m=\u001b[39m{\u001b[38;5;124m'\u001b[39m\u001b[38;5;124mradius\u001b[39m\u001b[38;5;124m'\u001b[39m:\u001b[38;5;241m5\u001b[39m, \u001b[38;5;124m'\u001b[39m\u001b[38;5;124mcolor\u001b[39m\u001b[38;5;124m'\u001b[39m:\u001b[38;5;124m'\u001b[39m\u001b[38;5;124mteal\u001b[39m\u001b[38;5;124m'\u001b[39m}, name\u001b[38;5;241m=\u001b[39m\u001b[38;5;124m\"\u001b[39m\u001b[38;5;124mMajor Cities\u001b[39m\u001b[38;5;124m\"\u001b[39m, highlight\u001b[38;5;241m=\u001b[39m\u001b[38;5;28;01mFalse\u001b[39;00m, control_scale\u001b[38;5;241m=\u001b[39m\u001b[38;5;28;01mTrue\u001b[39;00m)\n",
      "File \u001b[1;32mc:\\WBG\\Anaconda3\\envs\\leafmap-v2\\Lib\\site-packages\\leafmap\\foliumap.py:1193\u001b[0m, in \u001b[0;36mMap.add_cog_layer\u001b[1;34m(self, url, name, attribution, opacity, shown, bands, titiler_endpoint, zoom_to_layer, **kwargs)\u001b[0m\n\u001b[0;32m   1165\u001b[0m \u001b[38;5;28;01mdef\u001b[39;00m\u001b[38;5;250m \u001b[39m\u001b[38;5;21madd_cog_layer\u001b[39m(\n\u001b[0;32m   1166\u001b[0m     \u001b[38;5;28mself\u001b[39m,\n\u001b[0;32m   1167\u001b[0m     url: \u001b[38;5;28mstr\u001b[39m,\n\u001b[1;32m   (...)\u001b[0m\n\u001b[0;32m   1175\u001b[0m     \u001b[38;5;241m*\u001b[39m\u001b[38;5;241m*\u001b[39mkwargs,\n\u001b[0;32m   1176\u001b[0m ):\n\u001b[0;32m   1177\u001b[0m \u001b[38;5;250m    \u001b[39m\u001b[38;5;124;03m\"\"\"Adds a COG TileLayer to the map.\u001b[39;00m\n\u001b[0;32m   1178\u001b[0m \n\u001b[0;32m   1179\u001b[0m \u001b[38;5;124;03m    Args:\u001b[39;00m\n\u001b[1;32m   (...)\u001b[0m\n\u001b[0;32m   1191\u001b[0m \u001b[38;5;124;03m            apply a rescaling to multiple bands, use something like `rescale=[\"164,223\",\"130,211\",\"99,212\"]`.\u001b[39;00m\n\u001b[0;32m   1192\u001b[0m \u001b[38;5;124;03m    \"\"\"\u001b[39;00m\n\u001b[1;32m-> 1193\u001b[0m     tile_url \u001b[38;5;241m=\u001b[39m \u001b[43mcommon\u001b[49m\u001b[38;5;241;43m.\u001b[39;49m\u001b[43mcog_tile\u001b[49m\u001b[43m(\u001b[49m\u001b[43murl\u001b[49m\u001b[43m,\u001b[49m\u001b[43m \u001b[49m\u001b[43mbands\u001b[49m\u001b[43m,\u001b[49m\u001b[43m \u001b[49m\u001b[43mtitiler_endpoint\u001b[49m\u001b[43m,\u001b[49m\u001b[43m \u001b[49m\u001b[38;5;241;43m*\u001b[39;49m\u001b[38;5;241;43m*\u001b[39;49m\u001b[43mkwargs\u001b[49m\u001b[43m)\u001b[49m\n\u001b[0;32m   1194\u001b[0m     bounds \u001b[38;5;241m=\u001b[39m common\u001b[38;5;241m.\u001b[39mcog_bounds(url, titiler_endpoint)\n\u001b[0;32m   1195\u001b[0m     \u001b[38;5;28mself\u001b[39m\u001b[38;5;241m.\u001b[39madd_tile_layer(\n\u001b[0;32m   1196\u001b[0m         url\u001b[38;5;241m=\u001b[39mtile_url,\n\u001b[0;32m   1197\u001b[0m         name\u001b[38;5;241m=\u001b[39mname,\n\u001b[1;32m   (...)\u001b[0m\n\u001b[0;32m   1200\u001b[0m         shown\u001b[38;5;241m=\u001b[39mshown,\n\u001b[0;32m   1201\u001b[0m     )\n",
      "File \u001b[1;32mc:\\WBG\\Anaconda3\\envs\\leafmap-v2\\Lib\\site-packages\\leafmap\\stac.py:155\u001b[0m, in \u001b[0;36mcog_tile\u001b[1;34m(url, bands, titiler_endpoint, **kwargs)\u001b[0m\n\u001b[0;32m    151\u001b[0m titiler_endpoint \u001b[38;5;241m=\u001b[39m check_titiler_endpoint(titiler_endpoint)\n\u001b[0;32m    153\u001b[0m kwargs[\u001b[38;5;124m\"\u001b[39m\u001b[38;5;124murl\u001b[39m\u001b[38;5;124m\"\u001b[39m] \u001b[38;5;241m=\u001b[39m url\n\u001b[1;32m--> 155\u001b[0m band_names \u001b[38;5;241m=\u001b[39m \u001b[43mcog_bands\u001b[49m\u001b[43m(\u001b[49m\u001b[43murl\u001b[49m\u001b[43m,\u001b[49m\u001b[43m \u001b[49m\u001b[43mtitiler_endpoint\u001b[49m\u001b[43m)\u001b[49m\n\u001b[0;32m    157\u001b[0m \u001b[38;5;28;01mif\u001b[39;00m \u001b[38;5;28misinstance\u001b[39m(bands, \u001b[38;5;28mstr\u001b[39m):\n\u001b[0;32m    158\u001b[0m     bands \u001b[38;5;241m=\u001b[39m [bands]\n",
      "File \u001b[1;32mc:\\WBG\\Anaconda3\\envs\\leafmap-v2\\Lib\\site-packages\\leafmap\\stac.py:430\u001b[0m, in \u001b[0;36mcog_bands\u001b[1;34m(url, titiler_endpoint)\u001b[0m\n\u001b[0;32m    422\u001b[0m titiler_endpoint \u001b[38;5;241m=\u001b[39m check_titiler_endpoint(titiler_endpoint)\n\u001b[0;32m    423\u001b[0m r \u001b[38;5;241m=\u001b[39m requests\u001b[38;5;241m.\u001b[39mget(\n\u001b[0;32m    424\u001b[0m     \u001b[38;5;124mf\u001b[39m\u001b[38;5;124m\"\u001b[39m\u001b[38;5;132;01m{\u001b[39;00mtitiler_endpoint\u001b[38;5;132;01m}\u001b[39;00m\u001b[38;5;124m/cog/info\u001b[39m\u001b[38;5;124m\"\u001b[39m,\n\u001b[0;32m    425\u001b[0m     params\u001b[38;5;241m=\u001b[39m{\n\u001b[0;32m    426\u001b[0m         \u001b[38;5;124m\"\u001b[39m\u001b[38;5;124murl\u001b[39m\u001b[38;5;124m\"\u001b[39m: url,\n\u001b[0;32m    427\u001b[0m     },\n\u001b[0;32m    428\u001b[0m )\u001b[38;5;241m.\u001b[39mjson()\n\u001b[1;32m--> 430\u001b[0m bands \u001b[38;5;241m=\u001b[39m [b[\u001b[38;5;241m0\u001b[39m] \u001b[38;5;28;01mfor\u001b[39;00m b \u001b[38;5;129;01min\u001b[39;00m \u001b[43mr\u001b[49m\u001b[43m[\u001b[49m\u001b[38;5;124;43m\"\u001b[39;49m\u001b[38;5;124;43mband_descriptions\u001b[39;49m\u001b[38;5;124;43m\"\u001b[39;49m\u001b[43m]\u001b[49m]\n\u001b[0;32m    431\u001b[0m \u001b[38;5;28;01mreturn\u001b[39;00m bands\n",
      "\u001b[1;31mKeyError\u001b[0m: 'band_descriptions'"
     ]
    }
   ],
   "source": [
    "m = leafmap.Map()\n",
    "m.add_cog_layer(src, name=\"Travel Time Map\", colormap_name=\"magma\", fit_bounds=True) # rescale=\"0,8\"\n",
    "m.add_colorbar(caption=\"Travel Time (hrs.)\", colors=cm.palettes['magma']['n08'], vmin=0, vmax=8)\n",
    "cities.explore(m=m, style_kwds={'radius':5, 'color':'teal'}, name=\"Major Cities\", highlight=False, control_scale=True)\n",
    "m.add_tile_layer(\n",
    "    url=url,\n",
    "    name=\"Imagery (ESRI)\",\n",
    "    attribution=attribution,\n",
    "    shown=False\n",
    ")\n",
    "flm.LayerControl('topright', collapsed = False).add_to(m)\n",
    "# m.to_html(join(tmp_dir, f\"travel_time_{iso}.html\"))"
   ]
  },
  {
   "cell_type": "code",
   "execution_count": null,
   "metadata": {},
   "outputs": [],
   "source": []
  },
  {
   "cell_type": "code",
   "execution_count": 20,
   "metadata": {},
   "outputs": [],
   "source": [
    "# m.to_html(outfile=\"cog.html\", title=\"COG Map\", width=\"100%\", height=\"880px\", open_browser=False)\n",
    "m.to_html(outfile=\"cog.html\", title=\"COG Map\")"
   ]
  },
  {
   "cell_type": "code",
   "execution_count": 8,
   "metadata": {},
   "outputs": [],
   "source": [
    "adm1 = gpd.read_file(r'C:\\Users\\WB514197\\WBG\\EEAPV Pacific Observatory Files - Geospatial and Big Data\\Data\\Admin Boundaries\\PIC_adm1.shp')\n",
    "# adm0 = gpd.read_file(join(expanduser(\"~\"), 'data', 'pacific', 'Adm0_Pacific_Edit.shp'))\n",
    "# adm1 = gpd.read_file(join(expanduser(\"~\"), 'data', 'pacific', 'PIC_adm1.json'))"
   ]
  },
  {
   "cell_type": "code",
   "execution_count": 4,
   "metadata": {},
   "outputs": [],
   "source": [
    "# adm1.head()"
   ]
  },
  {
   "cell_type": "code",
   "execution_count": 9,
   "metadata": {},
   "outputs": [],
   "source": [
    "adm1 = adm1.loc[adm1.ADM0_NAME==\"Vanuatu\"].copy()"
   ]
  },
  {
   "cell_type": "code",
   "execution_count": 7,
   "metadata": {},
   "outputs": [],
   "source": [
    "# adm1.total_bounds\n",
    "# minx, miny, maxx, maxy = adm1.total_bounds"
   ]
  },
  {
   "cell_type": "code",
   "execution_count": 10,
   "metadata": {},
   "outputs": [],
   "source": [
    "# ox.graph_from_bbox?"
   ]
  },
  {
   "cell_type": "code",
   "execution_count": 11,
   "metadata": {},
   "outputs": [],
   "source": [
    "# G = ox.graph_from_bbox((maxy, miny, maxx, minx), network_type='drive')"
   ]
  },
  {
   "cell_type": "code",
   "execution_count": 12,
   "metadata": {},
   "outputs": [],
   "source": [
    "G = ox.graph_from_place('Vanuatu', network_type='drive', retain_all=True)"
   ]
  },
  {
   "cell_type": "code",
   "execution_count": 13,
   "metadata": {},
   "outputs": [],
   "source": [
    "edges = ox.graph_to_gdfs(G, nodes=False)"
   ]
  },
  {
   "cell_type": "code",
   "execution_count": 14,
   "metadata": {},
   "outputs": [
    {
     "data": {
      "text/plain": [
       "highway\n",
       "residential                              5717\n",
       "unclassified                             3050\n",
       "tertiary                                  842\n",
       "secondary                                 590\n",
       "primary                                   288\n",
       "[unclassified, residential]                29\n",
       "[residential, unclassified]                29\n",
       "[unclassified, tertiary]                   15\n",
       "living_street                               8\n",
       "tertiary_link                               2\n",
       "road                                        2\n",
       "[residential, secondary]                    2\n",
       "[unclassified, secondary]                   2\n",
       "[residential, primary]                      2\n",
       "[residential, tertiary, unclassified]       1\n",
       "[unclassified, tertiary, residential]       1\n",
       "Name: count, dtype: int64"
      ]
     },
     "execution_count": 14,
     "metadata": {},
     "output_type": "execute_result"
    }
   ],
   "source": [
    "edges.highway.value_counts()"
   ]
  },
  {
   "cell_type": "code",
   "execution_count": 20,
   "metadata": {},
   "outputs": [],
   "source": [
    "# edges.explore(style_kwds={'color':'black', 'weight':0.5})"
   ]
  },
  {
   "cell_type": "code",
   "execution_count": 42,
   "metadata": {},
   "outputs": [],
   "source": [
    "# ox.graph_from_place?"
   ]
  },
  {
   "cell_type": "code",
   "execution_count": null,
   "metadata": {},
   "outputs": [],
   "source": []
  },
  {
   "cell_type": "code",
   "execution_count": 28,
   "metadata": {},
   "outputs": [],
   "source": [
    "# m\n",
    "# m.add_cog_layer(\"https://opendata.digitalglobe.com/events/california-fire-2020/pre-event/2019-10-01/pine_flat/pre-event_pine_flat_2019-10-01.tif\", \"Pine Flat Fire 2019\", show_footprint=True)"
   ]
  },
  {
   "cell_type": "code",
   "execution_count": 17,
   "metadata": {},
   "outputs": [],
   "source": [
    "\n",
    "src = \"https://datacatalogfiles.worldbank.org/ddh-published/0037584/DR0045417/LS_TH_COG.tif\""
   ]
  },
  {
   "cell_type": "code",
   "execution_count": 19,
   "metadata": {},
   "outputs": [
    {
     "ename": "ImportError",
     "evalue": "localtileserver is not installed. Please install it before proceeding. https://github.com/banesullivan/localtileserver",
     "output_type": "error",
     "traceback": [
      "\u001b[1;31m---------------------------------------------------------------------------\u001b[0m",
      "\u001b[1;31mModuleNotFoundError\u001b[0m                       Traceback (most recent call last)",
      "\u001b[1;32mc:\\WBG\\Anaconda3\\envs\\leafmap-v2\\Lib\\site-packages\\leafmap\\common.py\u001b[0m in \u001b[0;36m?\u001b[1;34m(name, URL)\u001b[0m\n\u001b[0;32m    166\u001b[0m         \u001b[0m__import__\u001b[0m\u001b[1;33m(\u001b[0m\u001b[0mname\u001b[0m\u001b[1;33m.\u001b[0m\u001b[0mlower\u001b[0m\u001b[1;33m(\u001b[0m\u001b[1;33m)\u001b[0m\u001b[1;33m)\u001b[0m\u001b[1;33m\u001b[0m\u001b[1;33m\u001b[0m\u001b[0m\n\u001b[0;32m    167\u001b[0m     \u001b[1;32mexcept\u001b[0m \u001b[0mException\u001b[0m\u001b[1;33m:\u001b[0m\u001b[1;33m\u001b[0m\u001b[1;33m\u001b[0m\u001b[0m\n\u001b[1;32m--> 168\u001b[1;33m         raise ImportError(\n\u001b[0m\u001b[0;32m    169\u001b[0m             \u001b[1;33mf\"\u001b[0m\u001b[1;33m{\u001b[0m\u001b[0mname\u001b[0m\u001b[1;33m}\u001b[0m\u001b[1;33m is not installed. Please install it before proceeding. \u001b[0m\u001b[1;33m{\u001b[0m\u001b[0mURL\u001b[0m\u001b[1;33m}\u001b[0m\u001b[1;33m\"\u001b[0m\u001b[1;33m\u001b[0m\u001b[1;33m\u001b[0m\u001b[0m\n",
      "\u001b[1;31mModuleNotFoundError\u001b[0m: No module named 'localtileserver'",
      "\nDuring handling of the above exception, another exception occurred:\n",
      "\u001b[1;31mImportError\u001b[0m                               Traceback (most recent call last)",
      "\u001b[1;32m~\\AppData\\Local\\Temp\\ipykernel_10548\\2164767886.py\u001b[0m in \u001b[0;36m?\u001b[1;34m()\u001b[0m\n\u001b[0;32m      1\u001b[0m \u001b[0mm\u001b[0m \u001b[1;33m=\u001b[0m \u001b[0mleafmap\u001b[0m\u001b[1;33m.\u001b[0m\u001b[0mMap\u001b[0m\u001b[1;33m(\u001b[0m\u001b[1;33m)\u001b[0m\u001b[1;33m\u001b[0m\u001b[1;33m\u001b[0m\u001b[0m\n\u001b[1;32m----> 2\u001b[1;33m \u001b[0mm\u001b[0m\u001b[1;33m.\u001b[0m\u001b[0madd_raster\u001b[0m\u001b[1;33m(\u001b[0m\u001b[0msrc\u001b[0m\u001b[1;33m,\u001b[0m \u001b[0mcolormap\u001b[0m\u001b[1;33m=\u001b[0m\u001b[1;34m\"terrain\"\u001b[0m\u001b[1;33m,\u001b[0m \u001b[0mlayer_name\u001b[0m\u001b[1;33m=\u001b[0m\u001b[1;34m\"Terrain\"\u001b[0m\u001b[1;33m)\u001b[0m\u001b[1;33m\u001b[0m\u001b[1;33m\u001b[0m\u001b[0m\n\u001b[0m\u001b[0;32m      3\u001b[0m \u001b[0mm\u001b[0m\u001b[1;33m\u001b[0m\u001b[1;33m\u001b[0m\u001b[0m\n",
      "\u001b[1;32mc:\\WBG\\Anaconda3\\envs\\leafmap-v2\\Lib\\site-packages\\leafmap\\foliumap.py\u001b[0m in \u001b[0;36m?\u001b[1;34m(self, source, indexes, colormap, vmin, vmax, nodata, attribution, layer_name, array_args, **kwargs)\u001b[0m\n\u001b[0;32m    618\u001b[0m \u001b[1;33m\u001b[0m\u001b[0m\n\u001b[0;32m    619\u001b[0m         \u001b[1;32mif\u001b[0m \u001b[1;34m\"google.colab\"\u001b[0m \u001b[1;32min\u001b[0m \u001b[0msys\u001b[0m\u001b[1;33m.\u001b[0m\u001b[0mmodules\u001b[0m\u001b[1;33m:\u001b[0m\u001b[1;33m\u001b[0m\u001b[1;33m\u001b[0m\u001b[0m\n\u001b[0;32m    620\u001b[0m             \u001b[0mkwargs\u001b[0m\u001b[1;33m[\u001b[0m\u001b[1;34m\"cors_all\"\u001b[0m\u001b[1;33m]\u001b[0m \u001b[1;33m=\u001b[0m \u001b[1;32mTrue\u001b[0m\u001b[1;33m\u001b[0m\u001b[1;33m\u001b[0m\u001b[0m\n\u001b[0;32m    621\u001b[0m \u001b[1;33m\u001b[0m\u001b[0m\n\u001b[1;32m--> 622\u001b[1;33m         tile_layer, tile_client = common.get_local_tile_layer(\n\u001b[0m\u001b[0;32m    623\u001b[0m             \u001b[0msource\u001b[0m\u001b[1;33m,\u001b[0m\u001b[1;33m\u001b[0m\u001b[1;33m\u001b[0m\u001b[0m\n\u001b[0;32m    624\u001b[0m             \u001b[0mindexes\u001b[0m\u001b[1;33m=\u001b[0m\u001b[0mindexes\u001b[0m\u001b[1;33m,\u001b[0m\u001b[1;33m\u001b[0m\u001b[1;33m\u001b[0m\u001b[0m\n\u001b[0;32m    625\u001b[0m             \u001b[0mcolormap\u001b[0m\u001b[1;33m=\u001b[0m\u001b[0mcolormap\u001b[0m\u001b[1;33m,\u001b[0m\u001b[1;33m\u001b[0m\u001b[1;33m\u001b[0m\u001b[0m\n",
      "\u001b[1;32mc:\\WBG\\Anaconda3\\envs\\leafmap-v2\\Lib\\site-packages\\leafmap\\common.py\u001b[0m in \u001b[0;36m?\u001b[1;34m(source, port, debug, indexes, colormap, vmin, vmax, nodata, attribution, tile_format, layer_name, client_args, return_client, quiet, **kwargs)\u001b[0m\n\u001b[0;32m   2860\u001b[0m         \u001b[0mipyleaflet\u001b[0m\u001b[1;33m.\u001b[0m\u001b[0mTileLayer\u001b[0m \u001b[1;33m|\u001b[0m \u001b[0mfolium\u001b[0m\u001b[1;33m.\u001b[0m\u001b[0mTileLayer\u001b[0m\u001b[1;33m:\u001b[0m \u001b[0mAn\u001b[0m \u001b[0mipyleaflet\u001b[0m\u001b[1;33m.\u001b[0m\u001b[0mTileLayer\u001b[0m \u001b[1;32mor\u001b[0m \u001b[0mfolium\u001b[0m\u001b[1;33m.\u001b[0m\u001b[0mTileLayer\u001b[0m\u001b[1;33m.\u001b[0m\u001b[1;33m\u001b[0m\u001b[1;33m\u001b[0m\u001b[0m\n\u001b[0;32m   2861\u001b[0m     \"\"\"\n\u001b[0;32m   2862\u001b[0m     \u001b[1;32mimport\u001b[0m \u001b[0mrasterio\u001b[0m\u001b[1;33m\u001b[0m\u001b[1;33m\u001b[0m\u001b[0m\n\u001b[0;32m   2863\u001b[0m \u001b[1;33m\u001b[0m\u001b[0m\n\u001b[1;32m-> 2864\u001b[1;33m     check_package(\n\u001b[0m\u001b[0;32m   2865\u001b[0m         \u001b[1;34m\"localtileserver\"\u001b[0m\u001b[1;33m,\u001b[0m \u001b[0mURL\u001b[0m\u001b[1;33m=\u001b[0m\u001b[1;34m\"https://github.com/banesullivan/localtileserver\"\u001b[0m\u001b[1;33m\u001b[0m\u001b[1;33m\u001b[0m\u001b[0m\n\u001b[0;32m   2866\u001b[0m     \u001b[1;33m)\u001b[0m\u001b[1;33m\u001b[0m\u001b[1;33m\u001b[0m\u001b[0m\n\u001b[0;32m   2867\u001b[0m \u001b[1;33m\u001b[0m\u001b[0m\n",
      "\u001b[1;32mc:\\WBG\\Anaconda3\\envs\\leafmap-v2\\Lib\\site-packages\\leafmap\\common.py\u001b[0m in \u001b[0;36m?\u001b[1;34m(name, URL)\u001b[0m\n\u001b[0;32m    164\u001b[0m \u001b[1;32mdef\u001b[0m \u001b[0mcheck_package\u001b[0m\u001b[1;33m(\u001b[0m\u001b[0mname\u001b[0m\u001b[1;33m:\u001b[0m \u001b[0mstr\u001b[0m\u001b[1;33m,\u001b[0m \u001b[0mURL\u001b[0m\u001b[1;33m:\u001b[0m \u001b[0mOptional\u001b[0m\u001b[1;33m[\u001b[0m\u001b[0mstr\u001b[0m\u001b[1;33m]\u001b[0m \u001b[1;33m=\u001b[0m \u001b[1;34m\"\"\u001b[0m\u001b[1;33m)\u001b[0m \u001b[1;33m->\u001b[0m \u001b[1;32mNone\u001b[0m\u001b[1;33m:\u001b[0m\u001b[1;33m\u001b[0m\u001b[1;33m\u001b[0m\u001b[0m\n\u001b[0;32m    165\u001b[0m     \u001b[1;32mtry\u001b[0m\u001b[1;33m:\u001b[0m\u001b[1;33m\u001b[0m\u001b[1;33m\u001b[0m\u001b[0m\n\u001b[0;32m    166\u001b[0m         \u001b[0m__import__\u001b[0m\u001b[1;33m(\u001b[0m\u001b[0mname\u001b[0m\u001b[1;33m.\u001b[0m\u001b[0mlower\u001b[0m\u001b[1;33m(\u001b[0m\u001b[1;33m)\u001b[0m\u001b[1;33m)\u001b[0m\u001b[1;33m\u001b[0m\u001b[1;33m\u001b[0m\u001b[0m\n\u001b[0;32m    167\u001b[0m     \u001b[1;32mexcept\u001b[0m \u001b[0mException\u001b[0m\u001b[1;33m:\u001b[0m\u001b[1;33m\u001b[0m\u001b[1;33m\u001b[0m\u001b[0m\n\u001b[1;32m--> 168\u001b[1;33m         raise ImportError(\n\u001b[0m\u001b[0;32m    169\u001b[0m             \u001b[1;33mf\"\u001b[0m\u001b[1;33m{\u001b[0m\u001b[0mname\u001b[0m\u001b[1;33m}\u001b[0m\u001b[1;33m is not installed. Please install it before proceeding. \u001b[0m\u001b[1;33m{\u001b[0m\u001b[0mURL\u001b[0m\u001b[1;33m}\u001b[0m\u001b[1;33m\"\u001b[0m\u001b[1;33m\u001b[0m\u001b[1;33m\u001b[0m\u001b[0m\n\u001b[0;32m    170\u001b[0m         \u001b[1;33m)\u001b[0m\u001b[1;33m\u001b[0m\u001b[1;33m\u001b[0m\u001b[0m\n",
      "\u001b[1;31mImportError\u001b[0m: localtileserver is not installed. Please install it before proceeding. https://github.com/banesullivan/localtileserver"
     ]
    }
   ],
   "source": [
    "m = leafmap.Map()\n",
    "m.add_raster(src, colormap=\"terrain\", layer_name=\"Terrain\")\n",
    "m"
   ]
  },
  {
   "cell_type": "code",
   "execution_count": null,
   "metadata": {},
   "outputs": [],
   "source": [
    "m"
   ]
  }
 ],
 "metadata": {
  "kernelspec": {
   "display_name": "leafmap-v2",
   "language": "python",
   "name": "python3"
  },
  "language_info": {
   "codemirror_mode": {
    "name": "ipython",
    "version": 3
   },
   "file_extension": ".py",
   "mimetype": "text/x-python",
   "name": "python",
   "nbconvert_exporter": "python",
   "pygments_lexer": "ipython3",
   "version": "3.13.1"
  }
 },
 "nbformat": 4,
 "nbformat_minor": 2
}
