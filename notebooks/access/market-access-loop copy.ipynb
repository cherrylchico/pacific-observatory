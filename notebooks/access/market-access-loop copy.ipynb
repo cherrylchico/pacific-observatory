{
 "cells": [
  {
   "cell_type": "markdown",
   "metadata": {},
   "source": [
    "# Market Access - Pacific Observatory\n",
    "This notebook is a template workflow to run a baseline accessibility analysis for the Pacific Observatory. It uses various tools developed by the World Bank's Geospatial Operations Support Team (GOST).\n",
    "\n",
    "This notebook focuses on a raster-based implementation of market access, using the motorized Global Friction Surface from the [Malaria Atlas Project](https://malariaatlas.org/project-resources/accessibility-to-healthcare/). Additionaly, it uses population data from [World Pop](https://hub.worldpop.org/project/categories?id=3) (Unconstrained UN-Adjusted 2020, 1km resolution).\n",
    "\n",
    "## Data Download Links\n",
    "- [World Pop Raster](https://data.worldpop.org/GIS/Population/Global_2000_2020_1km/2020/PNG/png_ppp_2020_1km_Aggregated.tif)\n",
    "- [Friction Surface](https://malariaatlas.org/geoserver/ows?service=CSW&version=2.0.1&request=DirectDownload&ResourceId=Explorer:2020_motorized_travel_time_to_healthcare)"
   ]
  },
  {
   "cell_type": "markdown",
   "metadata": {},
   "source": [
    "## 0. Setup\n",
    "Import various packages required."
   ]
  },
  {
   "cell_type": "code",
   "execution_count": 1,
   "metadata": {},
   "outputs": [
    {
     "name": "stderr",
     "output_type": "stream",
     "text": [
      "ERROR 1: PROJ: proj_create_from_database: Open of /home/jupyter-wb514197/.conda/envs/ox/share/proj failed\n"
     ]
    }
   ],
   "source": [
    "import sys, os\n",
    "from os.path import join, expanduser, exists\n",
    "import geopandas as gpd\n",
    "import pandas as pd\n",
    "from gadm import GADMDownloader\n",
    "from tqdm import tqdm\n",
    "import urllib.request"
   ]
  },
  {
   "cell_type": "code",
   "execution_count": 2,
   "metadata": {},
   "outputs": [],
   "source": [
    "## Visualization tools\n",
    "# import folium as flm\n",
    "import matplotlib.pyplot as plt\n",
    "import matplotlib.colors as colors\n",
    "from rasterio.plot import plotting_extent\n",
    "from rasterio.plot import show\n",
    "from mpl_toolkits.axes_grid1 import make_axes_locatable\n",
    "import contextily as ctx"
   ]
  },
  {
   "cell_type": "code",
   "execution_count": 3,
   "metadata": {},
   "outputs": [],
   "source": [
    "# Raster\n",
    "import rasterio as rio\n",
    "import numpy as np\n",
    "from shapely.geometry import Polygon, box, Point\n",
    "import skimage.graph as graph"
   ]
  },
  {
   "cell_type": "markdown",
   "metadata": {},
   "source": [
    "The packages below were developed by GOST. They can be installed to the environment or referenced from a local folder."
   ]
  },
  {
   "cell_type": "code",
   "execution_count": 4,
   "metadata": {},
   "outputs": [],
   "source": [
    "sys.path.append(join(expanduser(\"~\"), 'Repos', 'gostrocks', 'src'))\n",
    "sys.path.append(join(expanduser(\"~\"), 'Repos', 'GOSTNets_Raster', 'src'))\n",
    "sys.path.append(join(expanduser(\"~\"), 'Repos', 'GOSTnets'))\n",
    "sys.path.append(join(expanduser(\"~\"), 'Repos', 'GOST_Urban', 'src', 'GOST_Urban'))"
   ]
  },
  {
   "cell_type": "code",
   "execution_count": 5,
   "metadata": {},
   "outputs": [],
   "source": [
    "import GOSTRocks.rasterMisc as rMisc\n",
    "import GOSTNetsRaster.market_access as ma\n",
    "import UrbanRaster as urban"
   ]
  },
  {
   "cell_type": "code",
   "execution_count": 6,
   "metadata": {},
   "outputs": [],
   "source": [
    "# auto reload\n",
    "%load_ext autoreload\n",
    "%autoreload 2"
   ]
  },
  {
   "cell_type": "markdown",
   "metadata": {},
   "source": [
    "## 1. Data Preparation"
   ]
  },
  {
   "cell_type": "code",
   "execution_count": 7,
   "metadata": {},
   "outputs": [],
   "source": [
    "# adm0 = gpd.read_file(join(expanduser(\"~\"), 'data', 'pacific', 'Adm0_Pacific_Edit.shp'))\n",
    "adm1 = gpd.read_file(join(expanduser(\"~\"), 'data', 'pacific', 'PIC_adm1.json'))"
   ]
  },
  {
   "cell_type": "code",
   "execution_count": 8,
   "metadata": {},
   "outputs": [
    {
     "data": {
      "text/plain": [
       "array(['Papua New Guinea', 'Kiribati', 'Kingdom of Tonga',\n",
       "       'Federated States of Micronesia', 'Marshall Islands',\n",
       "       'Solomon Islands', 'Vanuatu', 'Nauru', 'Palau', 'Tuvalu', 'Samoa',\n",
       "       'Fiji'], dtype=object)"
      ]
     },
     "execution_count": 8,
     "metadata": {},
     "output_type": "execute_result"
    }
   ],
   "source": [
    "countries = adm1['ADM0_NAME'].unique()\n",
    "countries"
   ]
  },
  {
   "cell_type": "code",
   "execution_count": 20,
   "metadata": {},
   "outputs": [],
   "source": [
    "import country_converter as coco"
   ]
  },
  {
   "cell_type": "code",
   "execution_count": 22,
   "metadata": {},
   "outputs": [],
   "source": [
    "cc = coco.CountryConverter()\n",
    "adm1.loc[:, 'iso'] = cc.pandas_convert(series=adm1.ADM0_PCODE, to='ISO3')"
   ]
  },
  {
   "cell_type": "code",
   "execution_count": 25,
   "metadata": {},
   "outputs": [
    {
     "name": "stdout",
     "output_type": "stream",
     "text": [
      "PNG Papua New Guinea\n",
      "TON Kingdom of Tonga\n",
      "FSM Federated States of Micronesia\n",
      "MHL Marshall Islands\n",
      "SLB Solomon Islands\n",
      "VUT Vanuatu\n",
      "NRU Nauru\n",
      "PLW Palau\n",
      "TUV Tuvalu\n",
      "WSM Samoa\n"
     ]
    }
   ],
   "source": [
    "for country in countries:\n",
    "    if country in ['Fiji', 'Kiribati']:\n",
    "        continue\n",
    "    else:\n",
    "        adm1_sel = adm1.loc[adm1['ADM0_NAME'] == country].copy()\n",
    "        iso = adm1_sel['iso'].values[0]\n",
    "        print(iso, country)"
   ]
  },
  {
   "cell_type": "code",
   "execution_count": null,
   "metadata": {},
   "outputs": [],
   "source": []
  },
  {
   "cell_type": "code",
   "execution_count": 9,
   "metadata": {},
   "outputs": [],
   "source": [
    "# country = 'Tonga'\n",
    "# iso = 'ton'\n",
    "# downloader = GADMDownloader(version=\"4.0\")\n",
    "# adm0 = downloader.get_shape_data_by_country_name(country_name=country, ad_level=0)"
   ]
  },
  {
   "cell_type": "code",
   "execution_count": 16,
   "metadata": {},
   "outputs": [],
   "source": [
    "# for idx, row in adm0.iterrows():\n",
    "#     country = row['WB_ADM0_NA']\n",
    "#     iso = row['ISO3'].lower()\n",
    "#     print(idx, country)"
   ]
  },
  {
   "cell_type": "code",
   "execution_count": 11,
   "metadata": {},
   "outputs": [
    {
     "data": {
      "text/plain": [
       "'fji'"
      ]
     },
     "execution_count": 11,
     "metadata": {},
     "output_type": "execute_result"
    }
   ],
   "source": [
    "# idx = 0\n",
    "# row = adm0.iloc[idx]\n",
    "# country = row['WB_ADM0_NA']\n",
    "# iso = row['ISO3'].lower()\n",
    "# iso"
   ]
  },
  {
   "cell_type": "code",
   "execution_count": 60,
   "metadata": {},
   "outputs": [],
   "source": [
    "# adm0 = adm0.loc[adm0['ISO3']=='FJI'].copy()"
   ]
  },
  {
   "cell_type": "code",
   "execution_count": 62,
   "metadata": {},
   "outputs": [],
   "source": [
    "scratch_dir = join(expanduser(\"~\"), 'data', 'market-access', iso)"
   ]
  },
  {
   "cell_type": "code",
   "execution_count": 13,
   "metadata": {},
   "outputs": [],
   "source": [
    "if not exists(scratch_dir):\n",
    "    os.mkdir(scratch_dir, mode=0o777) "
   ]
  },
  {
   "cell_type": "code",
   "execution_count": 14,
   "metadata": {},
   "outputs": [
    {
     "data": {
      "text/plain": [
       "'https://data.worldpop.org/GIS/Population/Global_2000_2020_1km/2020/FJI/fji_ppp_2020_1km_Aggregated.tif'"
      ]
     },
     "execution_count": 14,
     "metadata": {},
     "output_type": "execute_result"
    }
   ],
   "source": [
    "wp_url = f'https://data.worldpop.org/GIS/Population/Global_2000_2020_1km/2020/{iso.upper()}/{iso}_ppp_2020_1km_Aggregated.tif'\n",
    "wp_url"
   ]
  },
  {
   "cell_type": "code",
   "execution_count": 15,
   "metadata": {},
   "outputs": [
    {
     "data": {
      "text/plain": [
       "'/home/jupyter-wb514197/data/worldpop/fji_ppp_2020_1km_Aggregated_UNadj.tif'"
      ]
     },
     "execution_count": 15,
     "metadata": {},
     "output_type": "execute_result"
    }
   ],
   "source": [
    "wp_path = join(expanduser(\"~\"), 'data', 'worldpop', f'{iso}_ppp_2020_1km_Aggregated_UNadj.tif') # Download from link above\n",
    "wp_path"
   ]
  },
  {
   "cell_type": "code",
   "execution_count": 36,
   "metadata": {},
   "outputs": [
    {
     "data": {
      "text/plain": [
       "('/home/jupyter-wb514197/data/worldpop/fji_ppp_2020_1km_Aggregated_UNadj.tif',\n",
       " <http.client.HTTPMessage at 0x70e3d9732ab0>)"
      ]
     },
     "execution_count": 36,
     "metadata": {},
     "output_type": "execute_result"
    }
   ],
   "source": [
    "urllib.request.urlretrieve(wp_url, wp_path)"
   ]
  },
  {
   "cell_type": "markdown",
   "metadata": {},
   "source": [
    "### Destinations (Cities)"
   ]
  },
  {
   "cell_type": "markdown",
   "metadata": {},
   "source": [
    "In this section, we create a geodataframe of cities based on the population data. We follow the [European Comission's Degree of Urbanization methodology](https://ghsl.jrc.ec.europa.eu/degurba.php), which defines urban areas as clusters of 5,000 people with a population density greater than 300 people per sq. km. \n",
    "\n",
    "The code below uses the World Pop raster to identify the clusters (contiguous cells that meet the thresholds)."
   ]
  },
  {
   "cell_type": "code",
   "execution_count": 16,
   "metadata": {},
   "outputs": [],
   "source": [
    "urban_calculator = urban.urbanGriddedPop(wp_path)"
   ]
  },
  {
   "cell_type": "code",
   "execution_count": 17,
   "metadata": {},
   "outputs": [
    {
     "name": "stdout",
     "output_type": "stream",
     "text": [
      "15:08:39\t: Read in urban data\n",
      "15:08:39\t: Creating Shape 0\n"
     ]
    }
   ],
   "source": [
    "urban_extents = urban_calculator.calculateUrban(\n",
    "    densVal=190, totalPopThresh=5000,  # changed the density value to capute more remote cities\n",
    "    smooth=True, queen=False, verbose=True\n",
    "    )"
   ]
  },
  {
   "cell_type": "code",
   "execution_count": 18,
   "metadata": {},
   "outputs": [
    {
     "data": {
      "text/plain": [
       "7"
      ]
     },
     "execution_count": 18,
     "metadata": {},
     "output_type": "execute_result"
    }
   ],
   "source": [
    "len(urban_extents)"
   ]
  },
  {
   "cell_type": "code",
   "execution_count": 20,
   "metadata": {},
   "outputs": [],
   "source": [
    "# urban_extents.explore()"
   ]
  },
  {
   "cell_type": "markdown",
   "metadata": {},
   "source": [
    "Convert the urban extents to points using the centroid."
   ]
  },
  {
   "cell_type": "markdown",
   "metadata": {},
   "source": [
    "### Ports"
   ]
  },
  {
   "cell_type": "code",
   "execution_count": 45,
   "metadata": {},
   "outputs": [],
   "source": [
    "# wpi = pd.read_csv(\"./data/UpdatedPub150.csv\")"
   ]
  },
  {
   "cell_type": "code",
   "execution_count": 32,
   "metadata": {},
   "outputs": [],
   "source": [
    "# wpi.loc[:, \"geometry\"] = wpi.apply(lambda x: Point(x['Longitude'], x['Latitude']), axis=1)"
   ]
  },
  {
   "cell_type": "code",
   "execution_count": 33,
   "metadata": {},
   "outputs": [],
   "source": [
    "# wpi = gpd.GeoDataFrame(wpi, geometry='geometry', crs='EPSG:4326')"
   ]
  },
  {
   "cell_type": "code",
   "execution_count": 34,
   "metadata": {},
   "outputs": [],
   "source": [
    "# wpi = wpi.loc[wpi['Country Code']==\"Tonga\"].copy()"
   ]
  },
  {
   "cell_type": "code",
   "execution_count": 37,
   "metadata": {},
   "outputs": [],
   "source": [
    "# m = urban_extents.explore()\n",
    "# wpi.explore(m=m)\n",
    "# m"
   ]
  },
  {
   "cell_type": "code",
   "execution_count": 21,
   "metadata": {},
   "outputs": [
    {
     "name": "stderr",
     "output_type": "stream",
     "text": [
      "/tmp/ipykernel_1658446/1562541587.py:2: UserWarning: Geometry is in a geographic CRS. Results from 'centroid' are likely incorrect. Use 'GeoSeries.to_crs()' to re-project geometries to a projected CRS before this operation.\n",
      "\n",
      "  dests.loc[:, 'geometry'] = dests.geometry.centroid\n"
     ]
    }
   ],
   "source": [
    "dests = urban_extents.copy()\n",
    "dests.loc[:, 'geometry'] = dests.geometry.centroid"
   ]
  },
  {
   "cell_type": "markdown",
   "metadata": {},
   "source": [
    "### Friction Surface"
   ]
  },
  {
   "cell_type": "markdown",
   "metadata": {},
   "source": [
    "Process the travel cost surface from the Malaria Atlas Project, clip the raster to our region of interest."
   ]
  },
  {
   "cell_type": "code",
   "execution_count": 63,
   "metadata": {},
   "outputs": [],
   "source": [
    "gfs_path = join(expanduser(\"~\"), 'data', 'friction', '2020_motorized_friction_surface.geotiff') # Download from link above\n",
    "gfs_rio = rio.open(gfs_path)\n",
    "out_travel_surface = join(scratch_dir, f\"travel_surface_motorized_{iso}.tif\")\n",
    "rMisc.clipRaster(gfs_rio, adm0, out_travel_surface, crop=False)"
   ]
  },
  {
   "cell_type": "code",
   "execution_count": 64,
   "metadata": {},
   "outputs": [],
   "source": [
    "travel_surf = rio.open(out_travel_surface)\n",
    "# pop_surf = rio.open(wp_path)"
   ]
  },
  {
   "cell_type": "code",
   "execution_count": 65,
   "metadata": {},
   "outputs": [],
   "source": [
    "from rasterio.warp import reproject, Resampling, calculate_default_transform"
   ]
  },
  {
   "cell_type": "code",
   "execution_count": 66,
   "metadata": {},
   "outputs": [
    {
     "data": {
      "text/plain": [
       "{'driver': 'GTiff',\n",
       " 'dtype': 'float32',\n",
       " 'nodata': -9999.0,\n",
       " 'width': 43200,\n",
       " 'height': 985,\n",
       " 'count': 1,\n",
       " 'crs': CRS.from_epsg(4326),\n",
       " 'transform': Affine(0.008333333333333333, 0.0, -180.0,\n",
       "        0.0, -0.008333333333333333, -12.474999999999994)}"
      ]
     },
     "execution_count": 66,
     "metadata": {},
     "output_type": "execute_result"
    }
   ],
   "source": [
    "travel_surf.meta"
   ]
  },
  {
   "cell_type": "code",
   "execution_count": 67,
   "metadata": {},
   "outputs": [
    {
     "data": {
      "text/plain": [
       "'/home/jupyter-wb514197/data/market-access/fji/travel_surface_motorized_fji.tif'"
      ]
     },
     "execution_count": 67,
     "metadata": {},
     "output_type": "execute_result"
    }
   ],
   "source": [
    "dst_crs = 'EPSG:3460'\n",
    "out_travel_surface"
   ]
  },
  {
   "cell_type": "code",
   "execution_count": 69,
   "metadata": {},
   "outputs": [
    {
     "ename": "RasterioIOError",
     "evalue": "travel_surface_motorized_fji_proj.tif: Free disk space available is 1666425495552 bytes, whereas 4337125292500 are at least necessary. You can disable this check by defining the CHECK_DISK_FREE_SPACE configuration option to FALSE.",
     "output_type": "error",
     "traceback": [
      "\u001b[0;31m---------------------------------------------------------------------------\u001b[0m",
      "\u001b[0;31mCPLE_FileIOError\u001b[0m                          Traceback (most recent call last)",
      "File \u001b[0;32mrasterio/_io.pyx:1486\u001b[0m, in \u001b[0;36mrasterio._io.DatasetWriterBase.__init__\u001b[0;34m()\u001b[0m\n",
      "File \u001b[0;32mrasterio/_err.pyx:221\u001b[0m, in \u001b[0;36mrasterio._err.exc_wrap_pointer\u001b[0;34m()\u001b[0m\n",
      "\u001b[0;31mCPLE_FileIOError\u001b[0m: travel_surface_motorized_fji_proj.tif: Free disk space available is 1666425495552 bytes, whereas 4337125292500 are at least necessary. You can disable this check by defining the CHECK_DISK_FREE_SPACE configuration option to FALSE.",
      "\nDuring handling of the above exception, another exception occurred:\n",
      "\u001b[0;31mRasterioIOError\u001b[0m                           Traceback (most recent call last)",
      "Cell \u001b[0;32mIn[69], line 12\u001b[0m\n\u001b[1;32m      4\u001b[0m kwargs \u001b[38;5;241m=\u001b[39m src\u001b[38;5;241m.\u001b[39mmeta\u001b[38;5;241m.\u001b[39mcopy()\n\u001b[1;32m      5\u001b[0m kwargs\u001b[38;5;241m.\u001b[39mupdate({\n\u001b[1;32m      6\u001b[0m     \u001b[38;5;124m'\u001b[39m\u001b[38;5;124mcrs\u001b[39m\u001b[38;5;124m'\u001b[39m: dst_crs,\n\u001b[1;32m      7\u001b[0m     \u001b[38;5;124m'\u001b[39m\u001b[38;5;124mtransform\u001b[39m\u001b[38;5;124m'\u001b[39m: transform,\n\u001b[1;32m      8\u001b[0m     \u001b[38;5;124m'\u001b[39m\u001b[38;5;124mwidth\u001b[39m\u001b[38;5;124m'\u001b[39m: width,\n\u001b[1;32m      9\u001b[0m     \u001b[38;5;124m'\u001b[39m\u001b[38;5;124mheight\u001b[39m\u001b[38;5;124m'\u001b[39m: height\n\u001b[1;32m     10\u001b[0m })\n\u001b[0;32m---> 12\u001b[0m \u001b[38;5;28;01mwith\u001b[39;00m \u001b[43mrio\u001b[49m\u001b[38;5;241;43m.\u001b[39;49m\u001b[43mopen\u001b[49m\u001b[43m(\u001b[49m\u001b[43mjoin\u001b[49m\u001b[43m(\u001b[49m\u001b[43mscratch_dir\u001b[49m\u001b[43m,\u001b[49m\u001b[43m \u001b[49m\u001b[38;5;124;43mf\u001b[39;49m\u001b[38;5;124;43m\"\u001b[39;49m\u001b[38;5;124;43mtravel_surface_motorized_\u001b[39;49m\u001b[38;5;132;43;01m{\u001b[39;49;00m\u001b[43miso\u001b[49m\u001b[38;5;132;43;01m}\u001b[39;49;00m\u001b[38;5;124;43m_proj.tif\u001b[39;49m\u001b[38;5;124;43m\"\u001b[39;49m\u001b[43m)\u001b[49m\u001b[43m,\u001b[49m\u001b[43m \u001b[49m\u001b[38;5;124;43m'\u001b[39;49m\u001b[38;5;124;43mw\u001b[39;49m\u001b[38;5;124;43m'\u001b[39;49m\u001b[43m,\u001b[49m\u001b[43m \u001b[49m\u001b[38;5;241;43m*\u001b[39;49m\u001b[38;5;241;43m*\u001b[39;49m\u001b[43mkwargs\u001b[49m\u001b[43m)\u001b[49m \u001b[38;5;28;01mas\u001b[39;00m dst:\n\u001b[1;32m     13\u001b[0m     \u001b[38;5;28;01mfor\u001b[39;00m i \u001b[38;5;129;01min\u001b[39;00m \u001b[38;5;28mrange\u001b[39m(\u001b[38;5;241m1\u001b[39m, src\u001b[38;5;241m.\u001b[39mcount \u001b[38;5;241m+\u001b[39m \u001b[38;5;241m1\u001b[39m):\n\u001b[1;32m     14\u001b[0m         reproject(\n\u001b[1;32m     15\u001b[0m             source\u001b[38;5;241m=\u001b[39mrio\u001b[38;5;241m.\u001b[39mband(src, i),\n\u001b[1;32m     16\u001b[0m             destination\u001b[38;5;241m=\u001b[39mrio\u001b[38;5;241m.\u001b[39mband(dst, i),\n\u001b[0;32m   (...)\u001b[0m\n\u001b[1;32m     20\u001b[0m             dst_crs\u001b[38;5;241m=\u001b[39mdst_crs,\n\u001b[1;32m     21\u001b[0m             resampling\u001b[38;5;241m=\u001b[39mResampling\u001b[38;5;241m.\u001b[39mnearest)\n",
      "File \u001b[0;32m~/.conda/envs/ox/lib/python3.12/site-packages/rasterio/env.py:451\u001b[0m, in \u001b[0;36mensure_env_with_credentials.<locals>.wrapper\u001b[0;34m(*args, **kwds)\u001b[0m\n\u001b[1;32m    448\u001b[0m     session \u001b[38;5;241m=\u001b[39m DummySession()\n\u001b[1;32m    450\u001b[0m \u001b[38;5;28;01mwith\u001b[39;00m env_ctor(session\u001b[38;5;241m=\u001b[39msession):\n\u001b[0;32m--> 451\u001b[0m     \u001b[38;5;28;01mreturn\u001b[39;00m \u001b[43mf\u001b[49m\u001b[43m(\u001b[49m\u001b[38;5;241;43m*\u001b[39;49m\u001b[43margs\u001b[49m\u001b[43m,\u001b[49m\u001b[43m \u001b[49m\u001b[38;5;241;43m*\u001b[39;49m\u001b[38;5;241;43m*\u001b[39;49m\u001b[43mkwds\u001b[49m\u001b[43m)\u001b[49m\n",
      "File \u001b[0;32m~/.conda/envs/ox/lib/python3.12/site-packages/rasterio/__init__.py:314\u001b[0m, in \u001b[0;36mopen\u001b[0;34m(fp, mode, driver, width, height, count, crs, transform, dtype, nodata, sharing, **kwargs)\u001b[0m\n\u001b[1;32m    312\u001b[0m writer \u001b[38;5;241m=\u001b[39m get_writer_for_driver(driver)\n\u001b[1;32m    313\u001b[0m \u001b[38;5;28;01mif\u001b[39;00m writer \u001b[38;5;129;01mis\u001b[39;00m \u001b[38;5;129;01mnot\u001b[39;00m \u001b[38;5;28;01mNone\u001b[39;00m:\n\u001b[0;32m--> 314\u001b[0m     dataset \u001b[38;5;241m=\u001b[39m \u001b[43mwriter\u001b[49m\u001b[43m(\u001b[49m\n\u001b[1;32m    315\u001b[0m \u001b[43m        \u001b[49m\u001b[43mpath\u001b[49m\u001b[43m,\u001b[49m\n\u001b[1;32m    316\u001b[0m \u001b[43m        \u001b[49m\u001b[43mmode\u001b[49m\u001b[43m,\u001b[49m\n\u001b[1;32m    317\u001b[0m \u001b[43m        \u001b[49m\u001b[43mdriver\u001b[49m\u001b[38;5;241;43m=\u001b[39;49m\u001b[43mdriver\u001b[49m\u001b[43m,\u001b[49m\n\u001b[1;32m    318\u001b[0m \u001b[43m        \u001b[49m\u001b[43mwidth\u001b[49m\u001b[38;5;241;43m=\u001b[39;49m\u001b[43mwidth\u001b[49m\u001b[43m,\u001b[49m\n\u001b[1;32m    319\u001b[0m \u001b[43m        \u001b[49m\u001b[43mheight\u001b[49m\u001b[38;5;241;43m=\u001b[39;49m\u001b[43mheight\u001b[49m\u001b[43m,\u001b[49m\n\u001b[1;32m    320\u001b[0m \u001b[43m        \u001b[49m\u001b[43mcount\u001b[49m\u001b[38;5;241;43m=\u001b[39;49m\u001b[43mcount\u001b[49m\u001b[43m,\u001b[49m\n\u001b[1;32m    321\u001b[0m \u001b[43m        \u001b[49m\u001b[43mcrs\u001b[49m\u001b[38;5;241;43m=\u001b[39;49m\u001b[43mcrs\u001b[49m\u001b[43m,\u001b[49m\n\u001b[1;32m    322\u001b[0m \u001b[43m        \u001b[49m\u001b[43mtransform\u001b[49m\u001b[38;5;241;43m=\u001b[39;49m\u001b[43mtransform\u001b[49m\u001b[43m,\u001b[49m\n\u001b[1;32m    323\u001b[0m \u001b[43m        \u001b[49m\u001b[43mdtype\u001b[49m\u001b[38;5;241;43m=\u001b[39;49m\u001b[43mdtype\u001b[49m\u001b[43m,\u001b[49m\n\u001b[1;32m    324\u001b[0m \u001b[43m        \u001b[49m\u001b[43mnodata\u001b[49m\u001b[38;5;241;43m=\u001b[39;49m\u001b[43mnodata\u001b[49m\u001b[43m,\u001b[49m\n\u001b[1;32m    325\u001b[0m \u001b[43m        \u001b[49m\u001b[43msharing\u001b[49m\u001b[38;5;241;43m=\u001b[39;49m\u001b[43msharing\u001b[49m\u001b[43m,\u001b[49m\n\u001b[1;32m    326\u001b[0m \u001b[43m        \u001b[49m\u001b[38;5;241;43m*\u001b[39;49m\u001b[38;5;241;43m*\u001b[39;49m\u001b[43mkwargs\u001b[49m\n\u001b[1;32m    327\u001b[0m \u001b[43m    \u001b[49m\u001b[43m)\u001b[49m\n\u001b[1;32m    328\u001b[0m \u001b[38;5;28;01melse\u001b[39;00m:\n\u001b[1;32m    329\u001b[0m     \u001b[38;5;28;01mraise\u001b[39;00m DriverCapabilityError(\n\u001b[1;32m    330\u001b[0m         \u001b[38;5;124m\"\u001b[39m\u001b[38;5;124mWriter does not exist for driver: \u001b[39m\u001b[38;5;132;01m%s\u001b[39;00m\u001b[38;5;124m\"\u001b[39m \u001b[38;5;241m%\u001b[39m \u001b[38;5;28mstr\u001b[39m(driver)\n\u001b[1;32m    331\u001b[0m     )\n",
      "File \u001b[0;32mrasterio/_io.pyx:1491\u001b[0m, in \u001b[0;36mrasterio._io.DatasetWriterBase.__init__\u001b[0;34m()\u001b[0m\n",
      "\u001b[0;31mRasterioIOError\u001b[0m: travel_surface_motorized_fji_proj.tif: Free disk space available is 1666425495552 bytes, whereas 4337125292500 are at least necessary. You can disable this check by defining the CHECK_DISK_FREE_SPACE configuration option to FALSE."
     ]
    }
   ],
   "source": [
    "with rio.open(out_travel_surface) as src:\n",
    "    transform, width, height = calculate_default_transform(\n",
    "        src.crs, dst_crs, src.width, src.height, *src.bounds)\n",
    "    kwargs = src.meta.copy()\n",
    "    kwargs.update({\n",
    "        'crs': dst_crs,\n",
    "        'transform': transform,\n",
    "        'width': width,\n",
    "        'height': height\n",
    "    })\n",
    "\n",
    "    with rio.open(join(scratch_dir, f\"travel_surface_motorized_{iso}_proj.tif\"), 'w', **kwargs) as dst:\n",
    "        for i in range(1, src.count + 1):\n",
    "            reproject(\n",
    "                source=rio.band(src, i),\n",
    "                destination=rio.band(dst, i),\n",
    "                src_transform=src.transform,\n",
    "                src_crs=src.crs,\n",
    "                dst_transform=transform,\n",
    "                dst_crs=dst_crs,\n",
    "                resampling=Resampling.nearest)"
   ]
  },
  {
   "cell_type": "code",
   "execution_count": 74,
   "metadata": {},
   "outputs": [],
   "source": [
    "out_pop_clip = join(scratch_dir, f\"WP_2020_1km_clip.tif\")"
   ]
  },
  {
   "cell_type": "code",
   "execution_count": 71,
   "metadata": {},
   "outputs": [
    {
     "data": {
      "text/plain": [
       "'/home/jupyter-wb514197/data/market-access/fji/WP_2020_1km_STD_clip.tif'"
      ]
     },
     "execution_count": 71,
     "metadata": {},
     "output_type": "execute_result"
    }
   ],
   "source": [
    "out_pop_clip\n",
    "pop_surf_clip"
   ]
  },
  {
   "cell_type": "code",
   "execution_count": 70,
   "metadata": {},
   "outputs": [
    {
     "data": {
      "text/plain": [
       "'/home/jupyter-wb514197/data/market-access/fji/travel_surface_motorized_fji.tif'"
      ]
     },
     "execution_count": 70,
     "metadata": {},
     "output_type": "execute_result"
    }
   ],
   "source": [
    "out_travel_surface"
   ]
  },
  {
   "cell_type": "markdown",
   "metadata": {},
   "source": [
    "Try PoP"
   ]
  },
  {
   "cell_type": "code",
   "execution_count": 44,
   "metadata": {},
   "outputs": [
    {
     "data": {
      "text/plain": [
       "'/home/jupyter-wb514197/data/worldpop/fji_ppp_2020_1km_Aggregated_UNadj.tif'"
      ]
     },
     "execution_count": 44,
     "metadata": {},
     "output_type": "execute_result"
    }
   ],
   "source": [
    "wp_path"
   ]
  },
  {
   "cell_type": "code",
   "execution_count": 45,
   "metadata": {},
   "outputs": [
    {
     "ename": "RasterioIOError",
     "evalue": "/home/jupyter-wb514197/data/market-access/fji/WP_2020_1km_proj.tif: Free disk space available is 1664895000576 bytes, whereas 3874574475960 are at least necessary. You can disable this check by defining the CHECK_DISK_FREE_SPACE configuration option to FALSE.",
     "output_type": "error",
     "traceback": [
      "\u001b[0;31m---------------------------------------------------------------------------\u001b[0m",
      "\u001b[0;31mCPLE_FileIOError\u001b[0m                          Traceback (most recent call last)",
      "File \u001b[0;32mrasterio/_io.pyx:1486\u001b[0m, in \u001b[0;36mrasterio._io.DatasetWriterBase.__init__\u001b[0;34m()\u001b[0m\n",
      "File \u001b[0;32mrasterio/_err.pyx:221\u001b[0m, in \u001b[0;36mrasterio._err.exc_wrap_pointer\u001b[0;34m()\u001b[0m\n",
      "\u001b[0;31mCPLE_FileIOError\u001b[0m: /home/jupyter-wb514197/data/market-access/fji/WP_2020_1km_proj.tif: Free disk space available is 1664895000576 bytes, whereas 3874574475960 are at least necessary. You can disable this check by defining the CHECK_DISK_FREE_SPACE configuration option to FALSE.",
      "\nDuring handling of the above exception, another exception occurred:\n",
      "\u001b[0;31mRasterioIOError\u001b[0m                           Traceback (most recent call last)",
      "Cell \u001b[0;32mIn[45], line 12\u001b[0m\n\u001b[1;32m      4\u001b[0m kwargs \u001b[38;5;241m=\u001b[39m src\u001b[38;5;241m.\u001b[39mmeta\u001b[38;5;241m.\u001b[39mcopy()\n\u001b[1;32m      5\u001b[0m kwargs\u001b[38;5;241m.\u001b[39mupdate({\n\u001b[1;32m      6\u001b[0m     \u001b[38;5;124m'\u001b[39m\u001b[38;5;124mcrs\u001b[39m\u001b[38;5;124m'\u001b[39m: dst_crs,\n\u001b[1;32m      7\u001b[0m     \u001b[38;5;124m'\u001b[39m\u001b[38;5;124mtransform\u001b[39m\u001b[38;5;124m'\u001b[39m: transform,\n\u001b[1;32m      8\u001b[0m     \u001b[38;5;124m'\u001b[39m\u001b[38;5;124mwidth\u001b[39m\u001b[38;5;124m'\u001b[39m: width,\n\u001b[1;32m      9\u001b[0m     \u001b[38;5;124m'\u001b[39m\u001b[38;5;124mheight\u001b[39m\u001b[38;5;124m'\u001b[39m: height\n\u001b[1;32m     10\u001b[0m })\n\u001b[0;32m---> 12\u001b[0m \u001b[38;5;28;01mwith\u001b[39;00m \u001b[43mrio\u001b[49m\u001b[38;5;241;43m.\u001b[39;49m\u001b[43mopen\u001b[49m\u001b[43m(\u001b[49m\u001b[43mjoin\u001b[49m\u001b[43m(\u001b[49m\u001b[43mscratch_dir\u001b[49m\u001b[43m,\u001b[49m\u001b[43m \u001b[49m\u001b[38;5;124;43mf\u001b[39;49m\u001b[38;5;124;43m\"\u001b[39;49m\u001b[38;5;124;43mWP_2020_1km_proj.tif\u001b[39;49m\u001b[38;5;124;43m\"\u001b[39;49m\u001b[43m)\u001b[49m\u001b[43m,\u001b[49m\u001b[43m \u001b[49m\u001b[38;5;124;43m'\u001b[39;49m\u001b[38;5;124;43mw\u001b[39;49m\u001b[38;5;124;43m'\u001b[39;49m\u001b[43m,\u001b[49m\u001b[43m \u001b[49m\u001b[38;5;241;43m*\u001b[39;49m\u001b[38;5;241;43m*\u001b[39;49m\u001b[43mkwargs\u001b[49m\u001b[43m)\u001b[49m \u001b[38;5;28;01mas\u001b[39;00m dst:\n\u001b[1;32m     13\u001b[0m     \u001b[38;5;28;01mfor\u001b[39;00m i \u001b[38;5;129;01min\u001b[39;00m \u001b[38;5;28mrange\u001b[39m(\u001b[38;5;241m1\u001b[39m, src\u001b[38;5;241m.\u001b[39mcount \u001b[38;5;241m+\u001b[39m \u001b[38;5;241m1\u001b[39m):\n\u001b[1;32m     14\u001b[0m         reproject(\n\u001b[1;32m     15\u001b[0m             source\u001b[38;5;241m=\u001b[39mrio\u001b[38;5;241m.\u001b[39mband(src, i),\n\u001b[1;32m     16\u001b[0m             destination\u001b[38;5;241m=\u001b[39mrio\u001b[38;5;241m.\u001b[39mband(dst, i),\n\u001b[0;32m   (...)\u001b[0m\n\u001b[1;32m     20\u001b[0m             dst_crs\u001b[38;5;241m=\u001b[39mdst_crs,\n\u001b[1;32m     21\u001b[0m             resampling\u001b[38;5;241m=\u001b[39mResampling\u001b[38;5;241m.\u001b[39mnearest)\n",
      "File \u001b[0;32m~/.conda/envs/ox/lib/python3.12/site-packages/rasterio/env.py:451\u001b[0m, in \u001b[0;36mensure_env_with_credentials.<locals>.wrapper\u001b[0;34m(*args, **kwds)\u001b[0m\n\u001b[1;32m    448\u001b[0m     session \u001b[38;5;241m=\u001b[39m DummySession()\n\u001b[1;32m    450\u001b[0m \u001b[38;5;28;01mwith\u001b[39;00m env_ctor(session\u001b[38;5;241m=\u001b[39msession):\n\u001b[0;32m--> 451\u001b[0m     \u001b[38;5;28;01mreturn\u001b[39;00m \u001b[43mf\u001b[49m\u001b[43m(\u001b[49m\u001b[38;5;241;43m*\u001b[39;49m\u001b[43margs\u001b[49m\u001b[43m,\u001b[49m\u001b[43m \u001b[49m\u001b[38;5;241;43m*\u001b[39;49m\u001b[38;5;241;43m*\u001b[39;49m\u001b[43mkwds\u001b[49m\u001b[43m)\u001b[49m\n",
      "File \u001b[0;32m~/.conda/envs/ox/lib/python3.12/site-packages/rasterio/__init__.py:314\u001b[0m, in \u001b[0;36mopen\u001b[0;34m(fp, mode, driver, width, height, count, crs, transform, dtype, nodata, sharing, **kwargs)\u001b[0m\n\u001b[1;32m    312\u001b[0m writer \u001b[38;5;241m=\u001b[39m get_writer_for_driver(driver)\n\u001b[1;32m    313\u001b[0m \u001b[38;5;28;01mif\u001b[39;00m writer \u001b[38;5;129;01mis\u001b[39;00m \u001b[38;5;129;01mnot\u001b[39;00m \u001b[38;5;28;01mNone\u001b[39;00m:\n\u001b[0;32m--> 314\u001b[0m     dataset \u001b[38;5;241m=\u001b[39m \u001b[43mwriter\u001b[49m\u001b[43m(\u001b[49m\n\u001b[1;32m    315\u001b[0m \u001b[43m        \u001b[49m\u001b[43mpath\u001b[49m\u001b[43m,\u001b[49m\n\u001b[1;32m    316\u001b[0m \u001b[43m        \u001b[49m\u001b[43mmode\u001b[49m\u001b[43m,\u001b[49m\n\u001b[1;32m    317\u001b[0m \u001b[43m        \u001b[49m\u001b[43mdriver\u001b[49m\u001b[38;5;241;43m=\u001b[39;49m\u001b[43mdriver\u001b[49m\u001b[43m,\u001b[49m\n\u001b[1;32m    318\u001b[0m \u001b[43m        \u001b[49m\u001b[43mwidth\u001b[49m\u001b[38;5;241;43m=\u001b[39;49m\u001b[43mwidth\u001b[49m\u001b[43m,\u001b[49m\n\u001b[1;32m    319\u001b[0m \u001b[43m        \u001b[49m\u001b[43mheight\u001b[49m\u001b[38;5;241;43m=\u001b[39;49m\u001b[43mheight\u001b[49m\u001b[43m,\u001b[49m\n\u001b[1;32m    320\u001b[0m \u001b[43m        \u001b[49m\u001b[43mcount\u001b[49m\u001b[38;5;241;43m=\u001b[39;49m\u001b[43mcount\u001b[49m\u001b[43m,\u001b[49m\n\u001b[1;32m    321\u001b[0m \u001b[43m        \u001b[49m\u001b[43mcrs\u001b[49m\u001b[38;5;241;43m=\u001b[39;49m\u001b[43mcrs\u001b[49m\u001b[43m,\u001b[49m\n\u001b[1;32m    322\u001b[0m \u001b[43m        \u001b[49m\u001b[43mtransform\u001b[49m\u001b[38;5;241;43m=\u001b[39;49m\u001b[43mtransform\u001b[49m\u001b[43m,\u001b[49m\n\u001b[1;32m    323\u001b[0m \u001b[43m        \u001b[49m\u001b[43mdtype\u001b[49m\u001b[38;5;241;43m=\u001b[39;49m\u001b[43mdtype\u001b[49m\u001b[43m,\u001b[49m\n\u001b[1;32m    324\u001b[0m \u001b[43m        \u001b[49m\u001b[43mnodata\u001b[49m\u001b[38;5;241;43m=\u001b[39;49m\u001b[43mnodata\u001b[49m\u001b[43m,\u001b[49m\n\u001b[1;32m    325\u001b[0m \u001b[43m        \u001b[49m\u001b[43msharing\u001b[49m\u001b[38;5;241;43m=\u001b[39;49m\u001b[43msharing\u001b[49m\u001b[43m,\u001b[49m\n\u001b[1;32m    326\u001b[0m \u001b[43m        \u001b[49m\u001b[38;5;241;43m*\u001b[39;49m\u001b[38;5;241;43m*\u001b[39;49m\u001b[43mkwargs\u001b[49m\n\u001b[1;32m    327\u001b[0m \u001b[43m    \u001b[49m\u001b[43m)\u001b[49m\n\u001b[1;32m    328\u001b[0m \u001b[38;5;28;01melse\u001b[39;00m:\n\u001b[1;32m    329\u001b[0m     \u001b[38;5;28;01mraise\u001b[39;00m DriverCapabilityError(\n\u001b[1;32m    330\u001b[0m         \u001b[38;5;124m\"\u001b[39m\u001b[38;5;124mWriter does not exist for driver: \u001b[39m\u001b[38;5;132;01m%s\u001b[39;00m\u001b[38;5;124m\"\u001b[39m \u001b[38;5;241m%\u001b[39m \u001b[38;5;28mstr\u001b[39m(driver)\n\u001b[1;32m    331\u001b[0m     )\n",
      "File \u001b[0;32mrasterio/_io.pyx:1491\u001b[0m, in \u001b[0;36mrasterio._io.DatasetWriterBase.__init__\u001b[0;34m()\u001b[0m\n",
      "\u001b[0;31mRasterioIOError\u001b[0m: /home/jupyter-wb514197/data/market-access/fji/WP_2020_1km_proj.tif: Free disk space available is 1664895000576 bytes, whereas 3874574475960 are at least necessary. You can disable this check by defining the CHECK_DISK_FREE_SPACE configuration option to FALSE."
     ]
    }
   ],
   "source": [
    "with rio.open(wp_path) as src:\n",
    "    transform, width, height = calculate_default_transform(\n",
    "        src.crs, dst_crs, src.width, src.height, *src.bounds)\n",
    "    kwargs = src.meta.copy()\n",
    "    kwargs.update({\n",
    "        'crs': dst_crs,\n",
    "        'transform': transform,\n",
    "        'width': width,\n",
    "        'height': height\n",
    "    })\n",
    "    \n",
    "    with rio.open(join(scratch_dir, f\"WP_2020_1km_proj.tif\"), 'w', **kwargs) as dst:\n",
    "        for i in range(1, src.count + 1):\n",
    "            reproject(\n",
    "                source=rio.band(src, i),\n",
    "                destination=rio.band(dst, i),\n",
    "                src_transform=src.transform,\n",
    "                src_crs=src.crs,\n",
    "                dst_transform=transform,\n",
    "                dst_crs=dst_crs,\n",
    "                resampling=Resampling.nearest)"
   ]
  },
  {
   "cell_type": "markdown",
   "metadata": {},
   "source": [
    "Clip"
   ]
  },
  {
   "cell_type": "code",
   "execution_count": 46,
   "metadata": {},
   "outputs": [],
   "source": [
    "wp_proj_path = join(scratch_dir, f\"{iso}_ppp_2020_1km_Aggregated_UNadj_proj.tif\")\n",
    "pop_surf_proj = rio.open(wp_proj_path)"
   ]
  },
  {
   "cell_type": "code",
   "execution_count": 54,
   "metadata": {},
   "outputs": [],
   "source": [
    "adm0_fji = adm0.loc[adm0['ISO3']=='FJI'].copy()\n",
    "adm0_fji = adm0_fji.to_crs(dst_crs)"
   ]
  },
  {
   "cell_type": "code",
   "execution_count": 55,
   "metadata": {},
   "outputs": [],
   "source": [
    "out_pop_clip = join(scratch_dir, f\"WP_2020_1km_clip.tif\")\n",
    "rMisc.clipRaster(pop_surf_proj, adm0_fji, out_pop_clip, crop=False)"
   ]
  },
  {
   "cell_type": "code",
   "execution_count": 56,
   "metadata": {},
   "outputs": [],
   "source": [
    "pop_surf_clip = rio.open(out_pop_clip)"
   ]
  },
  {
   "cell_type": "code",
   "execution_count": 58,
   "metadata": {},
   "outputs": [
    {
     "data": {
      "text/plain": [
       "{'driver': 'GTiff',\n",
       " 'dtype': 'float32',\n",
       " 'nodata': -99999.0,\n",
       " 'width': 785,\n",
       " 'height': 1378,\n",
       " 'count': 1,\n",
       " 'crs': CRS.from_epsg(3460),\n",
       " 'transform': Affine(659.6981137784882, 0.0, 1800287.2032548701,\n",
       "        0.0, -659.6981137784883, 4499755.301166313)}"
      ]
     },
     "execution_count": 58,
     "metadata": {},
     "output_type": "execute_result"
    }
   ],
   "source": [
    "pop_surf_clip.meta"
   ]
  },
  {
   "cell_type": "code",
   "execution_count": 102,
   "metadata": {},
   "outputs": [
    {
     "name": "stdout",
     "output_type": "stream",
     "text": [
      "\u001b[0;31mSignature:\u001b[0m\n",
      "\u001b[0mreproject\u001b[0m\u001b[0;34m(\u001b[0m\u001b[0;34m\u001b[0m\n",
      "\u001b[0;34m\u001b[0m    \u001b[0msource\u001b[0m\u001b[0;34m,\u001b[0m\u001b[0;34m\u001b[0m\n",
      "\u001b[0;34m\u001b[0m    \u001b[0mdestination\u001b[0m\u001b[0;34m=\u001b[0m\u001b[0;32mNone\u001b[0m\u001b[0;34m,\u001b[0m\u001b[0;34m\u001b[0m\n",
      "\u001b[0;34m\u001b[0m    \u001b[0msrc_transform\u001b[0m\u001b[0;34m=\u001b[0m\u001b[0;32mNone\u001b[0m\u001b[0;34m,\u001b[0m\u001b[0;34m\u001b[0m\n",
      "\u001b[0;34m\u001b[0m    \u001b[0mgcps\u001b[0m\u001b[0;34m=\u001b[0m\u001b[0;32mNone\u001b[0m\u001b[0;34m,\u001b[0m\u001b[0;34m\u001b[0m\n",
      "\u001b[0;34m\u001b[0m    \u001b[0mrpcs\u001b[0m\u001b[0;34m=\u001b[0m\u001b[0;32mNone\u001b[0m\u001b[0;34m,\u001b[0m\u001b[0;34m\u001b[0m\n",
      "\u001b[0;34m\u001b[0m    \u001b[0msrc_crs\u001b[0m\u001b[0;34m=\u001b[0m\u001b[0;32mNone\u001b[0m\u001b[0;34m,\u001b[0m\u001b[0;34m\u001b[0m\n",
      "\u001b[0;34m\u001b[0m    \u001b[0msrc_nodata\u001b[0m\u001b[0;34m=\u001b[0m\u001b[0;32mNone\u001b[0m\u001b[0;34m,\u001b[0m\u001b[0;34m\u001b[0m\n",
      "\u001b[0;34m\u001b[0m    \u001b[0mdst_transform\u001b[0m\u001b[0;34m=\u001b[0m\u001b[0;32mNone\u001b[0m\u001b[0;34m,\u001b[0m\u001b[0;34m\u001b[0m\n",
      "\u001b[0;34m\u001b[0m    \u001b[0mdst_crs\u001b[0m\u001b[0;34m=\u001b[0m\u001b[0;32mNone\u001b[0m\u001b[0;34m,\u001b[0m\u001b[0;34m\u001b[0m\n",
      "\u001b[0;34m\u001b[0m    \u001b[0mdst_nodata\u001b[0m\u001b[0;34m=\u001b[0m\u001b[0;32mNone\u001b[0m\u001b[0;34m,\u001b[0m\u001b[0;34m\u001b[0m\n",
      "\u001b[0;34m\u001b[0m    \u001b[0mdst_resolution\u001b[0m\u001b[0;34m=\u001b[0m\u001b[0;32mNone\u001b[0m\u001b[0;34m,\u001b[0m\u001b[0;34m\u001b[0m\n",
      "\u001b[0;34m\u001b[0m    \u001b[0msrc_alpha\u001b[0m\u001b[0;34m=\u001b[0m\u001b[0;36m0\u001b[0m\u001b[0;34m,\u001b[0m\u001b[0;34m\u001b[0m\n",
      "\u001b[0;34m\u001b[0m    \u001b[0mdst_alpha\u001b[0m\u001b[0;34m=\u001b[0m\u001b[0;36m0\u001b[0m\u001b[0;34m,\u001b[0m\u001b[0;34m\u001b[0m\n",
      "\u001b[0;34m\u001b[0m    \u001b[0mresampling\u001b[0m\u001b[0;34m=\u001b[0m\u001b[0;34m<\u001b[0m\u001b[0mResampling\u001b[0m\u001b[0;34m.\u001b[0m\u001b[0mnearest\u001b[0m\u001b[0;34m:\u001b[0m \u001b[0;36m0\u001b[0m\u001b[0;34m>\u001b[0m\u001b[0;34m,\u001b[0m\u001b[0;34m\u001b[0m\n",
      "\u001b[0;34m\u001b[0m    \u001b[0mnum_threads\u001b[0m\u001b[0;34m=\u001b[0m\u001b[0;36m1\u001b[0m\u001b[0;34m,\u001b[0m\u001b[0;34m\u001b[0m\n",
      "\u001b[0;34m\u001b[0m    \u001b[0minit_dest_nodata\u001b[0m\u001b[0;34m=\u001b[0m\u001b[0;32mTrue\u001b[0m\u001b[0;34m,\u001b[0m\u001b[0;34m\u001b[0m\n",
      "\u001b[0;34m\u001b[0m    \u001b[0mwarp_mem_limit\u001b[0m\u001b[0;34m=\u001b[0m\u001b[0;36m0\u001b[0m\u001b[0;34m,\u001b[0m\u001b[0;34m\u001b[0m\n",
      "\u001b[0;34m\u001b[0m    \u001b[0;34m**\u001b[0m\u001b[0mkwargs\u001b[0m\u001b[0;34m,\u001b[0m\u001b[0;34m\u001b[0m\n",
      "\u001b[0;34m\u001b[0m\u001b[0;34m)\u001b[0m\u001b[0;34m\u001b[0m\u001b[0;34m\u001b[0m\u001b[0m\n",
      "\u001b[0;31mDocstring:\u001b[0m\n",
      "Reproject a source raster to a destination raster.\n",
      "\n",
      "If the source and destination are ndarrays, coordinate reference\n",
      "system definitions and affine transformation parameters or ground\n",
      "control points (gcps) are required for reprojection.\n",
      "\n",
      "If the source and destination are rasterio Bands, shorthand for\n",
      "bands of datasets on disk, the coordinate reference systems and\n",
      "transforms or GCPs will be read from the appropriate datasets.\n",
      "\n",
      "Parameters\n",
      "------------\n",
      "source: ndarray or Band\n",
      "    The source is a 2 or 3-D ndarray, or a single or a multiple\n",
      "    Rasterio Band object. The dimensionality of source\n",
      "    and destination must match, i.e., for multiband reprojection\n",
      "    the lengths of the first axes of the source and destination\n",
      "    must be the same.\n",
      "destination: ndarray or Band, optional\n",
      "    The destination is a 2 or 3-D ndarray, or a single or a multiple\n",
      "    Rasterio Band object. The dimensionality of source\n",
      "    and destination must match, i.e., for multiband reprojection\n",
      "    the lengths of the first axes of the source and destination\n",
      "    must be the same.\n",
      "src_transform: affine.Affine(), optional\n",
      "    Source affine transformation. Required if source and\n",
      "    destination are ndarrays. Will be derived from source if it is\n",
      "    a rasterio Band. An error will be raised if this parameter is\n",
      "    defined together with gcps.\n",
      "gcps: sequence of GroundControlPoint, optional\n",
      "    Ground control points for the source. An error will be raised\n",
      "    if this parameter is defined together with src_transform or rpcs.\n",
      "rpcs: RPC or dict, optional\n",
      "    Rational polynomial coefficients for the source. An error will\n",
      "    be raised if this parameter is defined together with src_transform\n",
      "    or gcps.\n",
      "src_crs: CRS or dict, optional\n",
      "    Source coordinate reference system, in rasterio dict format.\n",
      "    Required if source and destination are ndarrays.\n",
      "    Will be derived from source if it is a rasterio Band.\n",
      "    Example: CRS({'init': 'EPSG:4326'})\n",
      "src_nodata: int or float, optional\n",
      "    The source nodata value. Pixels with this value will not be\n",
      "    used for interpolation. If not set, it will default to the\n",
      "    nodata value of the source image if a masked ndarray or\n",
      "    rasterio band, if available.\n",
      "dst_transform: affine.Affine(), optional\n",
      "    Target affine transformation. Required if source and\n",
      "    destination are ndarrays. Will be derived from target if it is\n",
      "    a rasterio Band.\n",
      "dst_crs: CRS or dict, optional\n",
      "    Target coordinate reference system. Required if source and\n",
      "    destination are ndarrays. Will be derived from target if it\n",
      "    is a rasterio Band.\n",
      "dst_nodata: int or float, optional\n",
      "    The nodata value used to initialize the destination; it will\n",
      "    remain in all areas not covered by the reprojected source.\n",
      "    Defaults to the nodata value of the destination image (if set),\n",
      "    the value of src_nodata, or 0 (GDAL default).\n",
      "dst_resolution: tuple (x resolution, y resolution) or float, optional\n",
      "    Target resolution, in units of target coordinate reference\n",
      "    system.\n",
      "src_alpha : int, optional\n",
      "    Index of a band to use as the alpha band when warping.\n",
      "dst_alpha : int, optional\n",
      "    Index of a band to use as the alpha band when warping.\n",
      "resampling: int, rasterio.enums.Resampling\n",
      "    Resampling method to use.\n",
      "    Default is :attr:`rasterio.enums.Resampling.nearest`.\n",
      "    An exception will be raised for a method not supported by the running\n",
      "    version of GDAL.\n",
      "num_threads : int, optional\n",
      "    The number of warp worker threads. Default: 1.\n",
      "init_dest_nodata: bool\n",
      "    Flag to specify initialization of nodata in destination;\n",
      "    prevents overwrite of previous warps. Defaults to True.\n",
      "warp_mem_limit : int, optional\n",
      "    The warp operation memory limit in MB. Larger values allow the\n",
      "    warp operation to be carried out in fewer chunks. The amount of\n",
      "    memory required to warp a 3-band uint8 2000 row x 2000 col\n",
      "    raster to a destination of the same size is approximately\n",
      "    56 MB. The default (0) means 64 MB with GDAL 2.2.\n",
      "kwargs:  dict, optional\n",
      "    Additional arguments passed to both the image to image\n",
      "    transformer :cpp:func:`GDALCreateGenImgProjTransformer2` (for example,\n",
      "    MAX_GCP_ORDER=2) and the :cpp:struct:`GDALWarpOptions` (for example,\n",
      "    INIT_DEST=NO_DATA).\n",
      "\n",
      "Returns\n",
      "---------\n",
      "destination: ndarray or Band\n",
      "    The transformed narray or Band.\n",
      "dst_transform: Affine\n",
      "    THe affine transformation matrix of the destination.\n",
      "\u001b[0;31mFile:\u001b[0m      ~/.conda/envs/ox/lib/python3.12/site-packages/rasterio/warp.py\n",
      "\u001b[0;31mType:\u001b[0m      function"
     ]
    }
   ],
   "source": [
    "reproject?"
   ]
  },
  {
   "cell_type": "code",
   "execution_count": 76,
   "metadata": {},
   "outputs": [],
   "source": [
    "with rio.open(out_travel_surface) as src:\n",
    "\n",
    "    with rio.open(out_pop_clip) as template:\n",
    "    # transform, width, height = calculate_default_transform(\n",
    "    #     src.crs, dst_crs, src.width, src.height, *src.bounds)\n",
    "        kwargs = template.meta.copy()\n",
    "        transform = template.transform\n",
    "        # kwargs.update({\n",
    "        #     'crs': dst_crs,\n",
    "        #     'transform': transform,\n",
    "        #     'width': width,\n",
    "        #     'height': height\n",
    "        # })\n",
    "\n",
    "    out_travel_surface_std = join(scratch_dir, f\"travel_surface_motorized_{iso}_STD.tif\")\n",
    "    with rio.open(out_travel_surface_std, 'w', **kwargs) as dst:\n",
    "        for i in range(1, src.count + 1):\n",
    "            reproject(\n",
    "                source=rio.band(src, i),\n",
    "                destination=rio.band(dst, i),\n",
    "                src_transform=src.transform,\n",
    "                src_crs=src.crs,\n",
    "                dst_transform=transform,\n",
    "                dst_crs=dst_crs,\n",
    "                resampling=Resampling.nearest)"
   ]
  },
  {
   "cell_type": "code",
   "execution_count": 68,
   "metadata": {},
   "outputs": [
    {
     "data": {
      "text/plain": [
       "[array([[[0.00316, 0.     , 0.     , ..., 0.     , 0.     , 0.     ],\n",
       "         [0.00316, 0.     , 0.     , ..., 0.     , 0.     , 0.     ],\n",
       "         [0.00316, 0.     , 0.     , ..., 0.     , 0.     , 0.     ],\n",
       "         ...,\n",
       "         [0.00316, 0.00316, 0.00316, ..., 0.00316, 0.00316, 0.00316],\n",
       "         [0.00316, 0.00316, 0.00316, ..., 0.00316, 0.00316, 0.00316],\n",
       "         [0.     , 0.     , 0.     , ..., 0.00316, 0.00316, 0.00316]]],\n",
       "       dtype=float32),\n",
       " {'driver': 'GTiff',\n",
       "  'dtype': 'float32',\n",
       "  'nodata': -9999.0,\n",
       "  'width': 785,\n",
       "  'height': 1378,\n",
       "  'count': 1,\n",
       "  'crs': CRS.from_epsg(3460),\n",
       "  'transform': Affine(659.6981137784882, 0.0, 1800287.2032548701,\n",
       "         0.0, -659.6981137784883, 4499755.301166313)}]"
      ]
     },
     "execution_count": 68,
     "metadata": {},
     "output_type": "execute_result"
    }
   ],
   "source": [
    "# out_pop_surface_std = join(expanduser(\"~\"), 'data', 'worldpop', \"WP_2020_1km_STD.tif\")\n",
    "# out_pop_surface_std = join(scratch_dir, \"WP_2020_1km_STD.tif\")\n",
    "out_travel_surface_std = join(scratch_dir, f\"travel_surface_motorized_{iso}_STD.tif\")\n",
    "# rMisc.standardizeInputRasters(travel_surf, pop_surf_clip, out_travel_surface_std, resampling_type=\"nearest\")\n",
    "\n",
    "# rMisc.standardizeInputRasters(travel_surf, pop_surf_proj, out_travel_surface_std, resampling_type=\"nearest\")\n"
   ]
  },
  {
   "cell_type": "markdown",
   "metadata": {},
   "source": [
    "Align the population raster to the friction surface, ensuring that they have the same extent and resolution."
   ]
  },
  {
   "cell_type": "code",
   "execution_count": 77,
   "metadata": {},
   "outputs": [],
   "source": [
    "# out_pop_surface_std = join(expanduser(\"~\"), 'data', 'worldpop', \"WP_2020_1km_STD.tif\")\n",
    "# out_pop_surface_std = join(scratch_dir, \"WP_2020_1km_STD.tif\")\n",
    "# rMisc.standardizeInputRasters(pop_surf, travel_surf, out_pop_surface_std, resampling_type=\"nearest\")"
   ]
  },
  {
   "cell_type": "markdown",
   "metadata": {},
   "source": [
    "### Origins"
   ]
  },
  {
   "cell_type": "markdown",
   "metadata": {},
   "source": [
    "We prepare a standard grid using each cell from the 1km World Pop raster."
   ]
  },
  {
   "cell_type": "code",
   "execution_count": 132,
   "metadata": {},
   "outputs": [],
   "source": [
    "pop_surf = rio.open(out_pop_clip)\n",
    "pop = pop_surf.read(1, masked=False)"
   ]
  },
  {
   "cell_type": "code",
   "execution_count": 133,
   "metadata": {},
   "outputs": [
    {
     "data": {
      "image/png": "[encoded data removed]",
      "text/plain": [
       "<Figure size 600x800 with 1 Axes>"
      ]
     },
     "metadata": {},
     "output_type": "display_data"
    }
   ],
   "source": [
    "pop_copy = pop.copy()\n",
    "pop_copy[pop_copy==0] = np.nan\n",
    "pop_copy[pop_copy==-99999] = np.nan\n",
    "\n",
    "fig, ax = plt.subplots(figsize=(6,8))\n",
    "im = ax.imshow(pop_copy, norm=colors.PowerNorm(gamma=0.5), cmap='viridis')"
   ]
  },
  {
   "cell_type": "code",
   "execution_count": 88,
   "metadata": {},
   "outputs": [],
   "source": [
    "indices = list(np.ndindex(pop.shape))\n",
    "xys = [Point(pop_surf.xy(ind[0], ind[1])) for ind in indices]\n",
    "res_df = pd.DataFrame({\n",
    "    'spatial_index': indices, \n",
    "    'xy': xys, \n",
    "    'pop': pop.flatten()\n",
    "})\n",
    "res_df['pointid'] = res_df.index"
   ]
  },
  {
   "cell_type": "markdown",
   "metadata": {},
   "source": [
    "Create an MCP graph object from the friction surface."
   ]
  },
  {
   "cell_type": "code",
   "execution_count": 114,
   "metadata": {},
   "outputs": [],
   "source": [
    "travel_surf_std = rio.open(out_travel_surface_std)"
   ]
  },
  {
   "cell_type": "code",
   "execution_count": 115,
   "metadata": {},
   "outputs": [],
   "source": [
    "# convert friction surface to traversal time (lazily). Original data are\n",
    "#    are minutes to travel 1 m, so we will convert to \n",
    "#    minutes to cross the cell. This could be revised\n",
    "inG_data = travel_surf_std.read(1) * 1000 \n",
    "\n",
    "# Correct no data values. Not needed but good to check\n",
    "# inG_data[inG_data < 0] = 99999999\n",
    "# inG_data[inG_data < 0] = np.nan\n",
    "inG_data[inG_data < 0] = inG_data.max()\n",
    "mcp = graph.MCP_Geometric(inG_data)"
   ]
  },
  {
   "cell_type": "code",
   "execution_count": 116,
   "metadata": {},
   "outputs": [
    {
     "name": "stdout",
     "output_type": "stream",
     "text": [
      "Mean: 4.363716125488281\n",
      "Max: 150.3118133544922\n",
      "Min: 0.9230769276618958\n",
      "Std: 8.672630310058594\n"
     ]
    }
   ],
   "source": [
    "# descriptive stats for numpy array\n",
    "print(f\"Mean: {np.mean(inG_data)}\")\n",
    "print(f\"Max: {np.max(inG_data)}\")\n",
    "print(f\"Min: {np.min(inG_data)}\")\n",
    "print(f\"Std: {np.std(inG_data)}\")"
   ]
  },
  {
   "cell_type": "code",
   "execution_count": 117,
   "metadata": {},
   "outputs": [
    {
     "data": {
      "image/png": "[encoded data removed]",
      "text/plain": [
       "<Figure size 640x480 with 1 Axes>"
      ]
     },
     "metadata": {},
     "output_type": "display_data"
    },
    {
     "data": {
      "text/plain": [
       "<Axes: >"
      ]
     },
     "execution_count": 117,
     "metadata": {},
     "output_type": "execute_result"
    }
   ],
   "source": [
    "show(inG_data, norm=colors.PowerNorm(gamma=0.5), cmap='magma')"
   ]
  },
  {
   "cell_type": "markdown",
   "metadata": {},
   "source": [
    "## 2. Data Analysis"
   ]
  },
  {
   "cell_type": "code",
   "execution_count": 147,
   "metadata": {},
   "outputs": [
    {
     "data": {
      "text/plain": [
       "(1081730, 7)"
      ]
     },
     "execution_count": 147,
     "metadata": {},
     "output_type": "execute_result"
    }
   ],
   "source": [
    "len(res_df), len(dests)"
   ]
  },
  {
   "cell_type": "code",
   "execution_count": 148,
   "metadata": {},
   "outputs": [],
   "source": [
    "dests = dests.to_crs(dst_crs)"
   ]
  },
  {
   "cell_type": "markdown",
   "metadata": {},
   "source": [
    "Calculate the travel time from each grid cell to the nearest destination."
   ]
  },
  {
   "cell_type": "code",
   "execution_count": 149,
   "metadata": {},
   "outputs": [],
   "source": [
    "res = ma.calculate_travel_time(travel_surf_std, mcp, dests)[0]"
   ]
  },
  {
   "cell_type": "code",
   "execution_count": 150,
   "metadata": {},
   "outputs": [
    {
     "data": {
      "text/plain": [
       "array([[2590.59121746, 2589.28230256, 2587.97338767, ..., 2560.12322802,\n",
       "        2561.43214291, 2562.7410578 ],\n",
       "       [2587.43121737, 2586.12230248, 2584.81338759, ..., 2483.3873213 ,\n",
       "        2484.69623619, 2486.00515108],\n",
       "       [2584.27121728, 2582.96230239, 2581.6533875 , ..., 2480.22732121,\n",
       "        2481.53623611, 2482.845151  ],\n",
       "       ...,\n",
       "       [1459.25547082, 1457.94655593, 1456.63764104, ..., 2171.71698477,\n",
       "        2174.87698486, 2178.03698495],\n",
       "       [1462.41547091, 1461.10655602, 1459.79764113, ..., 2173.02589967,\n",
       "        2176.18589975, 2179.34589984],\n",
       "       [1539.15137763, 1537.84246274, 1536.53354785, ..., 2174.33481456,\n",
       "        2177.49481465, 2180.65481473]])"
      ]
     },
     "execution_count": 150,
     "metadata": {},
     "output_type": "execute_result"
    }
   ],
   "source": [
    "res"
   ]
  },
  {
   "cell_type": "code",
   "execution_count": 151,
   "metadata": {},
   "outputs": [
    {
     "data": {
      "text/plain": [
       "(1081730, 1081730)"
      ]
     },
     "execution_count": 151,
     "metadata": {},
     "output_type": "execute_result"
    }
   ],
   "source": [
    "len(res.flatten()), len(res_df)"
   ]
  },
  {
   "cell_type": "code",
   "execution_count": 152,
   "metadata": {},
   "outputs": [],
   "source": [
    "res_df.loc[:, 'tt_city_min'] = res.flatten()"
   ]
  },
  {
   "cell_type": "code",
   "execution_count": 134,
   "metadata": {},
   "outputs": [
    {
     "data": {
      "text/html": [
       "<div>\n",
       "<style scoped>\n",
       "    .dataframe tbody tr th:only-of-type {\n",
       "        vertical-align: middle;\n",
       "    }\n",
       "\n",
       "    .dataframe tbody tr th {\n",
       "        vertical-align: top;\n",
       "    }\n",
       "\n",
       "    .dataframe thead th {\n",
       "        text-align: right;\n",
       "    }\n",
       "</style>\n",
       "<table border=\"1\" class=\"dataframe\">\n",
       "  <thead>\n",
       "    <tr style=\"text-align: right;\">\n",
       "      <th></th>\n",
       "      <th>spatial_index</th>\n",
       "      <th>xy</th>\n",
       "      <th>pop</th>\n",
       "      <th>pointid</th>\n",
       "      <th>tt_city_min</th>\n",
       "    </tr>\n",
       "  </thead>\n",
       "  <tbody>\n",
       "    <tr>\n",
       "      <th>0</th>\n",
       "      <td>(0, 0)</td>\n",
       "      <td>POINT (1800617.0523117594 4499425.4521094235)</td>\n",
       "      <td>-99999.0</td>\n",
       "      <td>0</td>\n",
       "      <td>2590.591217</td>\n",
       "    </tr>\n",
       "    <tr>\n",
       "      <th>1</th>\n",
       "      <td>(0, 1)</td>\n",
       "      <td>POINT (1801276.7504255378 4499425.4521094235)</td>\n",
       "      <td>-99999.0</td>\n",
       "      <td>1</td>\n",
       "      <td>2589.282303</td>\n",
       "    </tr>\n",
       "    <tr>\n",
       "      <th>2</th>\n",
       "      <td>(0, 2)</td>\n",
       "      <td>POINT (1801936.4485393164 4499425.4521094235)</td>\n",
       "      <td>-99999.0</td>\n",
       "      <td>2</td>\n",
       "      <td>2587.973388</td>\n",
       "    </tr>\n",
       "  </tbody>\n",
       "</table>\n",
       "</div>"
      ],
      "text/plain": [
       "  spatial_index                                             xy      pop  \\\n",
       "0        (0, 0)  POINT (1800617.0523117594 4499425.4521094235) -99999.0   \n",
       "1        (0, 1)  POINT (1801276.7504255378 4499425.4521094235) -99999.0   \n",
       "2        (0, 2)  POINT (1801936.4485393164 4499425.4521094235) -99999.0   \n",
       "\n",
       "   pointid  tt_city_min  \n",
       "0        0  2590.591217  \n",
       "1        1  2589.282303  \n",
       "2        2  2587.973388  "
      ]
     },
     "execution_count": 134,
     "metadata": {},
     "output_type": "execute_result"
    }
   ],
   "source": [
    "res_df.head(3)"
   ]
  },
  {
   "cell_type": "code",
   "execution_count": 135,
   "metadata": {},
   "outputs": [],
   "source": [
    "# remove values where pop is 0 or nan\n",
    "res_df = res_df.loc[res_df['pop']!=0].copy()\n",
    "res_df = res_df.loc[~(res_df['pop'].isna())].copy()"
   ]
  },
  {
   "cell_type": "code",
   "execution_count": 136,
   "metadata": {},
   "outputs": [],
   "source": [
    "res_df.loc[:,'xy'] = res_df.loc[:,'xy'].apply(lambda x: Point(x))"
   ]
  },
  {
   "cell_type": "code",
   "execution_count": 146,
   "metadata": {},
   "outputs": [
    {
     "name": "stderr",
     "output_type": "stream",
     "text": [
      "/home/jupyter-wb514197/Repos/gostrocks/src/GOSTRocks/rasterMisc.py:52: SyntaxWarning: invalid escape sequence '\\W'\n",
      "  ''' Clip input raster\n",
      "/home/jupyter-wb514197/Repos/gostrocks/src/GOSTRocks/rasterMisc.py:88: SyntaxWarning: invalid escape sequence '\\T'\n",
      "  ''' Convert input geopandas dataframe into a raster file\n",
      "/home/jupyter-wb514197/Repos/gostrocks/src/GOSTRocks/rasterMisc.py:523: SyntaxWarning: invalid escape sequence '\\G'\n",
      "  exampleText = '''\n"
     ]
    },
    {
     "data": {
      "text/html": [
       "<div>\n",
       "<style scoped>\n",
       "    .dataframe tbody tr th:only-of-type {\n",
       "        vertical-align: middle;\n",
       "    }\n",
       "\n",
       "    .dataframe tbody tr th {\n",
       "        vertical-align: top;\n",
       "    }\n",
       "\n",
       "    .dataframe thead th {\n",
       "        text-align: right;\n",
       "    }\n",
       "</style>\n",
       "<table border=\"1\" class=\"dataframe\">\n",
       "  <thead>\n",
       "    <tr style=\"text-align: right;\">\n",
       "      <th></th>\n",
       "      <th>spatial_index</th>\n",
       "      <th>xy</th>\n",
       "      <th>pop</th>\n",
       "      <th>pointid</th>\n",
       "      <th>tt_city_min</th>\n",
       "    </tr>\n",
       "  </thead>\n",
       "  <tbody>\n",
       "    <tr>\n",
       "      <th>0</th>\n",
       "      <td>(0, 0)</td>\n",
       "      <td>POINT (1800617.0523117594 4499425.4521094235)</td>\n",
       "      <td>-99999.0</td>\n",
       "      <td>0</td>\n",
       "      <td>2590.591217</td>\n",
       "    </tr>\n",
       "    <tr>\n",
       "      <th>1</th>\n",
       "      <td>(0, 1)</td>\n",
       "      <td>POINT (1801276.7504255378 4499425.4521094235)</td>\n",
       "      <td>-99999.0</td>\n",
       "      <td>1</td>\n",
       "      <td>2589.282303</td>\n",
       "    </tr>\n",
       "    <tr>\n",
       "      <th>2</th>\n",
       "      <td>(0, 2)</td>\n",
       "      <td>POINT (1801936.4485393164 4499425.4521094235)</td>\n",
       "      <td>-99999.0</td>\n",
       "      <td>2</td>\n",
       "      <td>2587.973388</td>\n",
       "    </tr>\n",
       "    <tr>\n",
       "      <th>3</th>\n",
       "      <td>(0, 3)</td>\n",
       "      <td>POINT (1802596.1466530948 4499425.4521094235)</td>\n",
       "      <td>-99999.0</td>\n",
       "      <td>3</td>\n",
       "      <td>2586.664473</td>\n",
       "    </tr>\n",
       "    <tr>\n",
       "      <th>4</th>\n",
       "      <td>(0, 4)</td>\n",
       "      <td>POINT (1803255.8447668734 4499425.4521094235)</td>\n",
       "      <td>-99999.0</td>\n",
       "      <td>4</td>\n",
       "      <td>2585.355558</td>\n",
       "    </tr>\n",
       "    <tr>\n",
       "      <th>...</th>\n",
       "      <td>...</td>\n",
       "      <td>...</td>\n",
       "      <td>...</td>\n",
       "      <td>...</td>\n",
       "      <td>...</td>\n",
       "    </tr>\n",
       "    <tr>\n",
       "      <th>1081725</th>\n",
       "      <td>(1377, 780)</td>\n",
       "      <td>POINT (2315181.58105898 3591021.149436445)</td>\n",
       "      <td>-99999.0</td>\n",
       "      <td>1081725</td>\n",
       "      <td>2168.014814</td>\n",
       "    </tr>\n",
       "    <tr>\n",
       "      <th>1081726</th>\n",
       "      <td>(1377, 781)</td>\n",
       "      <td>POINT (2315841.2791727586 3591021.149436445)</td>\n",
       "      <td>-99999.0</td>\n",
       "      <td>1081726</td>\n",
       "      <td>2171.174814</td>\n",
       "    </tr>\n",
       "    <tr>\n",
       "      <th>1081727</th>\n",
       "      <td>(1377, 782)</td>\n",
       "      <td>POINT (2316500.977286537 3591021.149436445)</td>\n",
       "      <td>-99999.0</td>\n",
       "      <td>1081727</td>\n",
       "      <td>2174.334815</td>\n",
       "    </tr>\n",
       "    <tr>\n",
       "      <th>1081728</th>\n",
       "      <td>(1377, 783)</td>\n",
       "      <td>POINT (2317160.675400316 3591021.149436445)</td>\n",
       "      <td>-99999.0</td>\n",
       "      <td>1081728</td>\n",
       "      <td>2177.494815</td>\n",
       "    </tr>\n",
       "    <tr>\n",
       "      <th>1081729</th>\n",
       "      <td>(1377, 784)</td>\n",
       "      <td>POINT (2317820.373514094 3591021.149436445)</td>\n",
       "      <td>-99999.0</td>\n",
       "      <td>1081729</td>\n",
       "      <td>2180.654815</td>\n",
       "    </tr>\n",
       "  </tbody>\n",
       "</table>\n",
       "<p>1081730 rows × 5 columns</p>\n",
       "</div>"
      ],
      "text/plain": [
       "        spatial_index                                             xy      pop  \\\n",
       "0              (0, 0)  POINT (1800617.0523117594 4499425.4521094235) -99999.0   \n",
       "1              (0, 1)  POINT (1801276.7504255378 4499425.4521094235) -99999.0   \n",
       "2              (0, 2)  POINT (1801936.4485393164 4499425.4521094235) -99999.0   \n",
       "3              (0, 3)  POINT (1802596.1466530948 4499425.4521094235) -99999.0   \n",
       "4              (0, 4)  POINT (1803255.8447668734 4499425.4521094235) -99999.0   \n",
       "...               ...                                            ...      ...   \n",
       "1081725   (1377, 780)     POINT (2315181.58105898 3591021.149436445) -99999.0   \n",
       "1081726   (1377, 781)   POINT (2315841.2791727586 3591021.149436445) -99999.0   \n",
       "1081727   (1377, 782)    POINT (2316500.977286537 3591021.149436445) -99999.0   \n",
       "1081728   (1377, 783)    POINT (2317160.675400316 3591021.149436445) -99999.0   \n",
       "1081729   (1377, 784)    POINT (2317820.373514094 3591021.149436445) -99999.0   \n",
       "\n",
       "         pointid  tt_city_min  \n",
       "0              0  2590.591217  \n",
       "1              1  2589.282303  \n",
       "2              2  2587.973388  \n",
       "3              3  2586.664473  \n",
       "4              4  2585.355558  \n",
       "...          ...          ...  \n",
       "1081725  1081725  2168.014814  \n",
       "1081726  1081726  2171.174814  \n",
       "1081727  1081727  2174.334815  \n",
       "1081728  1081728  2177.494815  \n",
       "1081729  1081729  2180.654815  \n",
       "\n",
       "[1081730 rows x 5 columns]"
      ]
     },
     "execution_count": 146,
     "metadata": {},
     "output_type": "execute_result"
    }
   ],
   "source": [
    "res_df"
   ]
  },
  {
   "cell_type": "code",
   "execution_count": 139,
   "metadata": {},
   "outputs": [],
   "source": [
    "origins = gpd.GeoDataFrame(res_df, geometry='xy', crs=dst_crs) #'EPSG:4326'"
   ]
  },
  {
   "cell_type": "code",
   "execution_count": 140,
   "metadata": {},
   "outputs": [],
   "source": [
    "origins.rename(columns={'xy':'geometry'}, inplace=True)\n",
    "origins.set_geometry('geometry', inplace=True)"
   ]
  },
  {
   "cell_type": "code",
   "execution_count": 141,
   "metadata": {},
   "outputs": [],
   "source": [
    "# convert travel time to hours\n",
    "origins.loc[:, \"tt_city_min_hrs\"] = origins.loc[:, \"tt_city_min\"] / 60"
   ]
  },
  {
   "cell_type": "code",
   "execution_count": 142,
   "metadata": {},
   "outputs": [
    {
     "data": {
      "text/html": [
       "<div>\n",
       "<style scoped>\n",
       "    .dataframe tbody tr th:only-of-type {\n",
       "        vertical-align: middle;\n",
       "    }\n",
       "\n",
       "    .dataframe tbody tr th {\n",
       "        vertical-align: top;\n",
       "    }\n",
       "\n",
       "    .dataframe thead th {\n",
       "        text-align: right;\n",
       "    }\n",
       "</style>\n",
       "<table border=\"1\" class=\"dataframe\">\n",
       "  <thead>\n",
       "    <tr style=\"text-align: right;\">\n",
       "      <th></th>\n",
       "      <th>spatial_index</th>\n",
       "      <th>geometry</th>\n",
       "      <th>pop</th>\n",
       "      <th>pointid</th>\n",
       "      <th>tt_city_min</th>\n",
       "      <th>tt_city_min_hrs</th>\n",
       "    </tr>\n",
       "  </thead>\n",
       "  <tbody>\n",
       "    <tr>\n",
       "      <th>0</th>\n",
       "      <td>(0, 0)</td>\n",
       "      <td>POINT (1800617.052 4499425.452)</td>\n",
       "      <td>-99999.0</td>\n",
       "      <td>0</td>\n",
       "      <td>2590.591217</td>\n",
       "      <td>43.176520</td>\n",
       "    </tr>\n",
       "    <tr>\n",
       "      <th>1</th>\n",
       "      <td>(0, 1)</td>\n",
       "      <td>POINT (1801276.750 4499425.452)</td>\n",
       "      <td>-99999.0</td>\n",
       "      <td>1</td>\n",
       "      <td>2589.282303</td>\n",
       "      <td>43.154705</td>\n",
       "    </tr>\n",
       "  </tbody>\n",
       "</table>\n",
       "</div>"
      ],
      "text/plain": [
       "  spatial_index                         geometry      pop  pointid  \\\n",
       "0        (0, 0)  POINT (1800617.052 4499425.452) -99999.0        0   \n",
       "1        (0, 1)  POINT (1801276.750 4499425.452) -99999.0        1   \n",
       "\n",
       "   tt_city_min  tt_city_min_hrs  \n",
       "0  2590.591217        43.176520  \n",
       "1  2589.282303        43.154705  "
      ]
     },
     "execution_count": 142,
     "metadata": {},
     "output_type": "execute_result"
    }
   ],
   "source": [
    "origins.head(2)"
   ]
  },
  {
   "cell_type": "markdown",
   "metadata": {},
   "source": [
    "Save results as a raster"
   ]
  },
  {
   "cell_type": "code",
   "execution_count": 143,
   "metadata": {},
   "outputs": [],
   "source": [
    "tt_raster = join(scratch_dir, f\"tt_city_min_motorized_friction.tif\")"
   ]
  },
  {
   "cell_type": "code",
   "execution_count": 145,
   "metadata": {},
   "outputs": [],
   "source": [
    "rMisc.rasterizeDataFrame(\n",
    "    inD = origins,\n",
    "    outFile = tt_raster,\n",
    "    idField = 'tt_city_min_hrs',\n",
    "    templateRaster = out_travel_surface_std\n",
    ")"
   ]
  },
  {
   "cell_type": "markdown",
   "metadata": {},
   "source": [
    "## Map Results"
   ]
  },
  {
   "cell_type": "code",
   "execution_count": 62,
   "metadata": {},
   "outputs": [],
   "source": [
    "tt_rio = rio.open(tt_raster)"
   ]
  },
  {
   "cell_type": "code",
   "execution_count": 63,
   "metadata": {},
   "outputs": [
    {
     "data": {
      "text/plain": [
       "'/home/jupyter-wb514197/Repos/pacific-access'"
      ]
     },
     "execution_count": 63,
     "metadata": {},
     "output_type": "execute_result"
    }
   ],
   "source": [
    "os.getcwd()"
   ]
  },
  {
   "cell_type": "code",
   "execution_count": 64,
   "metadata": {},
   "outputs": [],
   "source": [
    "# ext_custom = tuple(np.add(ext, (-1, +1, -1, +1)))"
   ]
  },
  {
   "cell_type": "code",
   "execution_count": 65,
   "metadata": {},
   "outputs": [],
   "source": [
    "# ctx.providers"
   ]
  },
  {
   "cell_type": "code",
   "execution_count": 66,
   "metadata": {},
   "outputs": [],
   "source": [
    "# ctx.providers.Esri"
   ]
  },
  {
   "cell_type": "code",
   "execution_count": 67,
   "metadata": {},
   "outputs": [],
   "source": [
    "plt.rcParams[\"font.family\"] = \"Ubuntu Condensed\""
   ]
  },
  {
   "cell_type": "code",
   "execution_count": 75,
   "metadata": {},
   "outputs": [
    {
     "data": {
      "image/png": "[encoded data removed]",
      "text/plain": [
       "<Figure size 1200x1200 with 2 Axes>"
      ]
     },
     "metadata": {},
     "output_type": "display_data"
    }
   ],
   "source": [
    "figsize = (12, 12)\n",
    "fig, ax = plt.subplots(1, 1,  figsize = figsize)\n",
    "\n",
    "ax.set_title(\"Travel time to nearest city\", fontsize=16, horizontalalignment='right')\n",
    "plt.axis('off')\n",
    "ext = plotting_extent(tt_rio)\n",
    "im = ax.imshow(tt_rio.read(1), vmin=0, vmax=8, cmap='magma', extent=ext)\n",
    "dests.plot(ax=ax, facecolor='teal', edgecolor='white', markersize=100, alpha=0.75)\n",
    "# wpi.plot(ax=ax, facecolor='red', edgecolor='black', markersize=25, alpha=0.75)\n",
    "divider = make_axes_locatable(ax)\n",
    "cax = divider.append_axes('right', size=\"4%\", pad=0.1)\n",
    "cb = fig.colorbar(im, cax=cax, orientation='vertical')\n",
    "# ctx.add_basemap(ax, source=ctx.providers.CartoDB.Positron, crs='EPSG:4326', zorder=-1)\n",
    "ctx.add_basemap(ax, source=ctx.providers.Esri.WorldTerrain, crs='EPSG:4326', zorder=-1)\n",
    "txt=\"Cities are defined as clusters of at least 5,000 people with a density of at least 190 ppl. per sq. km.\"\n",
    "txt2 = \"Travel time is estimated using the motorized global friction surface (2020)\"\n",
    "\n",
    "plt.figtext(0.3, 0.08, txt, wrap=True, horizontalalignment='left', fontsize=10)\n",
    "plt.figtext(0.3, 0.06, txt2, wrap=True, horizontalalignment='left', fontsize=10)\n",
    "plt.figtext(0.63, 0.89, \"Travel Time (hrs.)\", wrap=False, fontsize=10)\n",
    "plt.savefig(f\"travel-time-friction-{iso}.png\", dpi=300, bbox_inches='tight', facecolor='white')"
   ]
  },
  {
   "cell_type": "code",
   "execution_count": null,
   "metadata": {},
   "outputs": [],
   "source": []
  },
  {
   "cell_type": "code",
   "execution_count": 125,
   "metadata": {},
   "outputs": [],
   "source": [
    "# import matplotlib.font_manager\n",
    "# flist = matplotlib.font_manager.get_font_names()\n",
    "# print(flist)"
   ]
  },
  {
   "cell_type": "code",
   "execution_count": null,
   "metadata": {},
   "outputs": [],
   "source": []
  }
 ],
 "metadata": {
  "kernelspec": {
   "display_name": "network",
   "language": "python",
   "name": "ox"
  },
  "language_info": {
   "codemirror_mode": {
    "name": "ipython",
    "version": 3
   },
   "file_extension": ".py",
   "mimetype": "text/x-python",
   "name": "python",
   "nbconvert_exporter": "python",
   "pygments_lexer": "ipython3",
   "version": "3.12.0"
  }
 },
 "nbformat": 4,
 "nbformat_minor": 4
}
