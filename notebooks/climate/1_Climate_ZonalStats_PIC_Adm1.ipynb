{
 "cells": [
  {
   "cell_type": "markdown",
   "metadata": {},
   "source": [
    "## Run zonal statistics for climate datasets hosted on AWS"
   ]
  },
  {
   "cell_type": "markdown",
   "metadata": {},
   "source": [
    "Import libraries"
   ]
  },
  {
   "cell_type": "code",
   "execution_count": 139,
   "metadata": {},
   "outputs": [],
   "source": [
    "from os.path import join, expanduser\n",
    "import os\n",
    "import boto3\n",
    "from rasterstats import zonal_stats\n",
    "import geopandas as gpd\n",
    "from botocore.config import Config\n",
    "from botocore import UNSIGNED\n",
    "import rasterio as rio\n",
    "import geopandas as gpd\n",
    "from rasterio import features\n",
    "from rasterio.plot import show\n",
    "from affine import Affine\n",
    "from shapely.geometry import box\n",
    "import pandas as pd\n",
    "from tqdm import tqdm"
   ]
  },
  {
   "cell_type": "markdown",
   "metadata": {},
   "source": [
    "Subnational boundaries have been curated from OCHA via the Humanitarian Data Exchange. "
   ]
  },
  {
   "cell_type": "code",
   "execution_count": 5,
   "metadata": {},
   "outputs": [],
   "source": [
    "adm1 = gpd.read_file(join(expanduser(\"~\"), 'data', 'pacific', 'admin', 'PIC_adm1.shp'))\n",
    "adm2 = gpd.read_file(join(expanduser(\"~\"), 'data', 'pacific', 'admin', 'PIC_adm2.shp'))"
   ]
  },
  {
   "cell_type": "code",
   "execution_count": 6,
   "metadata": {},
   "outputs": [],
   "source": [
    "client = boto3.client('s3')\n",
    "paginator = client.get_paginator('list_objects')"
   ]
  },
  {
   "cell_type": "markdown",
   "metadata": {},
   "source": [
    "List available datasets"
   ]
  },
  {
   "cell_type": "code",
   "execution_count": 7,
   "metadata": {},
   "outputs": [
    {
     "name": "stdout",
     "output_type": "stream",
     "text": [
      "climate/products/cdd-imerg/\n",
      "climate/products/cwd-imerg/\n",
      "climate/products/drydays-imerg/\n",
      "climate/products/spei-terraclimate/\n",
      "climate/products/spi-chirps/\n",
      "climate/products/spi-terraclimate/\n",
      "climate/products/wetdays-imerg/\n"
     ]
    }
   ],
   "source": [
    "result = paginator.paginate(Bucket='wbgdecinternal-ntl', Prefix='climate/products/', Delimiter='/')\n",
    "for prefix in result.search('CommonPrefixes'):\n",
    "    print(prefix.get('Prefix'))"
   ]
  },
  {
   "cell_type": "markdown",
   "metadata": {},
   "source": [
    "List directories within data folder"
   ]
  },
  {
   "cell_type": "code",
   "execution_count": 8,
   "metadata": {},
   "outputs": [
    {
     "name": "stdout",
     "output_type": "stream",
     "text": [
      "climate/products/cdd-imerg/cdd_1mm/\n",
      "climate/products/cdd-imerg/cdd_5mm/\n",
      "climate/products/cdd-imerg/cdd_annual_max_1mm/\n",
      "climate/products/cdd-imerg/cdd_annual_max_5mm/\n",
      "climate/products/cdd-imerg/cdd_monthly_max_1mm/\n",
      "climate/products/cdd-imerg/cdd_monthly_max_5mm/\n"
     ]
    }
   ],
   "source": [
    "result = paginator.paginate(Bucket='wbgdecinternal-ntl', Prefix='climate/products/cdd-imerg/', Delimiter='/')\n",
    "for prefix in result.search('CommonPrefixes'):\n",
    "    print(prefix.get('Prefix'))"
   ]
  },
  {
   "cell_type": "markdown",
   "metadata": {},
   "source": [
    "List and count raster files  \n",
    "**Consecutive Dry Days, 1mm**"
   ]
  },
  {
   "cell_type": "code",
   "execution_count": 82,
   "metadata": {},
   "outputs": [],
   "source": [
    "dataset = 'cdd-imerg'\n",
    "indicator = 'cdd_monthly_max'\n",
    "indicator_type = '1mm'\n",
    "prefix = indicator+\"_\"+indicator_type\n",
    "result = paginator.paginate(Bucket='wbgdecinternal-ntl', Prefix=f'climate/products/{dataset}/{prefix}/', Delimiter='/')"
   ]
  },
  {
   "cell_type": "code",
   "execution_count": 13,
   "metadata": {},
   "outputs": [
    {
     "name": "stdout",
     "output_type": "stream",
     "text": [
      "climate/products/cdd-imerg/cdd_monthly_max_1mm/wld_cli_cdd_1mm_monthly_max_imerg_200006.tif\n",
      "climate/products/cdd-imerg/cdd_monthly_max_1mm/wld_cli_cdd_1mm_monthly_max_imerg_200007.tif\n",
      "climate/products/cdd-imerg/cdd_monthly_max_1mm/wld_cli_cdd_1mm_monthly_max_imerg_200008.tif\n",
      "climate/products/cdd-imerg/cdd_monthly_max_1mm/wld_cli_cdd_1mm_monthly_max_imerg_200009.tif\n",
      "climate/products/cdd-imerg/cdd_monthly_max_1mm/wld_cli_cdd_1mm_monthly_max_imerg_200010.tif\n",
      "climate/products/cdd-imerg/cdd_monthly_max_1mm/wld_cli_cdd_1mm_monthly_max_imerg_200011.tif\n",
      "climate/products/cdd-imerg/cdd_monthly_max_1mm/wld_cli_cdd_1mm_monthly_max_imerg_200012.tif\n",
      "climate/products/cdd-imerg/cdd_monthly_max_1mm/wld_cli_cdd_1mm_monthly_max_imerg_200101.tif\n",
      "climate/products/cdd-imerg/cdd_monthly_max_1mm/wld_cli_cdd_1mm_monthly_max_imerg_200102.tif\n",
      "climate/products/cdd-imerg/cdd_monthly_max_1mm/wld_cli_cdd_1mm_monthly_max_imerg_200103.tif\n",
      "climate/products/cdd-imerg/cdd_monthly_max_1mm/wld_cli_cdd_1mm_monthly_max_imerg_200104.tif\n",
      "climate/products/cdd-imerg/cdd_monthly_max_1mm/wld_cli_cdd_1mm_monthly_max_imerg_200105.tif\n",
      "climate/products/cdd-imerg/cdd_monthly_max_1mm/wld_cli_cdd_1mm_monthly_max_imerg_200106.tif\n",
      "climate/products/cdd-imerg/cdd_monthly_max_1mm/wld_cli_cdd_1mm_monthly_max_imerg_200107.tif\n",
      "climate/products/cdd-imerg/cdd_monthly_max_1mm/wld_cli_cdd_1mm_monthly_max_imerg_200108.tif\n",
      "climate/products/cdd-imerg/cdd_monthly_max_1mm/wld_cli_cdd_1mm_monthly_max_imerg_200109.tif\n",
      "climate/products/cdd-imerg/cdd_monthly_max_1mm/wld_cli_cdd_1mm_monthly_max_imerg_200110.tif\n",
      "climate/products/cdd-imerg/cdd_monthly_max_1mm/wld_cli_cdd_1mm_monthly_max_imerg_200111.tif\n",
      "climate/products/cdd-imerg/cdd_monthly_max_1mm/wld_cli_cdd_1mm_monthly_max_imerg_200112.tif\n",
      "climate/products/cdd-imerg/cdd_monthly_max_1mm/wld_cli_cdd_1mm_monthly_max_imerg_200201.tif\n",
      "climate/products/cdd-imerg/cdd_monthly_max_1mm/wld_cli_cdd_1mm_monthly_max_imerg_200202.tif\n",
      "climate/products/cdd-imerg/cdd_monthly_max_1mm/wld_cli_cdd_1mm_monthly_max_imerg_200203.tif\n",
      "climate/products/cdd-imerg/cdd_monthly_max_1mm/wld_cli_cdd_1mm_monthly_max_imerg_200204.tif\n",
      "climate/products/cdd-imerg/cdd_monthly_max_1mm/wld_cli_cdd_1mm_monthly_max_imerg_200205.tif\n",
      "climate/products/cdd-imerg/cdd_monthly_max_1mm/wld_cli_cdd_1mm_monthly_max_imerg_200206.tif\n",
      "climate/products/cdd-imerg/cdd_monthly_max_1mm/wld_cli_cdd_1mm_monthly_max_imerg_200207.tif\n",
      "climate/products/cdd-imerg/cdd_monthly_max_1mm/wld_cli_cdd_1mm_monthly_max_imerg_200208.tif\n",
      "climate/products/cdd-imerg/cdd_monthly_max_1mm/wld_cli_cdd_1mm_monthly_max_imerg_200209.tif\n",
      "climate/products/cdd-imerg/cdd_monthly_max_1mm/wld_cli_cdd_1mm_monthly_max_imerg_200210.tif\n",
      "climate/products/cdd-imerg/cdd_monthly_max_1mm/wld_cli_cdd_1mm_monthly_max_imerg_200211.tif\n",
      "climate/products/cdd-imerg/cdd_monthly_max_1mm/wld_cli_cdd_1mm_monthly_max_imerg_200212.tif\n",
      "climate/products/cdd-imerg/cdd_monthly_max_1mm/wld_cli_cdd_1mm_monthly_max_imerg_200301.tif\n",
      "climate/products/cdd-imerg/cdd_monthly_max_1mm/wld_cli_cdd_1mm_monthly_max_imerg_200302.tif\n",
      "climate/products/cdd-imerg/cdd_monthly_max_1mm/wld_cli_cdd_1mm_monthly_max_imerg_200303.tif\n",
      "climate/products/cdd-imerg/cdd_monthly_max_1mm/wld_cli_cdd_1mm_monthly_max_imerg_200304.tif\n",
      "climate/products/cdd-imerg/cdd_monthly_max_1mm/wld_cli_cdd_1mm_monthly_max_imerg_200305.tif\n",
      "climate/products/cdd-imerg/cdd_monthly_max_1mm/wld_cli_cdd_1mm_monthly_max_imerg_200306.tif\n",
      "climate/products/cdd-imerg/cdd_monthly_max_1mm/wld_cli_cdd_1mm_monthly_max_imerg_200307.tif\n",
      "climate/products/cdd-imerg/cdd_monthly_max_1mm/wld_cli_cdd_1mm_monthly_max_imerg_200308.tif\n",
      "climate/products/cdd-imerg/cdd_monthly_max_1mm/wld_cli_cdd_1mm_monthly_max_imerg_200309.tif\n",
      "climate/products/cdd-imerg/cdd_monthly_max_1mm/wld_cli_cdd_1mm_monthly_max_imerg_200310.tif\n",
      "climate/products/cdd-imerg/cdd_monthly_max_1mm/wld_cli_cdd_1mm_monthly_max_imerg_200311.tif\n",
      "climate/products/cdd-imerg/cdd_monthly_max_1mm/wld_cli_cdd_1mm_monthly_max_imerg_200312.tif\n",
      "climate/products/cdd-imerg/cdd_monthly_max_1mm/wld_cli_cdd_1mm_monthly_max_imerg_200401.tif\n",
      "climate/products/cdd-imerg/cdd_monthly_max_1mm/wld_cli_cdd_1mm_monthly_max_imerg_200402.tif\n",
      "climate/products/cdd-imerg/cdd_monthly_max_1mm/wld_cli_cdd_1mm_monthly_max_imerg_200403.tif\n",
      "climate/products/cdd-imerg/cdd_monthly_max_1mm/wld_cli_cdd_1mm_monthly_max_imerg_200404.tif\n",
      "climate/products/cdd-imerg/cdd_monthly_max_1mm/wld_cli_cdd_1mm_monthly_max_imerg_200405.tif\n",
      "climate/products/cdd-imerg/cdd_monthly_max_1mm/wld_cli_cdd_1mm_monthly_max_imerg_200406.tif\n",
      "climate/products/cdd-imerg/cdd_monthly_max_1mm/wld_cli_cdd_1mm_monthly_max_imerg_200407.tif\n",
      "climate/products/cdd-imerg/cdd_monthly_max_1mm/wld_cli_cdd_1mm_monthly_max_imerg_200408.tif\n",
      "climate/products/cdd-imerg/cdd_monthly_max_1mm/wld_cli_cdd_1mm_monthly_max_imerg_200409.tif\n",
      "climate/products/cdd-imerg/cdd_monthly_max_1mm/wld_cli_cdd_1mm_monthly_max_imerg_200410.tif\n",
      "climate/products/cdd-imerg/cdd_monthly_max_1mm/wld_cli_cdd_1mm_monthly_max_imerg_200411.tif\n",
      "climate/products/cdd-imerg/cdd_monthly_max_1mm/wld_cli_cdd_1mm_monthly_max_imerg_200412.tif\n",
      "climate/products/cdd-imerg/cdd_monthly_max_1mm/wld_cli_cdd_1mm_monthly_max_imerg_200501.tif\n",
      "climate/products/cdd-imerg/cdd_monthly_max_1mm/wld_cli_cdd_1mm_monthly_max_imerg_200502.tif\n",
      "climate/products/cdd-imerg/cdd_monthly_max_1mm/wld_cli_cdd_1mm_monthly_max_imerg_200503.tif\n",
      "climate/products/cdd-imerg/cdd_monthly_max_1mm/wld_cli_cdd_1mm_monthly_max_imerg_200504.tif\n",
      "climate/products/cdd-imerg/cdd_monthly_max_1mm/wld_cli_cdd_1mm_monthly_max_imerg_200505.tif\n",
      "climate/products/cdd-imerg/cdd_monthly_max_1mm/wld_cli_cdd_1mm_monthly_max_imerg_200506.tif\n",
      "climate/products/cdd-imerg/cdd_monthly_max_1mm/wld_cli_cdd_1mm_monthly_max_imerg_200507.tif\n",
      "climate/products/cdd-imerg/cdd_monthly_max_1mm/wld_cli_cdd_1mm_monthly_max_imerg_200508.tif\n",
      "climate/products/cdd-imerg/cdd_monthly_max_1mm/wld_cli_cdd_1mm_monthly_max_imerg_200509.tif\n",
      "climate/products/cdd-imerg/cdd_monthly_max_1mm/wld_cli_cdd_1mm_monthly_max_imerg_200510.tif\n",
      "climate/products/cdd-imerg/cdd_monthly_max_1mm/wld_cli_cdd_1mm_monthly_max_imerg_200511.tif\n",
      "climate/products/cdd-imerg/cdd_monthly_max_1mm/wld_cli_cdd_1mm_monthly_max_imerg_200512.tif\n",
      "climate/products/cdd-imerg/cdd_monthly_max_1mm/wld_cli_cdd_1mm_monthly_max_imerg_200601.tif\n",
      "climate/products/cdd-imerg/cdd_monthly_max_1mm/wld_cli_cdd_1mm_monthly_max_imerg_200602.tif\n",
      "climate/products/cdd-imerg/cdd_monthly_max_1mm/wld_cli_cdd_1mm_monthly_max_imerg_200603.tif\n",
      "climate/products/cdd-imerg/cdd_monthly_max_1mm/wld_cli_cdd_1mm_monthly_max_imerg_200604.tif\n",
      "climate/products/cdd-imerg/cdd_monthly_max_1mm/wld_cli_cdd_1mm_monthly_max_imerg_200605.tif\n",
      "climate/products/cdd-imerg/cdd_monthly_max_1mm/wld_cli_cdd_1mm_monthly_max_imerg_200606.tif\n",
      "climate/products/cdd-imerg/cdd_monthly_max_1mm/wld_cli_cdd_1mm_monthly_max_imerg_200607.tif\n",
      "climate/products/cdd-imerg/cdd_monthly_max_1mm/wld_cli_cdd_1mm_monthly_max_imerg_200608.tif\n",
      "climate/products/cdd-imerg/cdd_monthly_max_1mm/wld_cli_cdd_1mm_monthly_max_imerg_200609.tif\n",
      "climate/products/cdd-imerg/cdd_monthly_max_1mm/wld_cli_cdd_1mm_monthly_max_imerg_200610.tif\n",
      "climate/products/cdd-imerg/cdd_monthly_max_1mm/wld_cli_cdd_1mm_monthly_max_imerg_200611.tif\n",
      "climate/products/cdd-imerg/cdd_monthly_max_1mm/wld_cli_cdd_1mm_monthly_max_imerg_200612.tif\n",
      "climate/products/cdd-imerg/cdd_monthly_max_1mm/wld_cli_cdd_1mm_monthly_max_imerg_200701.tif\n",
      "climate/products/cdd-imerg/cdd_monthly_max_1mm/wld_cli_cdd_1mm_monthly_max_imerg_200702.tif\n",
      "climate/products/cdd-imerg/cdd_monthly_max_1mm/wld_cli_cdd_1mm_monthly_max_imerg_200703.tif\n",
      "climate/products/cdd-imerg/cdd_monthly_max_1mm/wld_cli_cdd_1mm_monthly_max_imerg_200704.tif\n",
      "climate/products/cdd-imerg/cdd_monthly_max_1mm/wld_cli_cdd_1mm_monthly_max_imerg_200705.tif\n",
      "climate/products/cdd-imerg/cdd_monthly_max_1mm/wld_cli_cdd_1mm_monthly_max_imerg_200706.tif\n",
      "climate/products/cdd-imerg/cdd_monthly_max_1mm/wld_cli_cdd_1mm_monthly_max_imerg_200707.tif\n",
      "climate/products/cdd-imerg/cdd_monthly_max_1mm/wld_cli_cdd_1mm_monthly_max_imerg_200708.tif\n",
      "climate/products/cdd-imerg/cdd_monthly_max_1mm/wld_cli_cdd_1mm_monthly_max_imerg_200709.tif\n",
      "climate/products/cdd-imerg/cdd_monthly_max_1mm/wld_cli_cdd_1mm_monthly_max_imerg_200710.tif\n",
      "climate/products/cdd-imerg/cdd_monthly_max_1mm/wld_cli_cdd_1mm_monthly_max_imerg_200711.tif\n",
      "climate/products/cdd-imerg/cdd_monthly_max_1mm/wld_cli_cdd_1mm_monthly_max_imerg_200712.tif\n",
      "climate/products/cdd-imerg/cdd_monthly_max_1mm/wld_cli_cdd_1mm_monthly_max_imerg_200801.tif\n",
      "climate/products/cdd-imerg/cdd_monthly_max_1mm/wld_cli_cdd_1mm_monthly_max_imerg_200802.tif\n",
      "climate/products/cdd-imerg/cdd_monthly_max_1mm/wld_cli_cdd_1mm_monthly_max_imerg_200803.tif\n",
      "climate/products/cdd-imerg/cdd_monthly_max_1mm/wld_cli_cdd_1mm_monthly_max_imerg_200804.tif\n",
      "climate/products/cdd-imerg/cdd_monthly_max_1mm/wld_cli_cdd_1mm_monthly_max_imerg_200805.tif\n",
      "climate/products/cdd-imerg/cdd_monthly_max_1mm/wld_cli_cdd_1mm_monthly_max_imerg_200806.tif\n",
      "climate/products/cdd-imerg/cdd_monthly_max_1mm/wld_cli_cdd_1mm_monthly_max_imerg_200807.tif\n",
      "climate/products/cdd-imerg/cdd_monthly_max_1mm/wld_cli_cdd_1mm_monthly_max_imerg_200808.tif\n",
      "climate/products/cdd-imerg/cdd_monthly_max_1mm/wld_cli_cdd_1mm_monthly_max_imerg_200809.tif\n",
      "climate/products/cdd-imerg/cdd_monthly_max_1mm/wld_cli_cdd_1mm_monthly_max_imerg_200810.tif\n",
      "climate/products/cdd-imerg/cdd_monthly_max_1mm/wld_cli_cdd_1mm_monthly_max_imerg_200811.tif\n",
      "climate/products/cdd-imerg/cdd_monthly_max_1mm/wld_cli_cdd_1mm_monthly_max_imerg_200812.tif\n",
      "climate/products/cdd-imerg/cdd_monthly_max_1mm/wld_cli_cdd_1mm_monthly_max_imerg_200901.tif\n",
      "climate/products/cdd-imerg/cdd_monthly_max_1mm/wld_cli_cdd_1mm_monthly_max_imerg_200902.tif\n",
      "climate/products/cdd-imerg/cdd_monthly_max_1mm/wld_cli_cdd_1mm_monthly_max_imerg_200903.tif\n",
      "climate/products/cdd-imerg/cdd_monthly_max_1mm/wld_cli_cdd_1mm_monthly_max_imerg_200904.tif\n",
      "climate/products/cdd-imerg/cdd_monthly_max_1mm/wld_cli_cdd_1mm_monthly_max_imerg_200905.tif\n",
      "climate/products/cdd-imerg/cdd_monthly_max_1mm/wld_cli_cdd_1mm_monthly_max_imerg_200906.tif\n",
      "climate/products/cdd-imerg/cdd_monthly_max_1mm/wld_cli_cdd_1mm_monthly_max_imerg_200907.tif\n",
      "climate/products/cdd-imerg/cdd_monthly_max_1mm/wld_cli_cdd_1mm_monthly_max_imerg_200908.tif\n",
      "climate/products/cdd-imerg/cdd_monthly_max_1mm/wld_cli_cdd_1mm_monthly_max_imerg_200909.tif\n",
      "climate/products/cdd-imerg/cdd_monthly_max_1mm/wld_cli_cdd_1mm_monthly_max_imerg_200910.tif\n",
      "climate/products/cdd-imerg/cdd_monthly_max_1mm/wld_cli_cdd_1mm_monthly_max_imerg_200911.tif\n",
      "climate/products/cdd-imerg/cdd_monthly_max_1mm/wld_cli_cdd_1mm_monthly_max_imerg_200912.tif\n",
      "climate/products/cdd-imerg/cdd_monthly_max_1mm/wld_cli_cdd_1mm_monthly_max_imerg_201001.tif\n",
      "climate/products/cdd-imerg/cdd_monthly_max_1mm/wld_cli_cdd_1mm_monthly_max_imerg_201002.tif\n",
      "climate/products/cdd-imerg/cdd_monthly_max_1mm/wld_cli_cdd_1mm_monthly_max_imerg_201003.tif\n",
      "climate/products/cdd-imerg/cdd_monthly_max_1mm/wld_cli_cdd_1mm_monthly_max_imerg_201004.tif\n",
      "climate/products/cdd-imerg/cdd_monthly_max_1mm/wld_cli_cdd_1mm_monthly_max_imerg_201005.tif\n",
      "climate/products/cdd-imerg/cdd_monthly_max_1mm/wld_cli_cdd_1mm_monthly_max_imerg_201006.tif\n",
      "climate/products/cdd-imerg/cdd_monthly_max_1mm/wld_cli_cdd_1mm_monthly_max_imerg_201007.tif\n",
      "climate/products/cdd-imerg/cdd_monthly_max_1mm/wld_cli_cdd_1mm_monthly_max_imerg_201008.tif\n",
      "climate/products/cdd-imerg/cdd_monthly_max_1mm/wld_cli_cdd_1mm_monthly_max_imerg_201009.tif\n",
      "climate/products/cdd-imerg/cdd_monthly_max_1mm/wld_cli_cdd_1mm_monthly_max_imerg_201010.tif\n",
      "climate/products/cdd-imerg/cdd_monthly_max_1mm/wld_cli_cdd_1mm_monthly_max_imerg_201011.tif\n",
      "climate/products/cdd-imerg/cdd_monthly_max_1mm/wld_cli_cdd_1mm_monthly_max_imerg_201012.tif\n",
      "climate/products/cdd-imerg/cdd_monthly_max_1mm/wld_cli_cdd_1mm_monthly_max_imerg_201101.tif\n",
      "climate/products/cdd-imerg/cdd_monthly_max_1mm/wld_cli_cdd_1mm_monthly_max_imerg_201102.tif\n",
      "climate/products/cdd-imerg/cdd_monthly_max_1mm/wld_cli_cdd_1mm_monthly_max_imerg_201103.tif\n",
      "climate/products/cdd-imerg/cdd_monthly_max_1mm/wld_cli_cdd_1mm_monthly_max_imerg_201104.tif\n",
      "climate/products/cdd-imerg/cdd_monthly_max_1mm/wld_cli_cdd_1mm_monthly_max_imerg_201105.tif\n",
      "climate/products/cdd-imerg/cdd_monthly_max_1mm/wld_cli_cdd_1mm_monthly_max_imerg_201106.tif\n",
      "climate/products/cdd-imerg/cdd_monthly_max_1mm/wld_cli_cdd_1mm_monthly_max_imerg_201107.tif\n",
      "climate/products/cdd-imerg/cdd_monthly_max_1mm/wld_cli_cdd_1mm_monthly_max_imerg_201108.tif\n",
      "climate/products/cdd-imerg/cdd_monthly_max_1mm/wld_cli_cdd_1mm_monthly_max_imerg_201109.tif\n",
      "climate/products/cdd-imerg/cdd_monthly_max_1mm/wld_cli_cdd_1mm_monthly_max_imerg_201110.tif\n",
      "climate/products/cdd-imerg/cdd_monthly_max_1mm/wld_cli_cdd_1mm_monthly_max_imerg_201111.tif\n",
      "climate/products/cdd-imerg/cdd_monthly_max_1mm/wld_cli_cdd_1mm_monthly_max_imerg_201112.tif\n",
      "climate/products/cdd-imerg/cdd_monthly_max_1mm/wld_cli_cdd_1mm_monthly_max_imerg_201201.tif\n",
      "climate/products/cdd-imerg/cdd_monthly_max_1mm/wld_cli_cdd_1mm_monthly_max_imerg_201202.tif\n",
      "climate/products/cdd-imerg/cdd_monthly_max_1mm/wld_cli_cdd_1mm_monthly_max_imerg_201203.tif\n",
      "climate/products/cdd-imerg/cdd_monthly_max_1mm/wld_cli_cdd_1mm_monthly_max_imerg_201204.tif\n",
      "climate/products/cdd-imerg/cdd_monthly_max_1mm/wld_cli_cdd_1mm_monthly_max_imerg_201205.tif\n",
      "climate/products/cdd-imerg/cdd_monthly_max_1mm/wld_cli_cdd_1mm_monthly_max_imerg_201206.tif\n",
      "climate/products/cdd-imerg/cdd_monthly_max_1mm/wld_cli_cdd_1mm_monthly_max_imerg_201207.tif\n",
      "climate/products/cdd-imerg/cdd_monthly_max_1mm/wld_cli_cdd_1mm_monthly_max_imerg_201208.tif\n",
      "climate/products/cdd-imerg/cdd_monthly_max_1mm/wld_cli_cdd_1mm_monthly_max_imerg_201209.tif\n",
      "climate/products/cdd-imerg/cdd_monthly_max_1mm/wld_cli_cdd_1mm_monthly_max_imerg_201210.tif\n",
      "climate/products/cdd-imerg/cdd_monthly_max_1mm/wld_cli_cdd_1mm_monthly_max_imerg_201211.tif\n",
      "climate/products/cdd-imerg/cdd_monthly_max_1mm/wld_cli_cdd_1mm_monthly_max_imerg_201212.tif\n",
      "climate/products/cdd-imerg/cdd_monthly_max_1mm/wld_cli_cdd_1mm_monthly_max_imerg_201301.tif\n",
      "climate/products/cdd-imerg/cdd_monthly_max_1mm/wld_cli_cdd_1mm_monthly_max_imerg_201302.tif\n",
      "climate/products/cdd-imerg/cdd_monthly_max_1mm/wld_cli_cdd_1mm_monthly_max_imerg_201303.tif\n",
      "climate/products/cdd-imerg/cdd_monthly_max_1mm/wld_cli_cdd_1mm_monthly_max_imerg_201304.tif\n",
      "climate/products/cdd-imerg/cdd_monthly_max_1mm/wld_cli_cdd_1mm_monthly_max_imerg_201305.tif\n",
      "climate/products/cdd-imerg/cdd_monthly_max_1mm/wld_cli_cdd_1mm_monthly_max_imerg_201306.tif\n",
      "climate/products/cdd-imerg/cdd_monthly_max_1mm/wld_cli_cdd_1mm_monthly_max_imerg_201307.tif\n",
      "climate/products/cdd-imerg/cdd_monthly_max_1mm/wld_cli_cdd_1mm_monthly_max_imerg_201308.tif\n",
      "climate/products/cdd-imerg/cdd_monthly_max_1mm/wld_cli_cdd_1mm_monthly_max_imerg_201309.tif\n",
      "climate/products/cdd-imerg/cdd_monthly_max_1mm/wld_cli_cdd_1mm_monthly_max_imerg_201310.tif\n",
      "climate/products/cdd-imerg/cdd_monthly_max_1mm/wld_cli_cdd_1mm_monthly_max_imerg_201311.tif\n",
      "climate/products/cdd-imerg/cdd_monthly_max_1mm/wld_cli_cdd_1mm_monthly_max_imerg_201312.tif\n",
      "climate/products/cdd-imerg/cdd_monthly_max_1mm/wld_cli_cdd_1mm_monthly_max_imerg_201401.tif\n",
      "climate/products/cdd-imerg/cdd_monthly_max_1mm/wld_cli_cdd_1mm_monthly_max_imerg_201402.tif\n",
      "climate/products/cdd-imerg/cdd_monthly_max_1mm/wld_cli_cdd_1mm_monthly_max_imerg_201403.tif\n",
      "climate/products/cdd-imerg/cdd_monthly_max_1mm/wld_cli_cdd_1mm_monthly_max_imerg_201404.tif\n",
      "climate/products/cdd-imerg/cdd_monthly_max_1mm/wld_cli_cdd_1mm_monthly_max_imerg_201405.tif\n",
      "climate/products/cdd-imerg/cdd_monthly_max_1mm/wld_cli_cdd_1mm_monthly_max_imerg_201406.tif\n",
      "climate/products/cdd-imerg/cdd_monthly_max_1mm/wld_cli_cdd_1mm_monthly_max_imerg_201407.tif\n",
      "climate/products/cdd-imerg/cdd_monthly_max_1mm/wld_cli_cdd_1mm_monthly_max_imerg_201408.tif\n",
      "climate/products/cdd-imerg/cdd_monthly_max_1mm/wld_cli_cdd_1mm_monthly_max_imerg_201409.tif\n",
      "climate/products/cdd-imerg/cdd_monthly_max_1mm/wld_cli_cdd_1mm_monthly_max_imerg_201410.tif\n",
      "climate/products/cdd-imerg/cdd_monthly_max_1mm/wld_cli_cdd_1mm_monthly_max_imerg_201411.tif\n",
      "climate/products/cdd-imerg/cdd_monthly_max_1mm/wld_cli_cdd_1mm_monthly_max_imerg_201412.tif\n",
      "climate/products/cdd-imerg/cdd_monthly_max_1mm/wld_cli_cdd_1mm_monthly_max_imerg_201501.tif\n",
      "climate/products/cdd-imerg/cdd_monthly_max_1mm/wld_cli_cdd_1mm_monthly_max_imerg_201502.tif\n",
      "climate/products/cdd-imerg/cdd_monthly_max_1mm/wld_cli_cdd_1mm_monthly_max_imerg_201503.tif\n",
      "climate/products/cdd-imerg/cdd_monthly_max_1mm/wld_cli_cdd_1mm_monthly_max_imerg_201504.tif\n",
      "climate/products/cdd-imerg/cdd_monthly_max_1mm/wld_cli_cdd_1mm_monthly_max_imerg_201505.tif\n",
      "climate/products/cdd-imerg/cdd_monthly_max_1mm/wld_cli_cdd_1mm_monthly_max_imerg_201506.tif\n",
      "climate/products/cdd-imerg/cdd_monthly_max_1mm/wld_cli_cdd_1mm_monthly_max_imerg_201507.tif\n",
      "climate/products/cdd-imerg/cdd_monthly_max_1mm/wld_cli_cdd_1mm_monthly_max_imerg_201508.tif\n",
      "climate/products/cdd-imerg/cdd_monthly_max_1mm/wld_cli_cdd_1mm_monthly_max_imerg_201509.tif\n",
      "climate/products/cdd-imerg/cdd_monthly_max_1mm/wld_cli_cdd_1mm_monthly_max_imerg_201510.tif\n",
      "climate/products/cdd-imerg/cdd_monthly_max_1mm/wld_cli_cdd_1mm_monthly_max_imerg_201511.tif\n",
      "climate/products/cdd-imerg/cdd_monthly_max_1mm/wld_cli_cdd_1mm_monthly_max_imerg_201512.tif\n",
      "climate/products/cdd-imerg/cdd_monthly_max_1mm/wld_cli_cdd_1mm_monthly_max_imerg_201601.tif\n",
      "climate/products/cdd-imerg/cdd_monthly_max_1mm/wld_cli_cdd_1mm_monthly_max_imerg_201602.tif\n",
      "climate/products/cdd-imerg/cdd_monthly_max_1mm/wld_cli_cdd_1mm_monthly_max_imerg_201603.tif\n",
      "climate/products/cdd-imerg/cdd_monthly_max_1mm/wld_cli_cdd_1mm_monthly_max_imerg_201604.tif\n",
      "climate/products/cdd-imerg/cdd_monthly_max_1mm/wld_cli_cdd_1mm_monthly_max_imerg_201605.tif\n",
      "climate/products/cdd-imerg/cdd_monthly_max_1mm/wld_cli_cdd_1mm_monthly_max_imerg_201606.tif\n",
      "climate/products/cdd-imerg/cdd_monthly_max_1mm/wld_cli_cdd_1mm_monthly_max_imerg_201607.tif\n",
      "climate/products/cdd-imerg/cdd_monthly_max_1mm/wld_cli_cdd_1mm_monthly_max_imerg_201608.tif\n",
      "climate/products/cdd-imerg/cdd_monthly_max_1mm/wld_cli_cdd_1mm_monthly_max_imerg_201609.tif\n",
      "climate/products/cdd-imerg/cdd_monthly_max_1mm/wld_cli_cdd_1mm_monthly_max_imerg_201610.tif\n",
      "climate/products/cdd-imerg/cdd_monthly_max_1mm/wld_cli_cdd_1mm_monthly_max_imerg_201611.tif\n",
      "climate/products/cdd-imerg/cdd_monthly_max_1mm/wld_cli_cdd_1mm_monthly_max_imerg_201612.tif\n",
      "climate/products/cdd-imerg/cdd_monthly_max_1mm/wld_cli_cdd_1mm_monthly_max_imerg_201701.tif\n",
      "climate/products/cdd-imerg/cdd_monthly_max_1mm/wld_cli_cdd_1mm_monthly_max_imerg_201702.tif\n",
      "climate/products/cdd-imerg/cdd_monthly_max_1mm/wld_cli_cdd_1mm_monthly_max_imerg_201703.tif\n",
      "climate/products/cdd-imerg/cdd_monthly_max_1mm/wld_cli_cdd_1mm_monthly_max_imerg_201704.tif\n",
      "climate/products/cdd-imerg/cdd_monthly_max_1mm/wld_cli_cdd_1mm_monthly_max_imerg_201705.tif\n",
      "climate/products/cdd-imerg/cdd_monthly_max_1mm/wld_cli_cdd_1mm_monthly_max_imerg_201706.tif\n",
      "climate/products/cdd-imerg/cdd_monthly_max_1mm/wld_cli_cdd_1mm_monthly_max_imerg_201707.tif\n",
      "climate/products/cdd-imerg/cdd_monthly_max_1mm/wld_cli_cdd_1mm_monthly_max_imerg_201708.tif\n",
      "climate/products/cdd-imerg/cdd_monthly_max_1mm/wld_cli_cdd_1mm_monthly_max_imerg_201709.tif\n",
      "climate/products/cdd-imerg/cdd_monthly_max_1mm/wld_cli_cdd_1mm_monthly_max_imerg_201710.tif\n",
      "climate/products/cdd-imerg/cdd_monthly_max_1mm/wld_cli_cdd_1mm_monthly_max_imerg_201711.tif\n",
      "climate/products/cdd-imerg/cdd_monthly_max_1mm/wld_cli_cdd_1mm_monthly_max_imerg_201712.tif\n",
      "climate/products/cdd-imerg/cdd_monthly_max_1mm/wld_cli_cdd_1mm_monthly_max_imerg_201801.tif\n",
      "climate/products/cdd-imerg/cdd_monthly_max_1mm/wld_cli_cdd_1mm_monthly_max_imerg_201802.tif\n",
      "climate/products/cdd-imerg/cdd_monthly_max_1mm/wld_cli_cdd_1mm_monthly_max_imerg_201803.tif\n",
      "climate/products/cdd-imerg/cdd_monthly_max_1mm/wld_cli_cdd_1mm_monthly_max_imerg_201804.tif\n",
      "climate/products/cdd-imerg/cdd_monthly_max_1mm/wld_cli_cdd_1mm_monthly_max_imerg_201805.tif\n",
      "climate/products/cdd-imerg/cdd_monthly_max_1mm/wld_cli_cdd_1mm_monthly_max_imerg_201806.tif\n",
      "climate/products/cdd-imerg/cdd_monthly_max_1mm/wld_cli_cdd_1mm_monthly_max_imerg_201807.tif\n",
      "climate/products/cdd-imerg/cdd_monthly_max_1mm/wld_cli_cdd_1mm_monthly_max_imerg_201808.tif\n",
      "climate/products/cdd-imerg/cdd_monthly_max_1mm/wld_cli_cdd_1mm_monthly_max_imerg_201809.tif\n",
      "climate/products/cdd-imerg/cdd_monthly_max_1mm/wld_cli_cdd_1mm_monthly_max_imerg_201810.tif\n",
      "climate/products/cdd-imerg/cdd_monthly_max_1mm/wld_cli_cdd_1mm_monthly_max_imerg_201811.tif\n",
      "climate/products/cdd-imerg/cdd_monthly_max_1mm/wld_cli_cdd_1mm_monthly_max_imerg_201812.tif\n",
      "climate/products/cdd-imerg/cdd_monthly_max_1mm/wld_cli_cdd_1mm_monthly_max_imerg_201901.tif\n",
      "climate/products/cdd-imerg/cdd_monthly_max_1mm/wld_cli_cdd_1mm_monthly_max_imerg_201902.tif\n",
      "climate/products/cdd-imerg/cdd_monthly_max_1mm/wld_cli_cdd_1mm_monthly_max_imerg_201903.tif\n",
      "climate/products/cdd-imerg/cdd_monthly_max_1mm/wld_cli_cdd_1mm_monthly_max_imerg_201904.tif\n",
      "climate/products/cdd-imerg/cdd_monthly_max_1mm/wld_cli_cdd_1mm_monthly_max_imerg_201905.tif\n",
      "climate/products/cdd-imerg/cdd_monthly_max_1mm/wld_cli_cdd_1mm_monthly_max_imerg_201906.tif\n",
      "climate/products/cdd-imerg/cdd_monthly_max_1mm/wld_cli_cdd_1mm_monthly_max_imerg_201907.tif\n",
      "climate/products/cdd-imerg/cdd_monthly_max_1mm/wld_cli_cdd_1mm_monthly_max_imerg_201908.tif\n",
      "climate/products/cdd-imerg/cdd_monthly_max_1mm/wld_cli_cdd_1mm_monthly_max_imerg_201909.tif\n",
      "climate/products/cdd-imerg/cdd_monthly_max_1mm/wld_cli_cdd_1mm_monthly_max_imerg_201910.tif\n",
      "climate/products/cdd-imerg/cdd_monthly_max_1mm/wld_cli_cdd_1mm_monthly_max_imerg_201911.tif\n",
      "climate/products/cdd-imerg/cdd_monthly_max_1mm/wld_cli_cdd_1mm_monthly_max_imerg_201912.tif\n",
      "climate/products/cdd-imerg/cdd_monthly_max_1mm/wld_cli_cdd_1mm_monthly_max_imerg_202001.tif\n",
      "climate/products/cdd-imerg/cdd_monthly_max_1mm/wld_cli_cdd_1mm_monthly_max_imerg_202002.tif\n",
      "climate/products/cdd-imerg/cdd_monthly_max_1mm/wld_cli_cdd_1mm_monthly_max_imerg_202003.tif\n",
      "climate/products/cdd-imerg/cdd_monthly_max_1mm/wld_cli_cdd_1mm_monthly_max_imerg_202004.tif\n",
      "climate/products/cdd-imerg/cdd_monthly_max_1mm/wld_cli_cdd_1mm_monthly_max_imerg_202005.tif\n",
      "climate/products/cdd-imerg/cdd_monthly_max_1mm/wld_cli_cdd_1mm_monthly_max_imerg_202006.tif\n",
      "climate/products/cdd-imerg/cdd_monthly_max_1mm/wld_cli_cdd_1mm_monthly_max_imerg_202007.tif\n",
      "climate/products/cdd-imerg/cdd_monthly_max_1mm/wld_cli_cdd_1mm_monthly_max_imerg_202008.tif\n",
      "climate/products/cdd-imerg/cdd_monthly_max_1mm/wld_cli_cdd_1mm_monthly_max_imerg_202009.tif\n",
      "climate/products/cdd-imerg/cdd_monthly_max_1mm/wld_cli_cdd_1mm_monthly_max_imerg_202010.tif\n",
      "climate/products/cdd-imerg/cdd_monthly_max_1mm/wld_cli_cdd_1mm_monthly_max_imerg_202011.tif\n",
      "climate/products/cdd-imerg/cdd_monthly_max_1mm/wld_cli_cdd_1mm_monthly_max_imerg_202012.tif\n",
      "climate/products/cdd-imerg/cdd_monthly_max_1mm/wld_cli_cdd_1mm_monthly_max_imerg_202101.tif\n",
      "climate/products/cdd-imerg/cdd_monthly_max_1mm/wld_cli_cdd_1mm_monthly_max_imerg_202102.tif\n",
      "climate/products/cdd-imerg/cdd_monthly_max_1mm/wld_cli_cdd_1mm_monthly_max_imerg_202103.tif\n",
      "climate/products/cdd-imerg/cdd_monthly_max_1mm/wld_cli_cdd_1mm_monthly_max_imerg_202104.tif\n",
      "climate/products/cdd-imerg/cdd_monthly_max_1mm/wld_cli_cdd_1mm_monthly_max_imerg_202105.tif\n",
      "climate/products/cdd-imerg/cdd_monthly_max_1mm/wld_cli_cdd_1mm_monthly_max_imerg_202106.tif\n",
      "climate/products/cdd-imerg/cdd_monthly_max_1mm/wld_cli_cdd_1mm_monthly_max_imerg_202107.tif\n",
      "climate/products/cdd-imerg/cdd_monthly_max_1mm/wld_cli_cdd_1mm_monthly_max_imerg_202108.tif\n",
      "climate/products/cdd-imerg/cdd_monthly_max_1mm/wld_cli_cdd_1mm_monthly_max_imerg_202109.tif\n",
      "climate/products/cdd-imerg/cdd_monthly_max_1mm/wld_cli_cdd_1mm_monthly_max_imerg_202110.tif\n",
      "climate/products/cdd-imerg/cdd_monthly_max_1mm/wld_cli_cdd_1mm_monthly_max_imerg_202111.tif\n",
      "climate/products/cdd-imerg/cdd_monthly_max_1mm/wld_cli_cdd_1mm_monthly_max_imerg_202112.tif\n"
     ]
    }
   ],
   "source": [
    "n = 0\n",
    "for page in result:\n",
    "    for item in page['Contents']:\n",
    "        fname = item['Key']\n",
    "        if fname.endswith('.tif'):\n",
    "            print(fname)\n",
    "            url = 's3://wbgdecinternal-ntl/' + fname\n",
    "            date = fname[fname.find('.tif')-8:fname.find('.tif')]\n",
    "            n+=1\n",
    "#             data_rio = rio.open(url)\n",
    "n"
   ]
  },
  {
   "cell_type": "markdown",
   "metadata": {},
   "source": [
    "For each raster file, iterate through each admin 1 polygon, extract raster data, and run zonal statistics function"
   ]
  },
  {
   "cell_type": "code",
   "execution_count": 22,
   "metadata": {
    "scrolled": true
   },
   "outputs": [
    {
     "name": "stderr",
     "output_type": "stream",
     "text": [
      "\r",
      "  0%|          | 0/260 [00:00<?, ?it/s]"
     ]
    },
    {
     "name": "stdout",
     "output_type": "stream",
     "text": [
      "processing cdd_monthly_max_1mm, for 200006\n"
     ]
    },
    {
     "name": "stderr",
     "output_type": "stream",
     "text": [
      "\r",
      "  1%|          | 2/260 [00:05<12:16,  2.86s/it]"
     ]
    },
    {
     "name": "stdout",
     "output_type": "stream",
     "text": [
      "\tno intersect for 25 polygons\n",
      "processing cdd_monthly_max_1mm, for 200007\n"
     ]
    },
    {
     "name": "stderr",
     "output_type": "stream",
     "text": [
      "\r",
      "  1%|          | 3/260 [00:10<16:20,  3.81s/it]"
     ]
    },
    {
     "name": "stdout",
     "output_type": "stream",
     "text": [
      "\tno intersect for 25 polygons\n",
      "processing cdd_monthly_max_1mm, for 200008\n"
     ]
    },
    {
     "name": "stderr",
     "output_type": "stream",
     "text": [
      "\r",
      "  2%|▏         | 4/260 [00:16<18:25,  4.32s/it]"
     ]
    },
    {
     "name": "stdout",
     "output_type": "stream",
     "text": [
      "\tno intersect for 25 polygons\n",
      "processing cdd_monthly_max_1mm, for 200009\n"
     ]
    },
    {
     "name": "stderr",
     "output_type": "stream",
     "text": [
      "\r",
      "  2%|▏         | 5/260 [00:21<19:47,  4.66s/it]"
     ]
    },
    {
     "name": "stdout",
     "output_type": "stream",
     "text": [
      "\tno intersect for 25 polygons\n",
      "processing cdd_monthly_max_1mm, for 200010\n"
     ]
    },
    {
     "name": "stderr",
     "output_type": "stream",
     "text": [
      "\r",
      "  2%|▏         | 6/260 [00:26<20:21,  4.81s/it]"
     ]
    },
    {
     "name": "stdout",
     "output_type": "stream",
     "text": [
      "\tno intersect for 25 polygons\n",
      "processing cdd_monthly_max_1mm, for 200011\n"
     ]
    },
    {
     "name": "stderr",
     "output_type": "stream",
     "text": [
      "\r",
      "  3%|▎         | 7/260 [00:32<22:15,  5.28s/it]"
     ]
    },
    {
     "name": "stdout",
     "output_type": "stream",
     "text": [
      "\tno intersect for 25 polygons\n",
      "processing cdd_monthly_max_1mm, for 200012\n"
     ]
    },
    {
     "name": "stderr",
     "output_type": "stream",
     "text": [
      "\r",
      "  3%|▎         | 8/260 [00:38<23:03,  5.49s/it]"
     ]
    },
    {
     "name": "stdout",
     "output_type": "stream",
     "text": [
      "\tno intersect for 25 polygons\n",
      "processing cdd_monthly_max_1mm, for 200101\n"
     ]
    },
    {
     "name": "stderr",
     "output_type": "stream",
     "text": [
      "\r",
      "  3%|▎         | 9/260 [00:44<23:26,  5.60s/it]"
     ]
    },
    {
     "name": "stdout",
     "output_type": "stream",
     "text": [
      "\tno intersect for 25 polygons\n",
      "processing cdd_monthly_max_1mm, for 200102\n"
     ]
    },
    {
     "name": "stderr",
     "output_type": "stream",
     "text": [
      "\r",
      "  4%|▍         | 10/260 [00:50<23:26,  5.63s/it]"
     ]
    },
    {
     "name": "stdout",
     "output_type": "stream",
     "text": [
      "\tno intersect for 25 polygons\n",
      "processing cdd_monthly_max_1mm, for 200103\n"
     ]
    },
    {
     "name": "stderr",
     "output_type": "stream",
     "text": [
      "\r",
      "  4%|▍         | 11/260 [00:56<23:53,  5.76s/it]"
     ]
    },
    {
     "name": "stdout",
     "output_type": "stream",
     "text": [
      "\tno intersect for 25 polygons\n",
      "processing cdd_monthly_max_1mm, for 200104\n"
     ]
    },
    {
     "name": "stderr",
     "output_type": "stream",
     "text": [
      "\r",
      "  5%|▍         | 12/260 [01:02<23:50,  5.77s/it]"
     ]
    },
    {
     "name": "stdout",
     "output_type": "stream",
     "text": [
      "\tno intersect for 25 polygons\n",
      "processing cdd_monthly_max_1mm, for 200105\n"
     ]
    },
    {
     "name": "stderr",
     "output_type": "stream",
     "text": [
      "\r",
      "  5%|▌         | 13/260 [01:08<24:23,  5.93s/it]"
     ]
    },
    {
     "name": "stdout",
     "output_type": "stream",
     "text": [
      "\tno intersect for 25 polygons\n",
      "processing cdd_monthly_max_1mm, for 200106\n"
     ]
    },
    {
     "name": "stderr",
     "output_type": "stream",
     "text": [
      "\r",
      "  5%|▌         | 14/260 [01:14<24:50,  6.06s/it]"
     ]
    },
    {
     "name": "stdout",
     "output_type": "stream",
     "text": [
      "\tno intersect for 25 polygons\n",
      "processing cdd_monthly_max_1mm, for 200107\n"
     ]
    },
    {
     "name": "stderr",
     "output_type": "stream",
     "text": [
      "\r",
      "  6%|▌         | 15/260 [01:20<24:37,  6.03s/it]"
     ]
    },
    {
     "name": "stdout",
     "output_type": "stream",
     "text": [
      "\tno intersect for 25 polygons\n",
      "processing cdd_monthly_max_1mm, for 200108\n"
     ]
    },
    {
     "name": "stderr",
     "output_type": "stream",
     "text": [
      "\r",
      "  6%|▌         | 16/260 [01:25<23:31,  5.79s/it]"
     ]
    },
    {
     "name": "stdout",
     "output_type": "stream",
     "text": [
      "\tno intersect for 25 polygons\n",
      "processing cdd_monthly_max_1mm, for 200109\n"
     ]
    },
    {
     "name": "stderr",
     "output_type": "stream",
     "text": [
      "\r",
      "  7%|▋         | 17/260 [01:31<23:00,  5.68s/it]"
     ]
    },
    {
     "name": "stdout",
     "output_type": "stream",
     "text": [
      "\tno intersect for 25 polygons\n",
      "processing cdd_monthly_max_1mm, for 200110\n"
     ]
    },
    {
     "name": "stderr",
     "output_type": "stream",
     "text": [
      "\r",
      "  7%|▋         | 18/260 [01:36<22:36,  5.60s/it]"
     ]
    },
    {
     "name": "stdout",
     "output_type": "stream",
     "text": [
      "\tno intersect for 25 polygons\n",
      "processing cdd_monthly_max_1mm, for 200111\n"
     ]
    },
    {
     "name": "stderr",
     "output_type": "stream",
     "text": [
      "\r",
      "  7%|▋         | 19/260 [01:42<22:16,  5.55s/it]"
     ]
    },
    {
     "name": "stdout",
     "output_type": "stream",
     "text": [
      "\tno intersect for 25 polygons\n",
      "processing cdd_monthly_max_1mm, for 200112\n"
     ]
    },
    {
     "name": "stderr",
     "output_type": "stream",
     "text": [
      "\r",
      "  8%|▊         | 20/260 [01:47<22:11,  5.55s/it]"
     ]
    },
    {
     "name": "stdout",
     "output_type": "stream",
     "text": [
      "\tno intersect for 25 polygons\n",
      "processing cdd_monthly_max_1mm, for 200201\n"
     ]
    },
    {
     "name": "stderr",
     "output_type": "stream",
     "text": [
      "\r",
      "  8%|▊         | 21/260 [01:52<21:43,  5.45s/it]"
     ]
    },
    {
     "name": "stdout",
     "output_type": "stream",
     "text": [
      "\tno intersect for 25 polygons\n",
      "processing cdd_monthly_max_1mm, for 200202\n"
     ]
    },
    {
     "name": "stderr",
     "output_type": "stream",
     "text": [
      "\r",
      "  8%|▊         | 22/260 [01:58<21:36,  5.45s/it]"
     ]
    },
    {
     "name": "stdout",
     "output_type": "stream",
     "text": [
      "\tno intersect for 25 polygons\n",
      "processing cdd_monthly_max_1mm, for 200203\n"
     ]
    },
    {
     "name": "stderr",
     "output_type": "stream",
     "text": [
      "\r",
      "  9%|▉         | 23/260 [02:03<21:23,  5.41s/it]"
     ]
    },
    {
     "name": "stdout",
     "output_type": "stream",
     "text": [
      "\tno intersect for 25 polygons\n",
      "processing cdd_monthly_max_1mm, for 200204\n"
     ]
    },
    {
     "name": "stderr",
     "output_type": "stream",
     "text": [
      "\r",
      "  9%|▉         | 24/260 [02:08<21:00,  5.34s/it]"
     ]
    },
    {
     "name": "stdout",
     "output_type": "stream",
     "text": [
      "\tno intersect for 25 polygons\n",
      "processing cdd_monthly_max_1mm, for 200205\n"
     ]
    },
    {
     "name": "stderr",
     "output_type": "stream",
     "text": [
      "\r",
      " 10%|▉         | 25/260 [02:13<20:36,  5.26s/it]"
     ]
    },
    {
     "name": "stdout",
     "output_type": "stream",
     "text": [
      "\tno intersect for 25 polygons\n",
      "processing cdd_monthly_max_1mm, for 200206\n"
     ]
    },
    {
     "name": "stderr",
     "output_type": "stream",
     "text": [
      "\r",
      " 10%|█         | 26/260 [02:19<20:18,  5.21s/it]"
     ]
    },
    {
     "name": "stdout",
     "output_type": "stream",
     "text": [
      "\tno intersect for 25 polygons\n",
      "processing cdd_monthly_max_1mm, for 200207\n"
     ]
    },
    {
     "name": "stderr",
     "output_type": "stream",
     "text": [
      "\r",
      " 10%|█         | 27/260 [02:24<20:11,  5.20s/it]"
     ]
    },
    {
     "name": "stdout",
     "output_type": "stream",
     "text": [
      "\tno intersect for 25 polygons\n",
      "processing cdd_monthly_max_1mm, for 200208\n"
     ]
    },
    {
     "name": "stderr",
     "output_type": "stream",
     "text": [
      "\r",
      " 11%|█         | 28/260 [02:29<20:06,  5.20s/it]"
     ]
    },
    {
     "name": "stdout",
     "output_type": "stream",
     "text": [
      "\tno intersect for 25 polygons\n",
      "processing cdd_monthly_max_1mm, for 200209\n"
     ]
    },
    {
     "name": "stderr",
     "output_type": "stream",
     "text": [
      "\r",
      " 11%|█         | 29/260 [02:34<20:09,  5.24s/it]"
     ]
    },
    {
     "name": "stdout",
     "output_type": "stream",
     "text": [
      "\tno intersect for 25 polygons\n",
      "processing cdd_monthly_max_1mm, for 200210\n"
     ]
    },
    {
     "name": "stderr",
     "output_type": "stream",
     "text": [
      "\r",
      " 12%|█▏        | 30/260 [02:40<20:13,  5.27s/it]"
     ]
    },
    {
     "name": "stdout",
     "output_type": "stream",
     "text": [
      "\tno intersect for 25 polygons\n",
      "processing cdd_monthly_max_1mm, for 200211\n"
     ]
    },
    {
     "name": "stderr",
     "output_type": "stream",
     "text": [
      "\r",
      " 12%|█▏        | 31/260 [02:45<19:54,  5.22s/it]"
     ]
    },
    {
     "name": "stdout",
     "output_type": "stream",
     "text": [
      "\tno intersect for 25 polygons\n",
      "processing cdd_monthly_max_1mm, for 200212\n"
     ]
    },
    {
     "name": "stderr",
     "output_type": "stream",
     "text": [
      "\r",
      " 12%|█▏        | 32/260 [02:50<19:38,  5.17s/it]"
     ]
    },
    {
     "name": "stdout",
     "output_type": "stream",
     "text": [
      "\tno intersect for 25 polygons\n",
      "processing cdd_monthly_max_1mm, for 200301\n"
     ]
    },
    {
     "name": "stderr",
     "output_type": "stream",
     "text": [
      "\r",
      " 13%|█▎        | 33/260 [02:55<19:27,  5.14s/it]"
     ]
    },
    {
     "name": "stdout",
     "output_type": "stream",
     "text": [
      "\tno intersect for 25 polygons\n",
      "processing cdd_monthly_max_1mm, for 200302\n"
     ]
    },
    {
     "name": "stderr",
     "output_type": "stream",
     "text": [
      "\r",
      " 13%|█▎        | 34/260 [03:00<19:30,  5.18s/it]"
     ]
    },
    {
     "name": "stdout",
     "output_type": "stream",
     "text": [
      "\tno intersect for 25 polygons\n",
      "processing cdd_monthly_max_1mm, for 200303\n"
     ]
    },
    {
     "name": "stderr",
     "output_type": "stream",
     "text": [
      "\r",
      " 13%|█▎        | 35/260 [03:06<20:02,  5.35s/it]"
     ]
    },
    {
     "name": "stdout",
     "output_type": "stream",
     "text": [
      "\tno intersect for 25 polygons\n",
      "processing cdd_monthly_max_1mm, for 200304\n"
     ]
    },
    {
     "name": "stderr",
     "output_type": "stream",
     "text": [
      "\r",
      " 14%|█▍        | 36/260 [03:12<20:23,  5.46s/it]"
     ]
    },
    {
     "name": "stdout",
     "output_type": "stream",
     "text": [
      "\tno intersect for 25 polygons\n",
      "processing cdd_monthly_max_1mm, for 200305\n"
     ]
    },
    {
     "name": "stderr",
     "output_type": "stream",
     "text": [
      "\r",
      " 14%|█▍        | 37/260 [03:17<20:39,  5.56s/it]"
     ]
    },
    {
     "name": "stdout",
     "output_type": "stream",
     "text": [
      "\tno intersect for 25 polygons\n",
      "processing cdd_monthly_max_1mm, for 200306\n"
     ]
    },
    {
     "name": "stderr",
     "output_type": "stream",
     "text": [
      "\r",
      " 15%|█▍        | 38/260 [03:23<20:25,  5.52s/it]"
     ]
    },
    {
     "name": "stdout",
     "output_type": "stream",
     "text": [
      "\tno intersect for 25 polygons\n",
      "processing cdd_monthly_max_1mm, for 200307\n"
     ]
    },
    {
     "name": "stderr",
     "output_type": "stream",
     "text": [
      "\r",
      " 15%|█▌        | 39/260 [03:28<20:22,  5.53s/it]"
     ]
    },
    {
     "name": "stdout",
     "output_type": "stream",
     "text": [
      "\tno intersect for 25 polygons\n",
      "processing cdd_monthly_max_1mm, for 200308\n"
     ]
    },
    {
     "name": "stderr",
     "output_type": "stream",
     "text": [
      "\r",
      " 15%|█▌        | 40/260 [03:34<19:59,  5.45s/it]"
     ]
    },
    {
     "name": "stdout",
     "output_type": "stream",
     "text": [
      "\tno intersect for 25 polygons\n",
      "processing cdd_monthly_max_1mm, for 200309\n"
     ]
    },
    {
     "name": "stderr",
     "output_type": "stream",
     "text": [
      "\r",
      " 16%|█▌        | 41/260 [03:39<20:02,  5.49s/it]"
     ]
    },
    {
     "name": "stdout",
     "output_type": "stream",
     "text": [
      "\tno intersect for 25 polygons\n",
      "processing cdd_monthly_max_1mm, for 200310\n"
     ]
    },
    {
     "name": "stderr",
     "output_type": "stream",
     "text": [
      "\r",
      " 16%|█▌        | 42/260 [03:45<19:52,  5.47s/it]"
     ]
    },
    {
     "name": "stdout",
     "output_type": "stream",
     "text": [
      "\tno intersect for 25 polygons\n",
      "processing cdd_monthly_max_1mm, for 200311\n"
     ]
    },
    {
     "name": "stderr",
     "output_type": "stream",
     "text": [
      "\r",
      " 17%|█▋        | 43/260 [03:50<19:49,  5.48s/it]"
     ]
    },
    {
     "name": "stdout",
     "output_type": "stream",
     "text": [
      "\tno intersect for 25 polygons\n",
      "processing cdd_monthly_max_1mm, for 200312\n"
     ]
    },
    {
     "name": "stderr",
     "output_type": "stream",
     "text": [
      "\r",
      " 17%|█▋        | 44/260 [03:55<19:25,  5.40s/it]"
     ]
    },
    {
     "name": "stdout",
     "output_type": "stream",
     "text": [
      "\tno intersect for 25 polygons\n",
      "processing cdd_monthly_max_1mm, for 200401\n"
     ]
    },
    {
     "name": "stderr",
     "output_type": "stream",
     "text": [
      "\r",
      " 17%|█▋        | 45/260 [04:01<19:25,  5.42s/it]"
     ]
    },
    {
     "name": "stdout",
     "output_type": "stream",
     "text": [
      "\tno intersect for 25 polygons\n",
      "processing cdd_monthly_max_1mm, for 200402\n"
     ]
    },
    {
     "name": "stderr",
     "output_type": "stream",
     "text": [
      "\r",
      " 18%|█▊        | 46/260 [04:07<19:48,  5.56s/it]"
     ]
    },
    {
     "name": "stdout",
     "output_type": "stream",
     "text": [
      "\tno intersect for 25 polygons\n",
      "processing cdd_monthly_max_1mm, for 200403\n"
     ]
    },
    {
     "name": "stderr",
     "output_type": "stream",
     "text": [
      "\r",
      " 18%|█▊        | 47/260 [04:12<19:25,  5.47s/it]"
     ]
    },
    {
     "name": "stdout",
     "output_type": "stream",
     "text": [
      "\tno intersect for 25 polygons\n",
      "processing cdd_monthly_max_1mm, for 200404\n"
     ]
    },
    {
     "name": "stderr",
     "output_type": "stream",
     "text": [
      "\r",
      " 18%|█▊        | 48/260 [04:17<19:14,  5.45s/it]"
     ]
    },
    {
     "name": "stdout",
     "output_type": "stream",
     "text": [
      "\tno intersect for 25 polygons\n",
      "processing cdd_monthly_max_1mm, for 200405\n"
     ]
    },
    {
     "name": "stderr",
     "output_type": "stream",
     "text": [
      "\r",
      " 19%|█▉        | 49/260 [04:23<19:05,  5.43s/it]"
     ]
    },
    {
     "name": "stdout",
     "output_type": "stream",
     "text": [
      "\tno intersect for 25 polygons\n",
      "processing cdd_monthly_max_1mm, for 200406\n"
     ]
    },
    {
     "name": "stderr",
     "output_type": "stream",
     "text": [
      "\r",
      " 19%|█▉        | 50/260 [04:28<19:04,  5.45s/it]"
     ]
    },
    {
     "name": "stdout",
     "output_type": "stream",
     "text": [
      "\tno intersect for 25 polygons\n",
      "processing cdd_monthly_max_1mm, for 200407\n"
     ]
    },
    {
     "name": "stderr",
     "output_type": "stream",
     "text": [
      "\r",
      " 20%|█▉        | 51/260 [04:34<19:10,  5.50s/it]"
     ]
    },
    {
     "name": "stdout",
     "output_type": "stream",
     "text": [
      "\tno intersect for 25 polygons\n",
      "processing cdd_monthly_max_1mm, for 200408\n"
     ]
    },
    {
     "name": "stderr",
     "output_type": "stream",
     "text": [
      "\r",
      " 20%|██        | 52/260 [04:40<19:27,  5.61s/it]"
     ]
    },
    {
     "name": "stdout",
     "output_type": "stream",
     "text": [
      "\tno intersect for 25 polygons\n",
      "processing cdd_monthly_max_1mm, for 200409\n"
     ]
    },
    {
     "name": "stderr",
     "output_type": "stream",
     "text": [
      "\r",
      " 20%|██        | 53/260 [04:45<19:27,  5.64s/it]"
     ]
    },
    {
     "name": "stdout",
     "output_type": "stream",
     "text": [
      "\tno intersect for 25 polygons\n",
      "processing cdd_monthly_max_1mm, for 200410\n"
     ]
    },
    {
     "name": "stderr",
     "output_type": "stream",
     "text": [
      "\r",
      " 21%|██        | 54/260 [04:51<19:49,  5.77s/it]"
     ]
    },
    {
     "name": "stdout",
     "output_type": "stream",
     "text": [
      "\tno intersect for 25 polygons\n",
      "processing cdd_monthly_max_1mm, for 200411\n"
     ]
    },
    {
     "name": "stderr",
     "output_type": "stream",
     "text": [
      "\r",
      " 21%|██        | 55/260 [04:58<20:13,  5.92s/it]"
     ]
    },
    {
     "name": "stdout",
     "output_type": "stream",
     "text": [
      "\tno intersect for 25 polygons\n",
      "processing cdd_monthly_max_1mm, for 200412\n"
     ]
    },
    {
     "name": "stderr",
     "output_type": "stream",
     "text": [
      "\r",
      " 22%|██▏       | 56/260 [05:04<20:09,  5.93s/it]"
     ]
    },
    {
     "name": "stdout",
     "output_type": "stream",
     "text": [
      "\tno intersect for 25 polygons\n",
      "processing cdd_monthly_max_1mm, for 200501\n"
     ]
    },
    {
     "name": "stderr",
     "output_type": "stream",
     "text": [
      "\r",
      " 22%|██▏       | 57/260 [05:09<19:50,  5.87s/it]"
     ]
    },
    {
     "name": "stdout",
     "output_type": "stream",
     "text": [
      "\tno intersect for 25 polygons\n",
      "processing cdd_monthly_max_1mm, for 200502\n"
     ]
    },
    {
     "name": "stderr",
     "output_type": "stream",
     "text": [
      "\r",
      " 22%|██▏       | 58/260 [05:15<19:39,  5.84s/it]"
     ]
    },
    {
     "name": "stdout",
     "output_type": "stream",
     "text": [
      "\tno intersect for 25 polygons\n",
      "processing cdd_monthly_max_1mm, for 200503\n"
     ]
    },
    {
     "name": "stderr",
     "output_type": "stream",
     "text": [
      "\r",
      " 23%|██▎       | 59/260 [05:21<19:06,  5.70s/it]"
     ]
    },
    {
     "name": "stdout",
     "output_type": "stream",
     "text": [
      "\tno intersect for 25 polygons\n",
      "processing cdd_monthly_max_1mm, for 200504\n"
     ]
    },
    {
     "name": "stderr",
     "output_type": "stream",
     "text": [
      "\r",
      " 23%|██▎       | 60/260 [05:26<18:29,  5.55s/it]"
     ]
    },
    {
     "name": "stdout",
     "output_type": "stream",
     "text": [
      "\tno intersect for 25 polygons\n",
      "processing cdd_monthly_max_1mm, for 200505\n"
     ]
    },
    {
     "name": "stderr",
     "output_type": "stream",
     "text": [
      "\r",
      " 23%|██▎       | 61/260 [05:31<18:27,  5.56s/it]"
     ]
    },
    {
     "name": "stdout",
     "output_type": "stream",
     "text": [
      "\tno intersect for 25 polygons\n",
      "processing cdd_monthly_max_1mm, for 200506\n"
     ]
    },
    {
     "name": "stderr",
     "output_type": "stream",
     "text": [
      "\r",
      " 24%|██▍       | 62/260 [05:37<18:10,  5.51s/it]"
     ]
    },
    {
     "name": "stdout",
     "output_type": "stream",
     "text": [
      "\tno intersect for 25 polygons\n",
      "processing cdd_monthly_max_1mm, for 200507\n"
     ]
    },
    {
     "name": "stderr",
     "output_type": "stream",
     "text": [
      "\r",
      " 24%|██▍       | 63/260 [05:42<18:06,  5.51s/it]"
     ]
    },
    {
     "name": "stdout",
     "output_type": "stream",
     "text": [
      "\tno intersect for 25 polygons\n",
      "processing cdd_monthly_max_1mm, for 200508\n"
     ]
    },
    {
     "name": "stderr",
     "output_type": "stream",
     "text": [
      "\r",
      " 25%|██▍       | 64/260 [05:48<18:04,  5.53s/it]"
     ]
    },
    {
     "name": "stdout",
     "output_type": "stream",
     "text": [
      "\tno intersect for 25 polygons\n",
      "processing cdd_monthly_max_1mm, for 200509\n"
     ]
    },
    {
     "name": "stderr",
     "output_type": "stream",
     "text": [
      "\r",
      " 25%|██▌       | 65/260 [05:53<17:46,  5.47s/it]"
     ]
    },
    {
     "name": "stdout",
     "output_type": "stream",
     "text": [
      "\tno intersect for 25 polygons\n",
      "processing cdd_monthly_max_1mm, for 200510\n"
     ]
    },
    {
     "name": "stderr",
     "output_type": "stream",
     "text": [
      "\r",
      " 25%|██▌       | 66/260 [05:59<17:34,  5.44s/it]"
     ]
    },
    {
     "name": "stdout",
     "output_type": "stream",
     "text": [
      "\tno intersect for 25 polygons\n",
      "processing cdd_monthly_max_1mm, for 200511\n"
     ]
    },
    {
     "name": "stderr",
     "output_type": "stream",
     "text": [
      "\r",
      " 26%|██▌       | 67/260 [06:04<17:29,  5.44s/it]"
     ]
    },
    {
     "name": "stdout",
     "output_type": "stream",
     "text": [
      "\tno intersect for 25 polygons\n",
      "processing cdd_monthly_max_1mm, for 200512\n"
     ]
    },
    {
     "name": "stderr",
     "output_type": "stream",
     "text": [
      "\r",
      " 26%|██▌       | 68/260 [06:10<17:29,  5.47s/it]"
     ]
    },
    {
     "name": "stdout",
     "output_type": "stream",
     "text": [
      "\tno intersect for 25 polygons\n",
      "processing cdd_monthly_max_1mm, for 200601\n"
     ]
    },
    {
     "name": "stderr",
     "output_type": "stream",
     "text": [
      "\r",
      " 27%|██▋       | 69/260 [06:15<17:09,  5.39s/it]"
     ]
    },
    {
     "name": "stdout",
     "output_type": "stream",
     "text": [
      "\tno intersect for 25 polygons\n",
      "processing cdd_monthly_max_1mm, for 200602\n"
     ]
    },
    {
     "name": "stderr",
     "output_type": "stream",
     "text": [
      "\r",
      " 27%|██▋       | 70/260 [06:20<17:05,  5.40s/it]"
     ]
    },
    {
     "name": "stdout",
     "output_type": "stream",
     "text": [
      "\tno intersect for 25 polygons\n",
      "processing cdd_monthly_max_1mm, for 200603\n"
     ]
    },
    {
     "name": "stderr",
     "output_type": "stream",
     "text": [
      "\r",
      " 27%|██▋       | 71/260 [06:26<17:17,  5.49s/it]"
     ]
    },
    {
     "name": "stdout",
     "output_type": "stream",
     "text": [
      "\tno intersect for 25 polygons\n",
      "processing cdd_monthly_max_1mm, for 200604\n"
     ]
    },
    {
     "name": "stderr",
     "output_type": "stream",
     "text": [
      "\r",
      " 28%|██▊       | 72/260 [06:32<18:05,  5.77s/it]"
     ]
    },
    {
     "name": "stdout",
     "output_type": "stream",
     "text": [
      "\tno intersect for 25 polygons\n",
      "processing cdd_monthly_max_1mm, for 200605\n"
     ]
    },
    {
     "name": "stderr",
     "output_type": "stream",
     "text": [
      "\r",
      " 28%|██▊       | 73/260 [06:39<19:00,  6.10s/it]"
     ]
    },
    {
     "name": "stdout",
     "output_type": "stream",
     "text": [
      "\tno intersect for 25 polygons\n",
      "processing cdd_monthly_max_1mm, for 200606\n"
     ]
    },
    {
     "name": "stderr",
     "output_type": "stream",
     "text": [
      "\r",
      " 28%|██▊       | 74/260 [06:46<19:30,  6.29s/it]"
     ]
    },
    {
     "name": "stdout",
     "output_type": "stream",
     "text": [
      "\tno intersect for 25 polygons\n",
      "processing cdd_monthly_max_1mm, for 200607\n"
     ]
    },
    {
     "name": "stderr",
     "output_type": "stream",
     "text": [
      "\r",
      " 29%|██▉       | 75/260 [06:53<19:46,  6.41s/it]"
     ]
    },
    {
     "name": "stdout",
     "output_type": "stream",
     "text": [
      "\tno intersect for 25 polygons\n",
      "processing cdd_monthly_max_1mm, for 200608\n"
     ]
    },
    {
     "name": "stderr",
     "output_type": "stream",
     "text": [
      "\r",
      " 29%|██▉       | 76/260 [06:59<19:50,  6.47s/it]"
     ]
    },
    {
     "name": "stdout",
     "output_type": "stream",
     "text": [
      "\tno intersect for 25 polygons\n",
      "processing cdd_monthly_max_1mm, for 200609\n"
     ]
    },
    {
     "name": "stderr",
     "output_type": "stream",
     "text": [
      "\r",
      " 30%|██▉       | 77/260 [07:06<19:52,  6.52s/it]"
     ]
    },
    {
     "name": "stdout",
     "output_type": "stream",
     "text": [
      "\tno intersect for 25 polygons\n",
      "processing cdd_monthly_max_1mm, for 200610\n"
     ]
    },
    {
     "name": "stderr",
     "output_type": "stream",
     "text": [
      "\r",
      " 30%|███       | 78/260 [07:13<19:59,  6.59s/it]"
     ]
    },
    {
     "name": "stdout",
     "output_type": "stream",
     "text": [
      "\tno intersect for 25 polygons\n",
      "processing cdd_monthly_max_1mm, for 200611\n"
     ]
    },
    {
     "name": "stderr",
     "output_type": "stream",
     "text": [
      "\r",
      " 30%|███       | 79/260 [07:20<20:16,  6.72s/it]"
     ]
    },
    {
     "name": "stdout",
     "output_type": "stream",
     "text": [
      "\tno intersect for 25 polygons\n",
      "processing cdd_monthly_max_1mm, for 200612\n"
     ]
    },
    {
     "name": "stderr",
     "output_type": "stream",
     "text": [
      "\r",
      " 31%|███       | 80/260 [07:26<20:00,  6.67s/it]"
     ]
    },
    {
     "name": "stdout",
     "output_type": "stream",
     "text": [
      "\tno intersect for 25 polygons\n",
      "processing cdd_monthly_max_1mm, for 200701\n"
     ]
    },
    {
     "name": "stderr",
     "output_type": "stream",
     "text": [
      "\r",
      " 31%|███       | 81/260 [07:33<19:39,  6.59s/it]"
     ]
    },
    {
     "name": "stdout",
     "output_type": "stream",
     "text": [
      "\tno intersect for 25 polygons\n",
      "processing cdd_monthly_max_1mm, for 200702\n"
     ]
    },
    {
     "name": "stderr",
     "output_type": "stream",
     "text": [
      "\r",
      " 32%|███▏      | 82/260 [07:39<19:30,  6.57s/it]"
     ]
    },
    {
     "name": "stdout",
     "output_type": "stream",
     "text": [
      "\tno intersect for 25 polygons\n",
      "processing cdd_monthly_max_1mm, for 200703\n"
     ]
    },
    {
     "name": "stderr",
     "output_type": "stream",
     "text": [
      "\r",
      " 32%|███▏      | 83/260 [07:45<19:12,  6.51s/it]"
     ]
    },
    {
     "name": "stdout",
     "output_type": "stream",
     "text": [
      "\tno intersect for 25 polygons\n",
      "processing cdd_monthly_max_1mm, for 200704\n"
     ]
    },
    {
     "name": "stderr",
     "output_type": "stream",
     "text": [
      "\r",
      " 32%|███▏      | 84/260 [07:52<19:06,  6.51s/it]"
     ]
    },
    {
     "name": "stdout",
     "output_type": "stream",
     "text": [
      "\tno intersect for 25 polygons\n",
      "processing cdd_monthly_max_1mm, for 200705\n"
     ]
    },
    {
     "name": "stderr",
     "output_type": "stream",
     "text": [
      "\r",
      " 33%|███▎      | 85/260 [07:58<19:00,  6.52s/it]"
     ]
    },
    {
     "name": "stdout",
     "output_type": "stream",
     "text": [
      "\tno intersect for 25 polygons\n",
      "processing cdd_monthly_max_1mm, for 200706\n"
     ]
    },
    {
     "name": "stderr",
     "output_type": "stream",
     "text": [
      "\r",
      " 33%|███▎      | 86/260 [08:05<18:51,  6.50s/it]"
     ]
    },
    {
     "name": "stdout",
     "output_type": "stream",
     "text": [
      "\tno intersect for 25 polygons\n",
      "processing cdd_monthly_max_1mm, for 200707\n"
     ]
    },
    {
     "name": "stderr",
     "output_type": "stream",
     "text": [
      "\r",
      " 33%|███▎      | 87/260 [08:12<18:49,  6.53s/it]"
     ]
    },
    {
     "name": "stdout",
     "output_type": "stream",
     "text": [
      "\tno intersect for 25 polygons\n",
      "processing cdd_monthly_max_1mm, for 200708\n"
     ]
    },
    {
     "name": "stderr",
     "output_type": "stream",
     "text": [
      "\r",
      " 34%|███▍      | 88/260 [08:18<18:59,  6.63s/it]"
     ]
    },
    {
     "name": "stdout",
     "output_type": "stream",
     "text": [
      "\tno intersect for 25 polygons\n",
      "processing cdd_monthly_max_1mm, for 200709\n"
     ]
    },
    {
     "name": "stderr",
     "output_type": "stream",
     "text": [
      "\r",
      " 34%|███▍      | 89/260 [08:25<18:58,  6.66s/it]"
     ]
    },
    {
     "name": "stdout",
     "output_type": "stream",
     "text": [
      "\tno intersect for 25 polygons\n",
      "processing cdd_monthly_max_1mm, for 200710\n"
     ]
    },
    {
     "name": "stderr",
     "output_type": "stream",
     "text": [
      "\r",
      " 35%|███▍      | 90/260 [08:32<18:39,  6.59s/it]"
     ]
    },
    {
     "name": "stdout",
     "output_type": "stream",
     "text": [
      "\tno intersect for 25 polygons\n",
      "processing cdd_monthly_max_1mm, for 200711\n"
     ]
    },
    {
     "name": "stderr",
     "output_type": "stream",
     "text": [
      "\r",
      " 35%|███▌      | 91/260 [08:38<18:24,  6.53s/it]"
     ]
    },
    {
     "name": "stdout",
     "output_type": "stream",
     "text": [
      "\tno intersect for 25 polygons\n",
      "processing cdd_monthly_max_1mm, for 200712\n"
     ]
    },
    {
     "name": "stderr",
     "output_type": "stream",
     "text": [
      "\r",
      " 35%|███▌      | 92/260 [08:44<18:14,  6.52s/it]"
     ]
    },
    {
     "name": "stdout",
     "output_type": "stream",
     "text": [
      "\tno intersect for 25 polygons\n",
      "processing cdd_monthly_max_1mm, for 200801\n"
     ]
    },
    {
     "name": "stderr",
     "output_type": "stream",
     "text": [
      "\r",
      " 36%|███▌      | 93/260 [08:51<18:05,  6.50s/it]"
     ]
    },
    {
     "name": "stdout",
     "output_type": "stream",
     "text": [
      "\tno intersect for 25 polygons\n",
      "processing cdd_monthly_max_1mm, for 200802\n"
     ]
    },
    {
     "name": "stderr",
     "output_type": "stream",
     "text": [
      "\r",
      " 36%|███▌      | 94/260 [08:57<17:59,  6.50s/it]"
     ]
    },
    {
     "name": "stdout",
     "output_type": "stream",
     "text": [
      "\tno intersect for 25 polygons\n",
      "processing cdd_monthly_max_1mm, for 200803\n"
     ]
    },
    {
     "name": "stderr",
     "output_type": "stream",
     "text": [
      "\r",
      " 37%|███▋      | 95/260 [09:03<17:16,  6.28s/it]"
     ]
    },
    {
     "name": "stdout",
     "output_type": "stream",
     "text": [
      "\tno intersect for 25 polygons\n",
      "processing cdd_monthly_max_1mm, for 200804\n"
     ]
    },
    {
     "name": "stderr",
     "output_type": "stream",
     "text": [
      "\r",
      " 37%|███▋      | 96/260 [09:08<16:10,  5.92s/it]"
     ]
    },
    {
     "name": "stdout",
     "output_type": "stream",
     "text": [
      "\tno intersect for 25 polygons\n",
      "processing cdd_monthly_max_1mm, for 200805\n"
     ]
    },
    {
     "name": "stderr",
     "output_type": "stream",
     "text": [
      "\r",
      " 37%|███▋      | 97/260 [09:13<15:32,  5.72s/it]"
     ]
    },
    {
     "name": "stdout",
     "output_type": "stream",
     "text": [
      "\tno intersect for 25 polygons\n",
      "processing cdd_monthly_max_1mm, for 200806\n"
     ]
    },
    {
     "name": "stderr",
     "output_type": "stream",
     "text": [
      "\r",
      " 38%|███▊      | 98/260 [09:19<15:00,  5.56s/it]"
     ]
    },
    {
     "name": "stdout",
     "output_type": "stream",
     "text": [
      "\tno intersect for 25 polygons\n",
      "processing cdd_monthly_max_1mm, for 200807\n"
     ]
    },
    {
     "name": "stderr",
     "output_type": "stream",
     "text": [
      "\r",
      " 38%|███▊      | 99/260 [09:24<14:47,  5.51s/it]"
     ]
    },
    {
     "name": "stdout",
     "output_type": "stream",
     "text": [
      "\tno intersect for 25 polygons\n",
      "processing cdd_monthly_max_1mm, for 200808\n"
     ]
    },
    {
     "name": "stderr",
     "output_type": "stream",
     "text": [
      "\r",
      " 38%|███▊      | 100/260 [09:30<14:47,  5.54s/it]"
     ]
    },
    {
     "name": "stdout",
     "output_type": "stream",
     "text": [
      "\tno intersect for 25 polygons\n",
      "processing cdd_monthly_max_1mm, for 200809\n"
     ]
    },
    {
     "name": "stderr",
     "output_type": "stream",
     "text": [
      "\r",
      " 39%|███▉      | 101/260 [09:35<14:32,  5.49s/it]"
     ]
    },
    {
     "name": "stdout",
     "output_type": "stream",
     "text": [
      "\tno intersect for 25 polygons\n",
      "processing cdd_monthly_max_1mm, for 200810\n"
     ]
    },
    {
     "name": "stderr",
     "output_type": "stream",
     "text": [
      "\r",
      " 39%|███▉      | 102/260 [09:40<14:18,  5.43s/it]"
     ]
    },
    {
     "name": "stdout",
     "output_type": "stream",
     "text": [
      "\tno intersect for 25 polygons\n",
      "processing cdd_monthly_max_1mm, for 200811\n"
     ]
    },
    {
     "name": "stderr",
     "output_type": "stream",
     "text": [
      "\r",
      " 40%|███▉      | 103/260 [09:46<14:08,  5.41s/it]"
     ]
    },
    {
     "name": "stdout",
     "output_type": "stream",
     "text": [
      "\tno intersect for 25 polygons\n",
      "processing cdd_monthly_max_1mm, for 200812\n"
     ]
    },
    {
     "name": "stderr",
     "output_type": "stream",
     "text": [
      "\r",
      " 40%|████      | 104/260 [09:51<14:07,  5.43s/it]"
     ]
    },
    {
     "name": "stdout",
     "output_type": "stream",
     "text": [
      "\tno intersect for 25 polygons\n",
      "processing cdd_monthly_max_1mm, for 200901\n"
     ]
    },
    {
     "name": "stderr",
     "output_type": "stream",
     "text": [
      "\r",
      " 40%|████      | 105/260 [09:57<14:04,  5.45s/it]"
     ]
    },
    {
     "name": "stdout",
     "output_type": "stream",
     "text": [
      "\tno intersect for 25 polygons\n",
      "processing cdd_monthly_max_1mm, for 200902\n"
     ]
    },
    {
     "name": "stderr",
     "output_type": "stream",
     "text": [
      "\r",
      " 41%|████      | 106/260 [10:02<14:05,  5.49s/it]"
     ]
    },
    {
     "name": "stdout",
     "output_type": "stream",
     "text": [
      "\tno intersect for 25 polygons\n",
      "processing cdd_monthly_max_1mm, for 200903\n"
     ]
    },
    {
     "name": "stderr",
     "output_type": "stream",
     "text": [
      "\r",
      " 41%|████      | 107/260 [10:08<13:52,  5.44s/it]"
     ]
    },
    {
     "name": "stdout",
     "output_type": "stream",
     "text": [
      "\tno intersect for 25 polygons\n",
      "processing cdd_monthly_max_1mm, for 200904\n"
     ]
    },
    {
     "name": "stderr",
     "output_type": "stream",
     "text": [
      "\r",
      " 42%|████▏     | 108/260 [10:13<13:53,  5.48s/it]"
     ]
    },
    {
     "name": "stdout",
     "output_type": "stream",
     "text": [
      "\tno intersect for 25 polygons\n",
      "processing cdd_monthly_max_1mm, for 200905\n"
     ]
    },
    {
     "name": "stderr",
     "output_type": "stream",
     "text": [
      "\r",
      " 42%|████▏     | 109/260 [10:19<13:51,  5.51s/it]"
     ]
    },
    {
     "name": "stdout",
     "output_type": "stream",
     "text": [
      "\tno intersect for 25 polygons\n",
      "processing cdd_monthly_max_1mm, for 200906\n"
     ]
    },
    {
     "name": "stderr",
     "output_type": "stream",
     "text": [
      "\r",
      " 42%|████▏     | 110/260 [10:24<13:55,  5.57s/it]"
     ]
    },
    {
     "name": "stdout",
     "output_type": "stream",
     "text": [
      "\tno intersect for 25 polygons\n",
      "processing cdd_monthly_max_1mm, for 200907\n"
     ]
    },
    {
     "name": "stderr",
     "output_type": "stream",
     "text": [
      "\r",
      " 43%|████▎     | 111/260 [10:30<13:48,  5.56s/it]"
     ]
    },
    {
     "name": "stdout",
     "output_type": "stream",
     "text": [
      "\tno intersect for 25 polygons\n",
      "processing cdd_monthly_max_1mm, for 200908\n"
     ]
    },
    {
     "name": "stderr",
     "output_type": "stream",
     "text": [
      "\r",
      " 43%|████▎     | 112/260 [10:36<13:59,  5.67s/it]"
     ]
    },
    {
     "name": "stdout",
     "output_type": "stream",
     "text": [
      "\tno intersect for 25 polygons\n",
      "processing cdd_monthly_max_1mm, for 200909\n"
     ]
    },
    {
     "name": "stderr",
     "output_type": "stream",
     "text": [
      "\r",
      " 43%|████▎     | 113/260 [10:42<14:06,  5.76s/it]"
     ]
    },
    {
     "name": "stdout",
     "output_type": "stream",
     "text": [
      "\tno intersect for 25 polygons\n",
      "processing cdd_monthly_max_1mm, for 200910\n"
     ]
    },
    {
     "name": "stderr",
     "output_type": "stream",
     "text": [
      "\r",
      " 44%|████▍     | 114/260 [10:47<13:49,  5.68s/it]"
     ]
    },
    {
     "name": "stdout",
     "output_type": "stream",
     "text": [
      "\tno intersect for 25 polygons\n",
      "processing cdd_monthly_max_1mm, for 200911\n"
     ]
    },
    {
     "name": "stderr",
     "output_type": "stream",
     "text": [
      "\r",
      " 44%|████▍     | 115/260 [10:53<13:46,  5.70s/it]"
     ]
    },
    {
     "name": "stdout",
     "output_type": "stream",
     "text": [
      "\tno intersect for 25 polygons\n",
      "processing cdd_monthly_max_1mm, for 200912\n"
     ]
    },
    {
     "name": "stderr",
     "output_type": "stream",
     "text": [
      "\r",
      " 45%|████▍     | 116/260 [10:59<13:49,  5.76s/it]"
     ]
    },
    {
     "name": "stdout",
     "output_type": "stream",
     "text": [
      "\tno intersect for 25 polygons\n",
      "processing cdd_monthly_max_1mm, for 201001\n"
     ]
    },
    {
     "name": "stderr",
     "output_type": "stream",
     "text": [
      "\r",
      " 45%|████▌     | 117/260 [11:04<13:22,  5.61s/it]"
     ]
    },
    {
     "name": "stdout",
     "output_type": "stream",
     "text": [
      "\tno intersect for 25 polygons\n",
      "processing cdd_monthly_max_1mm, for 201002\n"
     ]
    },
    {
     "name": "stderr",
     "output_type": "stream",
     "text": [
      "\r",
      " 45%|████▌     | 118/260 [11:10<13:14,  5.60s/it]"
     ]
    },
    {
     "name": "stdout",
     "output_type": "stream",
     "text": [
      "\tno intersect for 25 polygons\n",
      "processing cdd_monthly_max_1mm, for 201003\n"
     ]
    },
    {
     "name": "stderr",
     "output_type": "stream",
     "text": [
      "\r",
      " 46%|████▌     | 119/260 [11:15<13:08,  5.59s/it]"
     ]
    },
    {
     "name": "stdout",
     "output_type": "stream",
     "text": [
      "\tno intersect for 25 polygons\n",
      "processing cdd_monthly_max_1mm, for 201004\n"
     ]
    },
    {
     "name": "stderr",
     "output_type": "stream",
     "text": [
      "\r",
      " 46%|████▌     | 120/260 [11:21<12:54,  5.53s/it]"
     ]
    },
    {
     "name": "stdout",
     "output_type": "stream",
     "text": [
      "\tno intersect for 25 polygons\n",
      "processing cdd_monthly_max_1mm, for 201005\n"
     ]
    },
    {
     "name": "stderr",
     "output_type": "stream",
     "text": [
      "\r",
      " 47%|████▋     | 121/260 [11:26<12:52,  5.56s/it]"
     ]
    },
    {
     "name": "stdout",
     "output_type": "stream",
     "text": [
      "\tno intersect for 25 polygons\n",
      "processing cdd_monthly_max_1mm, for 201006\n"
     ]
    },
    {
     "name": "stderr",
     "output_type": "stream",
     "text": [
      "\r",
      " 47%|████▋     | 122/260 [11:32<12:43,  5.53s/it]"
     ]
    },
    {
     "name": "stdout",
     "output_type": "stream",
     "text": [
      "\tno intersect for 25 polygons\n",
      "processing cdd_monthly_max_1mm, for 201007\n"
     ]
    },
    {
     "name": "stderr",
     "output_type": "stream",
     "text": [
      "\r",
      " 47%|████▋     | 123/260 [11:37<12:37,  5.53s/it]"
     ]
    },
    {
     "name": "stdout",
     "output_type": "stream",
     "text": [
      "\tno intersect for 25 polygons\n",
      "processing cdd_monthly_max_1mm, for 201008\n"
     ]
    },
    {
     "name": "stderr",
     "output_type": "stream",
     "text": [
      "\r",
      " 48%|████▊     | 124/260 [11:43<12:52,  5.68s/it]"
     ]
    },
    {
     "name": "stdout",
     "output_type": "stream",
     "text": [
      "\tno intersect for 25 polygons\n",
      "processing cdd_monthly_max_1mm, for 201009\n"
     ]
    },
    {
     "name": "stderr",
     "output_type": "stream",
     "text": [
      "\r",
      " 48%|████▊     | 125/260 [11:49<12:46,  5.68s/it]"
     ]
    },
    {
     "name": "stdout",
     "output_type": "stream",
     "text": [
      "\tno intersect for 25 polygons\n",
      "processing cdd_monthly_max_1mm, for 201010\n"
     ]
    },
    {
     "name": "stderr",
     "output_type": "stream",
     "text": [
      "\r",
      " 48%|████▊     | 126/260 [11:55<12:35,  5.64s/it]"
     ]
    },
    {
     "name": "stdout",
     "output_type": "stream",
     "text": [
      "\tno intersect for 25 polygons\n",
      "processing cdd_monthly_max_1mm, for 201011\n"
     ]
    },
    {
     "name": "stderr",
     "output_type": "stream",
     "text": [
      "\r",
      " 49%|████▉     | 127/260 [12:00<12:20,  5.57s/it]"
     ]
    },
    {
     "name": "stdout",
     "output_type": "stream",
     "text": [
      "\tno intersect for 25 polygons\n",
      "processing cdd_monthly_max_1mm, for 201012\n"
     ]
    },
    {
     "name": "stderr",
     "output_type": "stream",
     "text": [
      "\r",
      " 49%|████▉     | 128/260 [12:06<12:12,  5.55s/it]"
     ]
    },
    {
     "name": "stdout",
     "output_type": "stream",
     "text": [
      "\tno intersect for 25 polygons\n",
      "processing cdd_monthly_max_1mm, for 201101\n"
     ]
    },
    {
     "name": "stderr",
     "output_type": "stream",
     "text": [
      "\r",
      " 50%|████▉     | 129/260 [12:12<12:47,  5.86s/it]"
     ]
    },
    {
     "name": "stdout",
     "output_type": "stream",
     "text": [
      "\tno intersect for 25 polygons\n",
      "processing cdd_monthly_max_1mm, for 201102\n"
     ]
    },
    {
     "name": "stderr",
     "output_type": "stream",
     "text": [
      "\r",
      " 50%|█████     | 130/260 [12:19<13:26,  6.20s/it]"
     ]
    },
    {
     "name": "stdout",
     "output_type": "stream",
     "text": [
      "\tno intersect for 25 polygons\n",
      "processing cdd_monthly_max_1mm, for 201103\n"
     ]
    },
    {
     "name": "stderr",
     "output_type": "stream",
     "text": [
      "\r",
      " 50%|█████     | 131/260 [12:26<13:28,  6.27s/it]"
     ]
    },
    {
     "name": "stdout",
     "output_type": "stream",
     "text": [
      "\tno intersect for 25 polygons\n",
      "processing cdd_monthly_max_1mm, for 201104\n"
     ]
    },
    {
     "name": "stderr",
     "output_type": "stream",
     "text": [
      "\r",
      " 51%|█████     | 132/260 [12:32<13:27,  6.31s/it]"
     ]
    },
    {
     "name": "stdout",
     "output_type": "stream",
     "text": [
      "\tno intersect for 25 polygons\n",
      "processing cdd_monthly_max_1mm, for 201105\n"
     ]
    },
    {
     "name": "stderr",
     "output_type": "stream",
     "text": [
      "\r",
      " 51%|█████     | 133/260 [12:39<13:27,  6.36s/it]"
     ]
    },
    {
     "name": "stdout",
     "output_type": "stream",
     "text": [
      "\tno intersect for 25 polygons\n",
      "processing cdd_monthly_max_1mm, for 201106\n"
     ]
    },
    {
     "name": "stderr",
     "output_type": "stream",
     "text": [
      "\r",
      " 52%|█████▏    | 134/260 [12:45<13:27,  6.40s/it]"
     ]
    },
    {
     "name": "stdout",
     "output_type": "stream",
     "text": [
      "\tno intersect for 25 polygons\n",
      "processing cdd_monthly_max_1mm, for 201107\n"
     ]
    },
    {
     "name": "stderr",
     "output_type": "stream",
     "text": [
      "\r",
      " 52%|█████▏    | 135/260 [12:51<13:22,  6.42s/it]"
     ]
    },
    {
     "name": "stdout",
     "output_type": "stream",
     "text": [
      "\tno intersect for 25 polygons\n",
      "processing cdd_monthly_max_1mm, for 201108\n"
     ]
    },
    {
     "name": "stderr",
     "output_type": "stream",
     "text": [
      "\r",
      " 52%|█████▏    | 136/260 [12:58<13:21,  6.46s/it]"
     ]
    },
    {
     "name": "stdout",
     "output_type": "stream",
     "text": [
      "\tno intersect for 25 polygons\n",
      "processing cdd_monthly_max_1mm, for 201109\n"
     ]
    },
    {
     "name": "stderr",
     "output_type": "stream",
     "text": [
      "\r",
      " 53%|█████▎    | 137/260 [13:05<13:20,  6.51s/it]"
     ]
    },
    {
     "name": "stdout",
     "output_type": "stream",
     "text": [
      "\tno intersect for 25 polygons\n",
      "processing cdd_monthly_max_1mm, for 201110\n"
     ]
    },
    {
     "name": "stderr",
     "output_type": "stream",
     "text": [
      "\r",
      " 53%|█████▎    | 138/260 [13:11<13:19,  6.55s/it]"
     ]
    },
    {
     "name": "stdout",
     "output_type": "stream",
     "text": [
      "\tno intersect for 25 polygons\n",
      "processing cdd_monthly_max_1mm, for 201111\n"
     ]
    },
    {
     "name": "stderr",
     "output_type": "stream",
     "text": [
      "\r",
      " 53%|█████▎    | 139/260 [13:18<13:17,  6.59s/it]"
     ]
    },
    {
     "name": "stdout",
     "output_type": "stream",
     "text": [
      "\tno intersect for 25 polygons\n",
      "processing cdd_monthly_max_1mm, for 201112\n"
     ]
    },
    {
     "name": "stderr",
     "output_type": "stream",
     "text": [
      "\r",
      " 54%|█████▍    | 140/260 [13:24<13:07,  6.56s/it]"
     ]
    },
    {
     "name": "stdout",
     "output_type": "stream",
     "text": [
      "\tno intersect for 25 polygons\n",
      "processing cdd_monthly_max_1mm, for 201201\n"
     ]
    },
    {
     "name": "stderr",
     "output_type": "stream",
     "text": [
      "\r",
      " 54%|█████▍    | 141/260 [13:31<13:01,  6.57s/it]"
     ]
    },
    {
     "name": "stdout",
     "output_type": "stream",
     "text": [
      "\tno intersect for 25 polygons\n",
      "processing cdd_monthly_max_1mm, for 201202\n"
     ]
    },
    {
     "name": "stderr",
     "output_type": "stream",
     "text": [
      "\r",
      " 55%|█████▍    | 142/260 [13:38<13:12,  6.72s/it]"
     ]
    },
    {
     "name": "stdout",
     "output_type": "stream",
     "text": [
      "\tno intersect for 25 polygons\n",
      "processing cdd_monthly_max_1mm, for 201203\n"
     ]
    },
    {
     "name": "stderr",
     "output_type": "stream",
     "text": [
      "\r",
      " 55%|█████▌    | 143/260 [13:45<13:06,  6.73s/it]"
     ]
    },
    {
     "name": "stdout",
     "output_type": "stream",
     "text": [
      "\tno intersect for 25 polygons\n",
      "processing cdd_monthly_max_1mm, for 201204\n"
     ]
    },
    {
     "name": "stderr",
     "output_type": "stream",
     "text": [
      "\r",
      " 55%|█████▌    | 144/260 [13:52<13:10,  6.81s/it]"
     ]
    },
    {
     "name": "stdout",
     "output_type": "stream",
     "text": [
      "\tno intersect for 25 polygons\n",
      "processing cdd_monthly_max_1mm, for 201205\n"
     ]
    },
    {
     "name": "stderr",
     "output_type": "stream",
     "text": [
      "\r",
      " 56%|█████▌    | 145/260 [13:59<13:06,  6.84s/it]"
     ]
    },
    {
     "name": "stdout",
     "output_type": "stream",
     "text": [
      "\tno intersect for 25 polygons\n",
      "processing cdd_monthly_max_1mm, for 201206\n"
     ]
    },
    {
     "name": "stderr",
     "output_type": "stream",
     "text": [
      "\r",
      " 56%|█████▌    | 146/260 [14:05<12:46,  6.72s/it]"
     ]
    },
    {
     "name": "stdout",
     "output_type": "stream",
     "text": [
      "\tno intersect for 25 polygons\n",
      "processing cdd_monthly_max_1mm, for 201207\n"
     ]
    },
    {
     "name": "stderr",
     "output_type": "stream",
     "text": [
      "\r",
      " 57%|█████▋    | 147/260 [14:12<12:29,  6.63s/it]"
     ]
    },
    {
     "name": "stdout",
     "output_type": "stream",
     "text": [
      "\tno intersect for 25 polygons\n",
      "processing cdd_monthly_max_1mm, for 201208\n"
     ]
    },
    {
     "name": "stderr",
     "output_type": "stream",
     "text": [
      "\r",
      " 57%|█████▋    | 148/260 [14:18<12:20,  6.62s/it]"
     ]
    },
    {
     "name": "stdout",
     "output_type": "stream",
     "text": [
      "\tno intersect for 25 polygons\n",
      "processing cdd_monthly_max_1mm, for 201209\n"
     ]
    },
    {
     "name": "stderr",
     "output_type": "stream",
     "text": [
      "\r",
      " 57%|█████▋    | 149/260 [14:25<12:14,  6.62s/it]"
     ]
    },
    {
     "name": "stdout",
     "output_type": "stream",
     "text": [
      "\tno intersect for 25 polygons\n",
      "processing cdd_monthly_max_1mm, for 201210\n"
     ]
    },
    {
     "name": "stderr",
     "output_type": "stream",
     "text": [
      "\r",
      " 58%|█████▊    | 150/260 [14:32<12:17,  6.70s/it]"
     ]
    },
    {
     "name": "stdout",
     "output_type": "stream",
     "text": [
      "\tno intersect for 25 polygons\n",
      "processing cdd_monthly_max_1mm, for 201211\n"
     ]
    },
    {
     "name": "stderr",
     "output_type": "stream",
     "text": [
      "\r",
      " 58%|█████▊    | 151/260 [14:39<12:13,  6.73s/it]"
     ]
    },
    {
     "name": "stdout",
     "output_type": "stream",
     "text": [
      "\tno intersect for 25 polygons\n",
      "processing cdd_monthly_max_1mm, for 201212\n"
     ]
    },
    {
     "name": "stderr",
     "output_type": "stream",
     "text": [
      "\r",
      " 58%|█████▊    | 152/260 [14:45<11:59,  6.66s/it]"
     ]
    },
    {
     "name": "stdout",
     "output_type": "stream",
     "text": [
      "\tno intersect for 25 polygons\n",
      "processing cdd_monthly_max_1mm, for 201301\n"
     ]
    },
    {
     "name": "stderr",
     "output_type": "stream",
     "text": [
      "\r",
      " 59%|█████▉    | 153/260 [14:51<11:43,  6.57s/it]"
     ]
    },
    {
     "name": "stdout",
     "output_type": "stream",
     "text": [
      "\tno intersect for 25 polygons\n",
      "processing cdd_monthly_max_1mm, for 201302\n"
     ]
    },
    {
     "name": "stderr",
     "output_type": "stream",
     "text": [
      "\r",
      " 59%|█████▉    | 154/260 [14:58<11:38,  6.59s/it]"
     ]
    },
    {
     "name": "stdout",
     "output_type": "stream",
     "text": [
      "\tno intersect for 25 polygons\n",
      "processing cdd_monthly_max_1mm, for 201303\n"
     ]
    },
    {
     "name": "stderr",
     "output_type": "stream",
     "text": [
      "\r",
      " 60%|█████▉    | 155/260 [15:05<11:41,  6.68s/it]"
     ]
    },
    {
     "name": "stdout",
     "output_type": "stream",
     "text": [
      "\tno intersect for 25 polygons\n",
      "processing cdd_monthly_max_1mm, for 201304\n"
     ]
    },
    {
     "name": "stderr",
     "output_type": "stream",
     "text": [
      "\r",
      " 60%|██████    | 156/260 [15:12<11:36,  6.69s/it]"
     ]
    },
    {
     "name": "stdout",
     "output_type": "stream",
     "text": [
      "\tno intersect for 25 polygons\n",
      "processing cdd_monthly_max_1mm, for 201305\n"
     ]
    },
    {
     "name": "stderr",
     "output_type": "stream",
     "text": [
      "\r",
      " 60%|██████    | 157/260 [15:18<11:28,  6.69s/it]"
     ]
    },
    {
     "name": "stdout",
     "output_type": "stream",
     "text": [
      "\tno intersect for 25 polygons\n",
      "processing cdd_monthly_max_1mm, for 201306\n"
     ]
    },
    {
     "name": "stderr",
     "output_type": "stream",
     "text": [
      "\r",
      " 61%|██████    | 158/260 [15:25<11:12,  6.60s/it]"
     ]
    },
    {
     "name": "stdout",
     "output_type": "stream",
     "text": [
      "\tno intersect for 25 polygons\n",
      "processing cdd_monthly_max_1mm, for 201307\n"
     ]
    },
    {
     "name": "stderr",
     "output_type": "stream",
     "text": [
      "\r",
      " 61%|██████    | 159/260 [15:31<11:06,  6.60s/it]"
     ]
    },
    {
     "name": "stdout",
     "output_type": "stream",
     "text": [
      "\tno intersect for 25 polygons\n",
      "processing cdd_monthly_max_1mm, for 201308\n"
     ]
    },
    {
     "name": "stderr",
     "output_type": "stream",
     "text": [
      "\r",
      " 62%|██████▏   | 160/260 [15:38<11:03,  6.64s/it]"
     ]
    },
    {
     "name": "stdout",
     "output_type": "stream",
     "text": [
      "\tno intersect for 25 polygons\n",
      "processing cdd_monthly_max_1mm, for 201309\n"
     ]
    },
    {
     "name": "stderr",
     "output_type": "stream",
     "text": [
      "\r",
      " 62%|██████▏   | 161/260 [15:45<10:56,  6.63s/it]"
     ]
    },
    {
     "name": "stdout",
     "output_type": "stream",
     "text": [
      "\tno intersect for 25 polygons\n",
      "processing cdd_monthly_max_1mm, for 201310\n"
     ]
    },
    {
     "name": "stderr",
     "output_type": "stream",
     "text": [
      "\r",
      " 62%|██████▏   | 162/260 [15:52<10:56,  6.70s/it]"
     ]
    },
    {
     "name": "stdout",
     "output_type": "stream",
     "text": [
      "\tno intersect for 25 polygons\n",
      "processing cdd_monthly_max_1mm, for 201311\n"
     ]
    },
    {
     "name": "stderr",
     "output_type": "stream",
     "text": [
      "\r",
      " 63%|██████▎   | 163/260 [15:58<10:50,  6.71s/it]"
     ]
    },
    {
     "name": "stdout",
     "output_type": "stream",
     "text": [
      "\tno intersect for 25 polygons\n",
      "processing cdd_monthly_max_1mm, for 201312\n"
     ]
    },
    {
     "name": "stderr",
     "output_type": "stream",
     "text": [
      "\r",
      " 63%|██████▎   | 164/260 [16:05<10:37,  6.64s/it]"
     ]
    },
    {
     "name": "stdout",
     "output_type": "stream",
     "text": [
      "\tno intersect for 25 polygons\n",
      "processing cdd_monthly_max_1mm, for 201401\n"
     ]
    },
    {
     "name": "stderr",
     "output_type": "stream",
     "text": [
      "\r",
      " 63%|██████▎   | 165/260 [16:11<10:26,  6.60s/it]"
     ]
    },
    {
     "name": "stdout",
     "output_type": "stream",
     "text": [
      "\tno intersect for 25 polygons\n",
      "processing cdd_monthly_max_1mm, for 201402\n"
     ]
    },
    {
     "name": "stderr",
     "output_type": "stream",
     "text": [
      "\r",
      " 64%|██████▍   | 166/260 [16:17<10:01,  6.40s/it]"
     ]
    },
    {
     "name": "stdout",
     "output_type": "stream",
     "text": [
      "\tno intersect for 25 polygons\n",
      "processing cdd_monthly_max_1mm, for 201403\n"
     ]
    },
    {
     "name": "stderr",
     "output_type": "stream",
     "text": [
      "\r",
      " 64%|██████▍   | 167/260 [16:23<09:35,  6.19s/it]"
     ]
    },
    {
     "name": "stdout",
     "output_type": "stream",
     "text": [
      "\tno intersect for 25 polygons\n",
      "processing cdd_monthly_max_1mm, for 201404\n"
     ]
    },
    {
     "name": "stderr",
     "output_type": "stream",
     "text": [
      "\r",
      " 65%|██████▍   | 168/260 [16:28<09:00,  5.87s/it]"
     ]
    },
    {
     "name": "stdout",
     "output_type": "stream",
     "text": [
      "\tno intersect for 25 polygons\n",
      "processing cdd_monthly_max_1mm, for 201405\n"
     ]
    },
    {
     "name": "stderr",
     "output_type": "stream",
     "text": [
      "\r",
      " 65%|██████▌   | 169/260 [16:33<08:41,  5.73s/it]"
     ]
    },
    {
     "name": "stdout",
     "output_type": "stream",
     "text": [
      "\tno intersect for 25 polygons\n",
      "processing cdd_monthly_max_1mm, for 201406\n"
     ]
    },
    {
     "name": "stderr",
     "output_type": "stream",
     "text": [
      "\r",
      " 65%|██████▌   | 170/260 [16:40<08:56,  5.96s/it]"
     ]
    },
    {
     "name": "stdout",
     "output_type": "stream",
     "text": [
      "\tno intersect for 25 polygons\n",
      "processing cdd_monthly_max_1mm, for 201407\n"
     ]
    },
    {
     "name": "stderr",
     "output_type": "stream",
     "text": [
      "\r",
      " 66%|██████▌   | 171/260 [16:47<09:07,  6.15s/it]"
     ]
    },
    {
     "name": "stdout",
     "output_type": "stream",
     "text": [
      "\tno intersect for 25 polygons\n",
      "processing cdd_monthly_max_1mm, for 201408\n"
     ]
    },
    {
     "name": "stderr",
     "output_type": "stream",
     "text": [
      "\r",
      " 66%|██████▌   | 172/260 [16:53<09:07,  6.23s/it]"
     ]
    },
    {
     "name": "stdout",
     "output_type": "stream",
     "text": [
      "\tno intersect for 25 polygons\n",
      "processing cdd_monthly_max_1mm, for 201409\n"
     ]
    },
    {
     "name": "stderr",
     "output_type": "stream",
     "text": [
      "\r",
      " 67%|██████▋   | 173/260 [16:59<09:09,  6.31s/it]"
     ]
    },
    {
     "name": "stdout",
     "output_type": "stream",
     "text": [
      "\tno intersect for 25 polygons\n",
      "processing cdd_monthly_max_1mm, for 201410\n"
     ]
    },
    {
     "name": "stderr",
     "output_type": "stream",
     "text": [
      "\r",
      " 67%|██████▋   | 174/260 [17:06<09:16,  6.47s/it]"
     ]
    },
    {
     "name": "stdout",
     "output_type": "stream",
     "text": [
      "\tno intersect for 25 polygons\n",
      "processing cdd_monthly_max_1mm, for 201411\n"
     ]
    },
    {
     "name": "stderr",
     "output_type": "stream",
     "text": [
      "\r",
      " 67%|██████▋   | 175/260 [17:13<09:11,  6.49s/it]"
     ]
    },
    {
     "name": "stdout",
     "output_type": "stream",
     "text": [
      "\tno intersect for 25 polygons\n",
      "processing cdd_monthly_max_1mm, for 201412\n"
     ]
    },
    {
     "name": "stderr",
     "output_type": "stream",
     "text": [
      "\r",
      " 68%|██████▊   | 176/260 [17:18<08:39,  6.18s/it]"
     ]
    },
    {
     "name": "stdout",
     "output_type": "stream",
     "text": [
      "\tno intersect for 25 polygons\n",
      "processing cdd_monthly_max_1mm, for 201501\n"
     ]
    },
    {
     "name": "stderr",
     "output_type": "stream",
     "text": [
      "\r",
      " 68%|██████▊   | 177/260 [17:23<08:08,  5.89s/it]"
     ]
    },
    {
     "name": "stdout",
     "output_type": "stream",
     "text": [
      "\tno intersect for 25 polygons\n",
      "processing cdd_monthly_max_1mm, for 201502\n"
     ]
    },
    {
     "name": "stderr",
     "output_type": "stream",
     "text": [
      "\r",
      " 68%|██████▊   | 178/260 [17:29<08:00,  5.86s/it]"
     ]
    },
    {
     "name": "stdout",
     "output_type": "stream",
     "text": [
      "\tno intersect for 25 polygons\n",
      "processing cdd_monthly_max_1mm, for 201503\n"
     ]
    },
    {
     "name": "stderr",
     "output_type": "stream",
     "text": [
      "\r",
      " 69%|██████▉   | 179/260 [17:35<07:45,  5.75s/it]"
     ]
    },
    {
     "name": "stdout",
     "output_type": "stream",
     "text": [
      "\tno intersect for 25 polygons\n",
      "processing cdd_monthly_max_1mm, for 201504\n"
     ]
    },
    {
     "name": "stderr",
     "output_type": "stream",
     "text": [
      "\r",
      " 69%|██████▉   | 180/260 [17:40<07:33,  5.66s/it]"
     ]
    },
    {
     "name": "stdout",
     "output_type": "stream",
     "text": [
      "\tno intersect for 25 polygons\n",
      "processing cdd_monthly_max_1mm, for 201505\n"
     ]
    },
    {
     "name": "stderr",
     "output_type": "stream",
     "text": [
      "\r",
      " 70%|██████▉   | 181/260 [17:46<07:23,  5.62s/it]"
     ]
    },
    {
     "name": "stdout",
     "output_type": "stream",
     "text": [
      "\tno intersect for 25 polygons\n",
      "processing cdd_monthly_max_1mm, for 201506\n"
     ]
    },
    {
     "name": "stderr",
     "output_type": "stream",
     "text": [
      "\r",
      " 70%|███████   | 182/260 [17:51<07:11,  5.53s/it]"
     ]
    },
    {
     "name": "stdout",
     "output_type": "stream",
     "text": [
      "\tno intersect for 25 polygons\n",
      "processing cdd_monthly_max_1mm, for 201507\n"
     ]
    },
    {
     "name": "stderr",
     "output_type": "stream",
     "text": [
      "\r",
      " 70%|███████   | 183/260 [17:57<07:11,  5.61s/it]"
     ]
    },
    {
     "name": "stdout",
     "output_type": "stream",
     "text": [
      "\tno intersect for 25 polygons\n",
      "processing cdd_monthly_max_1mm, for 201508\n"
     ]
    },
    {
     "name": "stderr",
     "output_type": "stream",
     "text": [
      "\r",
      " 71%|███████   | 184/260 [18:03<07:09,  5.65s/it]"
     ]
    },
    {
     "name": "stdout",
     "output_type": "stream",
     "text": [
      "\tno intersect for 25 polygons\n",
      "processing cdd_monthly_max_1mm, for 201509\n"
     ]
    },
    {
     "name": "stderr",
     "output_type": "stream",
     "text": [
      "\r",
      " 71%|███████   | 185/260 [18:08<06:57,  5.56s/it]"
     ]
    },
    {
     "name": "stdout",
     "output_type": "stream",
     "text": [
      "\tno intersect for 25 polygons\n",
      "processing cdd_monthly_max_1mm, for 201510\n"
     ]
    },
    {
     "name": "stderr",
     "output_type": "stream",
     "text": [
      "\r",
      " 72%|███████▏  | 186/260 [18:14<06:57,  5.64s/it]"
     ]
    },
    {
     "name": "stdout",
     "output_type": "stream",
     "text": [
      "\tno intersect for 25 polygons\n",
      "processing cdd_monthly_max_1mm, for 201511\n"
     ]
    },
    {
     "name": "stderr",
     "output_type": "stream",
     "text": [
      "\r",
      " 72%|███████▏  | 187/260 [18:19<06:51,  5.63s/it]"
     ]
    },
    {
     "name": "stdout",
     "output_type": "stream",
     "text": [
      "\tno intersect for 25 polygons\n",
      "processing cdd_monthly_max_1mm, for 201512\n"
     ]
    },
    {
     "name": "stderr",
     "output_type": "stream",
     "text": [
      "\r",
      " 72%|███████▏  | 188/260 [18:25<06:35,  5.49s/it]"
     ]
    },
    {
     "name": "stdout",
     "output_type": "stream",
     "text": [
      "\tno intersect for 25 polygons\n",
      "processing cdd_monthly_max_1mm, for 201601\n"
     ]
    },
    {
     "name": "stderr",
     "output_type": "stream",
     "text": [
      "\r",
      " 73%|███████▎  | 189/260 [18:30<06:28,  5.47s/it]"
     ]
    },
    {
     "name": "stdout",
     "output_type": "stream",
     "text": [
      "\tno intersect for 25 polygons\n",
      "processing cdd_monthly_max_1mm, for 201602\n"
     ]
    },
    {
     "name": "stderr",
     "output_type": "stream",
     "text": [
      "\r",
      " 73%|███████▎  | 190/260 [18:36<06:25,  5.50s/it]"
     ]
    },
    {
     "name": "stdout",
     "output_type": "stream",
     "text": [
      "\tno intersect for 25 polygons\n",
      "processing cdd_monthly_max_1mm, for 201603\n"
     ]
    },
    {
     "name": "stderr",
     "output_type": "stream",
     "text": [
      "\r",
      " 73%|███████▎  | 191/260 [18:41<06:17,  5.47s/it]"
     ]
    },
    {
     "name": "stdout",
     "output_type": "stream",
     "text": [
      "\tno intersect for 25 polygons\n",
      "processing cdd_monthly_max_1mm, for 201604\n"
     ]
    },
    {
     "name": "stderr",
     "output_type": "stream",
     "text": [
      "\r",
      " 74%|███████▍  | 192/260 [18:47<06:18,  5.57s/it]"
     ]
    },
    {
     "name": "stdout",
     "output_type": "stream",
     "text": [
      "\tno intersect for 25 polygons\n",
      "processing cdd_monthly_max_1mm, for 201605\n"
     ]
    },
    {
     "name": "stderr",
     "output_type": "stream",
     "text": [
      "\r",
      " 74%|███████▍  | 193/260 [18:52<06:14,  5.59s/it]"
     ]
    },
    {
     "name": "stdout",
     "output_type": "stream",
     "text": [
      "\tno intersect for 25 polygons\n",
      "processing cdd_monthly_max_1mm, for 201606\n"
     ]
    },
    {
     "name": "stderr",
     "output_type": "stream",
     "text": [
      "\r",
      " 75%|███████▍  | 194/260 [18:58<06:10,  5.61s/it]"
     ]
    },
    {
     "name": "stdout",
     "output_type": "stream",
     "text": [
      "\tno intersect for 25 polygons\n",
      "processing cdd_monthly_max_1mm, for 201607\n"
     ]
    },
    {
     "name": "stderr",
     "output_type": "stream",
     "text": [
      "\r",
      " 75%|███████▌  | 195/260 [19:04<06:12,  5.72s/it]"
     ]
    },
    {
     "name": "stdout",
     "output_type": "stream",
     "text": [
      "\tno intersect for 25 polygons\n",
      "processing cdd_monthly_max_1mm, for 201608\n"
     ]
    },
    {
     "name": "stderr",
     "output_type": "stream",
     "text": [
      "\r",
      " 75%|███████▌  | 196/260 [19:10<06:04,  5.69s/it]"
     ]
    },
    {
     "name": "stdout",
     "output_type": "stream",
     "text": [
      "\tno intersect for 25 polygons\n",
      "processing cdd_monthly_max_1mm, for 201609\n"
     ]
    },
    {
     "name": "stderr",
     "output_type": "stream",
     "text": [
      "\r",
      " 76%|███████▌  | 197/260 [19:15<05:52,  5.59s/it]"
     ]
    },
    {
     "name": "stdout",
     "output_type": "stream",
     "text": [
      "\tno intersect for 25 polygons\n",
      "processing cdd_monthly_max_1mm, for 201610\n"
     ]
    },
    {
     "name": "stderr",
     "output_type": "stream",
     "text": [
      "\r",
      " 76%|███████▌  | 198/260 [19:21<05:50,  5.66s/it]"
     ]
    },
    {
     "name": "stdout",
     "output_type": "stream",
     "text": [
      "\tno intersect for 25 polygons\n",
      "processing cdd_monthly_max_1mm, for 201611\n"
     ]
    },
    {
     "name": "stderr",
     "output_type": "stream",
     "text": [
      "\r",
      " 77%|███████▋  | 199/260 [19:27<05:48,  5.71s/it]"
     ]
    },
    {
     "name": "stdout",
     "output_type": "stream",
     "text": [
      "\tno intersect for 25 polygons\n",
      "processing cdd_monthly_max_1mm, for 201612\n"
     ]
    },
    {
     "name": "stderr",
     "output_type": "stream",
     "text": [
      "\r",
      " 77%|███████▋  | 200/260 [19:32<05:42,  5.71s/it]"
     ]
    },
    {
     "name": "stdout",
     "output_type": "stream",
     "text": [
      "\tno intersect for 25 polygons\n",
      "processing cdd_monthly_max_1mm, for 201701\n"
     ]
    },
    {
     "name": "stderr",
     "output_type": "stream",
     "text": [
      "\r",
      " 77%|███████▋  | 201/260 [19:38<05:33,  5.66s/it]"
     ]
    },
    {
     "name": "stdout",
     "output_type": "stream",
     "text": [
      "\tno intersect for 25 polygons\n",
      "processing cdd_monthly_max_1mm, for 201702\n"
     ]
    },
    {
     "name": "stderr",
     "output_type": "stream",
     "text": [
      "\r",
      " 78%|███████▊  | 202/260 [19:43<05:22,  5.56s/it]"
     ]
    },
    {
     "name": "stdout",
     "output_type": "stream",
     "text": [
      "\tno intersect for 25 polygons\n",
      "processing cdd_monthly_max_1mm, for 201703\n"
     ]
    },
    {
     "name": "stderr",
     "output_type": "stream",
     "text": [
      "\r",
      " 78%|███████▊  | 203/260 [19:49<05:16,  5.56s/it]"
     ]
    },
    {
     "name": "stdout",
     "output_type": "stream",
     "text": [
      "\tno intersect for 25 polygons\n",
      "processing cdd_monthly_max_1mm, for 201704\n"
     ]
    },
    {
     "name": "stderr",
     "output_type": "stream",
     "text": [
      "\r",
      " 78%|███████▊  | 204/260 [19:55<05:14,  5.61s/it]"
     ]
    },
    {
     "name": "stdout",
     "output_type": "stream",
     "text": [
      "\tno intersect for 25 polygons\n",
      "processing cdd_monthly_max_1mm, for 201705\n"
     ]
    },
    {
     "name": "stderr",
     "output_type": "stream",
     "text": [
      "\r",
      " 79%|███████▉  | 205/260 [20:01<05:24,  5.89s/it]"
     ]
    },
    {
     "name": "stdout",
     "output_type": "stream",
     "text": [
      "\tno intersect for 25 polygons\n",
      "processing cdd_monthly_max_1mm, for 201706\n"
     ]
    },
    {
     "name": "stderr",
     "output_type": "stream",
     "text": [
      "\r",
      " 79%|███████▉  | 206/260 [20:07<05:26,  6.04s/it]"
     ]
    },
    {
     "name": "stdout",
     "output_type": "stream",
     "text": [
      "\tno intersect for 25 polygons\n",
      "processing cdd_monthly_max_1mm, for 201707\n"
     ]
    },
    {
     "name": "stderr",
     "output_type": "stream",
     "text": [
      "\r",
      " 80%|███████▉  | 207/260 [20:14<05:27,  6.18s/it]"
     ]
    },
    {
     "name": "stdout",
     "output_type": "stream",
     "text": [
      "\tno intersect for 25 polygons\n",
      "processing cdd_monthly_max_1mm, for 201708\n"
     ]
    },
    {
     "name": "stderr",
     "output_type": "stream",
     "text": [
      "\r",
      " 80%|████████  | 208/260 [20:21<05:27,  6.29s/it]"
     ]
    },
    {
     "name": "stdout",
     "output_type": "stream",
     "text": [
      "\tno intersect for 25 polygons\n",
      "processing cdd_monthly_max_1mm, for 201709\n"
     ]
    },
    {
     "name": "stderr",
     "output_type": "stream",
     "text": [
      "\r",
      " 80%|████████  | 209/260 [20:26<05:15,  6.18s/it]"
     ]
    },
    {
     "name": "stdout",
     "output_type": "stream",
     "text": [
      "\tno intersect for 25 polygons\n",
      "processing cdd_monthly_max_1mm, for 201710\n"
     ]
    },
    {
     "name": "stderr",
     "output_type": "stream",
     "text": [
      "\r",
      " 81%|████████  | 210/260 [20:33<05:12,  6.25s/it]"
     ]
    },
    {
     "name": "stdout",
     "output_type": "stream",
     "text": [
      "\tno intersect for 25 polygons\n",
      "processing cdd_monthly_max_1mm, for 201711\n"
     ]
    },
    {
     "name": "stderr",
     "output_type": "stream",
     "text": [
      "\r",
      " 81%|████████  | 211/260 [20:39<05:10,  6.34s/it]"
     ]
    },
    {
     "name": "stdout",
     "output_type": "stream",
     "text": [
      "\tno intersect for 25 polygons\n",
      "processing cdd_monthly_max_1mm, for 201712\n"
     ]
    },
    {
     "name": "stderr",
     "output_type": "stream",
     "text": [
      "\r",
      " 82%|████████▏ | 212/260 [20:46<05:04,  6.34s/it]"
     ]
    },
    {
     "name": "stdout",
     "output_type": "stream",
     "text": [
      "\tno intersect for 25 polygons\n",
      "processing cdd_monthly_max_1mm, for 201801\n"
     ]
    },
    {
     "name": "stderr",
     "output_type": "stream",
     "text": [
      "\r",
      " 82%|████████▏ | 213/260 [20:52<04:57,  6.33s/it]"
     ]
    },
    {
     "name": "stdout",
     "output_type": "stream",
     "text": [
      "\tno intersect for 25 polygons\n",
      "processing cdd_monthly_max_1mm, for 201802\n"
     ]
    },
    {
     "name": "stderr",
     "output_type": "stream",
     "text": [
      "\r",
      " 82%|████████▏ | 214/260 [20:59<04:56,  6.45s/it]"
     ]
    },
    {
     "name": "stdout",
     "output_type": "stream",
     "text": [
      "\tno intersect for 25 polygons\n",
      "processing cdd_monthly_max_1mm, for 201803\n"
     ]
    },
    {
     "name": "stderr",
     "output_type": "stream",
     "text": [
      "\r",
      " 83%|████████▎ | 215/260 [21:05<04:44,  6.32s/it]"
     ]
    },
    {
     "name": "stdout",
     "output_type": "stream",
     "text": [
      "\tno intersect for 25 polygons\n",
      "processing cdd_monthly_max_1mm, for 201804\n"
     ]
    },
    {
     "name": "stderr",
     "output_type": "stream",
     "text": [
      "\r",
      " 83%|████████▎ | 216/260 [21:11<04:31,  6.18s/it]"
     ]
    },
    {
     "name": "stdout",
     "output_type": "stream",
     "text": [
      "\tno intersect for 25 polygons\n",
      "processing cdd_monthly_max_1mm, for 201805\n"
     ]
    },
    {
     "name": "stderr",
     "output_type": "stream",
     "text": [
      "\r",
      " 83%|████████▎ | 217/260 [21:17<04:23,  6.13s/it]"
     ]
    },
    {
     "name": "stdout",
     "output_type": "stream",
     "text": [
      "\tno intersect for 25 polygons\n",
      "processing cdd_monthly_max_1mm, for 201806\n"
     ]
    },
    {
     "name": "stderr",
     "output_type": "stream",
     "text": [
      "\r",
      " 84%|████████▍ | 218/260 [21:23<04:22,  6.25s/it]"
     ]
    },
    {
     "name": "stdout",
     "output_type": "stream",
     "text": [
      "\tno intersect for 25 polygons\n",
      "processing cdd_monthly_max_1mm, for 201807\n"
     ]
    },
    {
     "name": "stderr",
     "output_type": "stream",
     "text": [
      "\r",
      " 84%|████████▍ | 219/260 [21:30<04:19,  6.32s/it]"
     ]
    },
    {
     "name": "stdout",
     "output_type": "stream",
     "text": [
      "\tno intersect for 25 polygons\n",
      "processing cdd_monthly_max_1mm, for 201808\n"
     ]
    },
    {
     "name": "stderr",
     "output_type": "stream",
     "text": [
      "\r",
      " 85%|████████▍ | 220/260 [21:36<04:18,  6.45s/it]"
     ]
    },
    {
     "name": "stdout",
     "output_type": "stream",
     "text": [
      "\tno intersect for 25 polygons\n",
      "processing cdd_monthly_max_1mm, for 201809\n"
     ]
    },
    {
     "name": "stderr",
     "output_type": "stream",
     "text": [
      "\r",
      " 85%|████████▌ | 221/260 [21:43<04:13,  6.49s/it]"
     ]
    },
    {
     "name": "stdout",
     "output_type": "stream",
     "text": [
      "\tno intersect for 25 polygons\n",
      "processing cdd_monthly_max_1mm, for 201810\n"
     ]
    },
    {
     "name": "stderr",
     "output_type": "stream",
     "text": [
      "\r",
      " 85%|████████▌ | 222/260 [21:50<04:07,  6.51s/it]"
     ]
    },
    {
     "name": "stdout",
     "output_type": "stream",
     "text": [
      "\tno intersect for 25 polygons\n",
      "processing cdd_monthly_max_1mm, for 201811\n"
     ]
    },
    {
     "name": "stderr",
     "output_type": "stream",
     "text": [
      "\r",
      " 86%|████████▌ | 223/260 [21:56<03:55,  6.37s/it]"
     ]
    },
    {
     "name": "stdout",
     "output_type": "stream",
     "text": [
      "\tno intersect for 25 polygons\n",
      "processing cdd_monthly_max_1mm, for 201812\n"
     ]
    },
    {
     "name": "stderr",
     "output_type": "stream",
     "text": [
      "\r",
      " 86%|████████▌ | 224/260 [22:02<03:51,  6.43s/it]"
     ]
    },
    {
     "name": "stdout",
     "output_type": "stream",
     "text": [
      "\tno intersect for 25 polygons\n",
      "processing cdd_monthly_max_1mm, for 201901\n"
     ]
    },
    {
     "name": "stderr",
     "output_type": "stream",
     "text": [
      "\r",
      " 87%|████████▋ | 225/260 [22:08<03:37,  6.23s/it]"
     ]
    },
    {
     "name": "stdout",
     "output_type": "stream",
     "text": [
      "\tno intersect for 25 polygons\n",
      "processing cdd_monthly_max_1mm, for 201902\n"
     ]
    },
    {
     "name": "stderr",
     "output_type": "stream",
     "text": [
      "\r",
      " 87%|████████▋ | 226/260 [22:14<03:29,  6.17s/it]"
     ]
    },
    {
     "name": "stdout",
     "output_type": "stream",
     "text": [
      "\tno intersect for 25 polygons\n",
      "processing cdd_monthly_max_1mm, for 201903\n"
     ]
    },
    {
     "name": "stderr",
     "output_type": "stream",
     "text": [
      "\r",
      " 87%|████████▋ | 227/260 [22:20<03:25,  6.24s/it]"
     ]
    },
    {
     "name": "stdout",
     "output_type": "stream",
     "text": [
      "\tno intersect for 25 polygons\n",
      "processing cdd_monthly_max_1mm, for 201904\n"
     ]
    },
    {
     "name": "stderr",
     "output_type": "stream",
     "text": [
      "\r",
      " 88%|████████▊ | 228/260 [22:27<03:21,  6.28s/it]"
     ]
    },
    {
     "name": "stdout",
     "output_type": "stream",
     "text": [
      "\tno intersect for 25 polygons\n",
      "processing cdd_monthly_max_1mm, for 201905\n"
     ]
    },
    {
     "name": "stderr",
     "output_type": "stream",
     "text": [
      "\r",
      " 88%|████████▊ | 229/260 [22:33<03:15,  6.30s/it]"
     ]
    },
    {
     "name": "stdout",
     "output_type": "stream",
     "text": [
      "\tno intersect for 25 polygons\n",
      "processing cdd_monthly_max_1mm, for 201906\n"
     ]
    },
    {
     "name": "stderr",
     "output_type": "stream",
     "text": [
      "\r",
      " 88%|████████▊ | 230/260 [22:40<03:09,  6.32s/it]"
     ]
    },
    {
     "name": "stdout",
     "output_type": "stream",
     "text": [
      "\tno intersect for 25 polygons\n",
      "processing cdd_monthly_max_1mm, for 201907\n"
     ]
    },
    {
     "name": "stderr",
     "output_type": "stream",
     "text": [
      "\r",
      " 89%|████████▉ | 231/260 [22:46<03:05,  6.38s/it]"
     ]
    },
    {
     "name": "stdout",
     "output_type": "stream",
     "text": [
      "\tno intersect for 25 polygons\n",
      "processing cdd_monthly_max_1mm, for 201908\n"
     ]
    },
    {
     "name": "stderr",
     "output_type": "stream",
     "text": [
      "\r",
      " 89%|████████▉ | 232/260 [22:52<02:52,  6.17s/it]"
     ]
    },
    {
     "name": "stdout",
     "output_type": "stream",
     "text": [
      "\tno intersect for 25 polygons\n",
      "processing cdd_monthly_max_1mm, for 201909\n"
     ]
    },
    {
     "name": "stderr",
     "output_type": "stream",
     "text": [
      "\r",
      " 90%|████████▉ | 233/260 [22:57<02:40,  5.94s/it]"
     ]
    },
    {
     "name": "stdout",
     "output_type": "stream",
     "text": [
      "\tno intersect for 25 polygons\n",
      "processing cdd_monthly_max_1mm, for 201910\n"
     ]
    },
    {
     "name": "stderr",
     "output_type": "stream",
     "text": [
      "\r",
      " 90%|█████████ | 234/260 [23:03<02:30,  5.81s/it]"
     ]
    },
    {
     "name": "stdout",
     "output_type": "stream",
     "text": [
      "\tno intersect for 25 polygons\n",
      "processing cdd_monthly_max_1mm, for 201911\n"
     ]
    },
    {
     "name": "stderr",
     "output_type": "stream",
     "text": [
      "\r",
      " 90%|█████████ | 235/260 [23:08<02:21,  5.68s/it]"
     ]
    },
    {
     "name": "stdout",
     "output_type": "stream",
     "text": [
      "\tno intersect for 25 polygons\n",
      "processing cdd_monthly_max_1mm, for 201912\n"
     ]
    },
    {
     "name": "stderr",
     "output_type": "stream",
     "text": [
      "\r",
      " 91%|█████████ | 236/260 [23:13<02:14,  5.59s/it]"
     ]
    },
    {
     "name": "stdout",
     "output_type": "stream",
     "text": [
      "\tno intersect for 25 polygons\n",
      "processing cdd_monthly_max_1mm, for 202001\n"
     ]
    },
    {
     "name": "stderr",
     "output_type": "stream",
     "text": [
      "\r",
      " 91%|█████████ | 237/260 [23:19<02:07,  5.54s/it]"
     ]
    },
    {
     "name": "stdout",
     "output_type": "stream",
     "text": [
      "\tno intersect for 25 polygons\n",
      "processing cdd_monthly_max_1mm, for 202002\n"
     ]
    },
    {
     "name": "stderr",
     "output_type": "stream",
     "text": [
      "\r",
      " 92%|█████████▏| 238/260 [23:24<02:00,  5.48s/it]"
     ]
    },
    {
     "name": "stdout",
     "output_type": "stream",
     "text": [
      "\tno intersect for 25 polygons\n",
      "processing cdd_monthly_max_1mm, for 202003\n"
     ]
    },
    {
     "name": "stderr",
     "output_type": "stream",
     "text": [
      "\r",
      " 92%|█████████▏| 239/260 [23:30<01:57,  5.58s/it]"
     ]
    },
    {
     "name": "stdout",
     "output_type": "stream",
     "text": [
      "\tno intersect for 25 polygons\n",
      "processing cdd_monthly_max_1mm, for 202004\n"
     ]
    },
    {
     "name": "stderr",
     "output_type": "stream",
     "text": [
      "\r",
      " 92%|█████████▏| 240/260 [23:35<01:50,  5.53s/it]"
     ]
    },
    {
     "name": "stdout",
     "output_type": "stream",
     "text": [
      "\tno intersect for 25 polygons\n",
      "processing cdd_monthly_max_1mm, for 202005\n"
     ]
    },
    {
     "name": "stderr",
     "output_type": "stream",
     "text": [
      "\r",
      " 93%|█████████▎| 241/260 [23:41<01:46,  5.61s/it]"
     ]
    },
    {
     "name": "stdout",
     "output_type": "stream",
     "text": [
      "\tno intersect for 25 polygons\n",
      "processing cdd_monthly_max_1mm, for 202006\n"
     ]
    },
    {
     "name": "stderr",
     "output_type": "stream",
     "text": [
      "\r",
      " 93%|█████████▎| 242/260 [23:47<01:39,  5.55s/it]"
     ]
    },
    {
     "name": "stdout",
     "output_type": "stream",
     "text": [
      "\tno intersect for 25 polygons\n",
      "processing cdd_monthly_max_1mm, for 202007\n"
     ]
    },
    {
     "name": "stderr",
     "output_type": "stream",
     "text": [
      "\r",
      " 93%|█████████▎| 243/260 [23:52<01:33,  5.50s/it]"
     ]
    },
    {
     "name": "stdout",
     "output_type": "stream",
     "text": [
      "\tno intersect for 25 polygons\n",
      "processing cdd_monthly_max_1mm, for 202008\n"
     ]
    },
    {
     "name": "stderr",
     "output_type": "stream",
     "text": [
      "\r",
      " 94%|█████████▍| 244/260 [23:58<01:28,  5.51s/it]"
     ]
    },
    {
     "name": "stdout",
     "output_type": "stream",
     "text": [
      "\tno intersect for 25 polygons\n",
      "processing cdd_monthly_max_1mm, for 202009\n"
     ]
    },
    {
     "name": "stderr",
     "output_type": "stream",
     "text": [
      "\r",
      " 94%|█████████▍| 245/260 [24:03<01:22,  5.48s/it]"
     ]
    },
    {
     "name": "stdout",
     "output_type": "stream",
     "text": [
      "\tno intersect for 25 polygons\n",
      "processing cdd_monthly_max_1mm, for 202010\n"
     ]
    },
    {
     "name": "stderr",
     "output_type": "stream",
     "text": [
      "\r",
      " 95%|█████████▍| 246/260 [24:08<01:16,  5.47s/it]"
     ]
    },
    {
     "name": "stdout",
     "output_type": "stream",
     "text": [
      "\tno intersect for 25 polygons\n",
      "processing cdd_monthly_max_1mm, for 202011\n"
     ]
    },
    {
     "name": "stderr",
     "output_type": "stream",
     "text": [
      "\r",
      " 95%|█████████▌| 247/260 [24:14<01:10,  5.46s/it]"
     ]
    },
    {
     "name": "stdout",
     "output_type": "stream",
     "text": [
      "\tno intersect for 25 polygons\n",
      "processing cdd_monthly_max_1mm, for 202012\n"
     ]
    },
    {
     "name": "stderr",
     "output_type": "stream",
     "text": [
      "\r",
      " 95%|█████████▌| 248/260 [24:19<01:04,  5.42s/it]"
     ]
    },
    {
     "name": "stdout",
     "output_type": "stream",
     "text": [
      "\tno intersect for 25 polygons\n",
      "processing cdd_monthly_max_1mm, for 202101\n"
     ]
    },
    {
     "name": "stderr",
     "output_type": "stream",
     "text": [
      "\r",
      " 96%|█████████▌| 249/260 [24:24<00:58,  5.36s/it]"
     ]
    },
    {
     "name": "stdout",
     "output_type": "stream",
     "text": [
      "\tno intersect for 25 polygons\n",
      "processing cdd_monthly_max_1mm, for 202102\n"
     ]
    },
    {
     "name": "stderr",
     "output_type": "stream",
     "text": [
      "\r",
      " 96%|█████████▌| 250/260 [24:29<00:52,  5.27s/it]"
     ]
    },
    {
     "name": "stdout",
     "output_type": "stream",
     "text": [
      "\tno intersect for 25 polygons\n",
      "processing cdd_monthly_max_1mm, for 202103\n"
     ]
    },
    {
     "name": "stderr",
     "output_type": "stream",
     "text": [
      "\r",
      " 97%|█████████▋| 251/260 [24:34<00:46,  5.19s/it]"
     ]
    },
    {
     "name": "stdout",
     "output_type": "stream",
     "text": [
      "\tno intersect for 25 polygons\n",
      "processing cdd_monthly_max_1mm, for 202104\n"
     ]
    },
    {
     "name": "stderr",
     "output_type": "stream",
     "text": [
      "\r",
      " 97%|█████████▋| 252/260 [24:39<00:41,  5.14s/it]"
     ]
    },
    {
     "name": "stdout",
     "output_type": "stream",
     "text": [
      "\tno intersect for 25 polygons\n",
      "processing cdd_monthly_max_1mm, for 202105\n"
     ]
    },
    {
     "name": "stderr",
     "output_type": "stream",
     "text": [
      "\r",
      " 97%|█████████▋| 253/260 [24:45<00:35,  5.14s/it]"
     ]
    },
    {
     "name": "stdout",
     "output_type": "stream",
     "text": [
      "\tno intersect for 25 polygons\n",
      "processing cdd_monthly_max_1mm, for 202106\n"
     ]
    },
    {
     "name": "stderr",
     "output_type": "stream",
     "text": [
      "\r",
      " 98%|█████████▊| 254/260 [24:50<00:30,  5.11s/it]"
     ]
    },
    {
     "name": "stdout",
     "output_type": "stream",
     "text": [
      "\tno intersect for 25 polygons\n",
      "processing cdd_monthly_max_1mm, for 202107\n"
     ]
    },
    {
     "name": "stderr",
     "output_type": "stream",
     "text": [
      "\r",
      " 98%|█████████▊| 255/260 [24:55<00:25,  5.14s/it]"
     ]
    },
    {
     "name": "stdout",
     "output_type": "stream",
     "text": [
      "\tno intersect for 25 polygons\n",
      "processing cdd_monthly_max_1mm, for 202108\n"
     ]
    },
    {
     "name": "stderr",
     "output_type": "stream",
     "text": [
      "\r",
      " 98%|█████████▊| 256/260 [25:00<00:21,  5.25s/it]"
     ]
    },
    {
     "name": "stdout",
     "output_type": "stream",
     "text": [
      "\tno intersect for 25 polygons\n",
      "processing cdd_monthly_max_1mm, for 202109\n"
     ]
    },
    {
     "name": "stderr",
     "output_type": "stream",
     "text": [
      "\r",
      " 99%|█████████▉| 257/260 [25:06<00:15,  5.26s/it]"
     ]
    },
    {
     "name": "stdout",
     "output_type": "stream",
     "text": [
      "\tno intersect for 25 polygons\n",
      "processing cdd_monthly_max_1mm, for 202110\n"
     ]
    },
    {
     "name": "stderr",
     "output_type": "stream",
     "text": [
      "\r",
      " 99%|█████████▉| 258/260 [25:11<00:10,  5.24s/it]"
     ]
    },
    {
     "name": "stdout",
     "output_type": "stream",
     "text": [
      "\tno intersect for 25 polygons\n",
      "processing cdd_monthly_max_1mm, for 202111\n"
     ]
    },
    {
     "name": "stderr",
     "output_type": "stream",
     "text": [
      "\r",
      "100%|█████████▉| 259/260 [25:16<00:05,  5.29s/it]"
     ]
    },
    {
     "name": "stdout",
     "output_type": "stream",
     "text": [
      "\tno intersect for 25 polygons\n",
      "processing cdd_monthly_max_1mm, for 202112\n"
     ]
    },
    {
     "name": "stderr",
     "output_type": "stream",
     "text": [
      "100%|██████████| 260/260 [25:22<00:00,  5.86s/it]"
     ]
    },
    {
     "name": "stdout",
     "output_type": "stream",
     "text": [
      "\tno intersect for 25 polygons\n"
     ]
    },
    {
     "name": "stderr",
     "output_type": "stream",
     "text": [
      "\n"
     ]
    }
   ],
   "source": [
    "dfs = []\n",
    "for page in result:\n",
    "    \n",
    "    # iterate through raster files\n",
    "    for item in tqdm(page['Contents']):\n",
    "        fname = item['Key']\n",
    "        if fname.endswith('.tif'):\n",
    "            url = 's3://wbgdecinternal-ntl/' + fname\n",
    "            date = fname[fname.find('.tif')-6:fname.find('.tif')]\n",
    "            print(f\"processing {prefix}, for {date}\")\n",
    "            data_rio = rio.open(url)\n",
    "            \n",
    "            # iterate through adm polygons\n",
    "            res = {}\n",
    "            fail = 0\n",
    "            for idx, row in adm1.iterrows():\n",
    "                try:\n",
    "                    window = features.geometry_window(data_rio, [row.geometry])\n",
    "                    ul_y = window.col_off\n",
    "                    lr_x = window.row_off\n",
    "                    t = data_rio.transform\n",
    "                    shifted_affine = Affine(t.a, t.b, t.c+ul_y*t.a, t.d, t.e, t.f+lr_x*t.e)\n",
    "                    data = data_rio.read(1, window=window)\n",
    "                    zs = zonal_stats(row.geometry, data, affine=shifted_affine, nodata=data_rio.nodata, stats=['median','max', 'mean', 'std'], prefix=prefix+\"_\")\n",
    "                    res[idx] = zs[0]\n",
    "                except:\n",
    "                    fail+=1\n",
    "                    res[idx] = {\n",
    "                        f'{prefix}_max': pd.NA,\n",
    "                        f'{prefix}_mean': pd.NA,\n",
    "                        f'{prefix}_std': pd.NA,\n",
    "                        f'{prefix}_median': pd.NA\n",
    "                    }\n",
    "#                 print(f\"done with {idx}\")\n",
    "            print(f\"\\tno intersect for {fail} polygons\")\n",
    "            df = pd.DataFrame(res).transpose()\n",
    "            df.loc[:, \"date\"] = date\n",
    "            dfs.append(df)"
   ]
  },
  {
   "cell_type": "code",
   "execution_count": 69,
   "metadata": {},
   "outputs": [],
   "source": [
    "out_dir = join(expanduser(\"~\"), 'data', 'pacific', 'output', 'climate')\n",
    "if not os.path.exists(out_dir):\n",
    "    os.mkdir(out_dir)"
   ]
  },
  {
   "cell_type": "code",
   "execution_count": 70,
   "metadata": {},
   "outputs": [],
   "source": [
    "df_merge = pd.concat(dfs)"
   ]
  },
  {
   "cell_type": "code",
   "execution_count": 79,
   "metadata": {},
   "outputs": [],
   "source": [
    "df_join = adm1[['ADM0_NAME', 'ADM0_PCODE', 'ADM1_NAME', 'ADM1_PCODE']].join(df_merge)"
   ]
  },
  {
   "cell_type": "code",
   "execution_count": 80,
   "metadata": {},
   "outputs": [],
   "source": [
    "df_join.reset_index(inplace=True)"
   ]
  },
  {
   "cell_type": "code",
   "execution_count": 83,
   "metadata": {},
   "outputs": [],
   "source": [
    "df_join.to_csv(os.path.join(out_dir, f'adm1_{prefix}.csv'))"
   ]
  },
  {
   "cell_type": "markdown",
   "metadata": {},
   "source": [
    "**CDD 5 mm**"
   ]
  },
  {
   "cell_type": "code",
   "execution_count": 86,
   "metadata": {},
   "outputs": [],
   "source": [
    "dataset = 'cdd-imerg'\n",
    "indicator = 'cdd_monthly_max'\n",
    "indicator_type = '5mm'\n",
    "prefix = indicator+\"_\"+indicator_type\n",
    "result = paginator.paginate(Bucket='wbgdecinternal-ntl', Prefix=f'climate/products/{dataset}/{prefix}/', Delimiter='/')"
   ]
  },
  {
   "cell_type": "code",
   "execution_count": 87,
   "metadata": {},
   "outputs": [
    {
     "name": "stderr",
     "output_type": "stream",
     "text": [
      "100%|██████████| 260/260 [26:10<00:00,  6.04s/it]\n"
     ]
    }
   ],
   "source": [
    "dfs = []\n",
    "for page in result:\n",
    "    \n",
    "    # iterate through raster files\n",
    "    for item in tqdm(page['Contents']):\n",
    "        fname = item['Key']\n",
    "        if fname.endswith('.tif'):\n",
    "            url = 's3://wbgdecinternal-ntl/' + fname\n",
    "            date = fname[fname.find('.tif')-6:fname.find('.tif')]\n",
    "#             print(f\"processing {prefix}, for {date}\")\n",
    "            data_rio = rio.open(url)\n",
    "            \n",
    "            # iterate through adm polygons\n",
    "            res = {}\n",
    "            fail = 0\n",
    "            for idx, row in adm1.iterrows():\n",
    "                try:\n",
    "                    window = features.geometry_window(data_rio, [row.geometry])\n",
    "                    ul_y = window.col_off\n",
    "                    lr_x = window.row_off\n",
    "                    t = data_rio.transform\n",
    "                    shifted_affine = Affine(t.a, t.b, t.c+ul_y*t.a, t.d, t.e, t.f+lr_x*t.e)\n",
    "                    data = data_rio.read(1, window=window)\n",
    "                    zs = zonal_stats(row.geometry, data, affine=shifted_affine, nodata=data_rio.nodata, stats=['median','max', 'mean', 'std'], prefix=prefix+\"_\")\n",
    "                    res[idx] = zs[0]\n",
    "                except:\n",
    "                    fail+=1\n",
    "                    res[idx] = {\n",
    "                        f'{prefix}_max': pd.NA,\n",
    "                        f'{prefix}_mean': pd.NA,\n",
    "                        f'{prefix}_std': pd.NA,\n",
    "                        f'{prefix}_median': pd.NA\n",
    "                    }\n",
    "#                 print(f\"done with {idx}\")\n",
    "#             print(f\"\\tno intersect for {fail} polygons\")\n",
    "            df = pd.DataFrame(res).transpose()\n",
    "            df.loc[:, \"date\"] = date\n",
    "            dfs.append(df)"
   ]
  },
  {
   "cell_type": "code",
   "execution_count": 88,
   "metadata": {},
   "outputs": [],
   "source": [
    "df_merge = pd.concat(dfs)\n",
    "df_merge.reset_index(inplace=True)\n",
    "df_merge.to_csv(os.path.join(out_dir, f'adm1_{prefix}.csv'))"
   ]
  },
  {
   "cell_type": "markdown",
   "metadata": {},
   "source": [
    "**CWD 1 mm**"
   ]
  },
  {
   "cell_type": "code",
   "execution_count": 108,
   "metadata": {},
   "outputs": [
    {
     "name": "stderr",
     "output_type": "stream",
     "text": [
      "100%|██████████| 260/260 [25:09<00:00,  5.81s/it]\n"
     ]
    }
   ],
   "source": [
    "dataset = 'cwd-imerg'\n",
    "indicator = 'cwd_monthly_max'\n",
    "indicator_type = '1mm'\n",
    "prefix = indicator+\"_\"+indicator_type\n",
    "result = paginator.paginate(Bucket='wbgdecinternal-ntl', Prefix=f'climate/products/{dataset}/{prefix}/', Delimiter='/')\n",
    "\n",
    "dfs = []\n",
    "for page in result:\n",
    "    \n",
    "    # iterate through raster files\n",
    "    for item in tqdm(page['Contents']):\n",
    "        fname = item['Key']\n",
    "        if fname.endswith('.tif'):\n",
    "            url = 's3://wbgdecinternal-ntl/' + fname\n",
    "            date = fname[fname.find('.tif')-6:fname.find('.tif')]\n",
    "#             print(f\"processing {prefix}, for {date}\")\n",
    "            data_rio = rio.open(url)\n",
    "            \n",
    "            # iterate through adm polygons\n",
    "            res = {}\n",
    "            fail = 0\n",
    "            for idx, row in adm1.iterrows():\n",
    "                try:\n",
    "                    window = features.geometry_window(data_rio, [row.geometry])\n",
    "                    ul_y = window.col_off\n",
    "                    lr_x = window.row_off\n",
    "                    t = data_rio.transform\n",
    "                    shifted_affine = Affine(t.a, t.b, t.c+ul_y*t.a, t.d, t.e, t.f+lr_x*t.e)\n",
    "                    data = data_rio.read(1, window=window)\n",
    "                    zs = zonal_stats(row.geometry, data, affine=shifted_affine, nodata=data_rio.nodata, stats=['median','max', 'mean', 'std'], prefix=prefix+\"_\")\n",
    "                    res[idx] = zs[0]\n",
    "                except:\n",
    "                    fail+=1\n",
    "                    res[idx] = {\n",
    "                        f'{prefix}_max': pd.NA,\n",
    "                        f'{prefix}_mean': pd.NA,\n",
    "                        f'{prefix}_std': pd.NA,\n",
    "                        f'{prefix}_median': pd.NA\n",
    "                    }\n",
    "#                 print(f\"done with {idx}\")\n",
    "#             print(f\"\\tno intersect for {fail} polygons\")\n",
    "            df = pd.DataFrame(res).transpose()\n",
    "            df.loc[:, \"date\"] = date\n",
    "            dfs.append(df)\n",
    "\n",
    "df_merge = pd.concat(dfs)\n",
    "df_merge.reset_index(inplace=True)\n",
    "df_merge.to_csv(os.path.join(out_dir, f'adm1_{prefix}.csv'))"
   ]
  },
  {
   "cell_type": "markdown",
   "metadata": {},
   "source": [
    "**CWD 5 mm**"
   ]
  },
  {
   "cell_type": "code",
   "execution_count": 109,
   "metadata": {},
   "outputs": [
    {
     "name": "stderr",
     "output_type": "stream",
     "text": [
      "100%|██████████| 260/260 [24:41<00:00,  5.70s/it]\n"
     ]
    }
   ],
   "source": [
    "dataset = 'cwd-imerg'\n",
    "indicator = 'cwd_monthly_max'\n",
    "indicator_type = '5mm'\n",
    "prefix = indicator+\"_\"+indicator_type\n",
    "result = paginator.paginate(Bucket='wbgdecinternal-ntl', Prefix=f'climate/products/{dataset}/{prefix}/', Delimiter='/')\n",
    "\n",
    "dfs = []\n",
    "for page in result:\n",
    "    \n",
    "    # iterate through raster files\n",
    "    for item in tqdm(page['Contents']):\n",
    "        fname = item['Key']\n",
    "        if fname.endswith('.tif'):\n",
    "            url = 's3://wbgdecinternal-ntl/' + fname\n",
    "            date = fname[fname.find('.tif')-6:fname.find('.tif')]\n",
    "#             print(f\"processing {prefix}, for {date}\")\n",
    "            data_rio = rio.open(url)\n",
    "            \n",
    "            # iterate through adm polygons\n",
    "            res = {}\n",
    "            fail = 0\n",
    "            for idx, row in adm1.iterrows():\n",
    "                try:\n",
    "                    window = features.geometry_window(data_rio, [row.geometry])\n",
    "                    ul_y = window.col_off\n",
    "                    lr_x = window.row_off\n",
    "                    t = data_rio.transform\n",
    "                    shifted_affine = Affine(t.a, t.b, t.c+ul_y*t.a, t.d, t.e, t.f+lr_x*t.e)\n",
    "                    data = data_rio.read(1, window=window)\n",
    "                    zs = zonal_stats(row.geometry, data, affine=shifted_affine, nodata=data_rio.nodata, stats=['median','max', 'mean', 'std'], prefix=prefix+\"_\")\n",
    "                    res[idx] = zs[0]\n",
    "                except:\n",
    "                    fail+=1\n",
    "                    res[idx] = {\n",
    "                        f'{prefix}_max': pd.NA,\n",
    "                        f'{prefix}_mean': pd.NA,\n",
    "                        f'{prefix}_std': pd.NA,\n",
    "                        f'{prefix}_median': pd.NA\n",
    "                    }\n",
    "#                 print(f\"done with {idx}\")\n",
    "#             print(f\"\\tno intersect for {fail} polygons\")\n",
    "            df = pd.DataFrame(res).transpose()\n",
    "            df.loc[:, \"date\"] = date\n",
    "            dfs.append(df)\n",
    "\n",
    "df_merge = pd.concat(dfs)\n",
    "df_merge.reset_index(inplace=True)\n",
    "df_merge.to_csv(os.path.join(out_dir, f'adm1_{prefix}.csv'))"
   ]
  },
  {
   "cell_type": "markdown",
   "metadata": {},
   "source": [
    "**Dry Days 1mm**"
   ]
  },
  {
   "cell_type": "code",
   "execution_count": 110,
   "metadata": {},
   "outputs": [
    {
     "name": "stderr",
     "output_type": "stream",
     "text": [
      "100%|██████████| 260/260 [25:08<00:00,  5.80s/it]\n"
     ]
    }
   ],
   "source": [
    "dataset = 'drydays-imerg'\n",
    "indicator = 'drydays_monthly_sum'\n",
    "indicator_type = '1mm'\n",
    "prefix = indicator+\"_\"+indicator_type\n",
    "result = paginator.paginate(Bucket='wbgdecinternal-ntl', Prefix=f'climate/products/{dataset}/{prefix}/', Delimiter='/')\n",
    "\n",
    "dfs = []\n",
    "for page in result:\n",
    "    \n",
    "    # iterate through raster files\n",
    "    for item in tqdm(page['Contents']):\n",
    "        fname = item['Key']\n",
    "        if fname.endswith('.tif'):\n",
    "            url = 's3://wbgdecinternal-ntl/' + fname\n",
    "            date = fname[fname.find('.tif')-6:fname.find('.tif')]\n",
    "#             print(f\"processing {prefix}, for {date}\")\n",
    "            data_rio = rio.open(url)\n",
    "            \n",
    "            # iterate through adm polygons\n",
    "            res = {}\n",
    "            fail = 0\n",
    "            for idx, row in adm1.iterrows():\n",
    "                try:\n",
    "                    window = features.geometry_window(data_rio, [row.geometry])\n",
    "                    ul_y = window.col_off\n",
    "                    lr_x = window.row_off\n",
    "                    t = data_rio.transform\n",
    "                    shifted_affine = Affine(t.a, t.b, t.c+ul_y*t.a, t.d, t.e, t.f+lr_x*t.e)\n",
    "                    data = data_rio.read(1, window=window)\n",
    "                    zs = zonal_stats(row.geometry, data, affine=shifted_affine, nodata=data_rio.nodata, stats=['median','max', 'mean', 'std'], prefix=prefix+\"_\")\n",
    "                    res[idx] = zs[0]\n",
    "                except:\n",
    "                    fail+=1\n",
    "                    res[idx] = {\n",
    "                        f'{prefix}_max': pd.NA,\n",
    "                        f'{prefix}_mean': pd.NA,\n",
    "                        f'{prefix}_std': pd.NA,\n",
    "                        f'{prefix}_median': pd.NA\n",
    "                    }\n",
    "#                 print(f\"done with {idx}\")\n",
    "#             print(f\"\\tno intersect for {fail} polygons\")\n",
    "            df = pd.DataFrame(res).transpose()\n",
    "            df.loc[:, \"date\"] = date\n",
    "            dfs.append(df)\n",
    "\n",
    "df_merge = pd.concat(dfs)\n",
    "df_merge.reset_index(inplace=True)\n",
    "df_merge.to_csv(os.path.join(out_dir, f'adm1_{prefix}.csv'))"
   ]
  },
  {
   "cell_type": "markdown",
   "metadata": {},
   "source": [
    "**Dry Days 5mm**"
   ]
  },
  {
   "cell_type": "code",
   "execution_count": 111,
   "metadata": {},
   "outputs": [
    {
     "name": "stderr",
     "output_type": "stream",
     "text": [
      "100%|██████████| 260/260 [25:09<00:00,  5.81s/it]\n"
     ]
    }
   ],
   "source": [
    "dataset = 'drydays-imerg'\n",
    "indicator = 'drydays_monthly_sum'\n",
    "indicator_type = '5mm'\n",
    "prefix = indicator+\"_\"+indicator_type\n",
    "result = paginator.paginate(Bucket='wbgdecinternal-ntl', Prefix=f'climate/products/{dataset}/{prefix}/', Delimiter='/')\n",
    "\n",
    "dfs = []\n",
    "for page in result:\n",
    "    \n",
    "    # iterate through raster files\n",
    "    for item in tqdm(page['Contents']):\n",
    "        fname = item['Key']\n",
    "        if fname.endswith('.tif'):\n",
    "            url = 's3://wbgdecinternal-ntl/' + fname\n",
    "            date = fname[fname.find('.tif')-6:fname.find('.tif')]\n",
    "#             print(f\"processing {prefix}, for {date}\")\n",
    "            data_rio = rio.open(url)\n",
    "            \n",
    "            # iterate through adm polygons\n",
    "            res = {}\n",
    "            fail = 0\n",
    "            for idx, row in adm1.iterrows():\n",
    "                try:\n",
    "                    window = features.geometry_window(data_rio, [row.geometry])\n",
    "                    ul_y = window.col_off\n",
    "                    lr_x = window.row_off\n",
    "                    t = data_rio.transform\n",
    "                    shifted_affine = Affine(t.a, t.b, t.c+ul_y*t.a, t.d, t.e, t.f+lr_x*t.e)\n",
    "                    data = data_rio.read(1, window=window)\n",
    "                    zs = zonal_stats(row.geometry, data, affine=shifted_affine, nodata=data_rio.nodata, stats=['median','max', 'mean', 'std'], prefix=prefix+\"_\")\n",
    "                    res[idx] = zs[0]\n",
    "                except:\n",
    "                    fail+=1\n",
    "                    res[idx] = {\n",
    "                        f'{prefix}_max': pd.NA,\n",
    "                        f'{prefix}_mean': pd.NA,\n",
    "                        f'{prefix}_std': pd.NA,\n",
    "                        f'{prefix}_median': pd.NA\n",
    "                    }\n",
    "#                 print(f\"done with {idx}\")\n",
    "#             print(f\"\\tno intersect for {fail} polygons\")\n",
    "            df = pd.DataFrame(res).transpose()\n",
    "            df.loc[:, \"date\"] = date\n",
    "            dfs.append(df)\n",
    "\n",
    "df_merge = pd.concat(dfs)\n",
    "df_merge.reset_index(inplace=True)\n",
    "df_merge.to_csv(os.path.join(out_dir, f'adm1_{prefix}.csv'))"
   ]
  },
  {
   "cell_type": "markdown",
   "metadata": {},
   "source": [
    "**Wet Days 1mm**"
   ]
  },
  {
   "cell_type": "code",
   "execution_count": 112,
   "metadata": {},
   "outputs": [
    {
     "name": "stderr",
     "output_type": "stream",
     "text": [
      "100%|██████████| 260/260 [25:03<00:00,  5.78s/it]\n"
     ]
    }
   ],
   "source": [
    "dataset = 'wetdays-imerg'\n",
    "indicator = 'wetdays_monthly_sum'\n",
    "indicator_type = '1mm'\n",
    "prefix = indicator+\"_\"+indicator_type\n",
    "result = paginator.paginate(Bucket='wbgdecinternal-ntl', Prefix=f'climate/products/{dataset}/{prefix}/', Delimiter='/')\n",
    "\n",
    "dfs = []\n",
    "for page in result:\n",
    "    \n",
    "    # iterate through raster files\n",
    "    for item in tqdm(page['Contents']):\n",
    "        fname = item['Key']\n",
    "        if fname.endswith('.tif'):\n",
    "            url = 's3://wbgdecinternal-ntl/' + fname\n",
    "            date = fname[fname.find('.tif')-6:fname.find('.tif')]\n",
    "#             print(f\"processing {prefix}, for {date}\")\n",
    "            data_rio = rio.open(url)\n",
    "            \n",
    "            # iterate through adm polygons\n",
    "            res = {}\n",
    "            fail = 0\n",
    "            for idx, row in adm1.iterrows():\n",
    "                try:\n",
    "                    window = features.geometry_window(data_rio, [row.geometry])\n",
    "                    ul_y = window.col_off\n",
    "                    lr_x = window.row_off\n",
    "                    t = data_rio.transform\n",
    "                    shifted_affine = Affine(t.a, t.b, t.c+ul_y*t.a, t.d, t.e, t.f+lr_x*t.e)\n",
    "                    data = data_rio.read(1, window=window)\n",
    "                    zs = zonal_stats(row.geometry, data, affine=shifted_affine, nodata=data_rio.nodata, stats=['median','max', 'mean', 'std'], prefix=prefix+\"_\")\n",
    "                    res[idx] = zs[0]\n",
    "                except:\n",
    "                    fail+=1\n",
    "                    res[idx] = {\n",
    "                        f'{prefix}_max': pd.NA,\n",
    "                        f'{prefix}_mean': pd.NA,\n",
    "                        f'{prefix}_std': pd.NA,\n",
    "                        f'{prefix}_median': pd.NA\n",
    "                    }\n",
    "#                 print(f\"done with {idx}\")\n",
    "#             print(f\"\\tno intersect for {fail} polygons\")\n",
    "            df = pd.DataFrame(res).transpose()\n",
    "            df.loc[:, \"date\"] = date\n",
    "            dfs.append(df)\n",
    "\n",
    "df_merge = pd.concat(dfs)\n",
    "df_merge.reset_index(inplace=True)\n",
    "df_merge.to_csv(os.path.join(out_dir, f'adm1_{prefix}.csv'))"
   ]
  },
  {
   "cell_type": "markdown",
   "metadata": {},
   "source": [
    "**Wet Days 5mm**"
   ]
  },
  {
   "cell_type": "code",
   "execution_count": 138,
   "metadata": {},
   "outputs": [
    {
     "name": "stderr",
     "output_type": "stream",
     "text": [
      "100%|██████████| 260/260 [25:10<00:00,  5.81s/it]\n"
     ]
    }
   ],
   "source": [
    "dataset = 'wetdays-imerg'\n",
    "indicator = 'wetdays_monthly_sum'\n",
    "indicator_type = '5mm'\n",
    "prefix = indicator+\"_\"+indicator_type\n",
    "result = paginator.paginate(Bucket='wbgdecinternal-ntl', Prefix=f'climate/products/{dataset}/{prefix}/', Delimiter='/')\n",
    "\n",
    "dfs = []\n",
    "for page in result:\n",
    "    \n",
    "    # iterate through raster files\n",
    "    for item in tqdm(page['Contents']):\n",
    "        fname = item['Key']\n",
    "        if fname.endswith('.tif'):\n",
    "            url = 's3://wbgdecinternal-ntl/' + fname\n",
    "            date = fname[fname.find('.tif')-6:fname.find('.tif')]\n",
    "#             print(f\"processing {prefix}, for {date}\")\n",
    "            data_rio = rio.open(url)\n",
    "            \n",
    "            # iterate through adm polygons\n",
    "            res = {}\n",
    "            fail = 0\n",
    "            for idx, row in adm1.iterrows():\n",
    "                try:\n",
    "                    window = features.geometry_window(data_rio, [row.geometry])\n",
    "                    ul_y = window.col_off\n",
    "                    lr_x = window.row_off\n",
    "                    t = data_rio.transform\n",
    "                    shifted_affine = Affine(t.a, t.b, t.c+ul_y*t.a, t.d, t.e, t.f+lr_x*t.e)\n",
    "                    data = data_rio.read(1, window=window)\n",
    "                    zs = zonal_stats(row.geometry, data, affine=shifted_affine, nodata=data_rio.nodata, stats=['median','max', 'mean', 'std'], prefix=prefix+\"_\")\n",
    "                    res[idx] = zs[0]\n",
    "                except:\n",
    "                    fail+=1\n",
    "                    res[idx] = {\n",
    "                        f'{prefix}_max': pd.NA,\n",
    "                        f'{prefix}_mean': pd.NA,\n",
    "                        f'{prefix}_std': pd.NA,\n",
    "                        f'{prefix}_median': pd.NA\n",
    "                    }\n",
    "#                 print(f\"done with {idx}\")\n",
    "#             print(f\"\\tno intersect for {fail} polygons\")\n",
    "            df = pd.DataFrame(res).transpose()\n",
    "            df.loc[:, \"date\"] = date\n",
    "            dfs.append(df)\n",
    "\n",
    "df_merge = pd.concat(dfs)\n",
    "df_merge.reset_index(inplace=True)\n",
    "df_merge.to_csv(os.path.join(out_dir, f'adm1_{prefix}.csv'))"
   ]
  },
  {
   "cell_type": "markdown",
   "metadata": {},
   "source": [
    "**SPEI 03**"
   ]
  },
  {
   "cell_type": "code",
   "execution_count": 113,
   "metadata": {},
   "outputs": [
    {
     "name": "stderr",
     "output_type": "stream",
     "text": [
      "100%|██████████| 1000/1000 [1:43:22<00:00,  6.20s/it]\n",
      "100%|██████████| 536/536 [55:30<00:00,  6.21s/it] \n"
     ]
    }
   ],
   "source": [
    "dataset = 'spei-terraclimate/geotiff'\n",
    "indicator = 'spei'\n",
    "indicator_type = '03'\n",
    "prefix = indicator+indicator_type\n",
    "result = paginator.paginate(Bucket='wbgdecinternal-ntl', Prefix=f'climate/products/{dataset}/{prefix}/', Delimiter='/')\n",
    "\n",
    "dfs = []\n",
    "for page in result:\n",
    "    \n",
    "    # iterate through raster files\n",
    "    for item in tqdm(page['Contents']):\n",
    "        fname = item['Key']\n",
    "        if fname.endswith('.tif'):\n",
    "            url = 's3://wbgdecinternal-ntl/' + fname\n",
    "            date = fname[fname.find('.tif')-10:fname.find('.tif')-3]\n",
    "#             print(f\"processing {prefix}, for {date}\")\n",
    "            data_rio = rio.open(url)\n",
    "            \n",
    "            # iterate through adm polygons\n",
    "            res = {}\n",
    "            fail = 0\n",
    "            for idx, row in adm1.iterrows():\n",
    "                try:\n",
    "                    window = features.geometry_window(data_rio, [row.geometry])\n",
    "                    ul_y = window.col_off\n",
    "                    lr_x = window.row_off\n",
    "                    t = data_rio.transform\n",
    "                    shifted_affine = Affine(t.a, t.b, t.c+ul_y*t.a, t.d, t.e, t.f+lr_x*t.e)\n",
    "                    data = data_rio.read(1, window=window)\n",
    "                    zs = zonal_stats(row.geometry, data, affine=shifted_affine, nodata=data_rio.nodata, stats=['median','max', 'mean', 'std'], prefix=prefix+\"_\")\n",
    "                    res[idx] = zs[0]\n",
    "                except:\n",
    "                    fail+=1\n",
    "                    res[idx] = {\n",
    "                        f'{prefix}_max': pd.NA,\n",
    "                        f'{prefix}_mean': pd.NA,\n",
    "                        f'{prefix}_std': pd.NA,\n",
    "                        f'{prefix}_median': pd.NA\n",
    "                    }\n",
    "#                 print(f\"done with {idx}\")\n",
    "#             print(f\"\\tno intersect for {fail} polygons\")\n",
    "            df = pd.DataFrame(res).transpose()\n",
    "            df.loc[:, \"date\"] = date\n",
    "            dfs.append(df)\n",
    "\n",
    "df_merge = pd.concat(dfs)\n",
    "df_merge.reset_index(inplace=True)\n",
    "df_merge.to_csv(os.path.join(out_dir, f'adm1_{prefix}.csv'))"
   ]
  },
  {
   "cell_type": "markdown",
   "metadata": {},
   "source": [
    "**SPEI 12**"
   ]
  },
  {
   "cell_type": "code",
   "execution_count": 114,
   "metadata": {},
   "outputs": [
    {
     "name": "stderr",
     "output_type": "stream",
     "text": [
      "100%|██████████| 1000/1000 [1:41:51<00:00,  6.11s/it]\n",
      "100%|██████████| 536/536 [57:52<00:00,  6.48s/it] \n"
     ]
    }
   ],
   "source": [
    "dataset = 'spei-terraclimate/geotiff'\n",
    "indicator = 'spei'\n",
    "indicator_type = '12'\n",
    "prefix = indicator+indicator_type\n",
    "result = paginator.paginate(Bucket='wbgdecinternal-ntl', Prefix=f'climate/products/{dataset}/{prefix}/', Delimiter='/')\n",
    "\n",
    "dfs = []\n",
    "for page in result:\n",
    "    \n",
    "    # iterate through raster files\n",
    "    for item in tqdm(page['Contents']):\n",
    "        fname = item['Key']\n",
    "        if fname.endswith('.tif'):\n",
    "            url = 's3://wbgdecinternal-ntl/' + fname\n",
    "            date = fname[fname.find('.tif')-10:fname.find('.tif')-3]\n",
    "#             print(f\"processing {prefix}, for {date}\")\n",
    "            data_rio = rio.open(url)\n",
    "            \n",
    "            # iterate through adm polygons\n",
    "            res = {}\n",
    "            fail = 0\n",
    "            for idx, row in adm1.iterrows():\n",
    "                try:\n",
    "                    window = features.geometry_window(data_rio, [row.geometry])\n",
    "                    ul_y = window.col_off\n",
    "                    lr_x = window.row_off\n",
    "                    t = data_rio.transform\n",
    "                    shifted_affine = Affine(t.a, t.b, t.c+ul_y*t.a, t.d, t.e, t.f+lr_x*t.e)\n",
    "                    data = data_rio.read(1, window=window)\n",
    "                    zs = zonal_stats(row.geometry, data, affine=shifted_affine, nodata=data_rio.nodata, stats=['median','max', 'mean', 'std'], prefix=prefix+\"_\")\n",
    "                    res[idx] = zs[0]\n",
    "                except:\n",
    "                    fail+=1\n",
    "                    res[idx] = {\n",
    "                        f'{prefix}_max': pd.NA,\n",
    "                        f'{prefix}_mean': pd.NA,\n",
    "                        f'{prefix}_std': pd.NA,\n",
    "                        f'{prefix}_median': pd.NA\n",
    "                    }\n",
    "#                 print(f\"done with {idx}\")\n",
    "#             print(f\"\\tno intersect for {fail} polygons\")\n",
    "            df = pd.DataFrame(res).transpose()\n",
    "            df.loc[:, \"date\"] = date\n",
    "            dfs.append(df)\n",
    "\n",
    "df_merge = pd.concat(dfs)\n",
    "df_merge.reset_index(inplace=True)\n",
    "df_merge.to_csv(os.path.join(out_dir, f'adm1_{prefix}.csv'))"
   ]
  },
  {
   "cell_type": "markdown",
   "metadata": {},
   "source": [
    "**SPI 03**"
   ]
  },
  {
   "cell_type": "code",
   "execution_count": 115,
   "metadata": {},
   "outputs": [
    {
     "name": "stderr",
     "output_type": "stream",
     "text": [
      "100%|██████████| 981/981 [1:22:01<00:00,  5.02s/it]\n"
     ]
    }
   ],
   "source": [
    "dataset = 'spi-chirps/geotiff'\n",
    "indicator = 'spi'\n",
    "indicator_type = '03'\n",
    "prefix = indicator+indicator_type\n",
    "result = paginator.paginate(Bucket='wbgdecinternal-ntl', Prefix=f'climate/products/{dataset}/{prefix}/', Delimiter='/')\n",
    "\n",
    "dfs = []\n",
    "for page in result:\n",
    "    \n",
    "    # iterate through raster files\n",
    "    for item in tqdm(page['Contents']):\n",
    "        fname = item['Key']\n",
    "        if fname.endswith('.tif'):\n",
    "            url = 's3://wbgdecinternal-ntl/' + fname\n",
    "            date = fname[fname.find('.tif')-10:fname.find('.tif')-3]\n",
    "#             print(f\"processing {prefix}, for {date}\")\n",
    "            data_rio = rio.open(url)\n",
    "            \n",
    "            # iterate through adm polygons\n",
    "            res = {}\n",
    "            fail = 0\n",
    "            for idx, row in adm1.iterrows():\n",
    "                try:\n",
    "                    window = features.geometry_window(data_rio, [row.geometry])\n",
    "                    ul_y = window.col_off\n",
    "                    lr_x = window.row_off\n",
    "                    t = data_rio.transform\n",
    "                    shifted_affine = Affine(t.a, t.b, t.c+ul_y*t.a, t.d, t.e, t.f+lr_x*t.e)\n",
    "                    data = data_rio.read(1, window=window)\n",
    "                    zs = zonal_stats(row.geometry, data, affine=shifted_affine, nodata=data_rio.nodata, stats=['median','max', 'mean', 'std'], prefix=prefix+\"_\")\n",
    "                    res[idx] = zs[0]\n",
    "                except:\n",
    "                    fail+=1\n",
    "                    res[idx] = {\n",
    "                        f'{prefix}_max': pd.NA,\n",
    "                        f'{prefix}_mean': pd.NA,\n",
    "                        f'{prefix}_std': pd.NA,\n",
    "                        f'{prefix}_median': pd.NA\n",
    "                    }\n",
    "#                 print(f\"done with {idx}\")\n",
    "#             print(f\"\\tno intersect for {fail} polygons\")\n",
    "            df = pd.DataFrame(res).transpose()\n",
    "            df.loc[:, \"date\"] = date\n",
    "            dfs.append(df)\n",
    "\n",
    "df_merge = pd.concat(dfs)\n",
    "df_merge.reset_index(inplace=True)\n",
    "df_merge.to_csv(os.path.join(out_dir, f'adm1_{prefix}.csv'))"
   ]
  },
  {
   "cell_type": "markdown",
   "metadata": {},
   "source": [
    "**SPI 12**"
   ]
  },
  {
   "cell_type": "code",
   "execution_count": 116,
   "metadata": {},
   "outputs": [
    {
     "name": "stderr",
     "output_type": "stream",
     "text": [
      "100%|██████████| 963/963 [1:18:07<00:00,  4.87s/it]\n"
     ]
    }
   ],
   "source": [
    "dataset = 'spi-chirps/geotiff'\n",
    "indicator = 'spi'\n",
    "indicator_type = '12'\n",
    "prefix = indicator+indicator_type\n",
    "result = paginator.paginate(Bucket='wbgdecinternal-ntl', Prefix=f'climate/products/{dataset}/{prefix}/', Delimiter='/')\n",
    "\n",
    "dfs = []\n",
    "for page in result:\n",
    "    \n",
    "    # iterate through raster files\n",
    "    for item in tqdm(page['Contents']):\n",
    "        fname = item['Key']\n",
    "        if fname.endswith('.tif'):\n",
    "            url = 's3://wbgdecinternal-ntl/' + fname\n",
    "            date = fname[fname.find('.tif')-10:fname.find('.tif')-3]\n",
    "#             print(f\"processing {prefix}, for {date}\")\n",
    "            data_rio = rio.open(url)\n",
    "            \n",
    "            # iterate through adm polygons\n",
    "            res = {}\n",
    "            fail = 0\n",
    "            for idx, row in adm1.iterrows():\n",
    "                try:\n",
    "                    window = features.geometry_window(data_rio, [row.geometry])\n",
    "                    ul_y = window.col_off\n",
    "                    lr_x = window.row_off\n",
    "                    t = data_rio.transform\n",
    "                    shifted_affine = Affine(t.a, t.b, t.c+ul_y*t.a, t.d, t.e, t.f+lr_x*t.e)\n",
    "                    data = data_rio.read(1, window=window)\n",
    "                    zs = zonal_stats(row.geometry, data, affine=shifted_affine, nodata=data_rio.nodata, stats=['median','max', 'mean', 'std'], prefix=prefix+\"_\")\n",
    "                    res[idx] = zs[0]\n",
    "                except:\n",
    "                    fail+=1\n",
    "                    res[idx] = {\n",
    "                        f'{prefix}_max': pd.NA,\n",
    "                        f'{prefix}_mean': pd.NA,\n",
    "                        f'{prefix}_std': pd.NA,\n",
    "                        f'{prefix}_median': pd.NA\n",
    "                    }\n",
    "#                 print(f\"done with {idx}\")\n",
    "#             print(f\"\\tno intersect for {fail} polygons\")\n",
    "            df = pd.DataFrame(res).transpose()\n",
    "            df.loc[:, \"date\"] = date\n",
    "            dfs.append(df)\n",
    "\n",
    "df_merge = pd.concat(dfs)\n",
    "df_merge.reset_index(inplace=True)\n",
    "df_merge.to_csv(os.path.join(out_dir, f'adm1_{prefix}.csv'))"
   ]
  }
 ],
 "metadata": {
  "kernelspec": {
   "display_name": "Python (Graph)",
   "language": "python",
   "name": "graph"
  },
  "language_info": {
   "codemirror_mode": {
    "name": "ipython",
    "version": 3
   },
   "file_extension": ".py",
   "mimetype": "text/x-python",
   "name": "python",
   "nbconvert_exporter": "python",
   "pygments_lexer": "ipython3",
   "version": "3.7.10"
  }
 },
 "nbformat": 4,
 "nbformat_minor": 2
}
