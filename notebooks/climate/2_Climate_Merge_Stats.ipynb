{
 "cells": [
  {
   "cell_type": "code",
   "execution_count": 2,
   "metadata": {},
   "outputs": [],
   "source": [
    "from os.path import join, expanduser\n",
    "import os\n",
    "import boto3\n",
    "from rasterstats import zonal_stats\n",
    "import geopandas as gpd\n",
    "from botocore.config import Config\n",
    "from botocore import UNSIGNED\n",
    "import rasterio as rio\n",
    "import geopandas as gpd\n",
    "from rasterio import features\n",
    "from rasterio.plot import show\n",
    "from affine import Affine\n",
    "from shapely.geometry import box\n",
    "import pandas as pd\n",
    "from tqdm import tqdm"
   ]
  },
  {
   "cell_type": "code",
   "execution_count": 3,
   "metadata": {},
   "outputs": [],
   "source": [
    "adm1 = gpd.read_file(join(expanduser(\"~\"), 'data', 'pacific', 'admin', 'PIC_adm1.shp'))\n",
    "adm2 = gpd.read_file(join(expanduser(\"~\"), 'data', 'pacific', 'admin', 'PIC_adm2.shp'))"
   ]
  },
  {
   "cell_type": "code",
   "execution_count": 4,
   "metadata": {},
   "outputs": [],
   "source": [
    "out_dir = join(expanduser(\"~\"), 'data', 'pacific', 'output', 'climate')\n",
    "if not os.path.exists(out_dir):\n",
    "    os.mkdir(out_dir)"
   ]
  },
  {
   "cell_type": "code",
   "execution_count": 5,
   "metadata": {},
   "outputs": [
    {
     "data": {
      "text/plain": [
       "['adm1_cdd_monthly_max_1mm.csv',\n",
       " 'adm1_cdd_monthly_max_5mm.csv',\n",
       " 'adm1_cwd_monthly_max_1mm.csv',\n",
       " 'adm1_cwd_monthly_max_5mm.csv',\n",
       " 'adm1_drydays_monthly_sum_1mm.csv',\n",
       " 'adm1_drydays_monthly_sum_5mm.csv',\n",
       " 'adm1_wetdays_monthly_sum_1mm.csv',\n",
       " 'adm1_spei03.csv',\n",
       " 'adm1_spei12.csv',\n",
       " 'adm1_spi03.csv',\n",
       " 'adm1_spi12.csv',\n",
       " 'adm1_wetdays_monthly_sum_5mm.csv']"
      ]
     },
     "execution_count": 5,
     "metadata": {},
     "output_type": "execute_result"
    }
   ],
   "source": [
    "os.listdir(out_dir)"
   ]
  },
  {
   "cell_type": "code",
   "execution_count": 6,
   "metadata": {},
   "outputs": [],
   "source": [
    "dfs = [pd.read_csv(join(out_dir, f), index_col=0) for f in os.listdir(out_dir)]"
   ]
  },
  {
   "cell_type": "code",
   "execution_count": 7,
   "metadata": {},
   "outputs": [],
   "source": [
    "def cleanDate(df):\n",
    "    df.loc[:, \"date\"] = df.loc[:, \"date\"].astype('str')\n",
    "    df.loc[:, \"date\"] = df.loc[:, \"date\"].str.replace('-', '')\n",
    "    return df"
   ]
  },
  {
   "cell_type": "code",
   "execution_count": 8,
   "metadata": {},
   "outputs": [],
   "source": [
    "dfs = [cleanDate(df) for df in dfs]"
   ]
  },
  {
   "cell_type": "code",
   "execution_count": 9,
   "metadata": {},
   "outputs": [],
   "source": [
    "df_master = dfs[0].copy()"
   ]
  },
  {
   "cell_type": "code",
   "execution_count": 10,
   "metadata": {},
   "outputs": [],
   "source": [
    "df_master.drop(['ADM0_NAME', 'ADM0_PCODE', 'ADM1_NAME', 'ADM1_PCODE'], axis=1, inplace=True)"
   ]
  },
  {
   "cell_type": "code",
   "execution_count": 11,
   "metadata": {
    "scrolled": true
   },
   "outputs": [
    {
     "data": {
      "text/html": [
       "<div>\n",
       "<style scoped>\n",
       "    .dataframe tbody tr th:only-of-type {\n",
       "        vertical-align: middle;\n",
       "    }\n",
       "\n",
       "    .dataframe tbody tr th {\n",
       "        vertical-align: top;\n",
       "    }\n",
       "\n",
       "    .dataframe thead th {\n",
       "        text-align: right;\n",
       "    }\n",
       "</style>\n",
       "<table border=\"1\" class=\"dataframe\">\n",
       "  <thead>\n",
       "    <tr style=\"text-align: right;\">\n",
       "      <th></th>\n",
       "      <th>index</th>\n",
       "      <th>ADM0_NAME</th>\n",
       "      <th>ADM0_PCODE</th>\n",
       "      <th>ADM1_NAME</th>\n",
       "      <th>ADM1_PCODE</th>\n",
       "      <th>cdd_monthly_max_1mm_max</th>\n",
       "      <th>cdd_monthly_max_1mm_mean</th>\n",
       "      <th>cdd_monthly_max_1mm_std</th>\n",
       "      <th>cdd_monthly_max_1mm_median</th>\n",
       "      <th>date</th>\n",
       "    </tr>\n",
       "  </thead>\n",
       "  <tbody>\n",
       "    <tr>\n",
       "      <th>0</th>\n",
       "      <td>0</td>\n",
       "      <td>Papua New Guinea</td>\n",
       "      <td>PG</td>\n",
       "      <td>Autonomous Region of Bougainville</td>\n",
       "      <td>PG20</td>\n",
       "      <td>8.0</td>\n",
       "      <td>3.077922</td>\n",
       "      <td>1.192686</td>\n",
       "      <td>3.0</td>\n",
       "      <td>200006</td>\n",
       "    </tr>\n",
       "    <tr>\n",
       "      <th>1</th>\n",
       "      <td>0</td>\n",
       "      <td>Papua New Guinea</td>\n",
       "      <td>PG</td>\n",
       "      <td>Autonomous Region of Bougainville</td>\n",
       "      <td>PG20</td>\n",
       "      <td>6.0</td>\n",
       "      <td>3.233766</td>\n",
       "      <td>1.079876</td>\n",
       "      <td>3.0</td>\n",
       "      <td>200007</td>\n",
       "    </tr>\n",
       "    <tr>\n",
       "      <th>2</th>\n",
       "      <td>0</td>\n",
       "      <td>Papua New Guinea</td>\n",
       "      <td>PG</td>\n",
       "      <td>Autonomous Region of Bougainville</td>\n",
       "      <td>PG20</td>\n",
       "      <td>7.0</td>\n",
       "      <td>3.402597</td>\n",
       "      <td>0.856749</td>\n",
       "      <td>3.0</td>\n",
       "      <td>200008</td>\n",
       "    </tr>\n",
       "    <tr>\n",
       "      <th>3</th>\n",
       "      <td>0</td>\n",
       "      <td>Papua New Guinea</td>\n",
       "      <td>PG</td>\n",
       "      <td>Autonomous Region of Bougainville</td>\n",
       "      <td>PG20</td>\n",
       "      <td>11.0</td>\n",
       "      <td>6.298701</td>\n",
       "      <td>2.439209</td>\n",
       "      <td>6.0</td>\n",
       "      <td>200009</td>\n",
       "    </tr>\n",
       "    <tr>\n",
       "      <th>4</th>\n",
       "      <td>0</td>\n",
       "      <td>Papua New Guinea</td>\n",
       "      <td>PG</td>\n",
       "      <td>Autonomous Region of Bougainville</td>\n",
       "      <td>PG20</td>\n",
       "      <td>5.0</td>\n",
       "      <td>2.805195</td>\n",
       "      <td>0.912239</td>\n",
       "      <td>3.0</td>\n",
       "      <td>200010</td>\n",
       "    </tr>\n",
       "    <tr>\n",
       "      <th>...</th>\n",
       "      <td>...</td>\n",
       "      <td>...</td>\n",
       "      <td>...</td>\n",
       "      <td>...</td>\n",
       "      <td>...</td>\n",
       "      <td>...</td>\n",
       "      <td>...</td>\n",
       "      <td>...</td>\n",
       "      <td>...</td>\n",
       "      <td>...</td>\n",
       "    </tr>\n",
       "    <tr>\n",
       "      <th>33924</th>\n",
       "      <td>130</td>\n",
       "      <td>Samoa</td>\n",
       "      <td>WS</td>\n",
       "      <td>Vaisigano</td>\n",
       "      <td>WSM-ADM1-40696546B87181747</td>\n",
       "      <td>10.0</td>\n",
       "      <td>9.000000</td>\n",
       "      <td>1.000000</td>\n",
       "      <td>9.0</td>\n",
       "      <td>202108</td>\n",
       "    </tr>\n",
       "    <tr>\n",
       "      <th>33925</th>\n",
       "      <td>130</td>\n",
       "      <td>Samoa</td>\n",
       "      <td>WS</td>\n",
       "      <td>Vaisigano</td>\n",
       "      <td>WSM-ADM1-40696546B87181747</td>\n",
       "      <td>18.0</td>\n",
       "      <td>15.500000</td>\n",
       "      <td>2.500000</td>\n",
       "      <td>15.5</td>\n",
       "      <td>202109</td>\n",
       "    </tr>\n",
       "    <tr>\n",
       "      <th>33926</th>\n",
       "      <td>130</td>\n",
       "      <td>Samoa</td>\n",
       "      <td>WS</td>\n",
       "      <td>Vaisigano</td>\n",
       "      <td>WSM-ADM1-40696546B87181747</td>\n",
       "      <td>5.0</td>\n",
       "      <td>4.500000</td>\n",
       "      <td>0.500000</td>\n",
       "      <td>4.5</td>\n",
       "      <td>202110</td>\n",
       "    </tr>\n",
       "    <tr>\n",
       "      <th>33927</th>\n",
       "      <td>130</td>\n",
       "      <td>Samoa</td>\n",
       "      <td>WS</td>\n",
       "      <td>Vaisigano</td>\n",
       "      <td>WSM-ADM1-40696546B87181747</td>\n",
       "      <td>3.0</td>\n",
       "      <td>2.000000</td>\n",
       "      <td>1.000000</td>\n",
       "      <td>2.0</td>\n",
       "      <td>202111</td>\n",
       "    </tr>\n",
       "    <tr>\n",
       "      <th>33928</th>\n",
       "      <td>130</td>\n",
       "      <td>Samoa</td>\n",
       "      <td>WS</td>\n",
       "      <td>Vaisigano</td>\n",
       "      <td>WSM-ADM1-40696546B87181747</td>\n",
       "      <td>6.0</td>\n",
       "      <td>4.000000</td>\n",
       "      <td>2.000000</td>\n",
       "      <td>4.0</td>\n",
       "      <td>202112</td>\n",
       "    </tr>\n",
       "  </tbody>\n",
       "</table>\n",
       "<p>33929 rows × 10 columns</p>\n",
       "</div>"
      ],
      "text/plain": [
       "       index         ADM0_NAME ADM0_PCODE                          ADM1_NAME  \\\n",
       "0          0  Papua New Guinea         PG  Autonomous Region of Bougainville   \n",
       "1          0  Papua New Guinea         PG  Autonomous Region of Bougainville   \n",
       "2          0  Papua New Guinea         PG  Autonomous Region of Bougainville   \n",
       "3          0  Papua New Guinea         PG  Autonomous Region of Bougainville   \n",
       "4          0  Papua New Guinea         PG  Autonomous Region of Bougainville   \n",
       "...      ...               ...        ...                                ...   \n",
       "33924    130             Samoa         WS                          Vaisigano   \n",
       "33925    130             Samoa         WS                          Vaisigano   \n",
       "33926    130             Samoa         WS                          Vaisigano   \n",
       "33927    130             Samoa         WS                          Vaisigano   \n",
       "33928    130             Samoa         WS                          Vaisigano   \n",
       "\n",
       "                       ADM1_PCODE  cdd_monthly_max_1mm_max  \\\n",
       "0                            PG20                      8.0   \n",
       "1                            PG20                      6.0   \n",
       "2                            PG20                      7.0   \n",
       "3                            PG20                     11.0   \n",
       "4                            PG20                      5.0   \n",
       "...                           ...                      ...   \n",
       "33924  WSM-ADM1-40696546B87181747                     10.0   \n",
       "33925  WSM-ADM1-40696546B87181747                     18.0   \n",
       "33926  WSM-ADM1-40696546B87181747                      5.0   \n",
       "33927  WSM-ADM1-40696546B87181747                      3.0   \n",
       "33928  WSM-ADM1-40696546B87181747                      6.0   \n",
       "\n",
       "       cdd_monthly_max_1mm_mean  cdd_monthly_max_1mm_std  \\\n",
       "0                      3.077922                 1.192686   \n",
       "1                      3.233766                 1.079876   \n",
       "2                      3.402597                 0.856749   \n",
       "3                      6.298701                 2.439209   \n",
       "4                      2.805195                 0.912239   \n",
       "...                         ...                      ...   \n",
       "33924                  9.000000                 1.000000   \n",
       "33925                 15.500000                 2.500000   \n",
       "33926                  4.500000                 0.500000   \n",
       "33927                  2.000000                 1.000000   \n",
       "33928                  4.000000                 2.000000   \n",
       "\n",
       "       cdd_monthly_max_1mm_median    date  \n",
       "0                             3.0  200006  \n",
       "1                             3.0  200007  \n",
       "2                             3.0  200008  \n",
       "3                             6.0  200009  \n",
       "4                             3.0  200010  \n",
       "...                           ...     ...  \n",
       "33924                         9.0  202108  \n",
       "33925                        15.5  202109  \n",
       "33926                         4.5  202110  \n",
       "33927                         2.0  202111  \n",
       "33928                         4.0  202112  \n",
       "\n",
       "[33929 rows x 10 columns]"
      ]
     },
     "execution_count": 11,
     "metadata": {},
     "output_type": "execute_result"
    }
   ],
   "source": [
    "dfs.pop(0)"
   ]
  },
  {
   "cell_type": "code",
   "execution_count": 12,
   "metadata": {},
   "outputs": [],
   "source": [
    "def mergeDf(df):\n",
    "    global df_master\n",
    "    df_master = df_master.merge(df, on=['index', 'date'], how='outer') # outer"
   ]
  },
  {
   "cell_type": "code",
   "execution_count": 13,
   "metadata": {},
   "outputs": [
    {
     "data": {
      "text/plain": [
       "[None, None, None, None, None, None, None, None, None, None, None]"
      ]
     },
     "execution_count": 13,
     "metadata": {},
     "output_type": "execute_result"
    }
   ],
   "source": [
    "[mergeDf(df) for df in dfs]"
   ]
  },
  {
   "cell_type": "code",
   "execution_count": 14,
   "metadata": {},
   "outputs": [
    {
     "data": {
      "text/html": [
       "<div>\n",
       "<style scoped>\n",
       "    .dataframe tbody tr th:only-of-type {\n",
       "        vertical-align: middle;\n",
       "    }\n",
       "\n",
       "    .dataframe tbody tr th {\n",
       "        vertical-align: top;\n",
       "    }\n",
       "\n",
       "    .dataframe thead th {\n",
       "        text-align: right;\n",
       "    }\n",
       "</style>\n",
       "<table border=\"1\" class=\"dataframe\">\n",
       "  <thead>\n",
       "    <tr style=\"text-align: right;\">\n",
       "      <th></th>\n",
       "      <th>ADM0_NAME</th>\n",
       "      <th>ADM0_PCODE</th>\n",
       "      <th>ADM1_NAME</th>\n",
       "      <th>ADM1_PCODE</th>\n",
       "    </tr>\n",
       "  </thead>\n",
       "  <tbody>\n",
       "    <tr>\n",
       "      <th>0</th>\n",
       "      <td>Papua New Guinea</td>\n",
       "      <td>PG</td>\n",
       "      <td>Autonomous Region of Bougainville</td>\n",
       "      <td>PG20</td>\n",
       "    </tr>\n",
       "    <tr>\n",
       "      <th>1</th>\n",
       "      <td>Papua New Guinea</td>\n",
       "      <td>PG</td>\n",
       "      <td>Central Province</td>\n",
       "      <td>PG03</td>\n",
       "    </tr>\n",
       "    <tr>\n",
       "      <th>2</th>\n",
       "      <td>Papua New Guinea</td>\n",
       "      <td>PG</td>\n",
       "      <td>Chimbu (Simbu) Province</td>\n",
       "      <td>PG10</td>\n",
       "    </tr>\n",
       "    <tr>\n",
       "      <th>3</th>\n",
       "      <td>Papua New Guinea</td>\n",
       "      <td>PG</td>\n",
       "      <td>East New Britain Province</td>\n",
       "      <td>PG18</td>\n",
       "    </tr>\n",
       "    <tr>\n",
       "      <th>4</th>\n",
       "      <td>Papua New Guinea</td>\n",
       "      <td>PG</td>\n",
       "      <td>East Sepik Province</td>\n",
       "      <td>PG14</td>\n",
       "    </tr>\n",
       "    <tr>\n",
       "      <th>...</th>\n",
       "      <td>...</td>\n",
       "      <td>...</td>\n",
       "      <td>...</td>\n",
       "      <td>...</td>\n",
       "    </tr>\n",
       "    <tr>\n",
       "      <th>126</th>\n",
       "      <td>Samoa</td>\n",
       "      <td>WS</td>\n",
       "      <td>Palauli</td>\n",
       "      <td>WSM-ADM1-40696546B22381772</td>\n",
       "    </tr>\n",
       "    <tr>\n",
       "      <th>127</th>\n",
       "      <td>Samoa</td>\n",
       "      <td>WS</td>\n",
       "      <td>Satupa'itea</td>\n",
       "      <td>WSM-ADM1-40696546B90588116</td>\n",
       "    </tr>\n",
       "    <tr>\n",
       "      <th>128</th>\n",
       "      <td>Samoa</td>\n",
       "      <td>WS</td>\n",
       "      <td>Tuamasaga</td>\n",
       "      <td>WSM-ADM1-40696546B95868609</td>\n",
       "    </tr>\n",
       "    <tr>\n",
       "      <th>129</th>\n",
       "      <td>Samoa</td>\n",
       "      <td>WS</td>\n",
       "      <td>Va'a-o-Fonoti</td>\n",
       "      <td>WSM-ADM1-40696546B68230151</td>\n",
       "    </tr>\n",
       "    <tr>\n",
       "      <th>130</th>\n",
       "      <td>Samoa</td>\n",
       "      <td>WS</td>\n",
       "      <td>Vaisigano</td>\n",
       "      <td>WSM-ADM1-40696546B87181747</td>\n",
       "    </tr>\n",
       "  </tbody>\n",
       "</table>\n",
       "<p>131 rows × 4 columns</p>\n",
       "</div>"
      ],
      "text/plain": [
       "            ADM0_NAME ADM0_PCODE                          ADM1_NAME  \\\n",
       "0    Papua New Guinea         PG  Autonomous Region of Bougainville   \n",
       "1    Papua New Guinea         PG                   Central Province   \n",
       "2    Papua New Guinea         PG            Chimbu (Simbu) Province   \n",
       "3    Papua New Guinea         PG          East New Britain Province   \n",
       "4    Papua New Guinea         PG                East Sepik Province   \n",
       "..                ...        ...                                ...   \n",
       "126             Samoa         WS                            Palauli   \n",
       "127             Samoa         WS                        Satupa'itea   \n",
       "128             Samoa         WS                          Tuamasaga   \n",
       "129             Samoa         WS                      Va'a-o-Fonoti   \n",
       "130             Samoa         WS                          Vaisigano   \n",
       "\n",
       "                     ADM1_PCODE  \n",
       "0                          PG20  \n",
       "1                          PG03  \n",
       "2                          PG10  \n",
       "3                          PG18  \n",
       "4                          PG14  \n",
       "..                          ...  \n",
       "126  WSM-ADM1-40696546B22381772  \n",
       "127  WSM-ADM1-40696546B90588116  \n",
       "128  WSM-ADM1-40696546B95868609  \n",
       "129  WSM-ADM1-40696546B68230151  \n",
       "130  WSM-ADM1-40696546B87181747  \n",
       "\n",
       "[131 rows x 4 columns]"
      ]
     },
     "execution_count": 14,
     "metadata": {},
     "output_type": "execute_result"
    }
   ],
   "source": [
    "adm1[['ADM0_NAME', 'ADM0_PCODE', 'ADM1_NAME', 'ADM1_PCODE']]"
   ]
  },
  {
   "cell_type": "code",
   "execution_count": 15,
   "metadata": {},
   "outputs": [],
   "source": [
    "df_master = df_master.merge(adm1[['ADM0_NAME', 'ADM0_PCODE', 'ADM1_NAME', 'ADM1_PCODE']], left_on=\"index\", right_index=True)"
   ]
  },
  {
   "cell_type": "code",
   "execution_count": 19,
   "metadata": {},
   "outputs": [],
   "source": [
    "df_master.sort_values(['ADM0_NAME', 'ADM1_NAME', 'date'], ascending=True, inplace=True)"
   ]
  },
  {
   "cell_type": "code",
   "execution_count": 20,
   "metadata": {},
   "outputs": [
    {
     "data": {
      "text/plain": [
       "'/home/wb514197/data/pacific/output/climate'"
      ]
     },
     "execution_count": 20,
     "metadata": {},
     "output_type": "execute_result"
    }
   ],
   "source": [
    "out_dir"
   ]
  },
  {
   "cell_type": "code",
   "execution_count": 21,
   "metadata": {},
   "outputs": [],
   "source": [
    "df_master.loc[:, \"year\"] = df_master.loc[:, \"date\"].str.slice(start=0, stop=4).astype('int')\n",
    "df_master.loc[:, \"month\"] = df_master.loc[:, \"date\"].str.slice(start=4, stop=6).astype('int')"
   ]
  },
  {
   "cell_type": "code",
   "execution_count": 26,
   "metadata": {},
   "outputs": [],
   "source": [
    "df_master = df_master.loc[df_master.year>=1981].copy()"
   ]
  },
  {
   "cell_type": "markdown",
   "metadata": {},
   "source": [
    "Reorder columns"
   ]
  },
  {
   "cell_type": "code",
   "execution_count": 32,
   "metadata": {},
   "outputs": [],
   "source": [
    "df_master = df_master[['index', 'ADM0_NAME', 'ADM0_PCODE','ADM1_NAME', 'ADM1_PCODE', 'year', 'month', 'date',\n",
    "        'cdd_monthly_max_1mm_max', 'cdd_monthly_max_1mm_mean',\n",
    "       'cdd_monthly_max_1mm_std', 'cdd_monthly_max_1mm_median',\n",
    "       'cdd_monthly_max_5mm_max', 'cdd_monthly_max_5mm_mean',\n",
    "       'cdd_monthly_max_5mm_std', 'cdd_monthly_max_5mm_median',\n",
    "       'cwd_monthly_max_1mm_max', 'cwd_monthly_max_1mm_mean',\n",
    "       'cwd_monthly_max_1mm_std', 'cwd_monthly_max_1mm_median',\n",
    "       'cwd_monthly_max_5mm_max', 'cwd_monthly_max_5mm_mean',\n",
    "       'cwd_monthly_max_5mm_std', 'cwd_monthly_max_5mm_median',\n",
    "       'drydays_monthly_sum_1mm_max', 'drydays_monthly_sum_1mm_mean',\n",
    "       'drydays_monthly_sum_1mm_std', 'drydays_monthly_sum_1mm_median',\n",
    "       'drydays_monthly_sum_5mm_max', 'drydays_monthly_sum_5mm_mean',\n",
    "       'drydays_monthly_sum_5mm_std', 'drydays_monthly_sum_5mm_median',\n",
    "       'wetdays_monthly_sum_1mm_max', 'wetdays_monthly_sum_1mm_mean',\n",
    "       'wetdays_monthly_sum_1mm_std', 'wetdays_monthly_sum_1mm_median',\n",
    "       'spei03_median', 'spei03_max', 'spei03_mean', 'spei03_std',\n",
    "       'spei12_median', 'spei12_max', 'spei12_mean', 'spei12_std', 'spi03_max',\n",
    "       'spi03_mean', 'spi03_std', 'spi03_median', 'spi12_max', 'spi12_mean',\n",
    "       'spi12_std', 'spi12_median', 'wetdays_monthly_sum_5mm_max',\n",
    "       'wetdays_monthly_sum_5mm_mean', 'wetdays_monthly_sum_5mm_std',\n",
    "       'wetdays_monthly_sum_5mm_median']]"
   ]
  },
  {
   "cell_type": "code",
   "execution_count": 33,
   "metadata": {},
   "outputs": [],
   "source": [
    "df_master.to_csv('/home/wb514197/data/pacific/output/adm1_climate_full.csv', index=False)"
   ]
  }
 ],
 "metadata": {
  "kernelspec": {
   "display_name": "Python (Graph)",
   "language": "python",
   "name": "graph"
  },
  "language_info": {
   "codemirror_mode": {
    "name": "ipython",
    "version": 3
   },
   "file_extension": ".py",
   "mimetype": "text/x-python",
   "name": "python",
   "nbconvert_exporter": "python",
   "pygments_lexer": "ipython3",
   "version": "3.7.10"
  }
 },
 "nbformat": 4,
 "nbformat_minor": 2
}
