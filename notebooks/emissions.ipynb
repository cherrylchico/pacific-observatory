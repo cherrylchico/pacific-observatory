{
 "cells": [
  {
   "cell_type": "code",
   "execution_count": 1,
   "metadata": {},
   "outputs": [],
   "source": [
    "import pandas as pd\n",
    "from os.path import join, expanduser\n",
    "import sys\n",
    "from datetime import datetime"
   ]
  },
  {
   "cell_type": "code",
   "execution_count": 2,
   "metadata": {},
   "outputs": [],
   "source": [
    "emissions_dir = r'C:\\Users\\WB514197\\WBG\\EEAPV Pacific Observatory Files - Geospatial and Big Data\\AIS\\emissions'\n",
    "input_dir = join(emissions_dir, '20240614')\n",
    "output_dir = join(emissions_dir, 'for_charts')\n",
    "df = pd.read_csv(join(input_dir, 'Emissions Pacific 201901_202405.csv'))\n",
    "df.loc[:, 'ymd'] = pd.to_datetime(df[['year','month']].assign(day=1)) \n",
    "df.loc[:, 'ym'] = df['ymd'].dt.to_period('M')\n",
    "df.columns = df.columns.str.lower()"
   ]
  },
  {
   "cell_type": "code",
   "execution_count": 43,
   "metadata": {},
   "outputs": [],
   "source": [
    "kir_islands = ['Phoenix Group', 'Gilbert Islands', 'Line Group']\n",
    "df.loc[df['country'].isin(kir_islands), 'country'] = 'Kiribati'"
   ]
  },
  {
   "cell_type": "code",
   "execution_count": 45,
   "metadata": {},
   "outputs": [],
   "source": [
    "# df.to_csv(join(output_dir, 'emissions.csv'))"
   ]
  },
  {
   "cell_type": "code",
   "execution_count": 46,
   "metadata": {},
   "outputs": [],
   "source": [
    "group_cols = ['country', 'ymd', 'ym'] # '_vessel_group_ais' '_w_fishing'\n",
    "data_cols = ['count_vessel', 'count_vessel_day', '_missing_hours', '_total_hours']\n",
    "# data_cols = ['_ch4_e', '_co_e', '_n2o_e', '_nmvoc_e', '_pm10_e', '_pm25_e', '_nox_e', '_bc_e', '_co2_f', '_sox_f', '_bc_f']"
   ]
  },
  {
   "cell_type": "code",
   "execution_count": 47,
   "metadata": {},
   "outputs": [],
   "source": [
    "df_re = df.groupby(group_cols)[data_cols].sum()\n",
    "df_re.reset_index(inplace=True)\n",
    "# df_re.to_csv(join(output_dir, 'emissions_clean_by_vessel_group.csv'))"
   ]
  },
  {
   "cell_type": "code",
   "execution_count": 48,
   "metadata": {},
   "outputs": [
    {
     "data": {
      "text/html": [
       "<div>\n",
       "<style scoped>\n",
       "    .dataframe tbody tr th:only-of-type {\n",
       "        vertical-align: middle;\n",
       "    }\n",
       "\n",
       "    .dataframe tbody tr th {\n",
       "        vertical-align: top;\n",
       "    }\n",
       "\n",
       "    .dataframe thead th {\n",
       "        text-align: right;\n",
       "    }\n",
       "</style>\n",
       "<table border=\"1\" class=\"dataframe\">\n",
       "  <thead>\n",
       "    <tr style=\"text-align: right;\">\n",
       "      <th></th>\n",
       "      <th>country</th>\n",
       "      <th>ymd</th>\n",
       "      <th>ym</th>\n",
       "      <th>count_vessel</th>\n",
       "      <th>count_vessel_day</th>\n",
       "      <th>_missing_hours</th>\n",
       "      <th>_total_hours</th>\n",
       "    </tr>\n",
       "  </thead>\n",
       "  <tbody>\n",
       "    <tr>\n",
       "      <th>0</th>\n",
       "      <td>Cook Islands</td>\n",
       "      <td>2019-01-01</td>\n",
       "      <td>2019-01</td>\n",
       "      <td>1046</td>\n",
       "      <td>2229</td>\n",
       "      <td>17801.0</td>\n",
       "      <td>30445.0</td>\n",
       "    </tr>\n",
       "    <tr>\n",
       "      <th>1</th>\n",
       "      <td>Cook Islands</td>\n",
       "      <td>2019-02-01</td>\n",
       "      <td>2019-02</td>\n",
       "      <td>997</td>\n",
       "      <td>1825</td>\n",
       "      <td>18252.0</td>\n",
       "      <td>26144.0</td>\n",
       "    </tr>\n",
       "  </tbody>\n",
       "</table>\n",
       "</div>"
      ],
      "text/plain": [
       "        country        ymd       ym  count_vessel  count_vessel_day  \\\n",
       "0  Cook Islands 2019-01-01  2019-01          1046              2229   \n",
       "1  Cook Islands 2019-02-01  2019-02           997              1825   \n",
       "\n",
       "   _missing_hours  _total_hours  \n",
       "0         17801.0       30445.0  \n",
       "1         18252.0       26144.0  "
      ]
     },
     "execution_count": 48,
     "metadata": {},
     "output_type": "execute_result"
    }
   ],
   "source": [
    "df_re.head(2)"
   ]
  },
  {
   "cell_type": "code",
   "execution_count": 51,
   "metadata": {},
   "outputs": [],
   "source": [
    "# df_piv = df_re[group_cols+['_co2_f']].pivot(columns='_vessel_group_ais', values='_co2_f', index=['country', 'ymd', 'ym']).reset_index()\n",
    "# df_piv = df_re[group_cols+['count_vessel']].pivot(columns=['_vessel_group_ais'], values='count_vessel', index=['country', 'ymd', 'ym']).reset_index()\n",
    "df_piv = df_re[group_cols+['count_vessel']].pivot(columns=['country'], values='count_vessel', index=['ymd', 'ym']).reset_index()"
   ]
  },
  {
   "cell_type": "code",
   "execution_count": 68,
   "metadata": {},
   "outputs": [],
   "source": [
    "order = list(df_re.groupby('country').mean().sort_values('count_vessel', ascending=False).index)"
   ]
  },
  {
   "cell_type": "code",
   "execution_count": 73,
   "metadata": {},
   "outputs": [],
   "source": [
    "# df_piv.to_csv(join(output_dir, 'co2_emissions_by_vessel_group.csv'))\n",
    "df_piv[['ym', 'ymd']+order].to_csv(join(output_dir, 'vessel_count_by_country.csv'), index=False)"
   ]
  },
  {
   "cell_type": "code",
   "execution_count": 56,
   "metadata": {},
   "outputs": [],
   "source": [
    "# group_cols = ['country', 'ymd', 'ym']\n",
    "# df_re = df.groupby(group_cols)[['_co2_f']].sum()\n",
    "# df_re.reset_index(inplace=True)\n",
    "# df_piv = df_re.pivot(columns='country', values='_co2_f', index='ym')"
   ]
  },
  {
   "cell_type": "code",
   "execution_count": null,
   "metadata": {},
   "outputs": [],
   "source": []
  }
 ],
 "metadata": {
  "kernelspec": {
   "display_name": "rtmis",
   "language": "python",
   "name": "python3"
  },
  "language_info": {
   "codemirror_mode": {
    "name": "ipython",
    "version": 3
   },
   "file_extension": ".py",
   "mimetype": "text/x-python",
   "name": "python",
   "nbconvert_exporter": "python",
   "pygments_lexer": "ipython3",
   "version": "3.11.5"
  }
 },
 "nbformat": 4,
 "nbformat_minor": 2
}
