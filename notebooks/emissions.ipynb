{
 "cells": [
  {
   "cell_type": "markdown",
   "metadata": {},
   "source": [
    "# Charts"
   ]
  },
  {
   "cell_type": "code",
   "execution_count": 1,
   "metadata": {},
   "outputs": [],
   "source": [
    "import pandas as pd\n",
    "from os.path import join, expanduser\n",
    "import sys\n",
    "from datetime import datetime"
   ]
  },
  {
   "cell_type": "code",
   "execution_count": 2,
   "metadata": {},
   "outputs": [],
   "source": [
    "emissions_dir = r'C:\\Users\\WB514197\\WBG\\EEAPV Pacific Observatory Files - Geospatial and Big Data\\AIS\\emissions'\n",
    "input_dir = join(emissions_dir, '20240614')\n",
    "output_dir = join(emissions_dir, 'for_charts')\n",
    "df = pd.read_csv(join(input_dir, 'Emissions Pacific 201901_202405.csv'))\n",
    "df.loc[:, 'ymd'] = pd.to_datetime(df[['year','month']].assign(day=1)) \n",
    "df.loc[:, 'ym'] = df['ymd'].dt.to_period('M')\n",
    "df.columns = df.columns.str.lower()"
   ]
  },
  {
   "cell_type": "code",
   "execution_count": 3,
   "metadata": {},
   "outputs": [],
   "source": [
    "kir_islands = ['Phoenix Group', 'Gilbert Islands', 'Line Group']\n",
    "df.loc[df['country'].isin(kir_islands), 'country'] = 'Kiribati'"
   ]
  },
  {
   "cell_type": "code",
   "execution_count": 4,
   "metadata": {},
   "outputs": [],
   "source": [
    "# df.to_csv(join(output_dir, 'emissions.csv'))"
   ]
  },
  {
   "cell_type": "markdown",
   "metadata": {},
   "source": [
    "## Vessel Count"
   ]
  },
  {
   "cell_type": "code",
   "execution_count": null,
   "metadata": {},
   "outputs": [],
   "source": [
    "group_cols = ['country', 'ymd', 'ym'] \n",
    "data_cols = ['count_vessel', 'count_vessel_day', '_missing_hours', '_total_hours']\n",
    "df_re = df.groupby(group_cols)[data_cols].sum()\n",
    "df_re.reset_index(inplace=True)\n",
    "df_piv = df_re[group_cols+['count_vessel']].pivot(columns=['country'], values='count_vessel', index=['ymd', 'ym']).reset_index()\n",
    "order = list(df_re.groupby('country').mean().sort_values('count_vessel', ascending=False).index)\n",
    "df_piv[['ym', 'ymd']+order].to_csv(join(output_dir, 'vessel_count_by_country.csv'), index=False)"
   ]
  },
  {
   "cell_type": "markdown",
   "metadata": {},
   "source": [
    "## CO2 Emissions by Type"
   ]
  },
  {
   "cell_type": "code",
   "execution_count": 25,
   "metadata": {},
   "outputs": [],
   "source": [
    "group_cols = ['country', 'ymd', 'ym', '_vessel_group_ais']\n",
    "data_cols = ['_ch4_e', '_co_e', '_n2o_e', '_nmvoc_e', '_pm10_e', '_pm25_e', '_nox_e', '_bc_e', '_co2_f', '_sox_f', '_bc_f']\n",
    "df_re = df.groupby(group_cols)[data_cols].sum()\n",
    "df_re.reset_index(inplace=True)\n",
    "df_piv = df_re[group_cols+['_co2_f']].pivot(columns='_vessel_group_ais', values='_co2_f', index=['country', 'ymd', 'ym']).reset_index()"
   ]
  },
  {
   "cell_type": "code",
   "execution_count": 67,
   "metadata": {},
   "outputs": [
    {
     "data": {
      "text/html": [
       "<div>\n",
       "<style scoped>\n",
       "    .dataframe tbody tr th:only-of-type {\n",
       "        vertical-align: middle;\n",
       "    }\n",
       "\n",
       "    .dataframe tbody tr th {\n",
       "        vertical-align: top;\n",
       "    }\n",
       "\n",
       "    .dataframe thead th {\n",
       "        text-align: right;\n",
       "    }\n",
       "</style>\n",
       "<table border=\"1\" class=\"dataframe\">\n",
       "  <thead>\n",
       "    <tr style=\"text-align: right;\">\n",
       "      <th>_vessel_group_ais</th>\n",
       "      <th>ymd</th>\n",
       "      <th>ym</th>\n",
       "      <th>country</th>\n",
       "      <th>Cargo</th>\n",
       "      <th>Fishing</th>\n",
       "      <th>Others</th>\n",
       "      <th>Passenger</th>\n",
       "      <th>Tanker</th>\n",
       "    </tr>\n",
       "  </thead>\n",
       "  <tbody>\n",
       "    <tr>\n",
       "      <th>0</th>\n",
       "      <td>2019-01-01</td>\n",
       "      <td>2019-01</td>\n",
       "      <td>All</td>\n",
       "      <td>8.334048e+11</td>\n",
       "      <td>4.255528e+10</td>\n",
       "      <td>7.419351e+10</td>\n",
       "      <td>6.941941e+10</td>\n",
       "      <td>2.137858e+11</td>\n",
       "    </tr>\n",
       "    <tr>\n",
       "      <th>1</th>\n",
       "      <td>2019-02-01</td>\n",
       "      <td>2019-02</td>\n",
       "      <td>All</td>\n",
       "      <td>6.575297e+11</td>\n",
       "      <td>3.629167e+10</td>\n",
       "      <td>7.046958e+10</td>\n",
       "      <td>9.684505e+10</td>\n",
       "      <td>1.239919e+11</td>\n",
       "    </tr>\n",
       "    <tr>\n",
       "      <th>2</th>\n",
       "      <td>2019-03-01</td>\n",
       "      <td>2019-03</td>\n",
       "      <td>All</td>\n",
       "      <td>7.247566e+11</td>\n",
       "      <td>3.929789e+10</td>\n",
       "      <td>7.268150e+10</td>\n",
       "      <td>7.405272e+10</td>\n",
       "      <td>1.541263e+11</td>\n",
       "    </tr>\n",
       "    <tr>\n",
       "      <th>3</th>\n",
       "      <td>2019-04-01</td>\n",
       "      <td>2019-04</td>\n",
       "      <td>All</td>\n",
       "      <td>5.449808e+11</td>\n",
       "      <td>3.535564e+10</td>\n",
       "      <td>5.907037e+10</td>\n",
       "      <td>3.034599e+10</td>\n",
       "      <td>1.301189e+11</td>\n",
       "    </tr>\n",
       "    <tr>\n",
       "      <th>4</th>\n",
       "      <td>2019-05-01</td>\n",
       "      <td>2019-05</td>\n",
       "      <td>All</td>\n",
       "      <td>5.679863e+11</td>\n",
       "      <td>3.190150e+10</td>\n",
       "      <td>5.964276e+10</td>\n",
       "      <td>1.161958e+10</td>\n",
       "      <td>1.425866e+11</td>\n",
       "    </tr>\n",
       "    <tr>\n",
       "      <th>...</th>\n",
       "      <td>...</td>\n",
       "      <td>...</td>\n",
       "      <td>...</td>\n",
       "      <td>...</td>\n",
       "      <td>...</td>\n",
       "      <td>...</td>\n",
       "      <td>...</td>\n",
       "      <td>...</td>\n",
       "    </tr>\n",
       "    <tr>\n",
       "      <th>1035</th>\n",
       "      <td>2024-01-01</td>\n",
       "      <td>2024-01</td>\n",
       "      <td>Vanuatu</td>\n",
       "      <td>4.793609e+09</td>\n",
       "      <td>1.024560e+09</td>\n",
       "      <td>4.567897e+09</td>\n",
       "      <td>6.759454e+09</td>\n",
       "      <td>1.142747e+09</td>\n",
       "    </tr>\n",
       "    <tr>\n",
       "      <th>1036</th>\n",
       "      <td>2024-02-01</td>\n",
       "      <td>2024-02</td>\n",
       "      <td>Vanuatu</td>\n",
       "      <td>2.724946e+09</td>\n",
       "      <td>7.289587e+08</td>\n",
       "      <td>4.311742e+09</td>\n",
       "      <td>5.011830e+09</td>\n",
       "      <td>5.768809e+08</td>\n",
       "    </tr>\n",
       "    <tr>\n",
       "      <th>1037</th>\n",
       "      <td>2024-03-01</td>\n",
       "      <td>2024-03</td>\n",
       "      <td>Vanuatu</td>\n",
       "      <td>4.399589e+09</td>\n",
       "      <td>6.639224e+08</td>\n",
       "      <td>3.436149e+09</td>\n",
       "      <td>3.156203e+09</td>\n",
       "      <td>1.073155e+09</td>\n",
       "    </tr>\n",
       "    <tr>\n",
       "      <th>1038</th>\n",
       "      <td>2024-04-01</td>\n",
       "      <td>2024-04</td>\n",
       "      <td>Vanuatu</td>\n",
       "      <td>3.889955e+09</td>\n",
       "      <td>4.441859e+08</td>\n",
       "      <td>1.950988e+09</td>\n",
       "      <td>2.541087e+09</td>\n",
       "      <td>8.247853e+08</td>\n",
       "    </tr>\n",
       "    <tr>\n",
       "      <th>1039</th>\n",
       "      <td>2024-05-01</td>\n",
       "      <td>2024-05</td>\n",
       "      <td>Vanuatu</td>\n",
       "      <td>3.779022e+09</td>\n",
       "      <td>2.216531e+08</td>\n",
       "      <td>2.275504e+09</td>\n",
       "      <td>3.622711e+09</td>\n",
       "      <td>5.691406e+08</td>\n",
       "    </tr>\n",
       "  </tbody>\n",
       "</table>\n",
       "<p>1040 rows × 8 columns</p>\n",
       "</div>"
      ],
      "text/plain": [
       "_vessel_group_ais        ymd       ym  country         Cargo       Fishing  \\\n",
       "0                 2019-01-01  2019-01      All  8.334048e+11  4.255528e+10   \n",
       "1                 2019-02-01  2019-02      All  6.575297e+11  3.629167e+10   \n",
       "2                 2019-03-01  2019-03      All  7.247566e+11  3.929789e+10   \n",
       "3                 2019-04-01  2019-04      All  5.449808e+11  3.535564e+10   \n",
       "4                 2019-05-01  2019-05      All  5.679863e+11  3.190150e+10   \n",
       "...                      ...      ...      ...           ...           ...   \n",
       "1035              2024-01-01  2024-01  Vanuatu  4.793609e+09  1.024560e+09   \n",
       "1036              2024-02-01  2024-02  Vanuatu  2.724946e+09  7.289587e+08   \n",
       "1037              2024-03-01  2024-03  Vanuatu  4.399589e+09  6.639224e+08   \n",
       "1038              2024-04-01  2024-04  Vanuatu  3.889955e+09  4.441859e+08   \n",
       "1039              2024-05-01  2024-05  Vanuatu  3.779022e+09  2.216531e+08   \n",
       "\n",
       "_vessel_group_ais        Others     Passenger        Tanker  \n",
       "0                  7.419351e+10  6.941941e+10  2.137858e+11  \n",
       "1                  7.046958e+10  9.684505e+10  1.239919e+11  \n",
       "2                  7.268150e+10  7.405272e+10  1.541263e+11  \n",
       "3                  5.907037e+10  3.034599e+10  1.301189e+11  \n",
       "4                  5.964276e+10  1.161958e+10  1.425866e+11  \n",
       "...                         ...           ...           ...  \n",
       "1035               4.567897e+09  6.759454e+09  1.142747e+09  \n",
       "1036               4.311742e+09  5.011830e+09  5.768809e+08  \n",
       "1037               3.436149e+09  3.156203e+09  1.073155e+09  \n",
       "1038               1.950988e+09  2.541087e+09  8.247853e+08  \n",
       "1039               2.275504e+09  3.622711e+09  5.691406e+08  \n",
       "\n",
       "[1040 rows x 8 columns]"
      ]
     },
     "execution_count": 67,
     "metadata": {},
     "output_type": "execute_result"
    }
   ],
   "source": [
    "df_all = df_piv.groupby(['ymd', 'ym']).sum().reset_index().assign(country='All')\n",
    "df_concat = pd.concat([df_all, df_piv], sort=False).reset_index(drop=True)\n",
    "df_concat"
   ]
  },
  {
   "cell_type": "code",
   "execution_count": 24,
   "metadata": {},
   "outputs": [],
   "source": [
    "# df_concat.to_csv(join(output_dir, 'co2_emissions_by_vessel_group.csv'))"
   ]
  },
  {
   "cell_type": "code",
   "execution_count": 68,
   "metadata": {},
   "outputs": [
    {
     "data": {
      "text/html": [
       "<div>\n",
       "<style scoped>\n",
       "    .dataframe tbody tr th:only-of-type {\n",
       "        vertical-align: middle;\n",
       "    }\n",
       "\n",
       "    .dataframe tbody tr th {\n",
       "        vertical-align: top;\n",
       "    }\n",
       "\n",
       "    .dataframe thead th {\n",
       "        text-align: right;\n",
       "    }\n",
       "</style>\n",
       "<table border=\"1\" class=\"dataframe\">\n",
       "  <thead>\n",
       "    <tr style=\"text-align: right;\">\n",
       "      <th>_vessel_group_ais</th>\n",
       "      <th>Cargo</th>\n",
       "      <th>Fishing</th>\n",
       "      <th>Others</th>\n",
       "      <th>Passenger</th>\n",
       "      <th>Tanker</th>\n",
       "    </tr>\n",
       "  </thead>\n",
       "  <tbody>\n",
       "    <tr>\n",
       "      <th>0</th>\n",
       "      <td>8.334048e+11</td>\n",
       "      <td>4.255528e+10</td>\n",
       "      <td>7.419351e+10</td>\n",
       "      <td>6.941941e+10</td>\n",
       "      <td>2.137858e+11</td>\n",
       "    </tr>\n",
       "    <tr>\n",
       "      <th>1</th>\n",
       "      <td>6.575297e+11</td>\n",
       "      <td>3.629167e+10</td>\n",
       "      <td>7.046958e+10</td>\n",
       "      <td>9.684505e+10</td>\n",
       "      <td>1.239919e+11</td>\n",
       "    </tr>\n",
       "  </tbody>\n",
       "</table>\n",
       "</div>"
      ],
      "text/plain": [
       "_vessel_group_ais         Cargo       Fishing        Others     Passenger  \\\n",
       "0                  8.334048e+11  4.255528e+10  7.419351e+10  6.941941e+10   \n",
       "1                  6.575297e+11  3.629167e+10  7.046958e+10  9.684505e+10   \n",
       "\n",
       "_vessel_group_ais        Tanker  \n",
       "0                  2.137858e+11  \n",
       "1                  1.239919e+11  "
      ]
     },
     "execution_count": 68,
     "metadata": {},
     "output_type": "execute_result"
    }
   ],
   "source": [
    "df_concat.loc[:, \"Cargo\":].head(2)"
   ]
  },
  {
   "cell_type": "code",
   "execution_count": 69,
   "metadata": {},
   "outputs": [],
   "source": [
    "df_sum = df_concat.loc[:, \"Cargo\":].sum(axis=1)"
   ]
  },
  {
   "cell_type": "code",
   "execution_count": 70,
   "metadata": {},
   "outputs": [],
   "source": [
    "df_pct = df_concat.loc[:, \"Cargo\":].div(df_sum, axis=0)*100"
   ]
  },
  {
   "cell_type": "code",
   "execution_count": 74,
   "metadata": {},
   "outputs": [],
   "source": [
    "df_concat.join(df_pct, rsuffix=' pct').to_csv(join(output_dir, 'co2_emissions_by_vessel_group.csv'))"
   ]
  },
  {
   "cell_type": "markdown",
   "metadata": {},
   "source": [
    "## CO2 Emissions by Type"
   ]
  },
  {
   "cell_type": "code",
   "execution_count": 24,
   "metadata": {},
   "outputs": [],
   "source": [
    "group_cols = ['country', 'year', '_vessel_group_ais']\n",
    "data_cols = ['_co2_f']\n",
    "df_re = df.groupby(group_cols)[data_cols].sum()\n",
    "df_re.reset_index(inplace=True)\n",
    "# df_piv = df_re[group_cols+['_co2_f']].pivot(columns='_vessel_group_ais', values='_co2_f', index=['country', 'ymd', 'ym']).reset_index()"
   ]
  },
  {
   "cell_type": "code",
   "execution_count": 28,
   "metadata": {},
   "outputs": [],
   "source": [
    "df_re.columns = ['Country', 'Year', 'Vessel Type', 'CO2 Emissions']"
   ]
  },
  {
   "cell_type": "code",
   "execution_count": 38,
   "metadata": {},
   "outputs": [],
   "source": [
    "df_sum = df_re.groupby(['Country', 'Year'])[['CO2 Emissions']].sum().reset_index()"
   ]
  },
  {
   "cell_type": "code",
   "execution_count": 41,
   "metadata": {},
   "outputs": [],
   "source": [
    "df_re = df_re.merge(df_sum, on=['Country', 'Year'], suffixes=('', ' sum'))"
   ]
  },
  {
   "cell_type": "code",
   "execution_count": 42,
   "metadata": {},
   "outputs": [],
   "source": [
    "df_re.loc[:, 'Share'] = df_re['CO2 Emissions']/df_re['CO2 Emissions sum']*100"
   ]
  },
  {
   "cell_type": "code",
   "execution_count": 44,
   "metadata": {},
   "outputs": [],
   "source": [
    "df_re.drop(columns=['CO2 Emissions sum'], inplace=True)"
   ]
  },
  {
   "cell_type": "code",
   "execution_count": 45,
   "metadata": {},
   "outputs": [],
   "source": [
    "df_re.to_csv(join(output_dir, 'co2_emissions_by_vessel_group_and_year.csv'), index=False)"
   ]
  },
  {
   "cell_type": "markdown",
   "metadata": {},
   "source": [
    "## Poluttant Time Series"
   ]
  },
  {
   "cell_type": "code",
   "execution_count": 73,
   "metadata": {},
   "outputs": [],
   "source": [
    "group_cols = ['country', 'ymd', 'ym'] # 'country', 'ymd', 'ym', '_op_phase' \n",
    "data_cols = ['_ch4_e', '_co_e', '_n2o_e', '_nmvoc_e', '_pm10_e', '_pm25_e', '_nox_e', '_bc_e', '_co2_f', '_sox_f', '_bc_f']\n",
    "df_re = df.groupby(group_cols)[data_cols].sum()\n",
    "df_re.reset_index(inplace=True)\n",
    "df_re = df_re[['country', 'ymd', 'ym', '_ch4_e', '_co_e', '_n2o_e', '_nmvoc_e', '_pm10_e', '_pm25_e', '_nox_e', '_bc_f', '_co2_f', '_sox_f']].copy()\n",
    "\n",
    "df_re.rename(\n",
    "    columns={\n",
    "        '_ch4_e': 'Methane', \n",
    "        '_co_e': 'Carbon Monoxide', \n",
    "        '_n2o_e': 'Nitrous Oxide', \n",
    "        '_nmvoc_e': 'Non-Methane Volatile Organic Compounds', \n",
    "        '_pm10_e': 'Particulate Matter 10', \n",
    "        '_pm25_e': 'Particulate Matter 2.5', \n",
    "        '_nox_e': 'Nitrogen Oxide', \n",
    "        '_bc_f': 'Black Carbon', \n",
    "        '_co2_f': 'Carbon Dioxide', \n",
    "        '_sox_f': 'Sulfur Oxide'\n",
    "    }, inplace=True)\n"
   ]
  },
  {
   "cell_type": "code",
   "execution_count": 75,
   "metadata": {},
   "outputs": [
    {
     "data": {
      "text/plain": [
       "Index(['country', 'ymd', 'ym', 'Methane', 'Carbon Monoxide', 'Nitrous Oxide',\n",
       "       'Non-Methane Volatile Organic Compounds', 'Particulate Matter 10',\n",
       "       'Particulate Matter 2.5', 'Nitrogen Oxide', 'Black Carbon',\n",
       "       'Carbon Dioxide', 'Sulfur Oxide'],\n",
       "      dtype='object')"
      ]
     },
     "execution_count": 75,
     "metadata": {},
     "output_type": "execute_result"
    }
   ],
   "source": [
    "df_re.columns"
   ]
  },
  {
   "cell_type": "code",
   "execution_count": 82,
   "metadata": {},
   "outputs": [
    {
     "data": {
      "text/html": [
       "<div>\n",
       "<style scoped>\n",
       "    .dataframe tbody tr th:only-of-type {\n",
       "        vertical-align: middle;\n",
       "    }\n",
       "\n",
       "    .dataframe tbody tr th {\n",
       "        vertical-align: top;\n",
       "    }\n",
       "\n",
       "    .dataframe thead th {\n",
       "        text-align: right;\n",
       "    }\n",
       "</style>\n",
       "<table border=\"1\" class=\"dataframe\">\n",
       "  <thead>\n",
       "    <tr style=\"text-align: right;\">\n",
       "      <th></th>\n",
       "      <th>ymd</th>\n",
       "      <th>ym</th>\n",
       "      <th>country</th>\n",
       "      <th>Methane</th>\n",
       "      <th>Carbon Monoxide</th>\n",
       "      <th>Nitrous Oxide</th>\n",
       "      <th>Non-Methane Volatile Organic Compounds</th>\n",
       "      <th>Particulate Matter 10</th>\n",
       "      <th>Particulate Matter 2.5</th>\n",
       "      <th>Nitrogen Oxide</th>\n",
       "      <th>Black Carbon</th>\n",
       "      <th>Carbon Dioxide</th>\n",
       "      <th>Sulfur Oxide</th>\n",
       "    </tr>\n",
       "  </thead>\n",
       "  <tbody>\n",
       "    <tr>\n",
       "      <th>0</th>\n",
       "      <td>2019-01-01</td>\n",
       "      <td>2019-01</td>\n",
       "      <td>All</td>\n",
       "      <td>4.502566e+08</td>\n",
       "      <td>1.331744e+09</td>\n",
       "      <td>1.254206e+08</td>\n",
       "      <td>2.530910e+09</td>\n",
       "      <td>2.910637e+09</td>\n",
       "      <td>2.677786e+09</td>\n",
       "      <td>5.869693e+10</td>\n",
       "      <td>1.330564e+08</td>\n",
       "      <td>1.233359e+12</td>\n",
       "      <td>1.658882e+10</td>\n",
       "    </tr>\n",
       "    <tr>\n",
       "      <th>1</th>\n",
       "      <td>2019-02-01</td>\n",
       "      <td>2019-02</td>\n",
       "      <td>All</td>\n",
       "      <td>1.872637e+08</td>\n",
       "      <td>1.045620e+09</td>\n",
       "      <td>1.062423e+08</td>\n",
       "      <td>2.137815e+09</td>\n",
       "      <td>2.497645e+09</td>\n",
       "      <td>2.297833e+09</td>\n",
       "      <td>4.984174e+10</td>\n",
       "      <td>1.194744e+08</td>\n",
       "      <td>9.851279e+11</td>\n",
       "      <td>1.377374e+10</td>\n",
       "    </tr>\n",
       "    <tr>\n",
       "      <th>2</th>\n",
       "      <td>2019-03-01</td>\n",
       "      <td>2019-03</td>\n",
       "      <td>All</td>\n",
       "      <td>3.109207e+08</td>\n",
       "      <td>1.135755e+09</td>\n",
       "      <td>1.103714e+08</td>\n",
       "      <td>2.226790e+09</td>\n",
       "      <td>2.558231e+09</td>\n",
       "      <td>2.353572e+09</td>\n",
       "      <td>5.144848e+10</td>\n",
       "      <td>1.162332e+08</td>\n",
       "      <td>1.064915e+12</td>\n",
       "      <td>1.439286e+10</td>\n",
       "    </tr>\n",
       "    <tr>\n",
       "      <th>3</th>\n",
       "      <td>2019-04-01</td>\n",
       "      <td>2019-04</td>\n",
       "      <td>All</td>\n",
       "      <td>3.381616e+08</td>\n",
       "      <td>8.688040e+08</td>\n",
       "      <td>8.104202e+07</td>\n",
       "      <td>1.635361e+09</td>\n",
       "      <td>1.825614e+09</td>\n",
       "      <td>1.679565e+09</td>\n",
       "      <td>3.756677e+10</td>\n",
       "      <td>8.538729e+07</td>\n",
       "      <td>7.998718e+11</td>\n",
       "      <td>1.024175e+10</td>\n",
       "    </tr>\n",
       "    <tr>\n",
       "      <th>4</th>\n",
       "      <td>2019-05-01</td>\n",
       "      <td>2019-05</td>\n",
       "      <td>All</td>\n",
       "      <td>3.733138e+08</td>\n",
       "      <td>9.000365e+08</td>\n",
       "      <td>8.258574e+07</td>\n",
       "      <td>1.672159e+09</td>\n",
       "      <td>1.852027e+09</td>\n",
       "      <td>1.703865e+09</td>\n",
       "      <td>3.835935e+10</td>\n",
       "      <td>8.730473e+07</td>\n",
       "      <td>8.137367e+11</td>\n",
       "      <td>1.039284e+10</td>\n",
       "    </tr>\n",
       "  </tbody>\n",
       "</table>\n",
       "</div>"
      ],
      "text/plain": [
       "         ymd       ym country       Methane  Carbon Monoxide  Nitrous Oxide  \\\n",
       "0 2019-01-01  2019-01     All  4.502566e+08     1.331744e+09   1.254206e+08   \n",
       "1 2019-02-01  2019-02     All  1.872637e+08     1.045620e+09   1.062423e+08   \n",
       "2 2019-03-01  2019-03     All  3.109207e+08     1.135755e+09   1.103714e+08   \n",
       "3 2019-04-01  2019-04     All  3.381616e+08     8.688040e+08   8.104202e+07   \n",
       "4 2019-05-01  2019-05     All  3.733138e+08     9.000365e+08   8.258574e+07   \n",
       "\n",
       "   Non-Methane Volatile Organic Compounds  Particulate Matter 10  \\\n",
       "0                            2.530910e+09           2.910637e+09   \n",
       "1                            2.137815e+09           2.497645e+09   \n",
       "2                            2.226790e+09           2.558231e+09   \n",
       "3                            1.635361e+09           1.825614e+09   \n",
       "4                            1.672159e+09           1.852027e+09   \n",
       "\n",
       "   Particulate Matter 2.5  Nitrogen Oxide  Black Carbon  Carbon Dioxide  \\\n",
       "0            2.677786e+09    5.869693e+10  1.330564e+08    1.233359e+12   \n",
       "1            2.297833e+09    4.984174e+10  1.194744e+08    9.851279e+11   \n",
       "2            2.353572e+09    5.144848e+10  1.162332e+08    1.064915e+12   \n",
       "3            1.679565e+09    3.756677e+10  8.538729e+07    7.998718e+11   \n",
       "4            1.703865e+09    3.835935e+10  8.730473e+07    8.137367e+11   \n",
       "\n",
       "   Sulfur Oxide  \n",
       "0  1.658882e+10  \n",
       "1  1.377374e+10  \n",
       "2  1.439286e+10  \n",
       "3  1.024175e+10  \n",
       "4  1.039284e+10  "
      ]
     },
     "execution_count": 82,
     "metadata": {},
     "output_type": "execute_result"
    }
   ],
   "source": [
    "df_all = df_re.groupby(['ymd', 'ym']).sum().reset_index().assign(country='All')\n",
    "df_concat = pd.concat([df_all, df_re], sort=False).reset_index(drop=True)\n",
    "df_concat.head()"
   ]
  },
  {
   "cell_type": "code",
   "execution_count": 83,
   "metadata": {},
   "outputs": [],
   "source": [
    "df_concat.to_csv(join(output_dir, 'pollutant-by-country-monthly.csv'), index=False)"
   ]
  },
  {
   "cell_type": "code",
   "execution_count": null,
   "metadata": {},
   "outputs": [],
   "source": []
  },
  {
   "cell_type": "code",
   "execution_count": null,
   "metadata": {},
   "outputs": [],
   "source": []
  },
  {
   "cell_type": "markdown",
   "metadata": {},
   "source": [
    "## Operational Phase"
   ]
  },
  {
   "cell_type": "code",
   "execution_count": 11,
   "metadata": {},
   "outputs": [],
   "source": [
    "# df.columns"
   ]
  },
  {
   "cell_type": "code",
   "execution_count": 71,
   "metadata": {},
   "outputs": [],
   "source": [
    "group_cols = ['country', 'year'] # 'country', 'ymd', 'ym', '_op_phase' \n",
    "data_cols = ['_ch4_e', '_co_e', '_n2o_e', '_nmvoc_e', '_pm10_e', '_pm25_e', '_nox_e', '_bc_e', '_co2_f', '_sox_f', '_bc_f']\n",
    "df_re = df.groupby(group_cols)[data_cols].sum()\n",
    "df_re.reset_index(inplace=True)\n",
    "# df_piv = df_re[group_cols+['_co2_f']].pivot(columns='_op_phase', values='_co2_f', index=['country', 'ymd', 'ym']).reset_index()"
   ]
  },
  {
   "cell_type": "code",
   "execution_count": 72,
   "metadata": {},
   "outputs": [],
   "source": [
    "df_re = df_re[['country', 'year', '_ch4_e', '_co_e', '_n2o_e', '_nmvoc_e', '_pm10_e',\n",
    "       '_pm25_e', '_nox_e', '_bc_f', '_co2_f', '_sox_f']].copy()\n",
    "\n",
    "df_re.rename(\n",
    "    columns={\n",
    "        '_ch4_e': 'Methane', \n",
    "        '_co_e': 'Carbon Monoxide', \n",
    "        '_n2o_e': 'Nitrous Oxide', \n",
    "        '_nmvoc_e': 'Non-Methane Volatile Organic Compounds', \n",
    "        '_pm10_e': 'Particulate Matter 10', \n",
    "        '_pm25_e': 'Particulate Matter 2.5', \n",
    "        '_nox_e': 'Nitrogen Oxide', \n",
    "        '_bc_f': 'Black Carbon', \n",
    "        '_co2_f': 'Carbon Dioxide', \n",
    "        '_sox_f': 'Sulfur Oxide',\n",
    "        'country': 'Country',\n",
    "        'year': 'Year'\n",
    "    }, inplace=True)\n"
   ]
  },
  {
   "cell_type": "code",
   "execution_count": 68,
   "metadata": {},
   "outputs": [],
   "source": [
    "# df_re.columns = ['Operational Phase', 'CH4 (Methane)' 'CO (Carbon Monoxide)', 'N2O (Nitrous Oxide)', 'NMVOC (Non-Methane Volatile Organic Compounds)', 'PM10 (Particulate Matter 10)', 'PM2.5 (Particulate Matter 2.5)', 'NOx (Nitrogen Oxide)', 'BC (Black Carbon)', 'CO2 (Methane)', 'SOx (Sulfur Oxide)', 'BC (Black Carbon 2)']\n",
    "# df_re.columns = ['Country', 'Year', 'Methane', 'Carbon Monoxide', 'Nitrous Oxide', 'Non-Methane Volatile Organic Compounds', 'Particulate Matter 10', 'Particulate Matter 2.5', 'Nitrogen Oxide', 'Black Carbon', 'Carbon Dioxide', 'Sulfur Oxide'] # 'Black Carbon 2']"
   ]
  },
  {
   "cell_type": "code",
   "execution_count": 69,
   "metadata": {},
   "outputs": [],
   "source": [
    "# reshape wide to long\n",
    "df_re = df_re.melt(id_vars=['Country', 'Year'], var_name='Pollutant', value_name='Emissions')"
   ]
  },
  {
   "cell_type": "code",
   "execution_count": 70,
   "metadata": {},
   "outputs": [],
   "source": [
    "df_re.to_csv(join(output_dir, 'pollutant-by-country-year.csv'), index=False)"
   ]
  },
  {
   "cell_type": "code",
   "execution_count": null,
   "metadata": {},
   "outputs": [],
   "source": []
  },
  {
   "cell_type": "code",
   "execution_count": null,
   "metadata": {},
   "outputs": [],
   "source": []
  },
  {
   "cell_type": "code",
   "execution_count": null,
   "metadata": {},
   "outputs": [],
   "source": []
  },
  {
   "cell_type": "code",
   "execution_count": null,
   "metadata": {},
   "outputs": [],
   "source": [
    "df_piv[['ym', 'ymd']+order].to_csv(join(output_dir, 'vessel_count_by_country.csv'), index=False)"
   ]
  },
  {
   "cell_type": "code",
   "execution_count": null,
   "metadata": {},
   "outputs": [],
   "source": []
  },
  {
   "cell_type": "code",
   "execution_count": 46,
   "metadata": {},
   "outputs": [],
   "source": [
    "group_cols = ['country', 'ymd', 'ym'] # '_vessel_group_ais' '_w_fishing'\n",
    "data_cols = ['count_vessel', 'count_vessel_day', '_missing_hours', '_total_hours']\n",
    "# data_cols = ['_ch4_e', '_co_e', '_n2o_e', '_nmvoc_e', '_pm10_e', '_pm25_e', '_nox_e', '_bc_e', '_co2_f', '_sox_f', '_bc_f']"
   ]
  },
  {
   "cell_type": "code",
   "execution_count": 47,
   "metadata": {},
   "outputs": [],
   "source": [
    "df_re = df.groupby(group_cols)[data_cols].sum()\n",
    "df_re.reset_index(inplace=True)\n",
    "# df_re.to_csv(join(output_dir, 'emissions_clean_by_vessel_group.csv'))"
   ]
  },
  {
   "cell_type": "code",
   "execution_count": 48,
   "metadata": {},
   "outputs": [
    {
     "data": {
      "text/html": [
       "<div>\n",
       "<style scoped>\n",
       "    .dataframe tbody tr th:only-of-type {\n",
       "        vertical-align: middle;\n",
       "    }\n",
       "\n",
       "    .dataframe tbody tr th {\n",
       "        vertical-align: top;\n",
       "    }\n",
       "\n",
       "    .dataframe thead th {\n",
       "        text-align: right;\n",
       "    }\n",
       "</style>\n",
       "<table border=\"1\" class=\"dataframe\">\n",
       "  <thead>\n",
       "    <tr style=\"text-align: right;\">\n",
       "      <th></th>\n",
       "      <th>country</th>\n",
       "      <th>ymd</th>\n",
       "      <th>ym</th>\n",
       "      <th>count_vessel</th>\n",
       "      <th>count_vessel_day</th>\n",
       "      <th>_missing_hours</th>\n",
       "      <th>_total_hours</th>\n",
       "    </tr>\n",
       "  </thead>\n",
       "  <tbody>\n",
       "    <tr>\n",
       "      <th>0</th>\n",
       "      <td>Cook Islands</td>\n",
       "      <td>2019-01-01</td>\n",
       "      <td>2019-01</td>\n",
       "      <td>1046</td>\n",
       "      <td>2229</td>\n",
       "      <td>17801.0</td>\n",
       "      <td>30445.0</td>\n",
       "    </tr>\n",
       "    <tr>\n",
       "      <th>1</th>\n",
       "      <td>Cook Islands</td>\n",
       "      <td>2019-02-01</td>\n",
       "      <td>2019-02</td>\n",
       "      <td>997</td>\n",
       "      <td>1825</td>\n",
       "      <td>18252.0</td>\n",
       "      <td>26144.0</td>\n",
       "    </tr>\n",
       "  </tbody>\n",
       "</table>\n",
       "</div>"
      ],
      "text/plain": [
       "        country        ymd       ym  count_vessel  count_vessel_day  \\\n",
       "0  Cook Islands 2019-01-01  2019-01          1046              2229   \n",
       "1  Cook Islands 2019-02-01  2019-02           997              1825   \n",
       "\n",
       "   _missing_hours  _total_hours  \n",
       "0         17801.0       30445.0  \n",
       "1         18252.0       26144.0  "
      ]
     },
     "execution_count": 48,
     "metadata": {},
     "output_type": "execute_result"
    }
   ],
   "source": [
    "df_re.head(2)"
   ]
  },
  {
   "cell_type": "code",
   "execution_count": 51,
   "metadata": {},
   "outputs": [],
   "source": [
    "# df_piv = df_re[group_cols+['_co2_f']].pivot(columns='_vessel_group_ais', values='_co2_f', index=['country', 'ymd', 'ym']).reset_index()\n",
    "# df_piv = df_re[group_cols+['count_vessel']].pivot(columns=['_vessel_group_ais'], values='count_vessel', index=['country', 'ymd', 'ym']).reset_index()\n",
    "# df_piv = df_re[group_cols+['count_vessel']].pivot(columns=['country'], values='count_vessel', index=['ymd', 'ym']).reset_index()"
   ]
  },
  {
   "cell_type": "code",
   "execution_count": 68,
   "metadata": {},
   "outputs": [],
   "source": [
    "order = list(df_re.groupby('country').mean().sort_values('count_vessel', ascending=False).index)"
   ]
  },
  {
   "cell_type": "code",
   "execution_count": 73,
   "metadata": {},
   "outputs": [],
   "source": [
    "# df_piv.to_csv(join(output_dir, 'co2_emissions_by_vessel_group.csv'))\n",
    "df_piv[['ym', 'ymd']+order].to_csv(join(output_dir, 'vessel_count_by_country.csv'), index=False)"
   ]
  },
  {
   "cell_type": "code",
   "execution_count": 56,
   "metadata": {},
   "outputs": [],
   "source": [
    "# group_cols = ['country', 'ymd', 'ym']\n",
    "# df_re = df.groupby(group_cols)[['_co2_f']].sum()\n",
    "# df_re.reset_index(inplace=True)\n",
    "# df_piv = df_re.pivot(columns='country', values='_co2_f', index='ym')"
   ]
  },
  {
   "cell_type": "code",
   "execution_count": null,
   "metadata": {},
   "outputs": [],
   "source": []
  }
 ],
 "metadata": {
  "kernelspec": {
   "display_name": "rtmis",
   "language": "python",
   "name": "python3"
  },
  "language_info": {
   "codemirror_mode": {
    "name": "ipython",
    "version": 3
   },
   "file_extension": ".py",
   "mimetype": "text/x-python",
   "name": "python",
   "nbconvert_exporter": "python",
   "pygments_lexer": "ipython3",
   "version": "3.11.5"
  }
 },
 "nbformat": 4,
 "nbformat_minor": 2
}
