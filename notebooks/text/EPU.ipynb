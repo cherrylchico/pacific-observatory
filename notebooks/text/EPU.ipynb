{
 "cells": [
  {
   "cell_type": "code",
   "execution_count": null,
   "id": "6bc61ad5",
   "metadata": {},
   "outputs": [],
   "source": [
    "import os\n",
    "import sys\n",
    "sys.path.insert(0, \"../../\")\n",
    "import pandas as pd\n",
    "import numpy as np\n",
    "import matplotlib.pyplot as plt\n",
    "from src.text.epu import EPU"
   ]
  },
  {
   "cell_type": "code",
   "execution_count": null,
   "id": "5532becf",
   "metadata": {},
   "outputs": [],
   "source": [
    "parent_dirs = sys.path[0] + \"data/text/\"\n",
    "country_dirs = [\n",
    "    parent_dirs + country for country in os.listdir(parent_dirs)\n",
    "    if country != \".DS_Store\" and \"marshall_islands\" not in country\n",
    "]\n",
    "output_dir = sys.path[0] + \"outputs/text/\""
   ]
  },
  {
   "cell_type": "code",
   "execution_count": null,
   "id": "f41b10f3",
   "metadata": {
    "scrolled": false
   },
   "outputs": [],
   "source": [
    "for country in country_dirs:\n",
    "    country_name = country.split(\"/\")[-1]\n",
    "    news_dirs = [\n",
    "        f\"{country}/{file}\" for file in os.listdir(country) if \"news\" in file\n",
    "    ]\n",
    "    \n",
    "    e = EPU(news_dirs, cutoff=\"2020-12-31\")\n",
    "    e.get_epu_category(subset_condition=\"date >= '2015-01-01' and date < '2024-01-01'\")\n",
    "    e.get_count_stats()\n",
    "    e.calculate_epu_score()\n",
    "    \n",
    "    epu_stats = e.epu_stats\n",
    "    fig, ax = plt.subplots(figsize=(8, 6))\n",
    "    epu_stats.plot(x=\"date\", y=\"epu_weighted\", color=\"blue\", ax=ax)\n",
    "    epu_stats.plot(x='date', y=\"epu_unweighted\", color=\"lightgray\", ax=ax)\n",
    "    \n",
    "    title = \" \".join(n[0].upper() + n[1:] for n in country_name.split(\"_\"))\n",
    "    ax.set_title(f\"{title}\")\n",
    "    ax.set_xlabel(\"Date\")\n",
    "    \n",
    "    epu_stats.to_csv(output_dir + f\"{country_name}/{country_name}_epu.csv\", encoding=\"utf-8\")"
   ]
  }
 ],
 "metadata": {
  "kernelspec": {
   "display_name": "po",
   "language": "python",
   "name": "po"
  },
  "language_info": {
   "codemirror_mode": {
    "name": "ipython",
    "version": 3
   },
   "file_extension": ".py",
   "mimetype": "text/x-python",
   "name": "python",
   "nbconvert_exporter": "python",
   "pygments_lexer": "ipython3",
   "version": "3.9.0"
  },
  "toc": {
   "base_numbering": 1,
   "nav_menu": {},
   "number_sections": true,
   "sideBar": true,
   "skip_h1_title": false,
   "title_cell": "Table of Contents",
   "title_sidebar": "Contents",
   "toc_cell": false,
   "toc_position": {},
   "toc_section_display": true,
   "toc_window_display": false
  }
 },
 "nbformat": 4,
 "nbformat_minor": 5
}
