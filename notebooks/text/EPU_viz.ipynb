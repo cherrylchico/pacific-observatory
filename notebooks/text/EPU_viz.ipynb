{
 "cells": [
  {
   "cell_type": "code",
   "execution_count": 1,
   "id": "109cd21c",
   "metadata": {
    "scrolled": true
   },
   "outputs": [],
   "source": [
    "import os\n",
    "import sys\n",
    "\n",
    "sys.path.insert(0, \"/Users/czhang/Desktop/pacific-observatory/\")\n",
    "import pandas as pd\n",
    "from bokeh.layouts import Row, column, gridplot\n",
    "from bokeh.models import (Title, Legend, ColumnDataSource, Select, HoverTool,\n",
    "                          BoxZoomTool, ResetTool, DataTable, DateFormatter,\n",
    "                          TableColumn)\n",
    "from bokeh.models.layouts import TabPanel, Tabs\n",
    "from bokeh.plotting import figure, output_file, show, output_notebook\n",
    "\n",
    "\n",
    "\n",
    "output_file(filename=\"epu_pic.html\")"
   ]
  },
  {
   "cell_type": "code",
   "execution_count": 2,
   "id": "17b0ce40",
   "metadata": {},
   "outputs": [],
   "source": [
    "countries = [\n",
    "    \"pacific\", \"papua_new_guinea\", \"solomon_islands\", \"fiji\", \"samoa\",\n",
    "    \"vanuatu\"\n",
    "]\n",
    "\n",
    "tabs = []\n",
    "\n",
    "for country in countries:\n",
    "    epu_file = sys.path[0] + f\"outputs/text/{country}/epu/{country}_epu.csv\"\n",
    "    epu = pd.read_csv(epu_file).drop(\"Unnamed: 0\", axis=1)\n",
    "    epu[\"date\"] = pd.to_datetime(epu[\"date\"], format=\"mixed\")\n",
    "\n",
    "    source = ColumnDataSource(epu)\n",
    "\n",
    "    hover = HoverTool(tooltips=[('Date', '@date{%Y-%m}'),\n",
    "                                ('EPU Index', '@epu_unweighted')],\n",
    "                      formatters={'@date': 'datetime'})\n",
    "\n",
    "    p = figure(height=400,\n",
    "               width=700,\n",
    "               x_axis_type=\"datetime\",\n",
    "               tools=[hover, BoxZoomTool(), ResetTool()])\n",
    "    p.line(\"date\", \"epu_weighted\", source=source, name=\"epu_weighted\")\n",
    "\n",
    "    # Add a vertical\n",
    "    p.vspan(x=pd.to_datetime(\"2021-01-01\"),\n",
    "            line_dash=\"dashed\",\n",
    "            line_color=\"green\",\n",
    "            name=\"cutoff\")\n",
    "\n",
    "    epu_dt = (epu.set_index(\"date\").groupby(\n",
    "        [pd.Grouper(freq=\"Y\")])[[\"epu_weighted\",\n",
    "                                 \"epu_unweighted\"]].mean().reset_index())\n",
    "\n",
    "    dt_source = ColumnDataSource(epu_dt)\n",
    "\n",
    "    columns = [\n",
    "        TableColumn(field=\"date\", title=\"Date\", formatter=DateFormatter()),\n",
    "        TableColumn(field=\"epu_weighted\", title=\"EPU Weighted Index (Avg.)\"),\n",
    "        TableColumn(field=\"epu_unweighted\",\n",
    "                    title=\"EPU Unweighted Index (Avg.)\"),\n",
    "    ]\n",
    "    dt = DataTable(source=dt_source, columns=columns, width=700, height=300)\n",
    "    combined = column(p, dt)\n",
    "\n",
    "    # Uppercase the first letter of the country name\n",
    "    title = \" \".join(w[0].upper() + w[1:] for w in country.split(\"_\"))\n",
    "    tab = TabPanel(child=combined, title=title)\n",
    "    tabs.append(tab)\n",
    "\n",
    "show(Tabs(tabs=tabs))\n"
   ]
  }
 ],
 "metadata": {
  "kernelspec": {
   "display_name": "po",
   "language": "python",
   "name": "po"
  },
  "language_info": {
   "codemirror_mode": {
    "name": "ipython",
    "version": 3
   },
   "file_extension": ".py",
   "mimetype": "text/x-python",
   "name": "python",
   "nbconvert_exporter": "python",
   "pygments_lexer": "ipython3",
   "version": "3.9.0"
  },
  "toc": {
   "base_numbering": 1,
   "nav_menu": {},
   "number_sections": true,
   "sideBar": true,
   "skip_h1_title": false,
   "title_cell": "Table of Contents",
   "title_sidebar": "Contents",
   "toc_cell": false,
   "toc_position": {},
   "toc_section_display": true,
   "toc_window_display": false
  }
 },
 "nbformat": 4,
 "nbformat_minor": 5
}
