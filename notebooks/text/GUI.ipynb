{
 "cells": [
  {
   "cell_type": "code",
   "execution_count": 1,
   "id": "2c2dd979",
   "metadata": {},
   "outputs": [
    {
     "data": {
      "text/plain": [
       "True"
      ]
     },
     "execution_count": 1,
     "metadata": {},
     "output_type": "execute_result"
    }
   ],
   "source": [
    "import os\n",
    "import sys\n",
    "\n",
    "sys.path.insert(0, \"../../\")\n",
    "\n",
    "import numpy as np\n",
    "import pandas as pd\n",
    "import matplotlib.pyplot as plt\n",
    "import seaborn as sns\n",
    "from statsmodels.tsa.api import ARDL, VAR\n",
    "from statsmodels.tsa.ardl import ardl_select_order\n",
    "from sklearn.decomposition import PCA\n",
    "from src.text.epu import EPU\n",
    "from src.text.gui import DrawTopics\n",
    "from src.tourism.ts_utils import get_adf_df\n",
    "from src.google_trends import GT\n",
    "from dotenv import load_dotenv\n",
    "\n",
    "load_dotenv()"
   ]
  },
  {
   "cell_type": "code",
   "execution_count": 2,
   "id": "0e40f629",
   "metadata": {},
   "outputs": [],
   "source": [
    "output_folder = sys.path[0] + \"outputs/text/\"\n",
    "\n",
    "country_name = [\n",
    "    \"samoa\", \"papua_new_guinea\", \"fiji\", \"vanuatu\", \"solomon_islands\"\n",
    "]\n",
    "\n",
    "country_iso = [\n",
    "    \"WS\", \"PG\", \"FJ\", \"VU\", \"SB\"\n",
    "]\n",
    "\n",
    "inflation_prompts = [\n",
    "    \"inflation\", \"CPI\", \"food price\", \"purchasing power\", \"price\"\n",
    "]\n",
    "GoogleAPIkey = os.getenv(\"GoogleAPIkey\")\n",
    "gt = GT(GoogleAPIkey)\n"
   ]
  },
  {
   "cell_type": "code",
   "execution_count": 3,
   "id": "2724bc3b",
   "metadata": {},
   "outputs": [],
   "source": [
    "for name, iso in zip(country_name, country_iso):\n",
    "\n",
    "    dnx = DrawTopics(inflation_prompts, iso, gt)\n",
    "    dnx.trends_to_nx_object()\n",
    "    words_df = dnx.result\n",
    "    inflation_words = words_df[words_df.volume >= 5][\"target\"].unique().tolist()\n",
    "\n",
    "\n",
    "    local_trends = pd.DataFrame()\n",
    "    for word in inflation_words:\n",
    "        r = gt.get_graph(word, iso, \"2015-01\")\n",
    "        r_df = gt.to_df(r)\n",
    "        r_df = (r_df.drop(\"term\", axis=1).rename({\"value\": word.replace(\" \", \"_\")}, axis=1))\n",
    "        if local_trends.empty:\n",
    "            local_trends = r_df\n",
    "        else:\n",
    "            local_trends = local_trends.merge(r_df, how=\"left\", on=\"date\")\n",
    "            \n",
    "    cols = local_trends.columns[~local_trends.columns.isin([\"date\"])]\n",
    "    local_trends[\"trends\"] = local_trends[cols].sum(axis=1)\n",
    "    local_trends.to_csv(f\"{output_folder}{name}/{name}_google_volume.csv\", encoding=\"utf-8\")"
   ]
  }
 ],
 "metadata": {
  "kernelspec": {
   "display_name": "po",
   "language": "python",
   "name": "po"
  },
  "language_info": {
   "codemirror_mode": {
    "name": "ipython",
    "version": 3
   },
   "file_extension": ".py",
   "mimetype": "text/x-python",
   "name": "python",
   "nbconvert_exporter": "python",
   "pygments_lexer": "ipython3",
   "version": "3.9.0"
  },
  "toc": {
   "base_numbering": 1,
   "nav_menu": {},
   "number_sections": true,
   "sideBar": true,
   "skip_h1_title": false,
   "title_cell": "Table of Contents",
   "title_sidebar": "Contents",
   "toc_cell": false,
   "toc_position": {},
   "toc_section_display": true,
   "toc_window_display": false
  }
 },
 "nbformat": 4,
 "nbformat_minor": 5
}
