{
 "cells": [
  {
   "cell_type": "code",
   "execution_count": 1,
   "id": "6e2e8b8d",
   "metadata": {},
   "outputs": [],
   "source": [
    "import os\n",
    "os.chdir(\"../../\")\n",
    "import pandas as pd\n"
   ]
  },
  {
   "cell_type": "code",
   "execution_count": 24,
   "id": "c1d70c8f",
   "metadata": {},
   "outputs": [
    {
     "name": "stdout",
     "output_type": "stream",
     "text": [
      "9013 number of news has been collected for sibc\n",
      "14200 number of news has been collected for solomon stars\n",
      "11049 number of news has been collected for solomon times\n",
      "9017 number of news has been collected for island sun\n",
      "4200 number of news has been collected for pac news 2020-23.csv\n",
      "15487 number of news has been collected for post courier\n",
      "4361 number of news has been collected for samoa rnz\n",
      "6042 number of news has been collected for fiji rnz\n",
      "2041 number of news has been collected for solomon islands rnz\n",
      "5627 number of news has been collected for papua new guinea rnz\n",
      "807 number of news has been collected for tonga abc\n",
      "766 number of news has been collected for vanuatu abc\n",
      "1690 number of news has been collected for solomon islands abc\n",
      "5708 number of news has been collected for pacific abc\n",
      "134 number of news has been collected for marshall islands abc\n",
      "4617 number of news has been collected for papua new guinea abc\n"
     ]
    }
   ],
   "source": [
    "pdir = os.getcwd() + \"/data/text\"\n",
    "dirs = [pdir + \"/\" + f + \"/\" for f in os.listdir(pdir) if f != \".DS_Store\"]\n",
    "TOTAL= 0\n",
    "for sdir in dirs:\n",
    "    sfiles = [sdir + file for file in os.listdir(sdir) if \"urls\" not in file and \".DS_Store\" not in file]\n",
    "    for file in sfiles:\n",
    "        df = pd.read_csv(file)\n",
    "        name = file.split(\"/\")[-1].replace(\"_news.csv\", \"\").replace(\"_\", \" \")\n",
    "        print(f\"{len(df)} number of news has been collected for {name}\")\n",
    "        TOTAL+=len(df)"
   ]
  }
 ],
 "metadata": {
  "kernelspec": {
   "display_name": "Python 3 (ipykernel)",
   "language": "python",
   "name": "python3"
  },
  "language_info": {
   "codemirror_mode": {
    "name": "ipython",
    "version": 3
   },
   "file_extension": ".py",
   "mimetype": "text/x-python",
   "name": "python",
   "nbconvert_exporter": "python",
   "pygments_lexer": "ipython3",
   "version": "3.9.0"
  },
  "toc": {
   "base_numbering": 1,
   "nav_menu": {},
   "number_sections": true,
   "sideBar": true,
   "skip_h1_title": false,
   "title_cell": "Table of Contents",
   "title_sidebar": "Contents",
   "toc_cell": false,
   "toc_position": {},
   "toc_section_display": true,
   "toc_window_display": false
  }
 },
 "nbformat": 4,
 "nbformat_minor": 5
}
