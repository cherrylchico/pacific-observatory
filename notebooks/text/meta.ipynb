{
 "cells": [
  {
   "cell_type": "code",
   "execution_count": 1,
   "id": "6e2e8b8d",
   "metadata": {},
   "outputs": [],
   "source": [
    "import os\n",
    "os.chdir(\"../../\")\n",
    "import pandas as pd"
   ]
  },
  {
   "cell_type": "code",
   "execution_count": 31,
   "id": "c1d70c8f",
   "metadata": {
    "scrolled": false
   },
   "outputs": [
    {
     "name": "stdout",
     "output_type": "stream",
     "text": [
      "\n",
      "pacific\n",
      "  pac news before 2021.csv: 21430\n",
      "  pac news 2020-23.csv: 4200\n",
      "  pacific abc: 5708\n",
      "  total: 31338\n",
      "\n",
      "marshall_island\n",
      "  marshall islands abc: 134\n",
      "  total: 134\n",
      "\n",
      "tonga\n",
      "  tonga abc: 807\n",
      "  matangi: 13904\n",
      "  total: 14711\n",
      "\n",
      "fiji\n",
      "  fiji sun: 46350\n",
      "  fiji rnz: 6042\n",
      "  total: 52392\n",
      "\n",
      "solomon_islands\n",
      "  sibc: 9013\n",
      "  solomon islands abc: 1690\n",
      "  solomon islands rnz: 2041\n",
      "  solomon stars: 14200\n",
      "  solomon times: 11049\n",
      "  island sun: 9017\n",
      "  total: 47010\n",
      "\n",
      "png\n",
      "  post courier: 15487\n",
      "  papua new guinea abc: 4617\n",
      "  png business: 2197\n",
      "  papua new guinea rnz: 5627\n",
      "  total: 27928\n",
      "\n",
      "vanuatu\n",
      "  daily posts: 29116\n",
      "  vanuatu abc: 766\n",
      "  vbr: 577\n",
      "  total: 30459\n",
      "\n",
      "samoa\n",
      "  samoa rnz: 4361\n",
      "  samoa observer: 34926\n",
      "  total: 39287\n",
      "\n",
      "Total: 243259 news has been collected.\n"
     ]
    }
   ],
   "source": [
    "parent_dir = os.getcwd() + \"/data/text\"\n",
    "dirs = [\n",
    "    parent_dir + \"/\" + dir + \"/\" for dir in os.listdir(parent_dir)\n",
    "    if dir != \".DS_Store\"\n",
    "]\n",
    "total = 0\n",
    "for dir in dirs:\n",
    "    files = [\n",
    "        dir + file for file in os.listdir(dir)\n",
    "        if \"urls\" not in file and \".DS_Store\" not in file\n",
    "    ]\n",
    "    print(f\"\\n{str(dir).split('/')[-2]}\")\n",
    "    c_total = 0\n",
    "    for file in files:\n",
    "        df = pd.read_csv(file)\n",
    "        name = file.split(\"/\")[-1].replace(\"_news.csv\", \"\").replace(\"_\", \" \")\n",
    "        total += len(df)\n",
    "        c_total += len(df)\n",
    "        print(f\"  {name}: {len(df)}\")\n",
    "    \n",
    "    print(f\"  total: {c_total}\")\n",
    "\n",
    "print(f\"\\nTotal: {total} news has been collected.\")"
   ]
  }
 ],
 "metadata": {
  "kernelspec": {
   "display_name": "po",
   "language": "python",
   "name": "po"
  },
  "language_info": {
   "codemirror_mode": {
    "name": "ipython",
    "version": 3
   },
   "file_extension": ".py",
   "mimetype": "text/x-python",
   "name": "python",
   "nbconvert_exporter": "python",
   "pygments_lexer": "ipython3",
   "version": "3.9.0"
  },
  "toc": {
   "base_numbering": 1,
   "nav_menu": {},
   "number_sections": true,
   "sideBar": true,
   "skip_h1_title": false,
   "title_cell": "Table of Contents",
   "title_sidebar": "Contents",
   "toc_cell": false,
   "toc_position": {},
   "toc_section_display": true,
   "toc_window_display": false
  }
 },
 "nbformat": 4,
 "nbformat_minor": 5
}
