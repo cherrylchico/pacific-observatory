{
 "cells": [
  {
   "cell_type": "code",
   "execution_count": 1,
   "id": "9bca654c",
   "metadata": {},
   "outputs": [],
   "source": [
    "import os\n",
    "os.chdir(\"../../\")\n",
    "import csv\n",
    "import pandas as pd\n",
    "from datetime import datetime\n",
    "import sys\n",
    "sys.path.insert(0, \"../../\")\n",
    "from src.meta import FileMetaData"
   ]
  },
  {
   "cell_type": "code",
   "execution_count": 10,
   "id": "c1d70c8f",
   "metadata": {
    "scrolled": false
   },
   "outputs": [
    {
     "name": "stdout",
     "output_type": "stream",
     "text": [
      "\n",
      "pacific\n",
      "  total: 31338\n",
      "\n",
      "marshall_island\n",
      "  total: 134\n",
      "\n",
      "tonga\n",
      "  total: 14711\n",
      "\n",
      "fiji\n",
      "  total: 52392\n",
      "\n",
      "solomon_islands\n",
      "  total: 47010\n",
      "\n",
      "png\n",
      "  total: 27928\n",
      "\n",
      "vanuatu\n",
      "  total: 30459\n",
      "\n",
      "samoa\n"
     ]
    },
    {
     "ename": "Error",
     "evalue": "field larger than field limit (131072)",
     "output_type": "error",
     "traceback": [
      "\u001b[0;31m---------------------------------------------------------------------------\u001b[0m",
      "\u001b[0;31mError\u001b[0m                                     Traceback (most recent call last)",
      "Cell \u001b[0;32mIn[10], line 15\u001b[0m\n\u001b[1;32m     13\u001b[0m c_total \u001b[38;5;241m=\u001b[39m \u001b[38;5;241m0\u001b[39m\n\u001b[1;32m     14\u001b[0m \u001b[38;5;28;01mfor\u001b[39;00m file \u001b[38;5;129;01min\u001b[39;00m files:\n\u001b[0;32m---> 15\u001b[0m     file_meta \u001b[38;5;241m=\u001b[39m \u001b[43mFileMetaData\u001b[49m\u001b[43m(\u001b[49m\u001b[43mfile\u001b[49m\u001b[43m)\u001b[49m\u001b[38;5;241;43m.\u001b[39;49m\u001b[43mextract\u001b[49m\u001b[43m(\u001b[49m\u001b[43m)\u001b[49m\n\u001b[1;32m     16\u001b[0m     count \u001b[38;5;241m=\u001b[39m file_meta[\u001b[38;5;124m\"\u001b[39m\u001b[38;5;124mnum_rows\u001b[39m\u001b[38;5;124m\"\u001b[39m]\n\u001b[1;32m     17\u001b[0m     c_total \u001b[38;5;241m+\u001b[39m\u001b[38;5;241m=\u001b[39m count\n",
      "File \u001b[0;32m~/Desktop/pacific-observatory/src/meta.py:34\u001b[0m, in \u001b[0;36mFileMetaData.extract\u001b[0;34m(self)\u001b[0m\n\u001b[1;32m     19\u001b[0m \u001b[38;5;28;01mdef\u001b[39;00m \u001b[38;5;21mextract\u001b[39m(\u001b[38;5;28mself\u001b[39m) \u001b[38;5;241m-\u001b[39m\u001b[38;5;241m>\u001b[39m \u001b[38;5;28mdict\u001b[39m:\n\u001b[1;32m     20\u001b[0m \u001b[38;5;250m    \u001b[39m\u001b[38;5;124;03m\"\"\"\u001b[39;00m\n\u001b[1;32m     21\u001b[0m \u001b[38;5;124;03m    Extracts and returns dict of metadata about file. The function is compatible with extracting \u001b[39;00m\n\u001b[1;32m     22\u001b[0m \u001b[38;5;124;03m    metadata information from .csv, .xlsx, and .pdf files.\u001b[39;00m\n\u001b[1;32m     23\u001b[0m \n\u001b[1;32m     24\u001b[0m \u001b[38;5;124;03m    Returns:\u001b[39;00m\n\u001b[1;32m     25\u001b[0m \u001b[38;5;124;03m        metadata (dict): Dictionary containing file metadata\u001b[39;00m\n\u001b[1;32m     26\u001b[0m \n\u001b[1;32m     27\u001b[0m \n\u001b[1;32m     28\u001b[0m \u001b[38;5;124;03m    Example: \u001b[39;00m\n\u001b[1;32m     29\u001b[0m \u001b[38;5;124;03m     meta = FileMetaData(\"random.pdf\")\u001b[39;00m\n\u001b[1;32m     30\u001b[0m \u001b[38;5;124;03m     print(meta.extract())\u001b[39;00m\n\u001b[1;32m     31\u001b[0m \u001b[38;5;124;03m     ----------\u001b[39;00m\n\u001b[1;32m     32\u001b[0m \u001b[38;5;124;03m    {'filename': 'random.pdf',\u001b[39;00m\n\u001b[1;32m     33\u001b[0m \u001b[38;5;124;03m    'created': datetime.datetime(2023, 11, 15, 14, 8, 21, 417070),\u001b[39;00m\n\u001b[0;32m---> 34\u001b[0m \u001b[38;5;124;03m    'modified': datetime.datetime(2023, 11, 13, 13, 28, 11, 750389),\u001b[39;00m\n\u001b[1;32m     35\u001b[0m \u001b[38;5;124;03m    'num_pages': 6}\u001b[39;00m\n\u001b[1;32m     36\u001b[0m \u001b[38;5;124;03m    \"\"\"\u001b[39;00m\n\u001b[1;32m     37\u001b[0m     metadata: \u001b[38;5;28mdict\u001b[39m \u001b[38;5;241m=\u001b[39m {\n\u001b[1;32m     38\u001b[0m         \u001b[38;5;124m\"\u001b[39m\u001b[38;5;124mfilename\u001b[39m\u001b[38;5;124m\"\u001b[39m: os\u001b[38;5;241m.\u001b[39mpath\u001b[38;5;241m.\u001b[39mbasename(\u001b[38;5;28mself\u001b[39m\u001b[38;5;241m.\u001b[39mfile_path),\n\u001b[1;32m     39\u001b[0m         \u001b[38;5;124m\"\u001b[39m\u001b[38;5;124mcreated\u001b[39m\u001b[38;5;124m\"\u001b[39m: datetime\u001b[38;5;241m.\u001b[39mfromtimestamp(os\u001b[38;5;241m.\u001b[39mpath\u001b[38;5;241m.\u001b[39mgetctime(\u001b[38;5;28mself\u001b[39m\u001b[38;5;241m.\u001b[39mfile_path)),\n\u001b[1;32m     40\u001b[0m         \u001b[38;5;124m\"\u001b[39m\u001b[38;5;124mmodified\u001b[39m\u001b[38;5;124m\"\u001b[39m: datetime\u001b[38;5;241m.\u001b[39mfromtimestamp(os\u001b[38;5;241m.\u001b[39mpath\u001b[38;5;241m.\u001b[39mgetmtime(\u001b[38;5;28mself\u001b[39m\u001b[38;5;241m.\u001b[39mfile_path))\n\u001b[1;32m     41\u001b[0m     }\n\u001b[1;32m     43\u001b[0m     \u001b[38;5;28;01mif\u001b[39;00m \u001b[38;5;28mself\u001b[39m\u001b[38;5;241m.\u001b[39mfile_path\u001b[38;5;241m.\u001b[39mendswith(\u001b[38;5;124m'\u001b[39m\u001b[38;5;124m.csv\u001b[39m\u001b[38;5;124m'\u001b[39m):\n",
      "File \u001b[0;32m~/Desktop/pacific-observatory/src/meta.py:50\u001b[0m, in \u001b[0;36m_extract_csv_metadata\u001b[0;34m(self, metadata)\u001b[0m\n\u001b[1;32m     47\u001b[0m     \u001b[38;5;28mself\u001b[39m\u001b[38;5;241m.\u001b[39m_extract_excel_metadata(metadata)\n\u001b[1;32m     49\u001b[0m \u001b[38;5;28;01melif\u001b[39;00m \u001b[38;5;28mself\u001b[39m\u001b[38;5;241m.\u001b[39mfile_path\u001b[38;5;241m.\u001b[39mendswith(\u001b[38;5;124m'\u001b[39m\u001b[38;5;124m.pdf\u001b[39m\u001b[38;5;124m'\u001b[39m):\n\u001b[0;32m---> 50\u001b[0m     \u001b[38;5;28mself\u001b[39m\u001b[38;5;241m.\u001b[39m_extract_pdf_metadata(metadata)\n\u001b[1;32m     52\u001b[0m \u001b[38;5;28;01mreturn\u001b[39;00m metadata\n",
      "File \u001b[0;32m~/Desktop/pacific-observatory/src/meta.py:50\u001b[0m, in \u001b[0;36m<genexpr>\u001b[0;34m(.0)\u001b[0m\n\u001b[1;32m     47\u001b[0m     \u001b[38;5;28mself\u001b[39m\u001b[38;5;241m.\u001b[39m_extract_excel_metadata(metadata)\n\u001b[1;32m     49\u001b[0m \u001b[38;5;28;01melif\u001b[39;00m \u001b[38;5;28mself\u001b[39m\u001b[38;5;241m.\u001b[39mfile_path\u001b[38;5;241m.\u001b[39mendswith(\u001b[38;5;124m'\u001b[39m\u001b[38;5;124m.pdf\u001b[39m\u001b[38;5;124m'\u001b[39m):\n\u001b[0;32m---> 50\u001b[0m     \u001b[38;5;28mself\u001b[39m\u001b[38;5;241m.\u001b[39m_extract_pdf_metadata(metadata)\n\u001b[1;32m     52\u001b[0m \u001b[38;5;28;01mreturn\u001b[39;00m metadata\n",
      "\u001b[0;31mError\u001b[0m: field larger than field limit (131072)"
     ]
    }
   ],
   "source": [
    "parent_dir = os.getcwd() + \"/data/text\"\n",
    "dirs = [\n",
    "    parent_dir + \"/\" + dir + \"/\" for dir in os.listdir(parent_dir)\n",
    "    if dir != \".DS_Store\"\n",
    "]\n",
    "total = 0\n",
    "for dir in dirs:\n",
    "    files = [\n",
    "        dir + file for file in os.listdir(dir)\n",
    "        if \"urls\" not in file and \".DS_Store\" not in file\n",
    "    ]\n",
    "    print(f\"\\n{str(dir).split('/')[-2]}\")\n",
    "    c_total = 0\n",
    "    for file in files:\n",
    "        file_meta = FileMetaData(file).extract()\n",
    "        count = file_meta[\"num_rows\"]\n",
    "        c_total += count\n",
    "    \n",
    "    print(f\"  total: {c_total}\")\n",
    "\n",
    "print(f\"\\nTotal: {total} news has been collected.\")"
   ]
  }
 ],
 "metadata": {
  "kernelspec": {
   "display_name": "po",
   "language": "python",
   "name": "po"
  },
  "language_info": {
   "codemirror_mode": {
    "name": "ipython",
    "version": 3
   },
   "file_extension": ".py",
   "mimetype": "text/x-python",
   "name": "python",
   "nbconvert_exporter": "python",
   "pygments_lexer": "ipython3",
   "version": "3.9.0"
  },
  "toc": {
   "base_numbering": 1,
   "nav_menu": {},
   "number_sections": true,
   "sideBar": true,
   "skip_h1_title": false,
   "title_cell": "Table of Contents",
   "title_sidebar": "Contents",
   "toc_cell": false,
   "toc_position": {},
   "toc_section_display": true,
   "toc_window_display": false
  }
 },
 "nbformat": 4,
 "nbformat_minor": 5
}
