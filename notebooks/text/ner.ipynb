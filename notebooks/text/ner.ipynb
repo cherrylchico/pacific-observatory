{
 "cells": [
  {
   "cell_type": "code",
   "execution_count": 1,
   "id": "af97e6ea",
   "metadata": {},
   "outputs": [],
   "source": [
    "import os\n",
    "os.chdir(\"../../\")\n",
    "import pandas as pd\n",
    "import numpy as np\n",
    "import spacy\n",
    "from tqdm import tqdm"
   ]
  },
  {
   "cell_type": "code",
   "execution_count": 2,
   "id": "81ee3ad0",
   "metadata": {},
   "outputs": [],
   "source": [
    "nlp = spacy.load(\"en_core_web_sm\")\n",
    "\n",
    "def process_data(filename, folderpath):\n",
    "    df = pd.read_csv(folderpath + filename).drop(\"Unnamed: 0\", axis=1)\n",
    "    df[\"news\"] = df[\"news\"].replace(\"\\n\", \"\")\n",
    "    df[\"date\"] = pd.to_datetime(df[\"date\"])\n",
    "    df[\"ym\"] = [str(d.year) + \"-\" + str(d.month) for d in df.date]\n",
    "    return df\n",
    "\n",
    "def extract_entities(corpus: str):\n",
    "    doc = nlp(corpus)\n",
    "    ner_dict = {\"LOC\": \"\", \"ORG\": \"\", \"GPE\": \"\", \"WORK_OF_ART\": \"\"}\n",
    "    for e in doc.ents:\n",
    "        if e.label_ in ner_dict.keys() and e.text not in ner_dict[e.label_]:\n",
    "            ner_dict[e.label_] += e.text + \", \"\n",
    "\n",
    "    for key, val in ner_dict.items():\n",
    "        if val.endswith(\", \"):\n",
    "            ner_dict[key] = val[:-2]\n",
    "    return ner_dict"
   ]
  },
  {
   "cell_type": "code",
   "execution_count": 4,
   "id": "00542b1e",
   "metadata": {
    "scrolled": true
   },
   "outputs": [
    {
     "name": "stderr",
     "output_type": "stream",
     "text": [
      "100%|██████████████████████████████████████████████████████████████████| 9013/9013 [04:45<00:00, 31.61it/s]\n",
      "100%|████████████████████████████████████████████████████████████████| 14200/14200 [11:05<00:00, 21.34it/s]\n",
      "100%|████████████████████████████████████████████████████████████████| 11049/11049 [07:54<00:00, 23.28it/s]\n",
      "100%|██████████████████████████████████████████████████████████████████| 9017/9017 [06:42<00:00, 22.41it/s]\n"
     ]
    }
   ],
   "source": [
    "target_dir = os.getcwd() + \"/data/text/solomon_islands/\"\n",
    "files = [file for file in os.listdir(target_dir) if \"news\" in file]\n",
    "for file in files:\n",
    "    df = process_data(file, target_dir)\n",
    "    name = file.replace(\".csv\", \"\") + \"_ner.csv\"\n",
    "\n",
    "    output = []\n",
    "    with tqdm(total=len(df)) as pbar:\n",
    "        for news in df[\"news\"]:\n",
    "            if isinstance(news, str):\n",
    "                ner_dict = extract_entities(news)\n",
    "            else:\n",
    "                ner_dict = {\n",
    "                    \"LOC\": \"Missing\",\n",
    "                    \"ORG\": \"Missing\",\n",
    "                    \"GPE\": \"Missing\",\n",
    "                    \"WORK_OF_ART\": \"Missing\"\n",
    "                }\n",
    "            output.append(ner_dict)\n",
    "            pbar.update(1)\n",
    "    \n",
    "    ner_df = pd.DataFrame(output)\n",
    "    ner_df[\"url\"] = df[\"url\"].tolist()\n",
    "    ner_df.to_csv(target_dir + name, encoding=\"utf-8\")"
   ]
  },
  {
   "cell_type": "code",
   "execution_count": 50,
   "id": "9a1762a6",
   "metadata": {
    "scrolled": true
   },
   "outputs": [
    {
     "name": "stdout",
     "output_type": "stream",
     "text": [
      "island_sun_news_ner.csv's LOC has 0\n",
      "island_sun_news_ner.csv's ORG has 28\n",
      "island_sun_news_ner.csv's GPE has 0\n",
      "island_sun_news_ner.csv's WORK_OF_ART has 0\n",
      "solomon_stars_news_ner.csv's LOC has 0\n",
      "solomon_stars_news_ner.csv's ORG has 24\n",
      "solomon_stars_news_ner.csv's GPE has 0\n",
      "solomon_stars_news_ner.csv's WORK_OF_ART has 1\n",
      "solomon_times_news_ner.csv's LOC has 0\n",
      "solomon_times_news_ner.csv's ORG has 28\n",
      "solomon_times_news_ner.csv's GPE has 0\n",
      "solomon_times_news_ner.csv's WORK_OF_ART has 7\n",
      "sibc_news_ner.csv's LOC has 0\n",
      "sibc_news_ner.csv's ORG has 20\n",
      "sibc_news_ner.csv's GPE has 0\n",
      "sibc_news_ner.csv's WORK_OF_ART has 1\n"
     ]
    }
   ],
   "source": [
    "ner_files = [file for file in os.listdir(target_dir) if \"ner\" in file]\n",
    "for nfile in ner_files:\n",
    "    nfilepath = target_dir + nfile\n",
    "    n_df = pd.read_csv(nfilepath).drop(\"Unnamed: 0\", axis=1)\n",
    "    n_df = n_df.fillna(\"Missing\").apply(lambda x: x.str.lower())\n",
    "    for col in [\"LOC\", \"ORG\", \"GPE\", \"WORK_OF_ART\"]:\n",
    "        d = n_df[col].apply(lambda x: (True) if re.findall(\"risk\", x) else False)\n",
    "        print(f\"{nfile}'s {col} has {d.sum()}\")"
   ]
  },
  {
   "cell_type": "code",
   "execution_count": 77,
   "id": "850f3207",
   "metadata": {},
   "outputs": [],
   "source": [
    "abc_dir = os.getcwd() + \"/data/text/abc_au/\"\n",
    "abc_files = [file for file in os.listdir(abc_dir) if \"news\" in file]\n",
    "test = pd.read_csv(abc_dir + abc_files[3]).drop(\"Unnamed: 0\", axis=1)\n",
    "test[\"tags\"] = test[\"tags\"].fillna(\"missing\").str.lower()\n",
    "tag_dict = {}\n",
    "for tag in test.tags:\n",
    "    tag_list = tag.split(\",\")[:-1]\n",
    "    tag_list = [i.lower().strip() for i in tag_list]\n",
    "    for i in tag_list:\n",
    "        if i not in tag_dict.keys():\n",
    "            tag_dict.update({str(i): 1})\n",
    "        else:\n",
    "            tag_dict[i] += 1"
   ]
  },
  {
   "cell_type": "code",
   "execution_count": 80,
   "id": "b8eafbfa",
   "metadata": {},
   "outputs": [],
   "source": [
    "def get_news_count(data: pd.DataFrame, column: str):\n",
    "    count_df = (data.set_index(\"date\").groupby(\"ym\")[[\n",
    "        str(column)\n",
    "    ]].count().reset_index().rename({str(column): str(column) + \"_count\"},\n",
    "                                    axis=1))\n",
    "    return count_df"
   ]
  }
 ],
 "metadata": {
  "kernelspec": {
   "display_name": "po",
   "language": "python",
   "name": "po"
  },
  "language_info": {
   "codemirror_mode": {
    "name": "ipython",
    "version": 3
   },
   "file_extension": ".py",
   "mimetype": "text/x-python",
   "name": "python",
   "nbconvert_exporter": "python",
   "pygments_lexer": "ipython3",
   "version": "3.9.0"
  },
  "toc": {
   "base_numbering": 1,
   "nav_menu": {},
   "number_sections": true,
   "sideBar": true,
   "skip_h1_title": false,
   "title_cell": "Table of Contents",
   "title_sidebar": "Contents",
   "toc_cell": false,
   "toc_position": {},
   "toc_section_display": true,
   "toc_window_display": false
  }
 },
 "nbformat": 4,
 "nbformat_minor": 5
}
