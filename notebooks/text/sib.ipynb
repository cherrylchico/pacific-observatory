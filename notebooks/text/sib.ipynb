{
 "cells": [
  {
   "cell_type": "code",
   "execution_count": 1,
   "id": "2506a11b",
   "metadata": {},
   "outputs": [],
   "source": [
    "import os\n",
    "os.chdir(\"../../\")\n",
    "\n",
    "import numpy as np\n",
    "import pandas as pd\n",
    "\n",
    "import nltk\n",
    "from nltk.sentiment.vader import SentimentIntensityAnalyzer\n",
    "from nltk import tokenize\n",
    "from tqdm import tqdm\n",
    "\n",
    "from src.text.gui import DrawTopics\n",
    "from src.google_trends import *"
   ]
  },
  {
   "cell_type": "code",
   "execution_count": 3,
   "id": "01141695",
   "metadata": {},
   "outputs": [],
   "source": [
    "data_dir = os.getcwd() + \"/data/text/solomon_islands/\"\n",
    "target_dir = os.getcwd() + \"/outputs/text/solomon_islands/\"\n",
    "\n",
    "filepaths = [data_dir+file for file in os.listdir(data_dir) if \"news\" in file]"
   ]
  },
  {
   "cell_type": "markdown",
   "id": "d0a4915b",
   "metadata": {},
   "source": [
    "## GUI"
   ]
  },
  {
   "cell_type": "markdown",
   "id": "c613f4f0",
   "metadata": {},
   "source": [
    "## Sentiment Analysis"
   ]
  },
  {
   "cell_type": "code",
   "execution_count": 5,
   "id": "50c5121b",
   "metadata": {},
   "outputs": [
    {
     "name": "stderr",
     "output_type": "stream",
     "text": [
      "100%|██████████████████████████████████████████████████████████████████████████| 9013/9013 [00:12<00:00, 739.67it/s]\n",
      "100%|████████████████████████████████████████████████████████████████████████| 14200/14200 [00:27<00:00, 522.44it/s]\n",
      "100%|████████████████████████████████████████████████████████████████████████| 11049/11049 [00:20<00:00, 546.40it/s]\n",
      "100%|██████████████████████████████████████████████████████████████████████████| 9017/9017 [00:17<00:00, 520.88it/s]\n"
     ]
    }
   ],
   "source": [
    "sid = SentimentIntensityAnalyzer()\n",
    "news_df = pd.DataFrame()\n",
    "\n",
    "for name, file in zip([\"sibc\", \"ss\", \"st\", \"tis\"], filepaths):\n",
    "    df = pd.read_csv(file).drop(\"Unnamed: 0\", axis=1)\n",
    "    df[\"date\"] = pd.to_datetime(df[\"date\"], utc=False)\n",
    "    score_df = pd.DataFrame()\n",
    "    with tqdm(total=len(df)) as pbar:\n",
    "        for news in df.news:\n",
    "            news = str(news)\n",
    "            scores = sid.polarity_scores(news)\n",
    "            ss_temp = pd.DataFrame(scores, columns=scores.keys(), index=[0])\n",
    "            if score_df.empty:\n",
    "                score_df = ss_temp\n",
    "            else:\n",
    "                score_df = pd.concat([score_df, ss_temp], axis=0)\n",
    "            pbar.update(1)\n",
    "    df[\"score\"] = score_df[\"compound\"].tolist()\n",
    "    df_sent = (df.set_index(\"date\").groupby(pd.Grouper(freq=\"MS\"))[[\"score\"]].mean().reset_index()\n",
    "                 .rename({\"score\": name}, axis=1))\n",
    "    df_sent[\"date\"] = [pd.to_datetime(d.date()) for d in df_sent.date]\n",
    "    if news_df.empty:\n",
    "        news_df = df_sent\n",
    "    else:\n",
    "        news_df = news_df.merge(df_sent, how=\"outer\", on=\"date\")"
   ]
  },
  {
   "cell_type": "code",
   "execution_count": 12,
   "id": "b8ca345d",
   "metadata": {},
   "outputs": [],
   "source": [
    "news_df = news_df.sort_values(by=\"date\").reset_index(drop=True)\n",
    "news_df.to_csv(target_dir+\"sib_sentiment_monthly.csv\", encoding=\"utf-8\")"
   ]
  }
 ],
 "metadata": {
  "kernelspec": {
   "display_name": "po",
   "language": "python",
   "name": "po"
  },
  "language_info": {
   "codemirror_mode": {
    "name": "ipython",
    "version": 3
   },
   "file_extension": ".py",
   "mimetype": "text/x-python",
   "name": "python",
   "nbconvert_exporter": "python",
   "pygments_lexer": "ipython3",
   "version": "3.9.0"
  },
  "toc": {
   "base_numbering": 1,
   "nav_menu": {},
   "number_sections": true,
   "sideBar": true,
   "skip_h1_title": false,
   "title_cell": "Table of Contents",
   "title_sidebar": "Contents",
   "toc_cell": false,
   "toc_position": {},
   "toc_section_display": true,
   "toc_window_display": false
  }
 },
 "nbformat": 4,
 "nbformat_minor": 5
}
