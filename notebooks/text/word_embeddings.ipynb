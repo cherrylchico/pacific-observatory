{
 "cells": [
  {
   "cell_type": "code",
   "execution_count": 1,
   "id": "1b0e7257",
   "metadata": {},
   "outputs": [],
   "source": [
    "import os\n",
    "os.chdir(\"../../\")\n",
    "import pandas as pd\n",
    "\n",
    "import spacy\n",
    "from nltk.corpus import stopwords\n",
    "from src.text.epu import *\n",
    "from src.text.utils import *\n",
    "\n",
    "from sklearn.feature_extraction.text import CountVectorizer, TfidfVectorizer\n",
    "from sklearn.pipeline import Pipeline\n",
    "from sklearn.model_selection import train_test_split, KFold, cross_validate, GridSearchCV\n",
    "\n",
    "from sklearn.naive_bayes import MultinomialNB\n",
    "from sklearn.linear_model import LogisticRegression\n",
    "from sklearn.ensemble import RandomForestClassifier\n",
    "from sklearn.svm import LinearSVC\n",
    "from xgboost import XGBClassifier\n",
    "\n",
    "from sklearn.metrics import classification_report, f1_score, accuracy_score, confusion_matrix\n",
    "from sklearn.metrics import roc_curve, auc, roc_auc_score\n",
    "\n",
    "import tiktoken"
   ]
  },
  {
   "cell_type": "code",
   "execution_count": 2,
   "id": "2432efab",
   "metadata": {},
   "outputs": [],
   "source": [
    "folder = os.getcwd() + \"/data/text/abc_au/\"\n",
    "file_lists = [folder + file for file in os.listdir(folder) if \"news\" in file]\n",
    "\n",
    "news_df = pd.DataFrame()\n",
    "for file in file_lists:\n",
    "    df = pd.read_csv(file).drop(\"Unnamed: 0\", axis=1)\n",
    "    if news_df.empty:\n",
    "        news_df = df\n",
    "    else:\n",
    "        news_df = pd.concat([news_df, df], axis=0).reset_index(drop=True)\n",
    "        \n",
    "news_df = news_df.dropna().reset_index(drop=True)"
   ]
  },
  {
   "cell_type": "code",
   "execution_count": 3,
   "id": "1db2ae89",
   "metadata": {},
   "outputs": [],
   "source": [
    "econ_list = [\n",
    "    'economy', 'economic', 'economics', 'business', 'commerce', 'finance',\n",
    "    'industry', \"assistance\", \"science and technology\", \"trade\", \"mining and metals industry\"\n",
    "]\n",
    "news_df[\"econ\"] = news_df[\"tags\"].str.lower().apply(is_in_word_list, terms=econ_list)"
   ]
  },
  {
   "cell_type": "code",
   "execution_count": 4,
   "id": "a3c28521",
   "metadata": {},
   "outputs": [],
   "source": [
    "nlp = spacy.load('en_core_web_sm', disable=['parser', 'ner'])\n",
    "spacy_stopwords = list(nlp.Defaults.stop_words)\n",
    "\n",
    "nltk_stopwords = stopwords.words(\"english\")\n",
    "nltk_unique = [sw for sw in nltk_stopwords if sw not in spacy_stopwords]\n",
    "spacy_stopwords.extend(nltk_unique)"
   ]
  },
  {
   "cell_type": "code",
   "execution_count": 5,
   "id": "f351cefe",
   "metadata": {},
   "outputs": [
    {
     "name": "stdout",
     "output_type": "stream",
     "text": [
      "Stopwords has been done.\n"
     ]
    }
   ],
   "source": [
    "from src.text.utils import *\n",
    "data = news_df.news.values.tolist()\n",
    "data_words = list(sent_to_words(data))\n",
    "\n",
    "bigram = gensim.models.Phrases(data_words, min_count=20, threshold=100)\n",
    "bigram_mod = gensim.models.phrases.Phraser(bigram)\n",
    "\n",
    "trigram = gensim.models.Phrases(bigram[data_words], min_count=20, threshold=100)\n",
    "trigram_mod = gensim.models.phrases.Phraser(trigram)\n",
    "\n",
    "texts_preprocessed = preprocess_text(data_words, spacy_stopwords, bigram_mod,\n",
    "                                     trigram_mod, nlp)"
   ]
  },
  {
   "cell_type": "code",
   "execution_count": 9,
   "id": "b619c825",
   "metadata": {},
   "outputs": [],
   "source": [
    "news_df[\"texts\"] = texts_preprocessed\n",
    "news_df[\"texts\"] = news_df[\"texts\"].apply(lambda x: \" \".join(i for i in x))"
   ]
  },
  {
   "cell_type": "markdown",
   "id": "43a7117c",
   "metadata": {},
   "source": [
    "## Glove"
   ]
  },
  {
   "cell_type": "code",
   "execution_count": 7,
   "id": "630f33ca",
   "metadata": {},
   "outputs": [],
   "source": [
    "import gensim.downloader\n",
    "# Download the \"glove-twitter-25\" embeddings\n",
    "glove_vectors = gensim.downloader.load('word2vec-google-news-300')"
   ]
  },
  {
   "cell_type": "code",
   "execution_count": 10,
   "id": "23cf34a4",
   "metadata": {},
   "outputs": [],
   "source": [
    "def get_average_word_vectors(text, model):\n",
    "    words = text.split()\n",
    "    vectors = [model[word] for word in words if word in model]\n",
    "    if vectors:\n",
    "        return np.mean(vectors, axis=0)\n",
    "    else:\n",
    "        return np.zeros(model.vector_size)\n",
    "\n",
    "text_embeddings = [get_average_word_vectors(text, glove_vectors) for text in news_df[\"texts\"]]"
   ]
  },
  {
   "cell_type": "code",
   "execution_count": 62,
   "id": "476db8b0",
   "metadata": {},
   "outputs": [],
   "source": [
    "X_train, X_test, y_train, y_test = train_test_split(\n",
    "    text_embeddings,   \n",
    "    news_df['econ'].astype(int), \n",
    "    test_size=0.1, \n",
    "    random_state=42,  \n",
    "    shuffle=True)   "
   ]
  },
  {
   "cell_type": "code",
   "execution_count": 28,
   "id": "a83490f9",
   "metadata": {},
   "outputs": [
    {
     "name": "stdout",
     "output_type": "stream",
     "text": [
      "              precision    recall  f1-score   support\n",
      "\n",
      "           0       0.94      0.98      0.96      1164\n",
      "           1       0.88      0.66      0.75       208\n",
      "\n",
      "    accuracy                           0.93      1372\n",
      "   macro avg       0.91      0.82      0.86      1372\n",
      "weighted avg       0.93      0.93      0.93      1372\n",
      "\n"
     ]
    }
   ],
   "source": [
    "clf = XGBClassifier(tree_method=\"hist\", enable_categorical=True, random_state=42)\n",
    "clf.fit(X_train, y_train)\n",
    "y_predict = clf.predict(X_test)\n",
    "print(classification_report(y_test, y_predict))"
   ]
  },
  {
   "cell_type": "code",
   "execution_count": 21,
   "id": "aca0086b",
   "metadata": {},
   "outputs": [
    {
     "name": "stdout",
     "output_type": "stream",
     "text": [
      "RandomForestClassifier: Mean Accuracy = 86.58%; Mean F1-macro = 58.19%; Mean recall-macro = 13.85%; Mean precision-macro = 83.43%\n"
     ]
    },
    {
     "name": "stderr",
     "output_type": "stream",
     "text": [
      "/Users/czhang/miniforge3/envs/po/lib/python3.9/site-packages/sklearn/svm/_classes.py:32: FutureWarning: The default value of `dual` will change from `True` to `'auto'` in 1.5. Set the value of `dual` explicitly to suppress the warning.\n",
      "  warnings.warn(\n",
      "/Users/czhang/miniforge3/envs/po/lib/python3.9/site-packages/sklearn/svm/_classes.py:32: FutureWarning: The default value of `dual` will change from `True` to `'auto'` in 1.5. Set the value of `dual` explicitly to suppress the warning.\n",
      "  warnings.warn(\n",
      "/Users/czhang/miniforge3/envs/po/lib/python3.9/site-packages/sklearn/svm/_classes.py:32: FutureWarning: The default value of `dual` will change from `True` to `'auto'` in 1.5. Set the value of `dual` explicitly to suppress the warning.\n",
      "  warnings.warn(\n",
      "/Users/czhang/miniforge3/envs/po/lib/python3.9/site-packages/sklearn/svm/_classes.py:32: FutureWarning: The default value of `dual` will change from `True` to `'auto'` in 1.5. Set the value of `dual` explicitly to suppress the warning.\n",
      "  warnings.warn(\n",
      "/Users/czhang/miniforge3/envs/po/lib/python3.9/site-packages/sklearn/svm/_classes.py:32: FutureWarning: The default value of `dual` will change from `True` to `'auto'` in 1.5. Set the value of `dual` explicitly to suppress the warning.\n",
      "  warnings.warn(\n"
     ]
    },
    {
     "name": "stdout",
     "output_type": "stream",
     "text": [
      "LinearSVC: Mean Accuracy = 88.79%; Mean F1-macro = 73.16%; Mean recall-macro = 41.38%; Mean precision-macro = 72.53%\n",
      "LogisticRegression: Mean Accuracy = 88.27%; Mean F1-macro = 70.81%; Mean recall-macro = 36.23%; Mean precision-macro = 72.23%\n",
      "XGBClassifier: Mean Accuracy = 92.60%; Mean F1-macro = 84.00%; Mean recall-macro = 63.87%; Mean precision-macro = 83.24%\n"
     ]
    }
   ],
   "source": [
    "models = [\n",
    "    RandomForestClassifier(n_estimators=1000, max_depth=5, random_state=42),\n",
    "    LinearSVC(random_state=42),\n",
    "    LogisticRegression(solver='liblinear', C=1, penalty='l2', random_state=42),\n",
    "    XGBClassifier(tree_method=\"hist\", enable_categorical=True, random_state=42)\n",
    "]\n",
    "\n",
    "scoring = ['accuracy', 'f1_macro', 'recall', 'precision']\n",
    "\n",
    "for model in models:\n",
    "    model_name = model.__class__.__name__\n",
    "    result = cross_validate(model,\n",
    "                            X_train,\n",
    "                            y_train,\n",
    "                            cv=5,\n",
    "                            scoring=scoring)\n",
    "    print(\n",
    "        \"%s: Mean Accuracy = %.2f%%; Mean F1-macro = %.2f%%; Mean recall-macro = %.2f%%; Mean precision-macro = %.2f%%\"\n",
    "        % (model_name, result['test_accuracy'].mean() * 100,\n",
    "           result['test_f1_macro'].mean() * 100, result['test_recall'].mean() *\n",
    "           100, result['test_precision'].mean() * 100))"
   ]
  },
  {
   "cell_type": "code",
   "execution_count": 30,
   "id": "2332a660",
   "metadata": {},
   "outputs": [],
   "source": [
    "sib_files = [\n",
    "    os.getcwd() + \"/data/text/rnz/solomon_islands_rnz_news.csv\",\n",
    "    os.getcwd() + \"/data/text/abc_au/solomon_islands_abc_news.csv\",\n",
    "]\n",
    "\n",
    "sib_folder = os.getcwd() + \"/data/text/solomon_islands/\"\n",
    "sib_files.extend([sib_folder+file for file in os.listdir(sib_folder) if \"news\" in file])"
   ]
  },
  {
   "cell_type": "code",
   "execution_count": 31,
   "id": "3ffb0a71",
   "metadata": {},
   "outputs": [],
   "source": [
    "sib = pd.DataFrame()\n",
    "for file in sib_files:\n",
    "    temp = pd.read_csv(file).drop(\"Unnamed: 0\", axis=1)\n",
    "    if sib.empty:\n",
    "        sib = temp\n",
    "    else:\n",
    "        sib = pd.concat([sib, temp], axis=0).reset_index(drop=True)\n",
    "\n",
    "sib = sib[sib.news.isna() != True].reset_index(drop=True)"
   ]
  },
  {
   "cell_type": "code",
   "execution_count": 32,
   "id": "87c9810f",
   "metadata": {},
   "outputs": [
    {
     "name": "stdout",
     "output_type": "stream",
     "text": [
      "Stopwords has been done.\n"
     ]
    }
   ],
   "source": [
    "sib_data = sib.news.values.tolist()\n",
    "sib_data_words = list(sent_to_words(sib_data))\n",
    "\n",
    "bigram = gensim.models.Phrases(sib_data_words, min_count=20, threshold=100)\n",
    "bigram_mod = gensim.models.phrases.Phraser(bigram)\n",
    "\n",
    "trigram = gensim.models.Phrases(bigram[sib_data_words], min_count=20, threshold=100)\n",
    "trigram_mod = gensim.models.phrases.Phraser(trigram)\n",
    "\n",
    "sib_texts = preprocess_text(sib_data_words, spacy_stopwords, bigram_mod,\n",
    "                                     trigram_mod, nlp)"
   ]
  },
  {
   "cell_type": "code",
   "execution_count": 33,
   "id": "71a8a1a8",
   "metadata": {},
   "outputs": [],
   "source": [
    "sib[\"date\"] = pd.to_datetime(sib[\"date\"], format='mixed')\n",
    "sib[\"texts\"] = sib_texts\n",
    "sib[\"texts\"] = sib[\"texts\"].apply(lambda x: \" \".join(i for i in x))"
   ]
  },
  {
   "cell_type": "code",
   "execution_count": 40,
   "id": "ca9c34c4",
   "metadata": {},
   "outputs": [],
   "source": [
    "sib_pred = clf.predict([get_average_word_vectors(text, glove_vectors) for text in sib[\"texts\"]])"
   ]
  },
  {
   "cell_type": "code",
   "execution_count": 41,
   "id": "0a310239",
   "metadata": {},
   "outputs": [],
   "source": [
    "sib[\"econ_pred\"] = sib_pred\n",
    "sib_econ = sib[sib.econ_pred == 1].reset_index(drop=True)\n",
    "\n",
    "from nltk.sentiment.vader import SentimentIntensityAnalyzer\n",
    "sent_df = pd.DataFrame()\n",
    "for row in sib_econ.news:\n",
    "    sample = row.replace(\"\\n\", \" \").strip()\n",
    "    sid = SentimentIntensityAnalyzer()\n",
    "    ss = sid.polarity_scores(sample)\n",
    "    ss_temp = pd.DataFrame(ss, columns=ss.keys(), index=[0])\n",
    "    sent_df = pd.concat([sent_df, ss_temp], axis=0)\n",
    "    \n",
    "sib_econ[\"sentiment\"] = sent_df[\"compound\"].tolist()\n",
    "sib_econ[\"date\"] = [d.date() for d in sib_econ[\"date\"]]\n",
    "sib_econ[\"date\"] = [pd.to_datetime(d) for d in sib_econ[\"date\"]]\n",
    "sib_econ_sent = sib_econ.set_index(\"date\").groupby(pd.Grouper(freq=\"MS\"))[[\"sentiment\"]].mean().reset_index()"
   ]
  },
  {
   "cell_type": "code",
   "execution_count": 46,
   "id": "4625d1c3",
   "metadata": {},
   "outputs": [
    {
     "data": {
      "image/png": "[encoded data removed]",
      "text/plain": [
       "<Figure size 1000x600 with 1 Axes>"
      ]
     },
     "metadata": {},
     "output_type": "display_data"
    }
   ],
   "source": [
    "import matplotlib.pyplot as plt\n",
    "fig, ax = plt.subplots(figsize=(10, 6))\n",
    "sib_econ_sent.plot(x=\"date\", ax=ax);\n",
    "plt.axhline(y=0, color=\"red\", linestyle=\"--\")\n",
    "plt.xlabel(\"Date\")\n",
    "plt.title(\"Economic-Related Sentiment in Solomon Islands\")\n",
    "plt.tight_layout()"
   ]
  },
  {
   "cell_type": "markdown",
   "id": "e18b0595",
   "metadata": {},
   "source": [
    "## Embedding Layer + CNN"
   ]
  },
  {
   "cell_type": "code",
   "execution_count": 87,
   "id": "77aa4fa3",
   "metadata": {},
   "outputs": [],
   "source": [
    "from tensorflow.keras.preprocessing.text import Tokenizer\n",
    "from tensorflow.keras.preprocessing.sequence import pad_sequences\n",
    "from tensorflow.keras.layers import Embedding, Conv1D, MaxPooling1D, Flatten, Dense\n",
    "from tensorflow.keras.models import Sequential\n",
    "import string\n",
    "from nltk.tokenize import word_tokenize"
   ]
  },
  {
   "cell_type": "code",
   "execution_count": 124,
   "id": "7184ae9b",
   "metadata": {},
   "outputs": [],
   "source": [
    "X_train, X_test, y_train, y_test = train_test_split(\n",
    "    news_df[\"news\"],   \n",
    "    news_df['econ'].astype(int), \n",
    "    test_size=0.1, \n",
    "    random_state=42,  \n",
    "    shuffle=True)   "
   ]
  },
  {
   "cell_type": "code",
   "execution_count": 125,
   "id": "07c98895",
   "metadata": {},
   "outputs": [],
   "source": [
    "def preprocess(text):\n",
    "    text = text.lower()\n",
    "    text = ''.join([word for word in text if word not in string.punctuation])\n",
    "    tokens = word_tokenize(text)\n",
    "    tokens = [word for word in tokens if word not in spacy_stopwords]\n",
    "    return ' '.join(tokens)\n",
    "\n",
    "X_train = X_train.apply(preprocess)\n",
    "X_test = X_test.apply(preprocess)"
   ]
  },
  {
   "cell_type": "code",
   "execution_count": 126,
   "id": "00663ebe",
   "metadata": {},
   "outputs": [
    {
     "name": "stdout",
     "output_type": "stream",
     "text": [
      "Epoch 1/10\n",
      "386/386 [==============================] - 10s 25ms/step - loss: 0.3060 - accuracy: 0.8748 - val_loss: 0.2592 - val_accuracy: 0.8921\n",
      "Epoch 2/10\n",
      "386/386 [==============================] - 10s 25ms/step - loss: 0.2132 - accuracy: 0.9134 - val_loss: 0.2424 - val_accuracy: 0.9103\n",
      "Epoch 3/10\n",
      "386/386 [==============================] - 10s 25ms/step - loss: 0.0983 - accuracy: 0.9610 - val_loss: 0.2138 - val_accuracy: 0.9264\n",
      "Epoch 4/10\n",
      "386/386 [==============================] - 10s 25ms/step - loss: 0.0244 - accuracy: 0.9922 - val_loss: 0.3204 - val_accuracy: 0.9249\n",
      "Epoch 5/10\n",
      "386/386 [==============================] - 10s 25ms/step - loss: 0.0064 - accuracy: 0.9981 - val_loss: 0.3818 - val_accuracy: 0.9060\n",
      "Epoch 6/10\n",
      "386/386 [==============================] - 10s 25ms/step - loss: 0.0028 - accuracy: 0.9994 - val_loss: 0.4800 - val_accuracy: 0.9344\n",
      "Epoch 7/10\n",
      "386/386 [==============================] - 10s 25ms/step - loss: 0.0275 - accuracy: 0.9902 - val_loss: 0.3435 - val_accuracy: 0.9206\n",
      "Epoch 8/10\n",
      "386/386 [==============================] - 10s 25ms/step - loss: 0.0340 - accuracy: 0.9883 - val_loss: 0.3677 - val_accuracy: 0.9257\n",
      "Epoch 9/10\n",
      "386/386 [==============================] - 10s 25ms/step - loss: 0.0096 - accuracy: 0.9963 - val_loss: 0.5623 - val_accuracy: 0.9344\n",
      "Epoch 10/10\n",
      "386/386 [==============================] - 10s 25ms/step - loss: 0.0078 - accuracy: 0.9974 - val_loss: 0.7155 - val_accuracy: 0.9286\n"
     ]
    },
    {
     "data": {
      "text/plain": [
       "<keras.src.callbacks.History at 0x43fa0f370>"
      ]
     },
     "execution_count": 126,
     "metadata": {},
     "output_type": "execute_result"
    }
   ],
   "source": [
    "# Tokenize the text data\n",
    "tokenizer = Tokenizer()\n",
    "tokenizer.fit_on_texts(X_train)\n",
    "\n",
    "X_train = tokenizer.texts_to_sequences(X_train)\n",
    "X_test = tokenizer.texts_to_sequences(X_test)\n",
    "\n",
    "vocab_size = len(tokenizer.word_index) + 1\n",
    "\n",
    "# Pad the sequences to a fixed length\n",
    "max_length = 300\n",
    "X_train = pad_sequences(X_train, maxlen=max_length, padding='post')\n",
    "X_test = pad_sequences(X_test, maxlen=max_length, padding='post')\n",
    "\n",
    "\n",
    "# Create a weight matrix for the embedding layer\n",
    "embedding_matrix = np.zeros((vocab_size, 300))\n",
    "for word, i in tokenizer.word_index.items():\n",
    "    if word in glove_vectors.index_to_key:\n",
    "        embedding_matrix[i] = glove_vectors[word]\n",
    "\n",
    "# Define the CNN model\n",
    "model = Sequential()\n",
    "model.add(Embedding(vocab_size, 300, weights=[embedding_matrix], input_length=max_length, trainable=False))\n",
    "model.add(Conv1D(128, 5, activation='relu'))\n",
    "model.add(MaxPooling1D(5))\n",
    "model.add(Conv1D(128, 5, activation='relu'))\n",
    "model.add(MaxPooling1D(5))\n",
    "model.add(Flatten())\n",
    "model.add(Dense(128, activation='relu'))\n",
    "model.add(Dense(1, activation='sigmoid'))\n",
    "\n",
    "model.compile(optimizer='adam', loss='binary_crossentropy', metrics=['accuracy'])\n",
    "model.fit(X_train, y_train, epochs=10, batch_size=32, validation_data=(X_test, y_test))"
   ]
  },
  {
   "cell_type": "code",
   "execution_count": 127,
   "id": "cd766dbf",
   "metadata": {},
   "outputs": [
    {
     "name": "stdout",
     "output_type": "stream",
     "text": [
      "43/43 [==============================] - 0s 10ms/step - loss: 0.7155 - accuracy: 0.9286\n"
     ]
    },
    {
     "data": {
      "text/plain": [
       "[0.7154676914215088, 0.9285714030265808]"
      ]
     },
     "execution_count": 127,
     "metadata": {},
     "output_type": "execute_result"
    }
   ],
   "source": [
    "model.evaluate(X_test, y_test)"
   ]
  }
 ],
 "metadata": {
  "kernelspec": {
   "display_name": "po",
   "language": "python",
   "name": "po"
  },
  "language_info": {
   "codemirror_mode": {
    "name": "ipython",
    "version": 3
   },
   "file_extension": ".py",
   "mimetype": "text/x-python",
   "name": "python",
   "nbconvert_exporter": "python",
   "pygments_lexer": "ipython3",
   "version": "3.9.0"
  },
  "toc": {
   "base_numbering": 1,
   "nav_menu": {},
   "number_sections": true,
   "sideBar": true,
   "skip_h1_title": false,
   "title_cell": "Table of Contents",
   "title_sidebar": "Contents",
   "toc_cell": false,
   "toc_position": {},
   "toc_section_display": true,
   "toc_window_display": false
  }
 },
 "nbformat": 4,
 "nbformat_minor": 5
}
