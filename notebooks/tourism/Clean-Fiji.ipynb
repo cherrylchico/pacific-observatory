{
 "cells": [
  {
   "cell_type": "code",
   "execution_count": 1,
   "id": "1a4eaf03",
   "metadata": {},
   "outputs": [],
   "source": [
    "import os\n",
    "os.chdir(\"../..\")\n",
    "import pandas as pd\n",
    "import numpy as np\n",
    "import math\n",
    "import pdfplumber\n",
    "import pandas as pd\n",
    "from collections import defaultdict\n",
    "import datetime\n",
    "import seaborn as sns\n",
    "import matplotlib.pyplot as plt"
   ]
  },
  {
   "cell_type": "code",
   "execution_count": 2,
   "id": "0a03a542",
   "metadata": {},
   "outputs": [],
   "source": [
    "project_path = os.getcwd()\n",
    "listdir = [\"/data/tourism/fiji/intermediate/\" +\n",
    "           i for i in os.listdir(project_path + \"/data/tourism/fiji/intermediate\")]\n",
    "\n",
    "orig_file_num = [\".xlsx\" in file for file in listdir].index(True)"
   ]
  },
  {
   "cell_type": "code",
   "execution_count": 3,
   "id": "5dbab641",
   "metadata": {},
   "outputs": [],
   "source": [
    "raw_t1 = pd.read_excel(\n",
    "    project_path + listdir[orig_file_num], sheet_name=\"T1\", usecols=\"B:N\")\n",
    "\n",
    "colnames_t1 = list()\n",
    "for name in raw_t1.iloc[4].to_list():\n",
    "    if type(name) == str:\n",
    "        name = name.strip().lower()\n",
    "        colnames_t1.append(name)\n",
    "    else:\n",
    "        colnames_t1.append(\"month\")\n",
    "raw_t1.columns = colnames_t1\n",
    "\n",
    "fiji_t1 = (raw_t1.dropna(axis=\"columns\", how=\"all\")\n",
    "           .iloc[5:-2].dropna(axis=0, how=\"all\")\n",
    "           .reset_index()\n",
    "           .drop(\"index\", axis=1))"
   ]
  },
  {
   "cell_type": "code",
   "execution_count": 4,
   "id": "b9f783fa",
   "metadata": {},
   "outputs": [],
   "source": [
    "def transform_dates(df: pd.DataFrame,\n",
    "                    year_column: str,\n",
    "                    start_year: int,\n",
    "                    month_column: str):\n",
    "    year_lst, dates = list(), list()\n",
    "\n",
    "    for idx, val in enumerate(df[year_column].to_list()):\n",
    "        year = (idx // 12) + start_year\n",
    "        year_lst.append(year)\n",
    "    df[\"year\"] = year_lst\n",
    "\n",
    "    for idx in df.index:\n",
    "        month_raw = df[month_column][idx]\n",
    "        if type(month_raw) is str:\n",
    "            month = datetime.datetime.strptime(month_raw.strip(), \"%B\").month\n",
    "            if month < 10:\n",
    "                month = str(0) + str(month)\n",
    "            year = df[\"year\"][idx]\n",
    "            dates.append(str(year) + \"-\" + str(month) + \"-01\")\n",
    "    df[\"dates\"] = dates"
   ]
  },
  {
   "cell_type": "code",
   "execution_count": 5,
   "id": "cbbd1873",
   "metadata": {},
   "outputs": [],
   "source": [
    "# Yearly data to 2020 FROM T1\n",
    "fiji_t1_yearly = (fiji_t1.iloc[0:5, [0, 3, 4]]\n",
    "                  .rename({\"year/month\": \"year\"}, axis=1))\n",
    "\n",
    "fiji_t1_yearly.to_csv(str(project_path) + \"/data/tourism/fiji/fj_num_visitors_yearly_17_21.csv\",\n",
    "                      encoding=\"utf-8\")\n",
    "\n",
    "\n",
    "# Monthly data from 2020 FROM T1\n",
    "visitor_t1 = (fiji_t1.iloc[5:, [0, 1, 3, 4]]\n",
    "              .reset_index()\n",
    "              .drop(\"index\", axis=1))\n",
    "\n",
    "transform_dates(visitor_t1, \"year/month\", 2020, \"month\")\n",
    "visitor_t1.to_csv(str(project_path) + \"/data/tourism/fiji/intermediate/visitors_by_month_20_22.csv\", encoding=\"utf-8\")"
   ]
  },
  {
   "cell_type": "code",
   "execution_count": 6,
   "id": "c153130e",
   "metadata": {
    "scrolled": false
   },
   "outputs": [
    {
     "ename": "ValueError",
     "evalue": "Excel file format cannot be determined, you must specify an engine manually.",
     "output_type": "error",
     "traceback": [
      "\u001b[0;31m---------------------------------------------------------------------------\u001b[0m",
      "\u001b[0;31mValueError\u001b[0m                                Traceback (most recent call last)",
      "Input \u001b[0;32mIn [6]\u001b[0m, in \u001b[0;36m<cell line: 1>\u001b[0;34m()\u001b[0m\n\u001b[0;32m----> 1\u001b[0m raw_t2 \u001b[38;5;241m=\u001b[39m (\u001b[43mpd\u001b[49m\u001b[38;5;241;43m.\u001b[39;49m\u001b[43mread_excel\u001b[49m\u001b[43m(\u001b[49m\u001b[43mproject_path\u001b[49m\u001b[43m \u001b[49m\u001b[38;5;241;43m+\u001b[39;49m\u001b[43m \u001b[49m\u001b[43mlistdir\u001b[49m\u001b[43m[\u001b[49m\u001b[38;5;241;43m0\u001b[39;49m\u001b[43m]\u001b[49m\u001b[43m,\u001b[49m\u001b[43m \u001b[49m\u001b[43msheet_name\u001b[49m\u001b[38;5;241;43m=\u001b[39;49m\u001b[38;5;124;43m\"\u001b[39;49m\u001b[38;5;124;43mT2\u001b[39;49m\u001b[38;5;124;43m\"\u001b[39;49m\u001b[43m,\u001b[49m\u001b[43m \u001b[49m\u001b[43musecols\u001b[49m\u001b[38;5;241;43m=\u001b[39;49m\u001b[38;5;124;43m\"\u001b[39;49m\u001b[38;5;124;43mA:Q\u001b[39;49m\u001b[38;5;124;43m\"\u001b[39;49m\u001b[43m)\u001b[49m\n\u001b[1;32m      2\u001b[0m           \u001b[38;5;241m.\u001b[39mdropna(axis\u001b[38;5;241m=\u001b[39m\u001b[38;5;241m0\u001b[39m, how\u001b[38;5;241m=\u001b[39m\u001b[38;5;124m\"\u001b[39m\u001b[38;5;124mall\u001b[39m\u001b[38;5;124m\"\u001b[39m)\n\u001b[1;32m      3\u001b[0m           \u001b[38;5;241m.\u001b[39mreset_index()\n\u001b[1;32m      4\u001b[0m           \u001b[38;5;241m.\u001b[39mdrop(\u001b[38;5;124m\"\u001b[39m\u001b[38;5;124mindex\u001b[39m\u001b[38;5;124m\"\u001b[39m, axis\u001b[38;5;241m=\u001b[39m\u001b[38;5;241m1\u001b[39m))\n\u001b[1;32m      6\u001b[0m \u001b[38;5;66;03m# rename the columns\u001b[39;00m\n\u001b[1;32m      7\u001b[0m colnames_t2 \u001b[38;5;241m=\u001b[39m \u001b[38;5;28mlist\u001b[39m()\n",
      "File \u001b[0;32m~/miniforge3/lib/python3.9/site-packages/pandas/util/_decorators.py:311\u001b[0m, in \u001b[0;36mdeprecate_nonkeyword_arguments.<locals>.decorate.<locals>.wrapper\u001b[0;34m(*args, **kwargs)\u001b[0m\n\u001b[1;32m    305\u001b[0m \u001b[38;5;28;01mif\u001b[39;00m \u001b[38;5;28mlen\u001b[39m(args) \u001b[38;5;241m>\u001b[39m num_allow_args:\n\u001b[1;32m    306\u001b[0m     warnings\u001b[38;5;241m.\u001b[39mwarn(\n\u001b[1;32m    307\u001b[0m         msg\u001b[38;5;241m.\u001b[39mformat(arguments\u001b[38;5;241m=\u001b[39marguments),\n\u001b[1;32m    308\u001b[0m         \u001b[38;5;167;01mFutureWarning\u001b[39;00m,\n\u001b[1;32m    309\u001b[0m         stacklevel\u001b[38;5;241m=\u001b[39mstacklevel,\n\u001b[1;32m    310\u001b[0m     )\n\u001b[0;32m--> 311\u001b[0m \u001b[38;5;28;01mreturn\u001b[39;00m \u001b[43mfunc\u001b[49m\u001b[43m(\u001b[49m\u001b[38;5;241;43m*\u001b[39;49m\u001b[43margs\u001b[49m\u001b[43m,\u001b[49m\u001b[43m \u001b[49m\u001b[38;5;241;43m*\u001b[39;49m\u001b[38;5;241;43m*\u001b[39;49m\u001b[43mkwargs\u001b[49m\u001b[43m)\u001b[49m\n",
      "File \u001b[0;32m~/miniforge3/lib/python3.9/site-packages/pandas/io/excel/_base.py:457\u001b[0m, in \u001b[0;36mread_excel\u001b[0;34m(io, sheet_name, header, names, index_col, usecols, squeeze, dtype, engine, converters, true_values, false_values, skiprows, nrows, na_values, keep_default_na, na_filter, verbose, parse_dates, date_parser, thousands, decimal, comment, skipfooter, convert_float, mangle_dupe_cols, storage_options)\u001b[0m\n\u001b[1;32m    455\u001b[0m \u001b[38;5;28;01mif\u001b[39;00m \u001b[38;5;129;01mnot\u001b[39;00m \u001b[38;5;28misinstance\u001b[39m(io, ExcelFile):\n\u001b[1;32m    456\u001b[0m     should_close \u001b[38;5;241m=\u001b[39m \u001b[38;5;28;01mTrue\u001b[39;00m\n\u001b[0;32m--> 457\u001b[0m     io \u001b[38;5;241m=\u001b[39m \u001b[43mExcelFile\u001b[49m\u001b[43m(\u001b[49m\u001b[43mio\u001b[49m\u001b[43m,\u001b[49m\u001b[43m \u001b[49m\u001b[43mstorage_options\u001b[49m\u001b[38;5;241;43m=\u001b[39;49m\u001b[43mstorage_options\u001b[49m\u001b[43m,\u001b[49m\u001b[43m \u001b[49m\u001b[43mengine\u001b[49m\u001b[38;5;241;43m=\u001b[39;49m\u001b[43mengine\u001b[49m\u001b[43m)\u001b[49m\n\u001b[1;32m    458\u001b[0m \u001b[38;5;28;01melif\u001b[39;00m engine \u001b[38;5;129;01mand\u001b[39;00m engine \u001b[38;5;241m!=\u001b[39m io\u001b[38;5;241m.\u001b[39mengine:\n\u001b[1;32m    459\u001b[0m     \u001b[38;5;28;01mraise\u001b[39;00m \u001b[38;5;167;01mValueError\u001b[39;00m(\n\u001b[1;32m    460\u001b[0m         \u001b[38;5;124m\"\u001b[39m\u001b[38;5;124mEngine should not be specified when passing \u001b[39m\u001b[38;5;124m\"\u001b[39m\n\u001b[1;32m    461\u001b[0m         \u001b[38;5;124m\"\u001b[39m\u001b[38;5;124man ExcelFile - ExcelFile already has the engine set\u001b[39m\u001b[38;5;124m\"\u001b[39m\n\u001b[1;32m    462\u001b[0m     )\n",
      "File \u001b[0;32m~/miniforge3/lib/python3.9/site-packages/pandas/io/excel/_base.py:1380\u001b[0m, in \u001b[0;36mExcelFile.__init__\u001b[0;34m(self, path_or_buffer, engine, storage_options)\u001b[0m\n\u001b[1;32m   1376\u001b[0m     ext \u001b[38;5;241m=\u001b[39m inspect_excel_format(\n\u001b[1;32m   1377\u001b[0m         content_or_path\u001b[38;5;241m=\u001b[39mpath_or_buffer, storage_options\u001b[38;5;241m=\u001b[39mstorage_options\n\u001b[1;32m   1378\u001b[0m     )\n\u001b[1;32m   1379\u001b[0m     \u001b[38;5;28;01mif\u001b[39;00m ext \u001b[38;5;129;01mis\u001b[39;00m \u001b[38;5;28;01mNone\u001b[39;00m:\n\u001b[0;32m-> 1380\u001b[0m         \u001b[38;5;28;01mraise\u001b[39;00m \u001b[38;5;167;01mValueError\u001b[39;00m(\n\u001b[1;32m   1381\u001b[0m             \u001b[38;5;124m\"\u001b[39m\u001b[38;5;124mExcel file format cannot be determined, you must specify \u001b[39m\u001b[38;5;124m\"\u001b[39m\n\u001b[1;32m   1382\u001b[0m             \u001b[38;5;124m\"\u001b[39m\u001b[38;5;124man engine manually.\u001b[39m\u001b[38;5;124m\"\u001b[39m\n\u001b[1;32m   1383\u001b[0m         )\n\u001b[1;32m   1385\u001b[0m engine \u001b[38;5;241m=\u001b[39m config\u001b[38;5;241m.\u001b[39mget_option(\u001b[38;5;124mf\u001b[39m\u001b[38;5;124m\"\u001b[39m\u001b[38;5;124mio.excel.\u001b[39m\u001b[38;5;132;01m{\u001b[39;00mext\u001b[38;5;132;01m}\u001b[39;00m\u001b[38;5;124m.reader\u001b[39m\u001b[38;5;124m\"\u001b[39m, silent\u001b[38;5;241m=\u001b[39m\u001b[38;5;28;01mTrue\u001b[39;00m)\n\u001b[1;32m   1386\u001b[0m \u001b[38;5;28;01mif\u001b[39;00m engine \u001b[38;5;241m==\u001b[39m \u001b[38;5;124m\"\u001b[39m\u001b[38;5;124mauto\u001b[39m\u001b[38;5;124m\"\u001b[39m:\n",
      "\u001b[0;31mValueError\u001b[0m: Excel file format cannot be determined, you must specify an engine manually."
     ]
    }
   ],
   "source": [
    "raw_t2 = (pd.read_excel(project_path + listdir[0], sheet_name=\"T2\", usecols=\"A:Q\")\n",
    "          .dropna(axis=0, how=\"all\")\n",
    "          .reset_index()\n",
    "          .drop(\"index\", axis=1))\n",
    "\n",
    "# rename the columns\n",
    "colnames_t2 = list()\n",
    "for name1, name2 in zip(raw_t2.iloc[2].to_list(), raw_t2.iloc[3].to_list()):\n",
    "    if type(name1) == str:\n",
    "        wholename = name1.lower().strip() + name2.lower().strip()\n",
    "        colnames_t2.append(wholename)\n",
    "    else:\n",
    "        if type(name2) == str:\n",
    "            colnames_t2.append(name2.lower().strip())\n",
    "        else:\n",
    "            colnames_t2.append(\"month\")\n",
    "raw_t2.columns = colnames_t2\n",
    "\n",
    "# Yearly data to 2020 FROM T2\n",
    "fiji_t2_yearly = (raw_t2.iloc[4:9]\n",
    "                  .reset_index()\n",
    "                  .drop(\"index\", axis=1))\n",
    "\n",
    "fiji_t2_yearly.to_csv(str(project_path) + \"/data/tourism/fiji/intermediate/visitors_by_origin_year_17_21.csv\",\n",
    "                      encoding=\"utf-8\")\n",
    "\n",
    "# Monthly data from 2020 FROM T2\n",
    "fiji_t2 = (raw_t2.dropna(axis=\"columns\", how=\"all\")\n",
    "           .iloc[9:-2].dropna(axis=0, how=\"all\")\n",
    "           .reset_index()\n",
    "           .drop(\"index\", axis=1))\n",
    "transform_dates(fiji_t2, \"year/month\", 2020, \"month\")\n",
    "fiji_t2 = fiji_t2.drop([\"year/month\", \"month\"], axis=1)\n",
    "\n",
    "cols = fiji_t2.columns.to_list()\n",
    "cols = cols[-2:] + cols[:-2]\n",
    "fiji_t2 = fiji_t2[cols]\n",
    "fiji_t2.columns = [col.replace(\" \", \"\") for col in fiji_t2.columns]\n",
    "fiji_t2.to_csv(str(project_path) + \"/data/tourism/fiji/intermediate/visitors_by_origin_month_20_22.csv\",\n",
    "               encoding=\"utf-8\")"
   ]
  }
 ],
 "metadata": {
  "kernelspec": {
   "display_name": "Python 3 (ipykernel)",
   "language": "python",
   "name": "python3"
  },
  "language_info": {
   "codemirror_mode": {
    "name": "ipython",
    "version": 3
   },
   "file_extension": ".py",
   "mimetype": "text/x-python",
   "name": "python",
   "nbconvert_exporter": "python",
   "pygments_lexer": "ipython3",
   "version": "3.9.10"
  },
  "toc": {
   "base_numbering": 1,
   "nav_menu": {},
   "number_sections": true,
   "sideBar": true,
   "skip_h1_title": false,
   "title_cell": "Table of Contents",
   "title_sidebar": "Contents",
   "toc_cell": false,
   "toc_position": {},
   "toc_section_display": true,
   "toc_window_display": false
  }
 },
 "nbformat": 4,
 "nbformat_minor": 5
}
