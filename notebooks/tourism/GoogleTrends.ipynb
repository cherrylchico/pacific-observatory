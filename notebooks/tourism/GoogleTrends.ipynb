{
 "cells": [
  {
   "cell_type": "code",
   "execution_count": 1,
   "id": "930785f1",
   "metadata": {},
   "outputs": [],
   "source": [
    "import os\n",
    "os.chdir(\"../..\")\n",
    "\n",
    "from itertools import product\n",
    "import json\n",
    "import matplotlib.pyplot as plt\n",
    "import pandas as pd\n",
    "import requests\n",
    "# !pip install google-api-python-client\n",
    "from googleapiclient.discovery import build\n",
    "\n",
    "# local import\n",
    "from src.google_trends import GT\n",
    "\n",
    "from dotenv import load_dotenv\n",
    "load_dotenv()\n",
    "\n",
    "import warnings\n",
    "warnings.filterwarnings(\"ignore\")"
   ]
  },
  {
   "cell_type": "code",
   "execution_count": 2,
   "id": "571da91f",
   "metadata": {},
   "outputs": [],
   "source": [
    "GoogleAPIkey = os.getenv(\"GoogleAPIkey\")"
   ]
  },
  {
   "cell_type": "code",
   "execution_count": 3,
   "id": "759b8705",
   "metadata": {},
   "outputs": [],
   "source": [
    "gt = GT(GoogleAPIkey)"
   ]
  },
  {
   "cell_type": "markdown",
   "id": "4f0f2093",
   "metadata": {},
   "source": [
    "## Case-sensitive testing"
   ]
  },
  {
   "cell_type": "code",
   "execution_count": 4,
   "id": "4aaf535f",
   "metadata": {
    "scrolled": true
   },
   "outputs": [],
   "source": [
    "upper_parms = {\n",
    "    'terms': \"Papua New Guinea\",\n",
    "    'restrictions_geo': \"AU\",\n",
    "    'restrictions_startDate': \"2004-01-01\"\n",
    "}\n",
    "\n",
    "# change terms to lower case\n",
    "lower_parms = upper_parms.copy()\n",
    "lower_parms[\"terms\"] = lower_parms[\"terms\"].lower()\n",
    "\n",
    "upper = gt.get_graph(upper_parms[\"terms\"], upper_parms[\"restrictions_geo\"])\n",
    "lower = gt.get_graph(lower_parms[\"terms\"], lower_parms[\"restrictions_geo\"])\n",
    "\n",
    "# test whether keyword is case-sensitive\n",
    "assert upper[\"lines\"][0][\"points\"] == lower[\"lines\"][0][\"points\"], \"Keyword is sensitive.\""
   ]
  },
  {
   "cell_type": "code",
   "execution_count": 5,
   "id": "7d4f7754",
   "metadata": {
    "scrolled": false
   },
   "outputs": [
    {
     "data": {
      "text/html": [
       "<div>\n",
       "<style scoped>\n",
       "    .dataframe tbody tr th:only-of-type {\n",
       "        vertical-align: middle;\n",
       "    }\n",
       "\n",
       "    .dataframe tbody tr th {\n",
       "        vertical-align: top;\n",
       "    }\n",
       "\n",
       "    .dataframe thead th {\n",
       "        text-align: right;\n",
       "    }\n",
       "</style>\n",
       "<table border=\"1\" class=\"dataframe\">\n",
       "  <thead>\n",
       "    <tr style=\"text-align: right;\">\n",
       "      <th></th>\n",
       "      <th>value</th>\n",
       "      <th>date</th>\n",
       "      <th>term</th>\n",
       "    </tr>\n",
       "  </thead>\n",
       "  <tbody>\n",
       "    <tr>\n",
       "      <th>0</th>\n",
       "      <td>54</td>\n",
       "      <td>2004-01-01</td>\n",
       "      <td>Papua New Guinea</td>\n",
       "    </tr>\n",
       "    <tr>\n",
       "      <th>1</th>\n",
       "      <td>80</td>\n",
       "      <td>2004-02-01</td>\n",
       "      <td>Papua New Guinea</td>\n",
       "    </tr>\n",
       "    <tr>\n",
       "      <th>2</th>\n",
       "      <td>90</td>\n",
       "      <td>2004-03-01</td>\n",
       "      <td>Papua New Guinea</td>\n",
       "    </tr>\n",
       "    <tr>\n",
       "      <th>3</th>\n",
       "      <td>53</td>\n",
       "      <td>2004-04-01</td>\n",
       "      <td>Papua New Guinea</td>\n",
       "    </tr>\n",
       "    <tr>\n",
       "      <th>4</th>\n",
       "      <td>79</td>\n",
       "      <td>2004-05-01</td>\n",
       "      <td>Papua New Guinea</td>\n",
       "    </tr>\n",
       "  </tbody>\n",
       "</table>\n",
       "</div>"
      ],
      "text/plain": [
       "   value       date              term\n",
       "0     54 2004-01-01  Papua New Guinea\n",
       "1     80 2004-02-01  Papua New Guinea\n",
       "2     90 2004-03-01  Papua New Guinea\n",
       "3     53 2004-04-01  Papua New Guinea\n",
       "4     79 2004-05-01  Papua New Guinea"
      ]
     },
     "execution_count": 5,
     "metadata": {},
     "output_type": "execute_result"
    }
   ],
   "source": [
    "# Transform to df\n",
    "kw_png = gt.to_df(upper)\n",
    "kw_png.head(5)"
   ]
  },
  {
   "cell_type": "markdown",
   "id": "2869c02e",
   "metadata": {},
   "source": [
    "## Downloading files"
   ]
  },
  {
   "cell_type": "code",
   "execution_count": null,
   "id": "0904a41c",
   "metadata": {
    "scrolled": false
   },
   "outputs": [],
   "source": [
    "countries = [\"fiji\", \"vanuatu\", \"palau\", \"tonga\", \"samoa\", \"solomon islands\"]\n",
    "secondary = [\"travel\", \"hotel\", \"flights\"]\n",
    "geos = [\"AU\", \"NZ\", \"US\", \"JP\", \"HK\", \"NC\"]\n",
    "\n",
    "for country in countries:\n",
    "\n",
    "    filename = os.getcwd() + \"/data/tourism/trends/trends_\" + \\\n",
    "        str(country).replace(\" \", \"_\") + \".csv\"\n",
    "\n",
    "    df = pd.DataFrame()\n",
    "    df[\"date\"] = pd.date_range(\n",
    "        start=\"2004-01-01\", end=\"2023-06-01\", freq=\"MS\")\n",
    "\n",
    "    for geo in geos:\n",
    "        search_term = [str(country) + \" \" + str(i) for i in secondary]\n",
    "        graph_response = gt.get_graph(search_term, restrictions_geo=geo)\n",
    "        trend_response = gt.get_health_trends(search_term)\n",
    "\n",
    "        try:\n",
    "            graph, trend = gt.to_df(graph_response), gt.to_df(trend_response)\n",
    "            graph[\"term\"] = graph[\"term\"] + \"-\" + geo\n",
    "            graph = pd.pivot(graph, index='date',\n",
    "                             columns='term', values='value')\n",
    "            df = pd.merge(df, graph, how=\"left\", on=\"date\")\n",
    "\n",
    "        except:\n",
    "            print(f\"{country}, {search_term} raises an Error.\")\n",
    "\n",
    "    trend = pd.pivot(trend, index='date',\n",
    "                     columns='term', values='value')\n",
    "    df = pd.merge(df, trend, how=\"left\", on=\"date\")\n",
    "    \n",
    "    df.to_csv(filename, encoding=\"utf-8\")"
   ]
  },
  {
   "cell_type": "code",
   "execution_count": 10,
   "id": "84e773c4",
   "metadata": {},
   "outputs": [],
   "source": [
    "from bokeh.plotting import figure, show, output_notebook\n",
    "from bokeh.models import ColumnDataSource, Legend\n",
    "from bokeh.palettes import Category20\n",
    "\n",
    "# output_file('fiji_month_by_country.html')\n",
    "p = figure(height=600, width=1000,\n",
    "           title=\"Google Trend Index By Month\",\n",
    "           x_axis_type=\"datetime\",\n",
    "           x_axis_label=\"Date\",\n",
    "           y_axis_label=\"Google Trend Index\",\n",
    "           tooltips=[(\"Date\", \"$Date\"),\n",
    "                     (\"Search Index\", \"@$col\")])\n",
    "\n",
    "cols = df.columns[-3:].tolist()\n",
    "p.add_layout(Legend(), 'right')\n",
    "source = ColumnDataSource(df)\n",
    "\n",
    "for col, color in zip(cols, Category20[3]):\n",
    "    # have to use different colnames for y-coords so tooltip can refer to @$name\n",
    "    p.line('date', col, source=df, name=col, legend_label=col, color=color)\n",
    "\n",
    "p.legend.label_text_font_size = '9pt'\n",
    "p.legend.click_policy = \"mute\"\n",
    "p.legend.location = \"top_left\"\n",
    "\n",
    "show(p)"
   ]
  }
 ],
 "metadata": {
  "kernelspec": {
   "display_name": "po",
   "language": "python",
   "name": "po"
  },
  "language_info": {
   "codemirror_mode": {
    "name": "ipython",
    "version": 3
   },
   "file_extension": ".py",
   "mimetype": "text/x-python",
   "name": "python",
   "nbconvert_exporter": "python",
   "pygments_lexer": "ipython3",
   "version": "3.9.0"
  },
  "toc": {
   "base_numbering": 1,
   "nav_menu": {},
   "number_sections": true,
   "sideBar": true,
   "skip_h1_title": false,
   "title_cell": "Table of Contents",
   "title_sidebar": "Contents",
   "toc_cell": false,
   "toc_position": {},
   "toc_section_display": true,
   "toc_window_display": false
  }
 },
 "nbformat": 4,
 "nbformat_minor": 5
}
