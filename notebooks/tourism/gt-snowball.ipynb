{
 "cells": [
  {
   "cell_type": "code",
   "execution_count": 1,
   "id": "5476e3ee",
   "metadata": {},
   "outputs": [],
   "source": [
    "import os\n",
    "os.chdir(\"../../\")\n",
    "from dotenv import load_dotenv\n",
    "load_dotenv()\n",
    "\n",
    "import pandas as pd\n",
    "import numpy as np\n",
    "from src.google_trends import GT"
   ]
  },
  {
   "cell_type": "code",
   "execution_count": 2,
   "id": "55d51a03",
   "metadata": {},
   "outputs": [],
   "source": [
    "GoogleAPIkey = os.getenv(\"GoogleAPIkey\")"
   ]
  },
  {
   "cell_type": "code",
   "execution_count": 3,
   "id": "9eecefe8",
   "metadata": {},
   "outputs": [],
   "source": [
    "gt = GT(GoogleAPIkey)"
   ]
  },
  {
   "cell_type": "code",
   "execution_count": 15,
   "id": "07aad8e2",
   "metadata": {},
   "outputs": [
    {
     "data": {
      "text/plain": [
       "{'item': [{'title': 'Fiji', 'mid': '/m/02wt0', 'value': 100},\n",
       "  {'title': 'Fijian language', 'mid': '/m/020gps', 'value': 27},\n",
       "  {'title': 'Concert tour', 'mid': '/g/122cngsd', 'value': 14},\n",
       "  {'title': 'Island', 'mid': '/m/03s0c', 'value': 13},\n",
       "  {'title': 'Package tour', 'mid': '/m/05x8w9', 'value': 11},\n",
       "  {'title': 'Travel', 'mid': '/m/014dsx', 'value': 10},\n",
       "  {'title': 'Resort', 'mid': '/m/02dkrm', 'value': 8},\n",
       "  {'title': 'Australia', 'mid': '/m/0chghy', 'value': 7},\n",
       "  {'title': 'Flight', 'mid': '/m/01515d', 'value': 7},\n",
       "  {'title': 'New Zealand', 'mid': '/m/0ctw_b', 'value': 7},\n",
       "  {'title': 'Nadi', 'mid': '/m/022wr3', 'value': 5},\n",
       "  {'title': 'Holiday', 'mid': '/m/03gkl', 'value': 4},\n",
       "  {'title': 'Cruise ship', 'mid': '/m/01tq2l', 'value': 4},\n",
       "  {'title': 'Tourism', 'mid': '/g/120yrv6h', 'value': 4},\n",
       "  {'title': 'Tour operator', 'mid': '/m/0477l6', 'value': 3},\n",
       "  {'title': 'Sydney', 'mid': '/m/06y57', 'value': 3},\n",
       "  {'title': 'Airport', 'mid': '/m/09cjl', 'value': 3},\n",
       "  {'title': 'Concert', 'mid': '/m/01jddz', 'value': 3},\n",
       "  {'title': 'Rugby union', 'mid': '/m/06br8', 'value': 3},\n",
       "  {'title': 'Vacation', 'mid': '/m/02jwqh', 'value': 3},\n",
       "  {'title': 'Beach', 'mid': '/m/0b3yr', 'value': 3},\n",
       "  {'title': 'Location', 'mid': '/m/078x4m', 'value': 3},\n",
       "  {'title': 'Travel visa', 'mid': '/m/01wtrk', 'value': 3},\n",
       "  {'title': 'World Surf League', 'mid': '/m/089p0g', 'value': 2},\n",
       "  {'title': 'Country', 'mid': '/m/01lff', 'value': 2}]}"
      ]
     },
     "execution_count": 15,
     "metadata": {},
     "output_type": "execute_result"
    }
   ],
   "source": [
    "gt.get_top_topics(\"Fiji Tour\", None)"
   ]
  }
 ],
 "metadata": {
  "kernelspec": {
   "display_name": "po",
   "language": "python",
   "name": "po"
  },
  "language_info": {
   "codemirror_mode": {
    "name": "ipython",
    "version": 3
   },
   "file_extension": ".py",
   "mimetype": "text/x-python",
   "name": "python",
   "nbconvert_exporter": "python",
   "pygments_lexer": "ipython3",
   "version": "3.9.0"
  },
  "toc": {
   "base_numbering": 1,
   "nav_menu": {},
   "number_sections": true,
   "sideBar": true,
   "skip_h1_title": false,
   "title_cell": "Table of Contents",
   "title_sidebar": "Contents",
   "toc_cell": false,
   "toc_position": {},
   "toc_section_display": true,
   "toc_window_display": false
  }
 },
 "nbformat": 4,
 "nbformat_minor": 5
}
