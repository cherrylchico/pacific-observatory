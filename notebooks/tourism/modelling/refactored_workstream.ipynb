{
 "cells": [
  {
   "cell_type": "code",
   "execution_count": 1,
   "id": "b766afb0",
   "metadata": {},
   "outputs": [],
   "source": [
    "import os\n",
    "os.chdir(\"../../../\")\n",
    "\n",
    "import numpy as np\n",
    "import scipy\n",
    "import pandas as pd\n",
    "import seaborn as sns\n",
    "import matplotlib.pyplot as plt\n",
    "\n",
    "from src.tourism.utsmodel import *\n",
    "from src.tourism.scaler import *\n",
    "from src.tourism.mtsmodel import *\n",
    "from src.tourism.ts_utils import *\n",
    "from src.tourism.data import *\n",
    "from src.tourism.cross_validate import TimeSeriesCrossValidator\n",
    "from datetime import timedelta\n",
    "\n",
    "import warnings\n",
    "warnings.filterwarnings('ignore')"
   ]
  },
  {
   "cell_type": "markdown",
   "id": "7cc2eb6c",
   "metadata": {},
   "source": [
    "## SARIMAX"
   ]
  },
  {
   "cell_type": "code",
   "execution_count": 2,
   "id": "f14b86a9",
   "metadata": {
    "scrolled": true
   },
   "outputs": [
    {
     "name": "stdout",
     "output_type": "stream",
     "text": [
      "training size : 242, testing size : 0\n",
      "Performing stepwise search to minimize aic\n",
      " ARIMA(0,1,0)(0,0,1)[12] intercept   : AIC=774.613, Time=0.15 sec\n",
      " ARIMA(0,1,0)(0,0,0)[12] intercept   : AIC=784.639, Time=0.02 sec\n",
      " ARIMA(1,1,0)(1,0,0)[12] intercept   : AIC=741.180, Time=0.14 sec\n",
      " ARIMA(0,1,1)(0,0,1)[12] intercept   : AIC=706.955, Time=0.35 sec\n",
      " ARIMA(0,1,0)(0,0,0)[12]             : AIC=782.839, Time=0.03 sec\n",
      " ARIMA(0,1,1)(0,0,0)[12] intercept   : AIC=715.476, Time=0.10 sec\n",
      " ARIMA(0,1,1)(1,0,1)[12] intercept   : AIC=700.864, Time=0.40 sec\n",
      " ARIMA(0,1,1)(1,0,0)[12] intercept   : AIC=702.062, Time=0.25 sec\n",
      " ARIMA(0,1,1)(2,0,1)[12] intercept   : AIC=699.908, Time=0.90 sec\n",
      " ARIMA(0,1,1)(2,0,0)[12] intercept   : AIC=700.217, Time=0.77 sec\n",
      " ARIMA(0,1,1)(2,0,2)[12] intercept   : AIC=702.503, Time=1.10 sec\n",
      " ARIMA(0,1,1)(1,0,2)[12] intercept   : AIC=700.140, Time=1.03 sec\n",
      " ARIMA(0,1,0)(2,0,1)[12] intercept   : AIC=755.510, Time=0.54 sec\n",
      " ARIMA(1,1,1)(2,0,1)[12] intercept   : AIC=689.637, Time=1.08 sec\n",
      " ARIMA(1,1,1)(1,0,1)[12] intercept   : AIC=692.879, Time=0.47 sec\n",
      " ARIMA(1,1,1)(2,0,0)[12] intercept   : AIC=691.276, Time=0.89 sec\n",
      " ARIMA(1,1,1)(2,0,2)[12] intercept   : AIC=inf, Time=1.22 sec\n",
      " ARIMA(1,1,1)(1,0,0)[12] intercept   : AIC=693.838, Time=0.35 sec\n",
      " ARIMA(1,1,1)(1,0,2)[12] intercept   : AIC=687.283, Time=1.13 sec\n",
      " ARIMA(1,1,1)(0,0,2)[12] intercept   : AIC=687.153, Time=0.92 sec\n",
      " ARIMA(1,1,1)(0,0,1)[12] intercept   : AIC=inf, Time=0.40 sec\n",
      " ARIMA(0,1,1)(0,0,2)[12] intercept   : AIC=699.184, Time=0.79 sec\n",
      " ARIMA(1,1,0)(0,0,2)[12] intercept   : AIC=727.291, Time=0.55 sec\n",
      " ARIMA(2,1,1)(0,0,2)[12] intercept   : AIC=685.892, Time=1.11 sec\n",
      " ARIMA(2,1,1)(0,0,1)[12] intercept   : AIC=694.190, Time=0.42 sec\n",
      " ARIMA(2,1,1)(1,0,2)[12] intercept   : AIC=686.319, Time=1.14 sec\n",
      " ARIMA(2,1,1)(1,0,1)[12] intercept   : AIC=688.692, Time=0.50 sec\n",
      " ARIMA(2,1,0)(0,0,2)[12] intercept   : AIC=719.275, Time=0.53 sec\n",
      " ARIMA(3,1,1)(0,0,2)[12] intercept   : AIC=684.383, Time=1.15 sec\n",
      " ARIMA(3,1,1)(0,0,1)[12] intercept   : AIC=692.816, Time=0.48 sec\n",
      " ARIMA(3,1,1)(1,0,2)[12] intercept   : AIC=685.713, Time=1.29 sec\n",
      " ARIMA(3,1,1)(1,0,1)[12] intercept   : AIC=686.721, Time=0.56 sec\n",
      " ARIMA(3,1,0)(0,0,2)[12] intercept   : AIC=716.764, Time=0.51 sec\n",
      " ARIMA(4,1,1)(0,0,2)[12] intercept   : AIC=682.237, Time=1.20 sec\n",
      " ARIMA(4,1,1)(0,0,1)[12] intercept   : AIC=691.130, Time=0.52 sec\n",
      " ARIMA(4,1,1)(1,0,2)[12] intercept   : AIC=682.893, Time=1.37 sec\n",
      " ARIMA(4,1,1)(1,0,1)[12] intercept   : AIC=684.585, Time=0.65 sec\n",
      " ARIMA(4,1,0)(0,0,2)[12] intercept   : AIC=711.883, Time=0.68 sec\n",
      " ARIMA(5,1,1)(0,0,2)[12] intercept   : AIC=681.026, Time=1.39 sec\n",
      " ARIMA(5,1,1)(0,0,1)[12] intercept   : AIC=691.106, Time=0.54 sec\n",
      " ARIMA(5,1,1)(1,0,2)[12] intercept   : AIC=682.060, Time=1.46 sec\n",
      " ARIMA(5,1,1)(1,0,1)[12] intercept   : AIC=683.169, Time=0.73 sec\n",
      " ARIMA(5,1,0)(0,0,2)[12] intercept   : AIC=706.466, Time=0.80 sec\n",
      " ARIMA(5,1,2)(0,0,2)[12] intercept   : AIC=682.685, Time=1.44 sec\n",
      " ARIMA(4,1,2)(0,0,2)[12] intercept   : AIC=679.364, Time=1.42 sec\n",
      " ARIMA(4,1,2)(0,0,1)[12] intercept   : AIC=688.892, Time=0.55 sec\n",
      " ARIMA(4,1,2)(1,0,2)[12] intercept   : AIC=681.316, Time=1.58 sec\n",
      " ARIMA(4,1,2)(1,0,1)[12] intercept   : AIC=683.798, Time=0.72 sec\n",
      " ARIMA(3,1,2)(0,0,2)[12] intercept   : AIC=688.795, Time=1.27 sec\n",
      " ARIMA(4,1,3)(0,0,2)[12] intercept   : AIC=668.304, Time=1.63 sec\n",
      " ARIMA(4,1,3)(0,0,1)[12] intercept   : AIC=679.265, Time=0.71 sec\n",
      " ARIMA(4,1,3)(1,0,2)[12] intercept   : AIC=672.834, Time=1.86 sec\n",
      " ARIMA(4,1,3)(1,0,1)[12] intercept   : AIC=670.670, Time=0.79 sec\n",
      " ARIMA(3,1,3)(0,0,2)[12] intercept   : AIC=692.073, Time=1.48 sec\n",
      " ARIMA(5,1,3)(0,0,2)[12] intercept   : AIC=666.223, Time=1.85 sec\n",
      " ARIMA(5,1,3)(0,0,1)[12] intercept   : AIC=677.154, Time=0.74 sec\n",
      " ARIMA(5,1,3)(1,0,2)[12] intercept   : AIC=679.183, Time=2.22 sec\n",
      " ARIMA(5,1,3)(1,0,1)[12] intercept   : AIC=674.845, Time=0.94 sec\n",
      " ARIMA(5,1,4)(0,0,2)[12] intercept   : AIC=667.249, Time=1.90 sec\n",
      " ARIMA(4,1,4)(0,0,2)[12] intercept   : AIC=663.118, Time=1.91 sec\n",
      " ARIMA(4,1,4)(0,0,1)[12] intercept   : AIC=673.918, Time=0.76 sec\n",
      " ARIMA(4,1,4)(1,0,2)[12] intercept   : AIC=inf, Time=1.97 sec\n",
      " ARIMA(4,1,4)(1,0,1)[12] intercept   : AIC=667.818, Time=0.82 sec\n",
      " ARIMA(3,1,4)(0,0,2)[12] intercept   : AIC=679.929, Time=1.85 sec\n",
      " ARIMA(4,1,5)(0,0,2)[12] intercept   : AIC=690.748, Time=2.21 sec\n",
      " ARIMA(3,1,5)(0,0,2)[12] intercept   : AIC=670.865, Time=2.11 sec\n",
      " ARIMA(5,1,5)(0,0,2)[12] intercept   : AIC=inf, Time=2.36 sec\n",
      " ARIMA(4,1,4)(0,0,2)[12]             : AIC=663.552, Time=1.66 sec\n",
      "\n",
      "Best model:  ARIMA(4,1,4)(0,0,2)[12] intercept\n",
      "Total fit time: 67.375 seconds\n"
     ]
    },
    {
     "name": "stderr",
     "output_type": "stream",
     "text": [
      "100%|█████████████████████████████████████████████████████████████████████████████████████████████████████████████| 1296/1296 [41:01<00:00,  1.90s/it]\n"
     ]
    }
   ],
   "source": [
    "mod = SARIMAXPipeline(country=\"samoa\",\n",
    "                      training_ratio=1,\n",
    "                      y_var=\"total\",\n",
    "                      exog_var=[\"covid\", \"stringency_index\", \"samoa_travel\"],\n",
    "                      transform_method=\"scaledlogit\")\n",
    "mod.read_and_merge()\n",
    "mod.transform()\n",
    "mod.stepwise_search()\n",
    "mod_msres = mod.manual_search()"
   ]
  },
  {
   "cell_type": "code",
   "execution_count": 3,
   "id": "7190e461",
   "metadata": {},
   "outputs": [
    {
     "name": "stderr",
     "output_type": "stream",
     "text": [
      "100%|█████████████████████████████████████████████████████████████████████████████████████████████████████████████████| 50/50 [01:25<00:00,  1.72s/it]\n"
     ]
    },
    {
     "name": "stdout",
     "output_type": "stream",
     "text": [
      "((4, 1, 5), (0, 1, 1, 12)) 3788.7693844108894\n"
     ]
    },
    {
     "name": "stderr",
     "output_type": "stream",
     "text": [
      "100%|█████████████████████████████████████████████████████████████████████████████████████████████████████████████████| 50/50 [01:10<00:00,  1.40s/it]\n"
     ]
    },
    {
     "name": "stdout",
     "output_type": "stream",
     "text": [
      "((4, 1, 4), (0, 1, 1, 12)) 3812.402884212952\n"
     ]
    },
    {
     "name": "stderr",
     "output_type": "stream",
     "text": [
      "100%|█████████████████████████████████████████████████████████████████████████████████████████████████████████████████| 50/50 [04:20<00:00,  5.21s/it]\n"
     ]
    },
    {
     "name": "stdout",
     "output_type": "stream",
     "text": [
      "((4, 1, 5), (0, 1, 2, 12)) 3774.1966514417973\n"
     ]
    },
    {
     "name": "stderr",
     "output_type": "stream",
     "text": [
      "100%|█████████████████████████████████████████████████████████████████████████████████████████████████████████████████| 50/50 [04:58<00:00,  5.97s/it]\n"
     ]
    },
    {
     "name": "stdout",
     "output_type": "stream",
     "text": [
      "((4, 1, 4), (2, 1, 2, 12)) 3853.0562131871593\n"
     ]
    },
    {
     "name": "stderr",
     "output_type": "stream",
     "text": [
      "100%|█████████████████████████████████████████████████████████████████████████████████████████████████████████████████| 50/50 [05:10<00:00,  6.21s/it]\n"
     ]
    },
    {
     "name": "stdout",
     "output_type": "stream",
     "text": [
      "((4, 1, 5), (2, 1, 2, 12)) 3843.0455181884795\n"
     ]
    },
    {
     "name": "stderr",
     "output_type": "stream",
     "text": [
      "100%|█████████████████████████████████████████████████████████████████████████████████████████████████████████████████| 50/50 [04:02<00:00,  4.86s/it]\n"
     ]
    },
    {
     "name": "stdout",
     "output_type": "stream",
     "text": [
      "((4, 1, 4), (0, 1, 2, 12)) 3781.353036972457\n"
     ]
    },
    {
     "name": "stderr",
     "output_type": "stream",
     "text": [
      "100%|█████████████████████████████████████████████████████████████████████████████████████████████████████████████████| 50/50 [00:49<00:00,  1.02it/s]\n"
     ]
    },
    {
     "name": "stdout",
     "output_type": "stream",
     "text": [
      "((0, 1, 5), (0, 1, 1, 12)) 3911.507331810599\n"
     ]
    },
    {
     "name": "stderr",
     "output_type": "stream",
     "text": [
      "100%|█████████████████████████████████████████████████████████████████████████████████████████████████████████████████| 50/50 [04:29<00:00,  5.39s/it]\n"
     ]
    },
    {
     "name": "stdout",
     "output_type": "stream",
     "text": [
      "((4, 1, 4), (1, 1, 2, 12)) 3831.0996343070237\n"
     ]
    },
    {
     "name": "stderr",
     "output_type": "stream",
     "text": [
      "100%|█████████████████████████████████████████████████████████████████████████████████████████████████████████████████| 50/50 [02:51<00:00,  3.43s/it]\n"
     ]
    },
    {
     "name": "stdout",
     "output_type": "stream",
     "text": [
      "((3, 1, 2), (0, 1, 2, 12)) 3799.1191092948484\n"
     ]
    },
    {
     "name": "stderr",
     "output_type": "stream",
     "text": [
      "100%|█████████████████████████████████████████████████████████████████████████████████████████████████████████████████| 50/50 [01:04<00:00,  1.29s/it]"
     ]
    },
    {
     "name": "stdout",
     "output_type": "stream",
     "text": [
      "((1, 1, 5), (0, 1, 1, 12)) 4011.7368472507555\n"
     ]
    },
    {
     "name": "stderr",
     "output_type": "stream",
     "text": [
      "\n"
     ]
    }
   ],
   "source": [
    "for i in mod_msres[:10]:\n",
    "    model_params = {\n",
    "        \"order\": i[2][0],\n",
    "        \"seasonal_order\": i[2][1]\n",
    "    }\n",
    "    tscv = TimeSeriesCrossValidator(method=\"SARIMAX\",\n",
    "                                    model_params=model_params,\n",
    "                                    data=mod.y,\n",
    "                                    exog_data=mod.exog,\n",
    "                                    cv_method=\"Rolling\",\n",
    "                                    transformation=\"scaledlogit\")\n",
    "    \n",
    "    initial_size = int(0.75*len(mod.y))\n",
    "    cv_errors = tscv.cross_validate(hyper_params={\"initial\": initial_size})\n",
    "    print(i[2], np.mean([error[\"RMSE\"] for error in cv_errors]))"
   ]
  }
 ],
 "metadata": {
  "kernelspec": {
   "display_name": "po",
   "language": "python",
   "name": "po"
  },
  "language_info": {
   "codemirror_mode": {
    "name": "ipython",
    "version": 3
   },
   "file_extension": ".py",
   "mimetype": "text/x-python",
   "name": "python",
   "nbconvert_exporter": "python",
   "pygments_lexer": "ipython3",
   "version": "3.9.0"
  },
  "toc": {
   "base_numbering": 1,
   "nav_menu": {},
   "number_sections": true,
   "sideBar": true,
   "skip_h1_title": false,
   "title_cell": "Table of Contents",
   "title_sidebar": "Contents",
   "toc_cell": false,
   "toc_position": {},
   "toc_section_display": true,
   "toc_window_display": false
  }
 },
 "nbformat": 4,
 "nbformat_minor": 5
}
