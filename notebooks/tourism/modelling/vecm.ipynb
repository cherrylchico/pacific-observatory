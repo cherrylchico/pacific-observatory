{
 "cells": [
  {
   "cell_type": "code",
   "execution_count": 1,
   "id": "ce5859ab",
   "metadata": {
    "scrolled": false
   },
   "outputs": [
    {
     "name": "stderr",
     "output_type": "stream",
     "text": [
      "/Users/czhang/miniforge3/envs/bayes/lib/python3.11/site-packages/tqdm/auto.py:21: TqdmWarning: IProgress not found. Please update jupyter and ipywidgets. See https://ipywidgets.readthedocs.io/en/stable/user_install.html\n",
      "  from .autonotebook import tqdm as notebook_tqdm\n",
      "[2024-01-18 22:48:42 - prophet.plot:39 - ERROR] Importing plotly failed. Interactive plots will not work.\n"
     ]
    }
   ],
   "source": [
    "import os\n",
    "import sys\n",
    "os.chdir(\"../../../\")\n",
    "import numpy as np\n",
    "import pandas as pd\n",
    "import matplotlib.pyplot as plt\n",
    "\n",
    "\n",
    "from src.tourism.mtsmodel import VARPipeline\n",
    "from statsmodels.tsa.vector_ar.vecm import *\n",
    "from src.tourism.scaler import ScaledLogitScaler\n",
    "from collections import Counter\n",
    "from src.tourism.data import CovidDataLoader, TrendsDataLoader\n",
    "from src.tourism.ts_eval import calculate_evaluation\n",
    "from src.tourism.ts_utils import cointegration_test"
   ]
  },
  {
   "cell_type": "code",
   "execution_count": 2,
   "id": "04b0572d",
   "metadata": {},
   "outputs": [
    {
     "name": "stdout",
     "output_type": "stream",
     "text": [
      "['difference'] VARMAX\n"
     ]
    }
   ],
   "source": [
    "mts = VARPipeline(country=\"vanuatu\",\n",
    "                  y_var=[\"total\", \"seats_arrivals_intl\"],\n",
    "                  exog_var=[\"covid\", \"stringency_index\", \"vanuatu_travel\"])\n",
    "mts.read_and_merge()\n",
    "mts.determine_analysis_method()\n",
    "print(mts.transformation, mts.method)"
   ]
  },
  {
   "cell_type": "code",
   "execution_count": 5,
   "id": "1f518c4e",
   "metadata": {},
   "outputs": [
    {
     "data": {
      "text/plain": [
       "[-145.42835352749492,\n",
       " -172.78516870771784,\n",
       " 1285.6518896852076,\n",
       " -895.0186961526294,\n",
       " -756.6003083626497,\n",
       " 2112.085796922259,\n",
       " -1651.9493534065525,\n",
       " 13.68926120196296,\n",
       " 109.4028355615517,\n",
       " -532.9927286986232,\n",
       " 1010.0542311120233,\n",
       " 845.0309919625271,\n",
       " -2844.8681925243286,\n",
       " -2627.4874544347963,\n",
       " -2814.8031978189288,\n",
       " 13.54919281802987,\n",
       " -429.26025687962937,\n",
       " -278.1045877081142,\n",
       " -214.4360838650368,\n",
       " -372.12690872462656,\n",
       " 526.4356693606495,\n",
       " 388.71885236071364,\n",
       " 486.99382856357346,\n",
       " 468.8552426665348,\n",
       " 377.484094328105,\n",
       " 737.3770961135734,\n",
       " 559.8688848412648,\n",
       " 622.6485190461435,\n",
       " 629.1612152281698,\n",
       " 38.214437216401535,\n",
       " 89.56382549312777,\n",
       " -888.1848045188332,\n",
       " 89.76236561380406,\n",
       " -1241.383949825523,\n",
       " 1083.0541027398292,\n",
       " -636.8562866655357,\n",
       " -531.0612396940644,\n",
       " -831.875961430215,\n",
       " -416.5460068930463,\n",
       " 1148.523915267073,\n",
       " 862.2089091316062,\n",
       " 2628.8632575027814]"
      ]
     },
     "execution_count": 5,
     "metadata": {},
     "output_type": "execute_result"
    }
   ],
   "source": [
    "mts.fitted_models[\"difference\"].fittedvalues.iloc[:, 0].tolist()"
   ]
  },
  {
   "cell_type": "code",
   "execution_count": 3,
   "id": "9d07c42e",
   "metadata": {
    "scrolled": false
   },
   "outputs": [
    {
     "ename": "InvalidIndexError",
     "evalue": "(slice(None, None, None), 0)",
     "output_type": "error",
     "traceback": [
      "\u001b[0;31m---------------------------------------------------------------------------\u001b[0m",
      "\u001b[0;31mTypeError\u001b[0m                                 Traceback (most recent call last)",
      "File \u001b[0;32m~/miniforge3/envs/bayes/lib/python3.11/site-packages/pandas/core/indexes/base.py:3653\u001b[0m, in \u001b[0;36mIndex.get_loc\u001b[0;34m(self, key)\u001b[0m\n\u001b[1;32m   3652\u001b[0m \u001b[38;5;28;01mtry\u001b[39;00m:\n\u001b[0;32m-> 3653\u001b[0m     \u001b[38;5;28;01mreturn\u001b[39;00m \u001b[38;5;28mself\u001b[39m\u001b[38;5;241m.\u001b[39m_engine\u001b[38;5;241m.\u001b[39mget_loc(casted_key)\n\u001b[1;32m   3654\u001b[0m \u001b[38;5;28;01mexcept\u001b[39;00m \u001b[38;5;167;01mKeyError\u001b[39;00m \u001b[38;5;28;01mas\u001b[39;00m err:\n",
      "File \u001b[0;32m~/miniforge3/envs/bayes/lib/python3.11/site-packages/pandas/_libs/index.pyx:147\u001b[0m, in \u001b[0;36mpandas._libs.index.IndexEngine.get_loc\u001b[0;34m()\u001b[0m\n",
      "File \u001b[0;32m~/miniforge3/envs/bayes/lib/python3.11/site-packages/pandas/_libs/index.pyx:153\u001b[0m, in \u001b[0;36mpandas._libs.index.IndexEngine.get_loc\u001b[0;34m()\u001b[0m\n",
      "\u001b[0;31mTypeError\u001b[0m: '(slice(None, None, None), 0)' is an invalid key",
      "\nDuring handling of the above exception, another exception occurred:\n",
      "\u001b[0;31mInvalidIndexError\u001b[0m                         Traceback (most recent call last)",
      "Cell \u001b[0;32mIn[3], line 1\u001b[0m\n\u001b[0;32m----> 1\u001b[0m mts\u001b[38;5;241m.\u001b[39mfit()\n",
      "File \u001b[0;32m~/Desktop/pacific-observatory/src/tourism/mtsmodel.py:171\u001b[0m, in \u001b[0;36mVARPipeline.fit\u001b[0;34m(self)\u001b[0m\n\u001b[1;32m    169\u001b[0m predict_df \u001b[38;5;241m=\u001b[39m pd\u001b[38;5;241m.\u001b[39mDataFrame(mod\u001b[38;5;241m.\u001b[39mmodel\u001b[38;5;241m.\u001b[39mendog, columns\u001b[38;5;241m=\u001b[39m\u001b[38;5;28mself\u001b[39m\u001b[38;5;241m.\u001b[39my_var)\n\u001b[1;32m    170\u001b[0m predict_df[\u001b[38;5;124m\"\u001b[39m\u001b[38;5;124mpred_total\u001b[39m\u001b[38;5;124m\"\u001b[39m] \u001b[38;5;241m=\u001b[39m np\u001b[38;5;241m.\u001b[39mNaN\n\u001b[0;32m--> 171\u001b[0m predict_df\u001b[38;5;241m.\u001b[39mloc[mod\u001b[38;5;241m.\u001b[39mmodel\u001b[38;5;241m.\u001b[39mk_ar:, \u001b[38;5;124m\"\u001b[39m\u001b[38;5;124mpred_total\u001b[39m\u001b[38;5;124m\"\u001b[39m] \u001b[38;5;241m=\u001b[39m mod\u001b[38;5;241m.\u001b[39mfittedvalues[:, \u001b[38;5;241m0\u001b[39m]\u001b[38;5;241m.\u001b[39mtolist()\n\u001b[1;32m    172\u001b[0m predict_df[\u001b[38;5;124m'\u001b[39m\u001b[38;5;124mdate\u001b[39m\u001b[38;5;124m'\u001b[39m] \u001b[38;5;241m=\u001b[39m pd\u001b[38;5;241m.\u001b[39mdate_range(start\u001b[38;5;241m=\u001b[39m\u001b[38;5;28mself\u001b[39m\u001b[38;5;241m.\u001b[39mdata\u001b[38;5;241m.\u001b[39mindex\u001b[38;5;241m.\u001b[39mmin(), periods\u001b[38;5;241m=\u001b[39m\u001b[38;5;28mlen\u001b[39m(predict_df), freq\u001b[38;5;241m=\u001b[39m\u001b[38;5;124m'\u001b[39m\u001b[38;5;124mMS\u001b[39m\u001b[38;5;124m'\u001b[39m)\n\u001b[1;32m    173\u001b[0m \u001b[38;5;28mself\u001b[39m\u001b[38;5;241m.\u001b[39mprediction_dfs[t_type] \u001b[38;5;241m=\u001b[39m predict_df\n",
      "File \u001b[0;32m~/miniforge3/envs/bayes/lib/python3.11/site-packages/pandas/core/frame.py:3761\u001b[0m, in \u001b[0;36mDataFrame.__getitem__\u001b[0;34m(self, key)\u001b[0m\n\u001b[1;32m   3759\u001b[0m \u001b[38;5;28;01mif\u001b[39;00m \u001b[38;5;28mself\u001b[39m\u001b[38;5;241m.\u001b[39mcolumns\u001b[38;5;241m.\u001b[39mnlevels \u001b[38;5;241m>\u001b[39m \u001b[38;5;241m1\u001b[39m:\n\u001b[1;32m   3760\u001b[0m     \u001b[38;5;28;01mreturn\u001b[39;00m \u001b[38;5;28mself\u001b[39m\u001b[38;5;241m.\u001b[39m_getitem_multilevel(key)\n\u001b[0;32m-> 3761\u001b[0m indexer \u001b[38;5;241m=\u001b[39m \u001b[38;5;28mself\u001b[39m\u001b[38;5;241m.\u001b[39mcolumns\u001b[38;5;241m.\u001b[39mget_loc(key)\n\u001b[1;32m   3762\u001b[0m \u001b[38;5;28;01mif\u001b[39;00m is_integer(indexer):\n\u001b[1;32m   3763\u001b[0m     indexer \u001b[38;5;241m=\u001b[39m [indexer]\n",
      "File \u001b[0;32m~/miniforge3/envs/bayes/lib/python3.11/site-packages/pandas/core/indexes/base.py:3660\u001b[0m, in \u001b[0;36mIndex.get_loc\u001b[0;34m(self, key)\u001b[0m\n\u001b[1;32m   3655\u001b[0m     \u001b[38;5;28;01mraise\u001b[39;00m \u001b[38;5;167;01mKeyError\u001b[39;00m(key) \u001b[38;5;28;01mfrom\u001b[39;00m \u001b[38;5;21;01merr\u001b[39;00m\n\u001b[1;32m   3656\u001b[0m \u001b[38;5;28;01mexcept\u001b[39;00m \u001b[38;5;167;01mTypeError\u001b[39;00m:\n\u001b[1;32m   3657\u001b[0m     \u001b[38;5;66;03m# If we have a listlike key, _check_indexing_error will raise\u001b[39;00m\n\u001b[1;32m   3658\u001b[0m     \u001b[38;5;66;03m#  InvalidIndexError. Otherwise we fall through and re-raise\u001b[39;00m\n\u001b[1;32m   3659\u001b[0m     \u001b[38;5;66;03m#  the TypeError.\u001b[39;00m\n\u001b[0;32m-> 3660\u001b[0m     \u001b[38;5;28mself\u001b[39m\u001b[38;5;241m.\u001b[39m_check_indexing_error(key)\n\u001b[1;32m   3661\u001b[0m     \u001b[38;5;28;01mraise\u001b[39;00m\n",
      "File \u001b[0;32m~/miniforge3/envs/bayes/lib/python3.11/site-packages/pandas/core/indexes/base.py:5737\u001b[0m, in \u001b[0;36mIndex._check_indexing_error\u001b[0;34m(self, key)\u001b[0m\n\u001b[1;32m   5733\u001b[0m \u001b[38;5;28;01mdef\u001b[39;00m \u001b[38;5;21m_check_indexing_error\u001b[39m(\u001b[38;5;28mself\u001b[39m, key):\n\u001b[1;32m   5734\u001b[0m     \u001b[38;5;28;01mif\u001b[39;00m \u001b[38;5;129;01mnot\u001b[39;00m is_scalar(key):\n\u001b[1;32m   5735\u001b[0m         \u001b[38;5;66;03m# if key is not a scalar, directly raise an error (the code below\u001b[39;00m\n\u001b[1;32m   5736\u001b[0m         \u001b[38;5;66;03m# would convert to numpy arrays and raise later any way) - GH29926\u001b[39;00m\n\u001b[0;32m-> 5737\u001b[0m         \u001b[38;5;28;01mraise\u001b[39;00m InvalidIndexError(key)\n",
      "\u001b[0;31mInvalidIndexError\u001b[0m: (slice(None, None, None), 0)"
     ]
    }
   ],
   "source": [
    "mts.fit()\n",
    "\n",
    "# model = mts.fitted_models[mts.transformation[0]]\n",
    "# model.summary()\n",
    "# mts.plot_comparison()"
   ]
  },
  {
   "cell_type": "code",
   "execution_count": 6,
   "id": "e25806b1",
   "metadata": {},
   "outputs": [],
   "source": [
    "y_pred = mts.prediction_dfs[\"original\"][\"pred_total\"][6:]\n",
    "y_true =  mts.prediction_dfs[\"original\"][\"total\"][6:]"
   ]
  },
  {
   "cell_type": "code",
   "execution_count": 8,
   "id": "f9fd73f3",
   "metadata": {},
   "outputs": [
    {
     "data": {
      "text/html": [
       "<div>\n",
       "<style scoped>\n",
       "    .dataframe tbody tr th:only-of-type {\n",
       "        vertical-align: middle;\n",
       "    }\n",
       "\n",
       "    .dataframe tbody tr th {\n",
       "        vertical-align: top;\n",
       "    }\n",
       "\n",
       "    .dataframe thead th {\n",
       "        text-align: right;\n",
       "    }\n",
       "</style>\n",
       "<table border=\"1\" class=\"dataframe\">\n",
       "  <thead>\n",
       "    <tr style=\"text-align: right;\">\n",
       "      <th></th>\n",
       "      <th>MSE</th>\n",
       "      <th>RMSE</th>\n",
       "      <th>MAE</th>\n",
       "      <th>SMAPE</th>\n",
       "    </tr>\n",
       "  </thead>\n",
       "  <tbody>\n",
       "    <tr>\n",
       "      <th>naive</th>\n",
       "      <td>1.180276e+07</td>\n",
       "      <td>3435.514859</td>\n",
       "      <td>2313.560166</td>\n",
       "      <td>23.936179</td>\n",
       "    </tr>\n",
       "    <tr>\n",
       "      <th>mean</th>\n",
       "      <td>2.193805e+07</td>\n",
       "      <td>4683.807205</td>\n",
       "      <td>3367.534731</td>\n",
       "      <td>43.918693</td>\n",
       "    </tr>\n",
       "    <tr>\n",
       "      <th>VAR (scaled)</th>\n",
       "      <td>7.375657e+07</td>\n",
       "      <td>8588.164545</td>\n",
       "      <td>7853.878296</td>\n",
       "      <td>150.463492</td>\n",
       "    </tr>\n",
       "  </tbody>\n",
       "</table>\n",
       "</div>"
      ],
      "text/plain": [
       "                       MSE         RMSE          MAE       SMAPE\n",
       "naive         1.180276e+07  3435.514859  2313.560166   23.936179\n",
       "mean          2.193805e+07  4683.807205  3367.534731   43.918693\n",
       "VAR (scaled)  7.375657e+07  8588.164545  7853.878296  150.463492"
      ]
     },
     "execution_count": 8,
     "metadata": {},
     "output_type": "execute_result"
    }
   ],
   "source": [
    "mts.evaluate_models()"
   ]
  },
  {
   "cell_type": "code",
   "execution_count": 7,
   "id": "7c10c87d",
   "metadata": {},
   "outputs": [
    {
     "data": {
      "text/plain": [
       "{'MSE': 5339041.476282664,\n",
       " 'RMSE': 2310.6365954607973,\n",
       " 'MAE': 1500.6159650285376,\n",
       " 'SMAPE': 154.8207902422965}"
      ]
     },
     "execution_count": 7,
     "metadata": {},
     "output_type": "execute_result"
    }
   ],
   "source": [
    "calculate_evaluation(y_true, y_pred)"
   ]
  },
  {
   "cell_type": "code",
   "execution_count": 4,
   "id": "09468bfa",
   "metadata": {},
   "outputs": [
    {
     "name": "stdout",
     "output_type": "stream",
     "text": [
      "1 170.60903301314403\n",
      "2 170.86060243949112\n",
      "3 171.8672636530984\n",
      "4 172.53309559894407\n"
     ]
    }
   ],
   "source": [
    "for order, i in zip(range(1, len(c)), c):\n",
    "    print(order, np.mean(i))"
   ]
  },
  {
   "cell_type": "code",
   "execution_count": 21,
   "id": "a1ae62ff",
   "metadata": {
    "scrolled": false
   },
   "outputs": [
    {
     "name": "stdout",
     "output_type": "stream",
     "text": [
      "False\n",
      "3 1\n"
     ]
    },
    {
     "data": {
      "text/plain": [
       "[<matplotlib.lines.Line2D at 0x14d04d610>]"
      ]
     },
     "execution_count": 21,
     "metadata": {},
     "output_type": "execute_result"
    },
    {
     "data": {
      "image/png": "[encoded data removed]",
      "text/plain": [
       "<Figure size 576x432 with 1 Axes>"
      ]
     },
     "metadata": {
      "needs_background": "light"
     },
     "output_type": "display_data"
    }
   ],
   "source": [
    "transform = True\n",
    "mts = VARPipeline(country=\"samoa\",\n",
    "                  y_var=[\"total\", \"seats_arrivals_intl\"],\n",
    "                  exog_var=[\"covid\", \"stringency_index\", \"samoa_travel\"],\n",
    "                  training_ratio=0.95)\n",
    "mts.read_and_merge()\n",
    "\n",
    "\n",
    "raw = mts.data\n",
    "df = raw[raw.date >= \"2019-01-01\"].reset_index(drop=True).dropna()\n",
    "print(mts.test_stationarity(df, [\"total\", \"seats_arrivals_intl\"]))\n",
    "\n",
    "scaler = ScaledLogitScaler()\n",
    "scaler.fit(raw[[\"total\", \"seats_arrivals_intl\"]])\n",
    "\n",
    "if transform:\n",
    "    train_data = scaler.transform(raw[[\"total\", \"seats_arrivals_intl\"]]).dropna()\n",
    "else:\n",
    "    train_data = raw[[\"total\", \"seats_arrivals_intl\"]].dropna()\n",
    "index = train_data.index\n",
    "exog_data = raw[[\"covid\", \"stringency_index\", \"samoa_travel\"]].iloc[index]\n",
    "\n",
    "selected_orders = select_order(train_data, exog=exog_data, maxlags=5)\n",
    "\n",
    "# Extract values and count occurrences\n",
    "order_counts = Counter(selected_orders.selected_orders.values())\n",
    "selected_order = order_counts.most_common(1)[0][0]\n",
    "\n",
    "johansen_test = coint_johansen(train_data,\n",
    "                               det_order=0,\n",
    "                               k_ar_diff=selected_order)\n",
    "\n",
    "# Determine the number of cointegrating relationships\n",
    "coint_rank = sum(\n",
    "    johansen_test.lr1\n",
    "    > johansen_test.cvt[:, 0])  # Number of relations with p-value < 0.05\n",
    "print(selected_order, coint_rank)\n",
    "\n",
    "mod = VECM(train_data,\n",
    "           k_ar_diff=selected_order,\n",
    "           coint_rank=coint_rank,\n",
    "           exog=exog_data)\n",
    "res = mod.fit()\n",
    "\n",
    "covid = CovidDataLoader(\"palau\").read_covid_data()\n",
    "trend = TrendsDataLoader(\"palau\").read_trends_data()\n",
    "exog_df = covid.merge(trend[[\"date\", \"palau travel\"]])\n",
    "exog_df.columns = [col.replace(\" \", \"_\") for col in exog_df.columns]\n",
    "exog_df = exog_df.iloc[len(train_data) - 12:]\n",
    "\n",
    "forecast = res.predict(steps=len(exog_df)-1, exog_fc=exog_df.iloc[:-1, [2, 1,3]])\n",
    "if transform:\n",
    "    forecast = scaler.inverse_transform(forecast)\n",
    "    fitted_values = scaler.inverse_transform(res.fittedvalues)\n",
    "else:\n",
    "    fitted_values = res.fittedvalues\n",
    "    \n",
    "    \n",
    "fig, ax = plt.subplots(figsize=(8, 6))\n",
    "plt.plot(df['total'].values, color='blue')\n",
    "plt.plot(fitted_values[:, 0], color=\"green\")"
   ]
  },
  {
   "cell_type": "code",
   "execution_count": 17,
   "id": "7962abf0",
   "metadata": {},
   "outputs": [],
   "source": [
    "from pmdarima.model_selection import SlidingWindowForecastCV, RollingForecastCV\n",
    "\n",
    "from typing import List, Tuple\n",
    "import pandas as pd\n",
    "from statsmodels.tsa.vector_ar.vecm import VECM\n",
    "\n",
    "\n",
    "def cross_validate(endog_data: pd.DataFrame, exog_data: pd.DataFrame,\n",
    "                   maximum_order: int, criteria: str) -> List[List[float]]:\n",
    "    \"\"\"\n",
    "    Perform cross-validation for Vector Error Correction Models (VECM) over a range of orders.\n",
    "\n",
    "    This function uses a rolling forecast cross-validation approach to evaluate the performance\n",
    "    of VECM models with different lag orders. It calculates the error for each model based on a specified\n",
    "    evaluation criteria.\n",
    "\n",
    "    Parameters:\n",
    "    endog_data (pd.DataFrame): The endogenous variables of the VECM.\n",
    "    exog_data (pd.DataFrame): The exogenous variables of the VECM.\n",
    "    maximum_order (int): The maximum order of VECM to be tested.\n",
    "    criteria (str): The criteria used to evaluate the model's performance (e.g., 'mse' for Mean Squared Error).\n",
    "\n",
    "    Returns:\n",
    "    List[List[float]]: A list containing the errors for each model order. Each sublist corresponds to a different order.\n",
    "    \"\"\"\n",
    "    cv = RollingForecastCV(step=1, h=6, initial=20)\n",
    "    cv_splits = list(cv.split(endog_data))\n",
    "\n",
    "    model_errors = []\n",
    "    for order in range(1, maximum_order + 1):\n",
    "        order_errors = []\n",
    "        for train_idx, test_idx in cv_splits:\n",
    "            train_endog, train_exog = endog_data.iloc[\n",
    "                train_idx], exog_data.iloc[train_idx]\n",
    "            test_endog, test_exog = endog_data.iloc[test_idx], exog_data.iloc[\n",
    "                test_idx]\n",
    "\n",
    "            model = VECM(train_endog,\n",
    "                         k_ar_diff=order,\n",
    "                         coint_rank=1,\n",
    "                         exog=train_exog)\n",
    "            fitted_model = model.fit()\n",
    "\n",
    "            forecast = fitted_model.predict(steps=len(test_endog),\n",
    "                                            exog_fc=test_exog)\n",
    "            error = calculate_evaluation(test_endog, forecast)\n",
    "            order_errors.append(error[criteria])\n",
    "        model_errors.append(order_errors)\n",
    "\n",
    "    return model_errors"
   ]
  },
  {
   "cell_type": "code",
   "execution_count": 23,
   "id": "64b4e242",
   "metadata": {},
   "outputs": [
    {
     "name": "stdout",
     "output_type": "stream",
     "text": [
      "1 46.108441538258035\n",
      "2 48.449941905765215\n",
      "3 52.166695633792315\n",
      "4 56.330575335086834\n"
     ]
    }
   ],
   "source": [
    "errors = cross_validate(train_data, exog_data, 5, \"SMAPE\")\n",
    "for order, i in zip(range(1, len(errors)), errors):\n",
    "    print(order, np.mean(i))"
   ]
  }
 ],
 "metadata": {
  "kernelspec": {
   "display_name": "bayes",
   "language": "python",
   "name": "bayes"
  },
  "language_info": {
   "codemirror_mode": {
    "name": "ipython",
    "version": 3
   },
   "file_extension": ".py",
   "mimetype": "text/x-python",
   "name": "python",
   "nbconvert_exporter": "python",
   "pygments_lexer": "ipython3",
   "version": "3.11.4"
  },
  "toc": {
   "base_numbering": 1,
   "nav_menu": {},
   "number_sections": true,
   "sideBar": true,
   "skip_h1_title": false,
   "title_cell": "Table of Contents",
   "title_sidebar": "Contents",
   "toc_cell": false,
   "toc_position": {},
   "toc_section_display": true,
   "toc_window_display": false
  }
 },
 "nbformat": 4,
 "nbformat_minor": 5
}
