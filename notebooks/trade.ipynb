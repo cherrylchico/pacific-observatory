{
 "cells": [
  {
   "cell_type": "code",
   "execution_count": 1,
   "metadata": {},
   "outputs": [],
   "source": [
    "import pandas as pd\n",
    "# from bokeh.plotting import figure, show, output_notebook # output_file"
   ]
  },
  {
   "cell_type": "code",
   "execution_count": 47,
   "metadata": {},
   "outputs": [],
   "source": [
    "fpath = r'C:\\Users\\WB514197\\WBG\\EEAPV Pacific Observatory Files - Geospatial and Big Data\\AIS\\all-port-statistics\\output\\Trade Estimation All.csv'\n",
    "# fpath = r'C:\\Users\\WB514197\\WBG\\EEAPV Pacific Observatory Files - Geospatial and Big Data\\AIS\\all-port-statistics\\output\\Trade Estimation All.xlsx'\n",
    "df = pd.read_csv(fpath)\n",
    "# df = pd.read_excel(fpath, 1)"
   ]
  },
  {
   "cell_type": "code",
   "execution_count": 48,
   "metadata": {},
   "outputs": [],
   "source": [
    "df[\"arrival_dt_pos_utc\"] = pd.to_datetime(df[\"arrival_dt_pos_utc\"])\n",
    "df.loc[:, \"year\"] = df[\"arrival_dt_pos_utc\"].dt.year\n",
    "df.loc[:, \"month\"] = df[\"arrival_dt_pos_utc\"].dt.month\n",
    "df['iso_week'] = df['arrival_dt_pos_utc'].dt.strftime('%Y-%W')"
   ]
  },
  {
   "cell_type": "code",
   "execution_count": 49,
   "metadata": {},
   "outputs": [],
   "source": [
    "# df.head(2).to_csv('test.csv')"
   ]
  },
  {
   "cell_type": "markdown",
   "metadata": {},
   "source": [
    "## Port Arrivals"
   ]
  },
  {
   "cell_type": "code",
   "execution_count": 58,
   "metadata": {},
   "outputs": [],
   "source": [
    "group_cols = ['iso_week', 'Country', 'Port', 'ShipTypeLevel2']\n",
    "grouped = df.groupby(group_cols)['vessel_name'].count().unstack().fillna(0)\n",
    "grouped.reset_index(inplace=True)\n",
    "grouped.loc[:, \"location\"] = grouped[\"Country\"] + \", \" + grouped[\"Port\"]"
   ]
  },
  {
   "cell_type": "code",
   "execution_count": 59,
   "metadata": {},
   "outputs": [],
   "source": [
    "country = df.groupby(['iso_week', 'Country', 'ShipTypeLevel2'])['vessel_name'].count().unstack().fillna(0)\n",
    "country.reset_index(inplace=True)\n",
    "country.loc[:, \"location\"] = country[\"Country\"] + \"  \""
   ]
  },
  {
   "cell_type": "code",
   "execution_count": 60,
   "metadata": {},
   "outputs": [],
   "source": [
    "pacific = df.groupby(['iso_week', 'ShipTypeLevel2'])['vessel_name'].count().unstack().fillna(0)\n",
    "pacific.reset_index(inplace=True)\n",
    "pacific.loc[:, \"Country\"] = \"All Pacific\"\n",
    "pacific.loc[:, \"location\"] = \"All Pacific\""
   ]
  },
  {
   "cell_type": "code",
   "execution_count": 61,
   "metadata": {},
   "outputs": [],
   "source": [
    "df_concat = pd.concat([grouped, country, pacific], axis=0)"
   ]
  },
  {
   "cell_type": "code",
   "execution_count": 62,
   "metadata": {},
   "outputs": [],
   "source": [
    "df_concat.sort_values(by=['location', 'iso_week'], inplace=True)"
   ]
  },
  {
   "cell_type": "code",
   "execution_count": 64,
   "metadata": {},
   "outputs": [],
   "source": [
    "df_concat['date'] = pd.to_datetime(df_concat['iso_week'] + '-0', format='%Y-%W-%w')"
   ]
  },
  {
   "cell_type": "code",
   "execution_count": 65,
   "metadata": {},
   "outputs": [],
   "source": [
    "df_concat[['location', 'date', 'Bulk Carriers', 'Dry Cargo/Passenger', 'Tankers']].to_csv('grouped.csv', index=False)"
   ]
  },
  {
   "cell_type": "markdown",
   "metadata": {},
   "source": [
    "## Trade"
   ]
  },
  {
   "cell_type": "code",
   "execution_count": 93,
   "metadata": {},
   "outputs": [],
   "source": [
    "df.loc[:, \"trade_flow_final_abs\"] = df[\"trade_flow_final\"].abs()\n",
    "df.loc[:, \"ym\"] = df[\"year\"].astype(str) + \"-\" + df[\"month\"].astype(str).str.zfill(2)\n",
    "df.loc[:, \"Type\"] = df.apply(\n",
    "    lambda x: \"Exports\" if x[\"trade_flow_final\"] > 0 else \"Imports\", axis=1\n",
    ")"
   ]
  },
  {
   "cell_type": "code",
   "execution_count": 107,
   "metadata": {},
   "outputs": [],
   "source": [
    "group_cols = ['ym', 'Country', 'Port', 'ShipTypeLevel2', 'Type']\n",
    "data_cols = ['trade_flow_final_abs']\n",
    "grouped = df.groupby(group_cols)[data_cols].sum().reset_index()\n",
    "grouped.loc[:, \"location\"] = grouped[\"Country\"] + \", \" + grouped[\"Port\"]"
   ]
  },
  {
   "cell_type": "code",
   "execution_count": 108,
   "metadata": {},
   "outputs": [],
   "source": [
    "country = df.groupby(['ym', 'Country', 'ShipTypeLevel2', 'Type'])[data_cols].sum().reset_index()\n",
    "country.loc[:, \"location\"] = country[\"Country\"] + \"  \""
   ]
  },
  {
   "cell_type": "code",
   "execution_count": 109,
   "metadata": {},
   "outputs": [],
   "source": [
    "pacific = df.groupby(['ym', 'Country', 'ShipTypeLevel2', 'Type'])[data_cols].sum().reset_index()\n",
    "pacific.loc[:, \"Country\"] = \"All Pacific\"\n",
    "pacific.loc[:, \"location\"] = \"All Pacific\""
   ]
  },
  {
   "cell_type": "code",
   "execution_count": 110,
   "metadata": {},
   "outputs": [],
   "source": [
    "df_concat = pd.concat([grouped, country, pacific], axis=0)\n",
    "df_concat.sort_values(by=['location', 'ym'], inplace=True)"
   ]
  },
  {
   "cell_type": "code",
   "execution_count": 112,
   "metadata": {},
   "outputs": [],
   "source": [
    "df_concat = df_concat.pivot_table(index=[\"location\", \"ym\", \"Type\"], columns='ShipTypeLevel2', values='trade_flow_final_abs').reset_index().fillna(0)"
   ]
  },
  {
   "cell_type": "code",
   "execution_count": null,
   "metadata": {},
   "outputs": [],
   "source": [
    "# df_concat = df_concat.pivot_table(index=[\"location\", \"ym\"], columns='Type', values='trade_flow_final_abs').reset_index().fillna(0)"
   ]
  },
  {
   "cell_type": "code",
   "execution_count": 114,
   "metadata": {},
   "outputs": [],
   "source": [
    "df_concat.to_csv('trade-volume-monthly-by-type.csv', index=False)"
   ]
  },
  {
   "cell_type": "code",
   "execution_count": 101,
   "metadata": {},
   "outputs": [],
   "source": [
    "df_concat.to_csv('trade-volume-monthly.csv', index=False)"
   ]
  }
 ],
 "metadata": {
  "kernelspec": {
   "display_name": "rtmis",
   "language": "python",
   "name": "python3"
  },
  "language_info": {
   "codemirror_mode": {
    "name": "ipython",
    "version": 3
   },
   "file_extension": ".py",
   "mimetype": "text/x-python",
   "name": "python",
   "nbconvert_exporter": "python",
   "pygments_lexer": "ipython3",
   "version": "3.11.5"
  }
 },
 "nbformat": 4,
 "nbformat_minor": 2
}
