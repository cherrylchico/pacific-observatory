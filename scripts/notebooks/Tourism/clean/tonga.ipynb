{
 "cells": [
  {
   "cell_type": "code",
   "execution_count": 1,
   "id": "6d6453d0",
   "metadata": {},
   "outputs": [],
   "source": [
    "import os\n",
    "os.chdir(\"../../../../\")\n",
    "from scripts.python.PdfParse import *\n",
    "from datetime import datetime\n",
    "\n",
    "import warnings\n",
    "warnings.filterwarnings(\"ignore\")"
   ]
  },
  {
   "cell_type": "code",
   "execution_count": 2,
   "id": "a84edc6f",
   "metadata": {},
   "outputs": [],
   "source": [
    "tonga_lsts = os.listdir(os.getcwd() + \"/data/tourism/tonga/scraping/\")\n",
    "filepaths = []\n",
    "for path in tonga_lsts:\n",
    "    folder_path = os.getcwd() + \"/data/tourism/tonga/scraping/\"\n",
    "    if \"Dec\" in path:\n",
    "        filepaths.append(folder_path + path)\n",
    "    elif \"2021\" and \"Bulletin\" in path:\n",
    "        filepaths.append(folder_path + path)\n",
    "    else:\n",
    "        pass"
   ]
  },
  {
   "cell_type": "code",
   "execution_count": 3,
   "id": "34be14ac",
   "metadata": {
    "scrolled": false
   },
   "outputs": [
    {
     "name": "stdout",
     "output_type": "stream",
     "text": [
      "/Users/czhang/Desktop/pacific-observatory/data/tourism/tonga/scraping/Statistical-Bulletin-on-International-Arrivals-and-Departures-2021.pdf\n",
      "The file starts from 2018.\n",
      "/Users/czhang/Desktop/pacific-observatory/data/tourism/tonga/scraping/Migration-Report-Dec-2017.pdf\n",
      "The file starts from 2013.\n",
      "/Users/czhang/Desktop/pacific-observatory/data/tourism/tonga/scraping/Migration-December-Report-2019.pdf\n",
      "The file starts from 2018.\n",
      "/Users/czhang/Desktop/pacific-observatory/data/tourism/tonga/scraping/12-December-Migration-Report-2014.pdf\n"
     ]
    },
    {
     "name": "stderr",
     "output_type": "stream",
     "text": [
      "Got stderr: Jun 08, 2023 7:00:15 PM org.apache.pdfbox.pdmodel.PDDocument importPage\n",
      "WARNING: inherited resources of source document are not imported to destination page\n",
      "Jun 08, 2023 7:00:15 PM org.apache.pdfbox.pdmodel.PDDocument importPage\n",
      "WARNING: call importedPage.setResources(page.getResources()) to do this\n",
      "\n"
     ]
    },
    {
     "name": "stdout",
     "output_type": "stream",
     "text": [
      "The file starts from 2010.\n",
      "/Users/czhang/Desktop/pacific-observatory/data/tourism/tonga/scraping/12-December-Migration-Report-2015.pdf\n"
     ]
    },
    {
     "name": "stderr",
     "output_type": "stream",
     "text": [
      "Got stderr: Jun 08, 2023 7:00:23 PM org.apache.pdfbox.pdmodel.PDDocument importPage\n",
      "WARNING: inherited resources of source document are not imported to destination page\n",
      "Jun 08, 2023 7:00:23 PM org.apache.pdfbox.pdmodel.PDDocument importPage\n",
      "WARNING: call importedPage.setResources(page.getResources()) to do this\n",
      "\n"
     ]
    },
    {
     "name": "stdout",
     "output_type": "stream",
     "text": [
      "The file starts from 2010.\n",
      "/Users/czhang/Desktop/pacific-observatory/data/tourism/tonga/scraping/Migration-December-Report-2020.pdf\n",
      "The file starts from 2018.\n",
      "/Users/czhang/Desktop/pacific-observatory/data/tourism/tonga/scraping/12-December-Migration-Report-2013.pdf\n"
     ]
    },
    {
     "name": "stderr",
     "output_type": "stream",
     "text": [
      "Got stderr: Jun 08, 2023 7:00:33 PM org.apache.pdfbox.pdmodel.PDDocument importPage\n",
      "WARNING: inherited resources of source document are not imported to destination page\n",
      "Jun 08, 2023 7:00:33 PM org.apache.pdfbox.pdmodel.PDDocument importPage\n",
      "WARNING: call importedPage.setResources(page.getResources()) to do this\n",
      "\n"
     ]
    },
    {
     "name": "stdout",
     "output_type": "stream",
     "text": [
      "The file starts from 2010.\n",
      "/Users/czhang/Desktop/pacific-observatory/data/tourism/tonga/scraping/12-Migration-Report-Dec-2016.pdf\n"
     ]
    },
    {
     "name": "stderr",
     "output_type": "stream",
     "text": [
      "Got stderr: Jun 08, 2023 7:00:41 PM org.apache.pdfbox.pdmodel.PDDocument importPage\n",
      "WARNING: inherited resources of source document are not imported to destination page\n",
      "Jun 08, 2023 7:00:41 PM org.apache.pdfbox.pdmodel.PDDocument importPage\n",
      "WARNING: call importedPage.setResources(page.getResources()) to do this\n",
      "\n"
     ]
    },
    {
     "name": "stdout",
     "output_type": "stream",
     "text": [
      "The file starts from 2011.\n"
     ]
    }
   ],
   "source": [
    "months = pd.DataFrame()\n",
    "\n",
    "for file in filepaths[:-1]:\n",
    "    print(file)\n",
    "    \n",
    "    fileyear = file.split(\"/\")[-1].split(\"-\")[-1].replace(\".pdf\", \"\")\n",
    "    \n",
    "    df = load_pdf(file, \"Monthly Arrival and Departure\", table_page=-5)\n",
    "    latest_year, year_idx, month_idx = split_time(df, \"Period\")\n",
    "    month = df.iloc[month_idx, 0:4]\n",
    "    start_year = detect_year(df.iloc[month_idx].iloc[0])\n",
    "\n",
    "    month = (month.dropna(how=\"all\").reset_index()\n",
    "             .drop(\"index\", axis=1))\n",
    "\n",
    "    print(f\"The file starts from {start_year}.\")\n",
    "\n",
    "    month = separate_data(month, \"Air Ship\", \" \").drop(\"Air Ship\", axis=1)\n",
    "    month = remove_separator(month)\n",
    "    month = month.replace(r'^\\s*$', 0, regex=True)\n",
    "\n",
    "    if check_quality(month, [\"Period\", \"Year\"], \"Total\") == False:\n",
    "        name = file.split(\"/\")[-1].split(\".\")[0]\n",
    "        print(\"  \", name, \"could go wrong!\")\n",
    "\n",
    "    generate_time(month, start_year)\n",
    "    month[\"fileyear\"] = fileyear\n",
    "    months = pd.concat([months, month], axis=0)\n",
    "    \n",
    "    \n",
    "months = (months.drop_duplicates()\n",
    "          .sort_values(by=[\"Year\"])\n",
    "          .reset_index()\n",
    "          .drop(\"index\", axis=1))"
   ]
  },
  {
   "cell_type": "code",
   "execution_count": 4,
   "id": "4d6721ba",
   "metadata": {
    "scrolled": true
   },
   "outputs": [],
   "source": [
    "# Clean the datetime format\n",
    "dates = list()\n",
    "for idx in months.index:\n",
    "    month, year = months[\"Period\"][idx], str(months[\"Year\"][idx])\n",
    "    if type(month) == str:\n",
    "        try:\n",
    "            YM = year + month\n",
    "            dates.append(datetime.strptime(YM, \"%Y%B\"))\n",
    "        except:\n",
    "            dates.append(datetime.strptime(YM, \"%Y%b\"))\n",
    "    else:\n",
    "        dates.append(month)\n",
    "\n",
    "months[\"date\"] = dates\n",
    "months = months.sort_values(by=[\"date\", \"fileyear\"])"
   ]
  },
  {
   "cell_type": "code",
   "execution_count": 5,
   "id": "ca2751b4",
   "metadata": {},
   "outputs": [],
   "source": [
    "def check_combination(data, incl_cols, target, error_idx):\n",
    "    \n",
    "    check_df = data.loc[error_idx, incl_cols]\n",
    "    for idx, row in check_df.iterrows():\n",
    "        init_str = ''\n",
    "        for row_idx in range(len(row)):\n",
    "            init_str = init_str + str(row[row_idx])\n",
    "        if str(data[target][idx]) == init_str:\n",
    "            error_idx.remove(idx)\n",
    "            check_df.loc[idx][0] = float(init_str)\n",
    "            check_df.loc[idx][-1] = float(0)       \n",
    "    return check_df, error_idx"
   ]
  },
  {
   "cell_type": "code",
   "execution_count": 6,
   "id": "088cc535",
   "metadata": {},
   "outputs": [],
   "source": [
    "error_idx = check_quality(months, [\"Period\", \"Year\", \"date\", \"fileyear\"], \"Total\")\n",
    "corrected_df, error_idx = check_combination(months, [\"Air\", \"Ship\"], \"Total\", error_idx)\n",
    "months.loc[corrected_df.index, [\"Air\", \"Ship\"]] = corrected_df"
   ]
  },
  {
   "cell_type": "code",
   "execution_count": 7,
   "id": "887ecb0d",
   "metadata": {},
   "outputs": [],
   "source": [
    "months = (months[~months.date.isna()].fillna(0)\n",
    "          .sort_values(by=[\"date\", \"fileyear\"])\n",
    "          .reset_index().drop([\"Period\", \"index\"], axis=1))\n",
    "\n",
    "for col in [\"Total\", \"Air\", \"Ship\", \"Yacht\"]:\n",
    "    months[col] = months[col].astype(int)"
   ]
  },
  {
   "cell_type": "code",
   "execution_count": 8,
   "id": "288bd13c",
   "metadata": {},
   "outputs": [],
   "source": [
    "temp = months[months.columns[~months.columns.isin([\"fileyear\"])]]\n",
    "nodup_idx = temp.drop_duplicates().index\n",
    "months = (months.iloc[nodup_idx]\n",
    "          .groupby(\"date\")\n",
    "          .last()\n",
    "          .reset_index()\n",
    "          .drop(\"fileyear\", axis=1)\n",
    "          .rename({\"Total\": \"All\", \n",
    "                   \"Air\": \"Total\"}, axis=1))"
   ]
  },
  {
   "cell_type": "code",
   "execution_count": 10,
   "id": "d77cd56d",
   "metadata": {},
   "outputs": [],
   "source": [
    "# Check for duplicates (e.g. Dec vs December in different years)\n",
    "\n",
    "# indexes = months[colnames].drop_duplicates().index\n",
    "# months = months.iloc[indexes].reset_index().drop(\"index\", axis=1)\n",
    "\n",
    "#Save the file\n",
    "months.to_csv(os.getcwd() + \"/data/tourism/tonga/tonga_monthly_visitor.csv\",\n",
    "              encoding=\"utf-8\")"
   ]
  }
 ],
 "metadata": {
  "kernelspec": {
   "display_name": "Python 3 (ipykernel)",
   "language": "python",
   "name": "python3"
  },
  "language_info": {
   "codemirror_mode": {
    "name": "ipython",
    "version": 3
   },
   "file_extension": ".py",
   "mimetype": "text/x-python",
   "name": "python",
   "nbconvert_exporter": "python",
   "pygments_lexer": "ipython3",
   "version": "3.9.10"
  },
  "toc": {
   "base_numbering": 1,
   "nav_menu": {},
   "number_sections": true,
   "sideBar": true,
   "skip_h1_title": false,
   "title_cell": "Table of Contents",
   "title_sidebar": "Contents",
   "toc_cell": false,
   "toc_position": {},
   "toc_section_display": true,
   "toc_window_display": false
  }
 },
 "nbformat": 4,
 "nbformat_minor": 5
}
