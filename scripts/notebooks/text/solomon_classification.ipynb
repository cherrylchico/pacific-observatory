{
 "cells": [
  {
   "cell_type": "code",
   "execution_count": 1,
   "id": "164e35a1",
   "metadata": {},
   "outputs": [],
   "source": [
    "import os\n",
    "os.chdir(\"../../../\")\n",
    "\n",
    "import pandas as pd\n",
    "import numpy as np\n",
    "\n",
    "import spacy\n",
    "import string\n",
    "import nltk\n",
    "from nltk.corpus import stopwords\n",
    "\n",
    "from sklearn.feature_extraction.text import CountVectorizer,TfidfVectorizer\n",
    "from sklearn.pipeline import Pipeline\n",
    "from sklearn.model_selection import train_test_split, KFold, cross_validate, GridSearchCV\n",
    "\n",
    "# Sklearn models\n",
    "from sklearn.naive_bayes import MultinomialNB\n",
    "from sklearn.linear_model import LogisticRegression\n",
    "from sklearn.ensemble import RandomForestClassifier\n",
    "from sklearn.svm import LinearSVC\n",
    "\n",
    "from sklearn.metrics import classification_report, f1_score, accuracy_score, confusion_matrix\n",
    "from sklearn.metrics import roc_curve, auc, roc_auc_score\n",
    "\n",
    "from src.text.utils import *"
   ]
  },
  {
   "cell_type": "code",
   "execution_count": 2,
   "id": "7a5ddc70",
   "metadata": {},
   "outputs": [],
   "source": [
    "st_path = os.getcwd() + \"/data/text/solomon_islands/solomon_times_news.csv\"\n",
    "st = pd.read_csv(st_path).drop(\"Unnamed: 0\", axis=1)\n",
    "st[\"tag\"] = st[\"tag\"].str.lower()\n",
    "st[\"label\"] = [\"economy\" in i for i in st[\"tag\"]]"
   ]
  },
  {
   "cell_type": "code",
   "execution_count": 3,
   "id": "f8742b3f",
   "metadata": {},
   "outputs": [],
   "source": [
    "nlp = spacy.load('en_core_web_sm', disable=['parser', 'ner'])\n",
    "spacy_stopwords = list(nlp.Defaults.stop_words)\n",
    "\n",
    "nltk_stopwords = stopwords.words(\"english\")\n",
    "nltk_unique = [sw for sw in nltk_stopwords if sw not in spacy_stopwords]\n",
    "spacy_stopwords.extend(nltk_unique)"
   ]
  },
  {
   "cell_type": "code",
   "execution_count": 4,
   "id": "d845c5bb",
   "metadata": {},
   "outputs": [],
   "source": [
    "def remove_punctuation(text: str):\n",
    "    return \"\".join([i for i in text if i not in string.punctuation])\n",
    "\n",
    "def remove_stopwords(text: str, stopwords: list):\n",
    "    return \"\".join([i for i in text if i not in stopwords])"
   ]
  },
  {
   "cell_type": "code",
   "execution_count": 5,
   "id": "07d9dddf",
   "metadata": {},
   "outputs": [],
   "source": [
    "data = st.news.values.tolist()\n",
    "data_words = list(sent_to_words(data))\n",
    "\n",
    "bigram = gensim.models.Phrases(data_words, min_count=5, threshold=100)\n",
    "bigram_mod = gensim.models.phrases.Phraser(bigram)\n",
    "\n",
    "trigram = gensim.models.Phrases(bigram[data_words], min_count=5, threshold=100)\n",
    "trigram_mod = gensim.models.phrases.Phraser(trigram)\n",
    "\n",
    "texts_preprocessed = preprocess_text(data_words, spacy_stopwords, bigram_mod,\n",
    "                                     trigram_mod, nlp)"
   ]
  },
  {
   "cell_type": "code",
   "execution_count": 7,
   "id": "22a0bc8f",
   "metadata": {},
   "outputs": [],
   "source": [
    "st[\"texts\"] = texts_preprocessed\n",
    "st[\"texts\"] = st[\"texts\"].apply(lambda x: \" \".join(i for i in x))\n",
    "X_train, X_test, y_train, y_test = train_test_split(\n",
    "    st['texts'],   \n",
    "    st['label'], \n",
    "    test_size=0.1, \n",
    "    random_state=42,  \n",
    "    shuffle=True)   "
   ]
  },
  {
   "cell_type": "code",
   "execution_count": 8,
   "id": "15cab84c",
   "metadata": {},
   "outputs": [],
   "source": [
    "tfidf_vectorizer = TfidfVectorizer(use_idf=True)\n",
    "X_train_vectors_tfidf = tfidf_vectorizer.fit_transform(X_train)\n",
    "X_test_vectors_tfidf = tfidf_vectorizer.transform(X_test)"
   ]
  },
  {
   "cell_type": "code",
   "execution_count": 127,
   "id": "3041ad79",
   "metadata": {},
   "outputs": [
    {
     "name": "stdout",
     "output_type": "stream",
     "text": [
      "              precision    recall  f1-score   support\n",
      "\n",
      "       False       0.76      0.70      0.73       521\n",
      "        True       0.75      0.81      0.78       584\n",
      "\n",
      "    accuracy                           0.76      1105\n",
      "   macro avg       0.76      0.75      0.75      1105\n",
      "weighted avg       0.76      0.76      0.75      1105\n",
      "\n",
      "Confusion Matrix: [[364 157]\n",
      " [113 471]]\n",
      "AUC: 0.8268806036862726\n"
     ]
    }
   ],
   "source": [
    "lr_tfidf = LogisticRegression(solver='liblinear', C=10, penalty='l2')\n",
    "lr_tfidf.fit(X_train_vectors_tfidf, y_train)\n",
    "\n",
    "y_predict = lr_tfidf.predict(X_test_vectors_tfidf)\n",
    "y_prob = lr_tfidf.predict_proba(X_test_vectors_tfidf)[:, 1]\n",
    "\n",
    "\n",
    "print(classification_report(y_test,y_predict))\n",
    "print('Confusion Matrix:',confusion_matrix(y_test, y_predict))\n",
    "\n",
    "fpr, tpr, thresholds = roc_curve(y_test, y_prob)\n",
    "roc_auc = auc(fpr, tpr)\n",
    "print('AUC:', roc_auc)"
   ]
  },
  {
   "cell_type": "code",
   "execution_count": 11,
   "id": "c75f6747",
   "metadata": {
    "scrolled": true
   },
   "outputs": [
    {
     "name": "stderr",
     "output_type": "stream",
     "text": [
      "/Users/czhang/miniforge3/envs/po/lib/python3.9/site-packages/sklearn/linear_model/_logistic.py:460: ConvergenceWarning: lbfgs failed to converge (status=1):\n",
      "STOP: TOTAL NO. of ITERATIONS REACHED LIMIT.\n",
      "\n",
      "Increase the number of iterations (max_iter) or scale the data as shown in:\n",
      "    https://scikit-learn.org/stable/modules/preprocessing.html\n",
      "Please also refer to the documentation for alternative solver options:\n",
      "    https://scikit-learn.org/stable/modules/linear_model.html#logistic-regression\n",
      "  n_iter_i = _check_optimize_result(\n",
      "/Users/czhang/miniforge3/envs/po/lib/python3.9/site-packages/sklearn/linear_model/_logistic.py:460: ConvergenceWarning: lbfgs failed to converge (status=1):\n",
      "STOP: TOTAL NO. of ITERATIONS REACHED LIMIT.\n",
      "\n",
      "Increase the number of iterations (max_iter) or scale the data as shown in:\n",
      "    https://scikit-learn.org/stable/modules/preprocessing.html\n",
      "Please also refer to the documentation for alternative solver options:\n",
      "    https://scikit-learn.org/stable/modules/linear_model.html#logistic-regression\n",
      "  n_iter_i = _check_optimize_result(\n",
      "/Users/czhang/miniforge3/envs/po/lib/python3.9/site-packages/sklearn/linear_model/_logistic.py:460: ConvergenceWarning: lbfgs failed to converge (status=1):\n",
      "STOP: TOTAL NO. of ITERATIONS REACHED LIMIT.\n",
      "\n",
      "Increase the number of iterations (max_iter) or scale the data as shown in:\n",
      "    https://scikit-learn.org/stable/modules/preprocessing.html\n",
      "Please also refer to the documentation for alternative solver options:\n",
      "    https://scikit-learn.org/stable/modules/linear_model.html#logistic-regression\n",
      "  n_iter_i = _check_optimize_result(\n",
      "/Users/czhang/miniforge3/envs/po/lib/python3.9/site-packages/sklearn/linear_model/_logistic.py:460: ConvergenceWarning: lbfgs failed to converge (status=1):\n",
      "STOP: TOTAL NO. of ITERATIONS REACHED LIMIT.\n",
      "\n",
      "Increase the number of iterations (max_iter) or scale the data as shown in:\n",
      "    https://scikit-learn.org/stable/modules/preprocessing.html\n",
      "Please also refer to the documentation for alternative solver options:\n",
      "    https://scikit-learn.org/stable/modules/linear_model.html#logistic-regression\n",
      "  n_iter_i = _check_optimize_result(\n",
      "/Users/czhang/miniforge3/envs/po/lib/python3.9/site-packages/sklearn/linear_model/_logistic.py:460: ConvergenceWarning: lbfgs failed to converge (status=1):\n",
      "STOP: TOTAL NO. of ITERATIONS REACHED LIMIT.\n",
      "\n",
      "Increase the number of iterations (max_iter) or scale the data as shown in:\n",
      "    https://scikit-learn.org/stable/modules/preprocessing.html\n",
      "Please also refer to the documentation for alternative solver options:\n",
      "    https://scikit-learn.org/stable/modules/linear_model.html#logistic-regression\n",
      "  n_iter_i = _check_optimize_result(\n",
      "/Users/czhang/miniforge3/envs/po/lib/python3.9/site-packages/sklearn/linear_model/_logistic.py:460: ConvergenceWarning: lbfgs failed to converge (status=1):\n",
      "STOP: TOTAL NO. of ITERATIONS REACHED LIMIT.\n",
      "\n",
      "Increase the number of iterations (max_iter) or scale the data as shown in:\n",
      "    https://scikit-learn.org/stable/modules/preprocessing.html\n",
      "Please also refer to the documentation for alternative solver options:\n",
      "    https://scikit-learn.org/stable/modules/linear_model.html#logistic-regression\n",
      "  n_iter_i = _check_optimize_result(\n",
      "/Users/czhang/miniforge3/envs/po/lib/python3.9/site-packages/sklearn/linear_model/_logistic.py:460: ConvergenceWarning: lbfgs failed to converge (status=1):\n",
      "STOP: TOTAL NO. of ITERATIONS REACHED LIMIT.\n",
      "\n",
      "Increase the number of iterations (max_iter) or scale the data as shown in:\n",
      "    https://scikit-learn.org/stable/modules/preprocessing.html\n",
      "Please also refer to the documentation for alternative solver options:\n",
      "    https://scikit-learn.org/stable/modules/linear_model.html#logistic-regression\n",
      "  n_iter_i = _check_optimize_result(\n",
      "/Users/czhang/miniforge3/envs/po/lib/python3.9/site-packages/sklearn/linear_model/_logistic.py:460: ConvergenceWarning: lbfgs failed to converge (status=1):\n",
      "STOP: TOTAL NO. of ITERATIONS REACHED LIMIT.\n",
      "\n",
      "Increase the number of iterations (max_iter) or scale the data as shown in:\n",
      "    https://scikit-learn.org/stable/modules/preprocessing.html\n",
      "Please also refer to the documentation for alternative solver options:\n",
      "    https://scikit-learn.org/stable/modules/linear_model.html#logistic-regression\n",
      "  n_iter_i = _check_optimize_result(\n",
      "/Users/czhang/miniforge3/envs/po/lib/python3.9/site-packages/sklearn/linear_model/_logistic.py:460: ConvergenceWarning: lbfgs failed to converge (status=1):\n",
      "STOP: TOTAL NO. of ITERATIONS REACHED LIMIT.\n",
      "\n",
      "Increase the number of iterations (max_iter) or scale the data as shown in:\n",
      "    https://scikit-learn.org/stable/modules/preprocessing.html\n",
      "Please also refer to the documentation for alternative solver options:\n",
      "    https://scikit-learn.org/stable/modules/linear_model.html#logistic-regression\n",
      "  n_iter_i = _check_optimize_result(\n"
     ]
    },
    {
     "name": "stdout",
     "output_type": "stream",
     "text": [
      "{'C': 1, 'penalty': 'l2'}\n"
     ]
    },
    {
     "name": "stderr",
     "output_type": "stream",
     "text": [
      "/Users/czhang/miniforge3/envs/po/lib/python3.9/site-packages/sklearn/linear_model/_logistic.py:460: ConvergenceWarning: lbfgs failed to converge (status=1):\n",
      "STOP: TOTAL NO. of ITERATIONS REACHED LIMIT.\n",
      "\n",
      "Increase the number of iterations (max_iter) or scale the data as shown in:\n",
      "    https://scikit-learn.org/stable/modules/preprocessing.html\n",
      "Please also refer to the documentation for alternative solver options:\n",
      "    https://scikit-learn.org/stable/modules/linear_model.html#logistic-regression\n",
      "  n_iter_i = _check_optimize_result(\n",
      "/Users/czhang/miniforge3/envs/po/lib/python3.9/site-packages/sklearn/model_selection/_validation.py:425: FitFailedWarning: \n",
      "20 fits failed out of a total of 40.\n",
      "The score on these train-test partitions for these parameters will be set to nan.\n",
      "If these failures are not expected, you can try to debug them by setting error_score='raise'.\n",
      "\n",
      "Below are more details about the failures:\n",
      "--------------------------------------------------------------------------------\n",
      "20 fits failed with the following error:\n",
      "Traceback (most recent call last):\n",
      "  File \"/Users/czhang/miniforge3/envs/po/lib/python3.9/site-packages/sklearn/model_selection/_validation.py\", line 732, in _fit_and_score\n",
      "    estimator.fit(X_train, y_train, **fit_params)\n",
      "  File \"/Users/czhang/miniforge3/envs/po/lib/python3.9/site-packages/sklearn/base.py\", line 1151, in wrapper\n",
      "    return fit_method(estimator, *args, **kwargs)\n",
      "  File \"/Users/czhang/miniforge3/envs/po/lib/python3.9/site-packages/sklearn/linear_model/_logistic.py\", line 1168, in fit\n",
      "    solver = _check_solver(self.solver, self.penalty, self.dual)\n",
      "  File \"/Users/czhang/miniforge3/envs/po/lib/python3.9/site-packages/sklearn/linear_model/_logistic.py\", line 56, in _check_solver\n",
      "    raise ValueError(\n",
      "ValueError: Solver lbfgs supports only 'l2' or 'none' penalties, got l1 penalty.\n",
      "\n",
      "  warnings.warn(some_fits_failed_message, FitFailedWarning)\n",
      "/Users/czhang/miniforge3/envs/po/lib/python3.9/site-packages/sklearn/model_selection/_search.py:976: UserWarning: One or more of the test scores are non-finite: [       nan 0.743664          nan 0.77041434        nan 0.75362016\n",
      "        nan 0.7260659 ]\n",
      "  warnings.warn(\n"
     ]
    }
   ],
   "source": [
    "param_grid = {\n",
    "    'penalty': ['l1', 'l2'],\n",
    "    'C': [0.1, 1, 10, 100]\n",
    "}\n",
    "\n",
    "lr = LogisticRegression()\n",
    "clf = GridSearchCV(lr, param_grid = param_grid, cv=5, scoring=\"accuracy\")\n",
    "clf.fit(X_train_vectors_tfidf, y_train)\n",
    "print(clf.best_params_)"
   ]
  },
  {
   "cell_type": "code",
   "execution_count": 12,
   "id": "447dc4ee",
   "metadata": {
    "scrolled": true
   },
   "outputs": [
    {
     "name": "stdout",
     "output_type": "stream",
     "text": [
      "RandomForestClassifier: Mean Accuracy = 62.48%; Mean F1-macro = 53.19%; Mean recall-macro = 59.32%; Mean precision-macro = 77.15%\n",
      "MultinomialNB: Mean Accuracy = 74.40%; Mean F1-macro = 73.14%; Mean recall-macro = 73.14%; Mean precision-macro = 76.30%\n"
     ]
    },
    {
     "name": "stderr",
     "output_type": "stream",
     "text": [
      "/Users/czhang/miniforge3/envs/po/lib/python3.9/site-packages/sklearn/svm/_classes.py:32: FutureWarning: The default value of `dual` will change from `True` to `'auto'` in 1.5. Set the value of `dual` explicitly to suppress the warning.\n",
      "  warnings.warn(\n",
      "/Users/czhang/miniforge3/envs/po/lib/python3.9/site-packages/sklearn/svm/_classes.py:32: FutureWarning: The default value of `dual` will change from `True` to `'auto'` in 1.5. Set the value of `dual` explicitly to suppress the warning.\n",
      "  warnings.warn(\n",
      "/Users/czhang/miniforge3/envs/po/lib/python3.9/site-packages/sklearn/svm/_classes.py:32: FutureWarning: The default value of `dual` will change from `True` to `'auto'` in 1.5. Set the value of `dual` explicitly to suppress the warning.\n",
      "  warnings.warn(\n",
      "/Users/czhang/miniforge3/envs/po/lib/python3.9/site-packages/sklearn/svm/_classes.py:32: FutureWarning: The default value of `dual` will change from `True` to `'auto'` in 1.5. Set the value of `dual` explicitly to suppress the warning.\n",
      "  warnings.warn(\n",
      "/Users/czhang/miniforge3/envs/po/lib/python3.9/site-packages/sklearn/svm/_classes.py:32: FutureWarning: The default value of `dual` will change from `True` to `'auto'` in 1.5. Set the value of `dual` explicitly to suppress the warning.\n",
      "  warnings.warn(\n"
     ]
    },
    {
     "name": "stdout",
     "output_type": "stream",
     "text": [
      "LinearSVC: Mean Accuracy = 75.08%; Mean F1-macro = 74.74%; Mean recall-macro = 74.63%; Mean precision-macro = 75.08%\n",
      "LogisticRegression: Mean Accuracy = 77.05%; Mean F1-macro = 76.50%; Mean recall-macro = 76.32%; Mean precision-macro = 77.60%\n"
     ]
    }
   ],
   "source": [
    "models = [\n",
    "    RandomForestClassifier(n_estimators=1000, max_depth=5, random_state=42),\n",
    "    MultinomialNB(),\n",
    "    LinearSVC(random_state=42),\n",
    "    LogisticRegression(solver='liblinear', C=1, penalty='l2', random_state=42)\n",
    "]\n",
    "\n",
    "scoring = ['accuracy', 'f1_macro', 'recall_macro', 'precision_macro']\n",
    "\n",
    "for model in models:\n",
    "    model_name = model.__class__.__name__\n",
    "    result = cross_validate(model,\n",
    "                            X_train_vectors_tfidf,\n",
    "                            y_train,\n",
    "                            cv=5,\n",
    "                            scoring=scoring)\n",
    "    print(\n",
    "        \"%s: Mean Accuracy = %.2f%%; Mean F1-macro = %.2f%%; Mean recall-macro = %.2f%%; Mean precision-macro = %.2f%%\"\n",
    "        % (model_name, result['test_accuracy'].mean() * 100,\n",
    "           result['test_f1_macro'].mean() * 100,\n",
    "           result['test_recall_macro'].mean() * 100,\n",
    "           result['test_precision_macro'].mean() * 100))"
   ]
  },
  {
   "cell_type": "code",
   "execution_count": 129,
   "id": "c2637e60",
   "metadata": {
    "scrolled": true
   },
   "outputs": [
    {
     "name": "stdout",
     "output_type": "stream",
     "text": [
      "              precision    recall  f1-score   support\n",
      "\n",
      "       False       0.76      0.70      0.73       521\n",
      "        True       0.75      0.81      0.78       584\n",
      "\n",
      "    accuracy                           0.76      1105\n",
      "   macro avg       0.76      0.75      0.75      1105\n",
      "weighted avg       0.76      0.76      0.75      1105\n",
      "\n"
     ]
    }
   ],
   "source": [
    "best_mod = models[-1]\n",
    "y_predict_bm = lr_tfidf.predict(X_test_vectors_tfidf)\n",
    "y_prob_bm = lr_tfidf.predict_proba(X_test_vectors_tfidf)[:, 1]\n",
    "\n",
    "\n",
    "print(classification_report(y_test,y_predict_bm))"
   ]
  },
  {
   "cell_type": "markdown",
   "id": "07cb4a35",
   "metadata": {},
   "source": [
    "## Prediction"
   ]
  },
  {
   "cell_type": "code",
   "execution_count": 20,
   "id": "9b067d10",
   "metadata": {},
   "outputs": [],
   "source": [
    "target = os.getcwd() + \"/data/text/solomon_islands/\"\n",
    "news_path = [filename for filename in os.listdir(target) if \"news\" in filename and \"times\" not in filename]"
   ]
  },
  {
   "cell_type": "code",
   "execution_count": 22,
   "id": "84e080b9",
   "metadata": {},
   "outputs": [],
   "source": [
    "news = pd.DataFrame()\n",
    "for path in news_path:\n",
    "    temp = pd.read_csv(target + path).drop(\"Unnamed: 0\", axis=1)\n",
    "    temp[\"from\"] = path.replace(\"_news.csv\", \"\")\n",
    "    if news.empty:\n",
    "        news = temp\n",
    "    else: \n",
    "        news = pd.concat([news, temp], axis=0)\n",
    "\n",
    "news = news[news.news.isna() != True].reset_index(drop=True)"
   ]
  },
  {
   "cell_type": "code",
   "execution_count": 24,
   "id": "bbfbe805",
   "metadata": {},
   "outputs": [
    {
     "name": "stdout",
     "output_type": "stream",
     "text": [
      "Stopwords has been done.\n"
     ]
    }
   ],
   "source": [
    "data = news.news.values.tolist()\n",
    "data_words = list(sent_to_words(data))\n",
    "\n",
    "bigram = gensim.models.Phrases(data_words, min_count=5, threshold=100)\n",
    "bigram_mod = gensim.models.phrases.Phraser(bigram)\n",
    "\n",
    "trigram = gensim.models.Phrases(bigram[data_words], min_count=5, threshold=100)\n",
    "trigram_mod = gensim.models.phrases.Phraser(trigram)\n",
    "\n",
    "texts_preprocessed = preprocess_text(data_words, spacy_stopwords, bigram_mod,\n",
    "                                     trigram_mod, nlp)"
   ]
  },
  {
   "cell_type": "code",
   "execution_count": 62,
   "id": "c0b09bc7",
   "metadata": {},
   "outputs": [],
   "source": [
    "news[\"texts\"] = texts_preprocessed\n",
    "news[\"texts\"] = news[\"texts\"].apply(lambda x: \" \".join(i for i in x))\n",
    "X_vectors_tfidf = tfidf_vectorizer.transform(news[\"texts\"])"
   ]
  },
  {
   "cell_type": "code",
   "execution_count": 123,
   "id": "35bcaef1",
   "metadata": {},
   "outputs": [],
   "source": [
    "news[\"predicted_econ\"] = best_mod.predict(X_vectors_tfidf)\n",
    "news[\"econ_prob\"] = lr_tfidf.predict_proba(X_vectors_tfidf)[:, 1]"
   ]
  },
  {
   "cell_type": "code",
   "execution_count": 122,
   "id": "3009e928",
   "metadata": {},
   "outputs": [
    {
     "data": {
      "text/html": [
       "<div>\n",
       "<style scoped>\n",
       "    .dataframe tbody tr th:only-of-type {\n",
       "        vertical-align: middle;\n",
       "    }\n",
       "\n",
       "    .dataframe tbody tr th {\n",
       "        vertical-align: top;\n",
       "    }\n",
       "\n",
       "    .dataframe thead th {\n",
       "        text-align: right;\n",
       "    }\n",
       "</style>\n",
       "<table border=\"1\" class=\"dataframe\">\n",
       "  <thead>\n",
       "    <tr style=\"text-align: right;\">\n",
       "      <th></th>\n",
       "      <th>date</th>\n",
       "      <th>news</th>\n",
       "    </tr>\n",
       "  </thead>\n",
       "  <tbody>\n",
       "    <tr>\n",
       "      <th>0</th>\n",
       "      <td>2007-04-28 20:25:26</td>\n",
       "      <td>The psychological effect of the tsunami is for...</td>\n",
       "    </tr>\n",
       "    <tr>\n",
       "      <th>1</th>\n",
       "      <td>2007-04-30 02:00:40</td>\n",
       "      <td>The British High Commission Office in Honiara ...</td>\n",
       "    </tr>\n",
       "    <tr>\n",
       "      <th>2</th>\n",
       "      <td>2007-04-30 21:01:39</td>\n",
       "      <td>Afu Billy, the regional director of the common...</td>\n",
       "    </tr>\n",
       "    <tr>\n",
       "      <th>3</th>\n",
       "      <td>2007-04-30 20:37:59</td>\n",
       "      <td>Ken Averre, Director of the Public Prosecution...</td>\n",
       "    </tr>\n",
       "    <tr>\n",
       "      <th>4</th>\n",
       "      <td>2007-04-30 12:29:00</td>\n",
       "      <td>A public forum was today organized by the Offi...</td>\n",
       "    </tr>\n",
       "    <tr>\n",
       "      <th>...</th>\n",
       "      <td>...</td>\n",
       "      <td>...</td>\n",
       "    </tr>\n",
       "    <tr>\n",
       "      <th>17104</th>\n",
       "      <td>2023-05-11 00:00:00</td>\n",
       "      <td>BY NED GAGAHESolomon Airlines has successfully...</td>\n",
       "    </tr>\n",
       "    <tr>\n",
       "      <th>17105</th>\n",
       "      <td>2023-06-09 00:00:00</td>\n",
       "      <td>Atori landowners make another bold stand again...</td>\n",
       "    </tr>\n",
       "    <tr>\n",
       "      <th>17106</th>\n",
       "      <td>2023-07-03 00:00:00</td>\n",
       "      <td>BY EDDIE OSIFELOTHE recent destruction of a fe...</td>\n",
       "    </tr>\n",
       "    <tr>\n",
       "      <th>17107</th>\n",
       "      <td>2023-07-24 00:00:00</td>\n",
       "      <td>MRD, RSIPF discuss potential areas of collabor...</td>\n",
       "    </tr>\n",
       "    <tr>\n",
       "      <th>17108</th>\n",
       "      <td>2023-08-17 00:00:00</td>\n",
       "      <td>BY NED GAGAHEThe country’s National Provident ...</td>\n",
       "    </tr>\n",
       "  </tbody>\n",
       "</table>\n",
       "<p>17109 rows × 2 columns</p>\n",
       "</div>"
      ],
      "text/plain": [
       "                     date                                               news\n",
       "0     2007-04-28 20:25:26  The psychological effect of the tsunami is for...\n",
       "1     2007-04-30 02:00:40  The British High Commission Office in Honiara ...\n",
       "2     2007-04-30 21:01:39  Afu Billy, the regional director of the common...\n",
       "3     2007-04-30 20:37:59  Ken Averre, Director of the Public Prosecution...\n",
       "4     2007-04-30 12:29:00  A public forum was today organized by the Offi...\n",
       "...                   ...                                                ...\n",
       "17104 2023-05-11 00:00:00  BY NED GAGAHESolomon Airlines has successfully...\n",
       "17105 2023-06-09 00:00:00  Atori landowners make another bold stand again...\n",
       "17106 2023-07-03 00:00:00  BY EDDIE OSIFELOTHE recent destruction of a fe...\n",
       "17107 2023-07-24 00:00:00  MRD, RSIPF discuss potential areas of collabor...\n",
       "17108 2023-08-17 00:00:00  BY NED GAGAHEThe country’s National Provident ...\n",
       "\n",
       "[17109 rows x 2 columns]"
      ]
     },
     "execution_count": 122,
     "metadata": {},
     "output_type": "execute_result"
    }
   ],
   "source": [
    "econ_news = news[news.econ_prob >= 0.9].reset_index(drop=True)\n",
    "st[\"tag\"] = st[\"tag\"].str.lower()\n",
    "st[\"label\"] = [\"economy\" in i for i in st[\"tag\"]]\n",
    "st_econ = st[st.label == True].reset_index(drop=True)\n",
    "econ_news = pd.concat([st[[\"date\", \"news\"]], econ_news[[\"date\", \"news\"]]]).reset_index(drop=True)\n",
    "econ_news[\"date\"] = pd.to_datetime(econ_news[\"date\"])\n",
    "econ_news"
   ]
  },
  {
   "cell_type": "code",
   "execution_count": 106,
   "id": "f1143940",
   "metadata": {},
   "outputs": [],
   "source": [
    "from nltk.sentiment.vader import SentimentIntensityAnalyzer\n",
    "sent_df = pd.DataFrame()\n",
    "for row in econ_news.news:\n",
    "    sample = row.replace(\"\\n\", \" \").strip()\n",
    "    \n",
    "    sid = SentimentIntensityAnalyzer()\n",
    "    ss = sid.polarity_scores(sample)\n",
    "    ss_temp = pd.DataFrame(ss, columns=ss.keys(), index=[0])\n",
    "    sent_df = pd.concat([sent_df, ss_temp], axis=0)"
   ]
  },
  {
   "cell_type": "code",
   "execution_count": 118,
   "id": "b2e7059c",
   "metadata": {},
   "outputs": [],
   "source": [
    "econ_news[\"sentiment\"] = sent_df[\"compound\"].tolist()\n",
    "econ_sent = econ_news.set_index(\"date\").groupby(pd.Grouper(freq=\"M\"))[[\"sentiment\"]].mean().reset_index()"
   ]
  },
  {
   "cell_type": "code",
   "execution_count": 128,
   "id": "dee97b03",
   "metadata": {},
   "outputs": [
    {
     "data": {
      "image/png": "[encoded data removed]",
      "text/plain": [
       "<Figure size 640x480 with 1 Axes>"
      ]
     },
     "metadata": {},
     "output_type": "display_data"
    }
   ],
   "source": [
    "econ_sent.plot(x=\"date\", y=\"sentiment\");"
   ]
  }
 ],
 "metadata": {
  "kernelspec": {
   "display_name": "po",
   "language": "python",
   "name": "po"
  },
  "language_info": {
   "codemirror_mode": {
    "name": "ipython",
    "version": 3
   },
   "file_extension": ".py",
   "mimetype": "text/x-python",
   "name": "python",
   "nbconvert_exporter": "python",
   "pygments_lexer": "ipython3",
   "version": "3.9.0"
  },
  "toc": {
   "base_numbering": 1,
   "nav_menu": {},
   "number_sections": true,
   "sideBar": true,
   "skip_h1_title": false,
   "title_cell": "Table of Contents",
   "title_sidebar": "Contents",
   "toc_cell": false,
   "toc_position": {},
   "toc_section_display": true,
   "toc_window_display": false
  }
 },
 "nbformat": 4,
 "nbformat_minor": 5
}
