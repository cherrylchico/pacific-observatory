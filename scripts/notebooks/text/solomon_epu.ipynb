{
 "cells": [
  {
   "cell_type": "code",
   "execution_count": 1,
   "id": "5227d106",
   "metadata": {},
   "outputs": [],
   "source": [
    "import os\n",
    "os.chdir(\"../../../\")\n",
    "\n",
    "import pandas as pd\n",
    "import numpy as np\n",
    "import matplotlib.pyplot as plt\n",
    "import spacy\n",
    "\n",
    "from statsmodels.tsa.vector_ar.vecm import coint_johansen\n",
    "from scripts.python.tsa.ts_utils import *\n",
    "from statsmodels.tsa.api import VAR"
   ]
  },
  {
   "cell_type": "code",
   "execution_count": 2,
   "id": "40dfa644",
   "metadata": {},
   "outputs": [],
   "source": [
    "folderpath = os.getcwd() + \"/data/text/solomon_islands/\"\n",
    "nlp = spacy.load(\"en_core_web_sm\")\n",
    "\n",
    "def process_data(filename, folderpath=folderpath):\n",
    "    df = pd.read_csv(folderpath + filename).drop(\"Unnamed: 0\", axis=1)\n",
    "    df[\"news\"] = df[\"news\"].replace(\"\\n\", \"\")\n",
    "    df[\"date\"] = pd.to_datetime(df[\"date\"])\n",
    "    df[\"ym\"] = [str(d.year) + \"-\" + str(d.month) for d in df.date]\n",
    "    return df\n",
    "\n",
    "\n",
    "def get_news_count(data: pd.DataFrame, column: str):\n",
    "    count_df = (data.set_index(\"date\").groupby(\"ym\")[[\n",
    "        str(column)\n",
    "    ]].count().reset_index().rename({str(column): str(column) + \"_count\"},\n",
    "                                    axis=1))\n",
    "    return count_df\n",
    "\n",
    "\n",
    "def check_epu_category(row, terms):\n",
    "    return any([word in str(row) for word in terms])\n",
    "\n",
    "\n",
    "def get_epu_zscore(data: pd.DataFrame, \n",
    "                   cutoff_index: int,\n",
    "                   epu_col: str = \"epu_count\",\n",
    "                   news_col: str = \"news_count\") -> pd.Series:\n",
    "    ratio = data[epu_col] / data[news_col]\n",
    "    ratio_t1 = ratio[:cutoff_index]\n",
    "    mean, std = ratio_t1.mean(), ratio_t1.std()\n",
    "    z_score = abs(ratio - mean) / std\n",
    "    return z_score"
   ]
  },
  {
   "cell_type": "code",
   "execution_count": 3,
   "id": "219c4232",
   "metadata": {},
   "outputs": [],
   "source": [
    "ss = process_data(\"solomon_stars_news.csv\")\n",
    "st = process_data(\"solomon_times_news.csv\")\n",
    "tis = process_data(\"island_sun_news.csv\")\n",
    "sibc = process_data(\"sibc_news.csv\")"
   ]
  },
  {
   "cell_type": "code",
   "execution_count": 4,
   "id": "20144c5b",
   "metadata": {},
   "outputs": [],
   "source": [
    "def extract_entities(corpus: str):\n",
    "    doc = nlp(corpus)\n",
    "    ner_dict = {\"LOC\": \"\", \"ORG\": \"\", \"GPE\": \"\", \"WORK_OF_ART\": \"\"}\n",
    "    for e in doc.ents:\n",
    "        if e.label_ in ner_dict.keys() and e.text not in ner_dict[e.label_]:\n",
    "            ner_dict[e.label_] += e.text + \", \"\n",
    "\n",
    "    for key, val in ner_dict.items():\n",
    "        if val.endswith(\", \"):\n",
    "            ner_dict[key] = val[:-2]\n",
    "    return ner_dict"
   ]
  },
  {
   "cell_type": "code",
   "execution_count": null,
   "id": "912ebc10",
   "metadata": {
    "scrolled": true
   },
   "outputs": [],
   "source": [
    "from tqdm import tqdm\n",
    "for data, name in zip([st], [\"solomon_times_ner\"]):\n",
    "    output = []\n",
    "    with tqdm(total=len(data)) as pbar:\n",
    "        for news in data[\"news\"]:\n",
    "            if type(news) == str:\n",
    "                ner_dict = extract_entities(news)\n",
    "            else:\n",
    "                ner_dict = {\n",
    "                    \"LOC\": \"Missing\",\n",
    "                    \"ORG\": \"Missing\",\n",
    "                    \"GPE\": \"Missing\",\n",
    "                    \"WORK_OF_ART\": \"Missing\"\n",
    "                }\n",
    "            output.append(ner_dict)\n",
    "            pbar.update(1)\n",
    "    ner_df = pd.DataFrame(output)\n",
    "    data = pd.concat([data, output], axis=1)\n",
    "#     data.to_csv(folderpath+name+\".csv\", encoding=\"utf-8\")"
   ]
  },
  {
   "cell_type": "code",
   "execution_count": 5,
   "id": "b230c994",
   "metadata": {},
   "outputs": [],
   "source": [
    "econ_lst = [\n",
    "    \"economy\", \"economic\", \"economics\", \"business\", \"commerce\", \"finance\",\n",
    "    \"financial\", \"industry\", \"food\"\n",
    "]\n",
    "\n",
    "uncertain_lst = [\n",
    "    \"uncertain\", \"uncertainty\", \"uncertainties\", \"unknown\", \"unstable\",\n",
    "    \"unsure\", \"undetermined\", \"risky\", \"not certain\", \"non-reliable\"\n",
    "]\n",
    "\n",
    "policy_lst = [\n",
    "    \"government\", \"governmental\", \"authorities\", \"minister\", \"ministry\",\n",
    "    \"parliament\", \"parliamentary\", \"tax\", \"regulation\", \"legislation\",\n",
    "    \"central bank\", \"cbsi\", \"imf\", \"world bank\", \"international monetary fund\",\n",
    "    \"debt\"\n",
    "]\n",
    "\n",
    "solomon_lst = [\n",
    "    \"solomon\", \"solomon islands\", \"honiara\", \"central province\", \"tulagi\",\n",
    "    \"choiseul\", \"taro\", \"guadalcanal\", \"isabel province\", \"buala\",\n",
    "    \"malaita\", \"auki\", \"kirakira\", \"makira-ulawa\", \"makira ulawa\",\n",
    "    \"rennell and bellona\", \"tigoa\", \"temotu\", \"lata\", \"western province\",\n",
    "    \"gizo\"\n",
    "]"
   ]
  },
  {
   "cell_type": "code",
   "execution_count": 6,
   "id": "b7caf699",
   "metadata": {},
   "outputs": [],
   "source": [
    "mindate = min(st.date.min(), ss.date.min(), tis.date.min())\n",
    "maxdate = max(st.date.max(), st.date.max(),  tis.date.max())\n",
    "start = str(mindate.year) + \"-\" + str(mindate.month)\n",
    "end = str(maxdate.year) + \"-\" + str(maxdate.month)"
   ]
  },
  {
   "cell_type": "code",
   "execution_count": 7,
   "id": "fbc28bb9",
   "metadata": {},
   "outputs": [],
   "source": [
    "stats = pd.DataFrame(pd.date_range(start, end, freq=\"MS\"), columns=[\"date\"])\n",
    "for nps, np_name in zip([st, ss, tis, sibc], [\"st\", \"ss\", \"tis\", \"sibc\"]):\n",
    "    nps[\"news\"] = nps[\"news\"].str.lower()\n",
    "    np_count = get_news_count(nps, \"news\")\n",
    "    for (category, term_lst) in zip([\"econ\", \"uncertain\", \"policy\"],\n",
    "                                    [econ_lst, uncertain_lst, policy_lst]):\n",
    "        if np_name != \"ss\":\n",
    "            nps[\"solomon\"] = nps[\"news\"].apply(check_epu_category,\n",
    "                                             terms=solomon_lst)\n",
    "        else:\n",
    "            nps[\"solomon\"] = True\n",
    "        \n",
    "        nps[str(category)] = nps[\"news\"].apply(check_epu_category,\n",
    "                                             terms=term_lst)\n",
    "    nps[\"epu\"] = ((nps.econ == True) & (nps.uncertain == True) &\n",
    "                 (nps.policy == True) & (nps.solomon == True))\n",
    "    np_epu_count = get_news_count(nps[nps.epu == True], column=\"epu\")\n",
    "    np_stat = np_count.merge(np_epu_count, how=\"left\").fillna(0)\n",
    "    np_stat[\"date\"] = pd.to_datetime(np_stat[\"ym\"])\n",
    "    cutoff_index = np_stat[np_stat.date == \"2019-12\"].index[0] + 1\n",
    "    np_stat[\"z_score\"] = get_epu_zscore(np_stat, cutoff_index)\n",
    "    np_stat.columns = [\n",
    "        str(np_name) + \"_\" + str(col) if col != \"date\" and col != \"ym\" else col\n",
    "        for col in np_stat.columns\n",
    "    ]\n",
    "    stats = (stats.merge(np_stat, how=\"left\",\n",
    "                         on=\"date\")).drop(\"ym\", axis=1).fillna(0)"
   ]
  },
  {
   "cell_type": "code",
   "execution_count": 19,
   "id": "30029f85",
   "metadata": {},
   "outputs": [],
   "source": [
    "ss.to_csv(\"ss_sample.csv\", encoding=\"utf-8\")"
   ]
  },
  {
   "cell_type": "code",
   "execution_count": null,
   "id": "c1ddc423",
   "metadata": {
    "scrolled": false
   },
   "outputs": [],
   "source": [
    "select_cols = [col for col in stats.columns if \"z_score\" in col]\n",
    "scaling_factor = 100/(stats[stats.date >= \"2020-01-01\"][select_cols].mean(axis=1).mean())\n",
    "stats[\"z_score\"] = stats[select_cols].mean(axis=1)\n",
    "stats[\"epu_index\"] = stats[\"z_score\"] * scaling_factor"
   ]
  },
  {
   "cell_type": "markdown",
   "id": "7c794de3",
   "metadata": {},
   "source": [
    "## EPU -> Macroeconomic"
   ]
  },
  {
   "cell_type": "code",
   "execution_count": 17,
   "id": "efa801a8",
   "metadata": {},
   "outputs": [
    {
     "ename": "KeyError",
     "evalue": "\"['epu_index'] not in index\"",
     "output_type": "error",
     "traceback": [
      "\u001b[0;31m---------------------------------------------------------------------------\u001b[0m",
      "\u001b[0;31mKeyError\u001b[0m                                  Traceback (most recent call last)",
      "Cell \u001b[0;32mIn[17], line 15\u001b[0m\n\u001b[1;32m     12\u001b[0m si_infl_df \u001b[38;5;241m=\u001b[39m pd\u001b[38;5;241m.\u001b[39mDataFrame(pd\u001b[38;5;241m.\u001b[39mdate_range(\u001b[38;5;124m\"\u001b[39m\u001b[38;5;124m2017-01\u001b[39m\u001b[38;5;124m\"\u001b[39m, \u001b[38;5;124m\"\u001b[39m\u001b[38;5;124m2023-03\u001b[39m\u001b[38;5;124m\"\u001b[39m, freq\u001b[38;5;241m=\u001b[39m\u001b[38;5;124m\"\u001b[39m\u001b[38;5;124mMS\u001b[39m\u001b[38;5;124m\"\u001b[39m),\n\u001b[1;32m     13\u001b[0m                           columns\u001b[38;5;241m=\u001b[39m[\u001b[38;5;124m\"\u001b[39m\u001b[38;5;124mdate\u001b[39m\u001b[38;5;124m\"\u001b[39m])\n\u001b[1;32m     14\u001b[0m si_infl_df[\u001b[38;5;124m\"\u001b[39m\u001b[38;5;124mcpi\u001b[39m\u001b[38;5;124m\"\u001b[39m] \u001b[38;5;241m=\u001b[39m si_cpi\n\u001b[0;32m---> 15\u001b[0m si_infl \u001b[38;5;241m=\u001b[39m si_infl_df\u001b[38;5;241m.\u001b[39mmerge(\u001b[43mstats\u001b[49m\u001b[43m[\u001b[49m\u001b[43m[\u001b[49m\u001b[38;5;124;43m\"\u001b[39;49m\u001b[38;5;124;43mdate\u001b[39;49m\u001b[38;5;124;43m\"\u001b[39;49m\u001b[43m,\u001b[49m\u001b[43m \u001b[49m\u001b[38;5;124;43m\"\u001b[39;49m\u001b[38;5;124;43mepu_index\u001b[39;49m\u001b[38;5;124;43m\"\u001b[39;49m\u001b[43m]\u001b[49m\u001b[43m]\u001b[49m, how\u001b[38;5;241m=\u001b[39m\u001b[38;5;124m\"\u001b[39m\u001b[38;5;124mleft\u001b[39m\u001b[38;5;124m\"\u001b[39m, on\u001b[38;5;241m=\u001b[39m\u001b[38;5;124m\"\u001b[39m\u001b[38;5;124mdate\u001b[39m\u001b[38;5;124m\"\u001b[39m)\n\u001b[1;32m     16\u001b[0m si_infl[\u001b[38;5;124m\"\u001b[39m\u001b[38;5;124minflation\u001b[39m\u001b[38;5;124m\"\u001b[39m] \u001b[38;5;241m=\u001b[39m (si_infl[\u001b[38;5;124m\"\u001b[39m\u001b[38;5;124mcpi\u001b[39m\u001b[38;5;124m\"\u001b[39m]\u001b[38;5;241m.\u001b[39mdiff() \u001b[38;5;241m/\u001b[39m si_infl[\u001b[38;5;124m\"\u001b[39m\u001b[38;5;124mcpi\u001b[39m\u001b[38;5;124m\"\u001b[39m]\u001b[38;5;241m.\u001b[39mshift(\u001b[38;5;241m1\u001b[39m)) \u001b[38;5;241m*\u001b[39m \u001b[38;5;241m100\u001b[39m\n\u001b[1;32m     17\u001b[0m si_infl[\u001b[38;5;124m\"\u001b[39m\u001b[38;5;124mepu_change\u001b[39m\u001b[38;5;124m\"\u001b[39m] \u001b[38;5;241m=\u001b[39m (si_infl[\u001b[38;5;124m\"\u001b[39m\u001b[38;5;124mepu_index\u001b[39m\u001b[38;5;124m\"\u001b[39m]\u001b[38;5;241m.\u001b[39mdiff() \u001b[38;5;241m/\u001b[39m\n\u001b[1;32m     18\u001b[0m                          si_infl[\u001b[38;5;124m\"\u001b[39m\u001b[38;5;124mepu_index\u001b[39m\u001b[38;5;124m\"\u001b[39m]\u001b[38;5;241m.\u001b[39mshift(\u001b[38;5;241m1\u001b[39m)) \u001b[38;5;241m*\u001b[39m \u001b[38;5;241m100\u001b[39m\n",
      "File \u001b[0;32m~/miniforge3/envs/po/lib/python3.9/site-packages/pandas/core/frame.py:3767\u001b[0m, in \u001b[0;36mDataFrame.__getitem__\u001b[0;34m(self, key)\u001b[0m\n\u001b[1;32m   3765\u001b[0m     \u001b[38;5;28;01mif\u001b[39;00m is_iterator(key):\n\u001b[1;32m   3766\u001b[0m         key \u001b[38;5;241m=\u001b[39m \u001b[38;5;28mlist\u001b[39m(key)\n\u001b[0;32m-> 3767\u001b[0m     indexer \u001b[38;5;241m=\u001b[39m \u001b[38;5;28;43mself\u001b[39;49m\u001b[38;5;241;43m.\u001b[39;49m\u001b[43mcolumns\u001b[49m\u001b[38;5;241;43m.\u001b[39;49m\u001b[43m_get_indexer_strict\u001b[49m\u001b[43m(\u001b[49m\u001b[43mkey\u001b[49m\u001b[43m,\u001b[49m\u001b[43m \u001b[49m\u001b[38;5;124;43m\"\u001b[39;49m\u001b[38;5;124;43mcolumns\u001b[39;49m\u001b[38;5;124;43m\"\u001b[39;49m\u001b[43m)\u001b[49m[\u001b[38;5;241m1\u001b[39m]\n\u001b[1;32m   3769\u001b[0m \u001b[38;5;66;03m# take() does not accept boolean indexers\u001b[39;00m\n\u001b[1;32m   3770\u001b[0m \u001b[38;5;28;01mif\u001b[39;00m \u001b[38;5;28mgetattr\u001b[39m(indexer, \u001b[38;5;124m\"\u001b[39m\u001b[38;5;124mdtype\u001b[39m\u001b[38;5;124m\"\u001b[39m, \u001b[38;5;28;01mNone\u001b[39;00m) \u001b[38;5;241m==\u001b[39m \u001b[38;5;28mbool\u001b[39m:\n",
      "File \u001b[0;32m~/miniforge3/envs/po/lib/python3.9/site-packages/pandas/core/indexes/base.py:5877\u001b[0m, in \u001b[0;36mIndex._get_indexer_strict\u001b[0;34m(self, key, axis_name)\u001b[0m\n\u001b[1;32m   5874\u001b[0m \u001b[38;5;28;01melse\u001b[39;00m:\n\u001b[1;32m   5875\u001b[0m     keyarr, indexer, new_indexer \u001b[38;5;241m=\u001b[39m \u001b[38;5;28mself\u001b[39m\u001b[38;5;241m.\u001b[39m_reindex_non_unique(keyarr)\n\u001b[0;32m-> 5877\u001b[0m \u001b[38;5;28;43mself\u001b[39;49m\u001b[38;5;241;43m.\u001b[39;49m\u001b[43m_raise_if_missing\u001b[49m\u001b[43m(\u001b[49m\u001b[43mkeyarr\u001b[49m\u001b[43m,\u001b[49m\u001b[43m \u001b[49m\u001b[43mindexer\u001b[49m\u001b[43m,\u001b[49m\u001b[43m \u001b[49m\u001b[43maxis_name\u001b[49m\u001b[43m)\u001b[49m\n\u001b[1;32m   5879\u001b[0m keyarr \u001b[38;5;241m=\u001b[39m \u001b[38;5;28mself\u001b[39m\u001b[38;5;241m.\u001b[39mtake(indexer)\n\u001b[1;32m   5880\u001b[0m \u001b[38;5;28;01mif\u001b[39;00m \u001b[38;5;28misinstance\u001b[39m(key, Index):\n\u001b[1;32m   5881\u001b[0m     \u001b[38;5;66;03m# GH 42790 - Preserve name from an Index\u001b[39;00m\n",
      "File \u001b[0;32m~/miniforge3/envs/po/lib/python3.9/site-packages/pandas/core/indexes/base.py:5941\u001b[0m, in \u001b[0;36mIndex._raise_if_missing\u001b[0;34m(self, key, indexer, axis_name)\u001b[0m\n\u001b[1;32m   5938\u001b[0m     \u001b[38;5;28;01mraise\u001b[39;00m \u001b[38;5;167;01mKeyError\u001b[39;00m(\u001b[38;5;124mf\u001b[39m\u001b[38;5;124m\"\u001b[39m\u001b[38;5;124mNone of [\u001b[39m\u001b[38;5;132;01m{\u001b[39;00mkey\u001b[38;5;132;01m}\u001b[39;00m\u001b[38;5;124m] are in the [\u001b[39m\u001b[38;5;132;01m{\u001b[39;00maxis_name\u001b[38;5;132;01m}\u001b[39;00m\u001b[38;5;124m]\u001b[39m\u001b[38;5;124m\"\u001b[39m)\n\u001b[1;32m   5940\u001b[0m not_found \u001b[38;5;241m=\u001b[39m \u001b[38;5;28mlist\u001b[39m(ensure_index(key)[missing_mask\u001b[38;5;241m.\u001b[39mnonzero()[\u001b[38;5;241m0\u001b[39m]]\u001b[38;5;241m.\u001b[39munique())\n\u001b[0;32m-> 5941\u001b[0m \u001b[38;5;28;01mraise\u001b[39;00m \u001b[38;5;167;01mKeyError\u001b[39;00m(\u001b[38;5;124mf\u001b[39m\u001b[38;5;124m\"\u001b[39m\u001b[38;5;132;01m{\u001b[39;00mnot_found\u001b[38;5;132;01m}\u001b[39;00m\u001b[38;5;124m not in index\u001b[39m\u001b[38;5;124m\"\u001b[39m)\n",
      "\u001b[0;31mKeyError\u001b[0m: \"['epu_index'] not in index\""
     ]
    }
   ],
   "source": [
    "si_cpi = [\n",
    "    98.6, 99.0, 100.6, 100.7, 101.0, 100.6, 100.5, 100.1, 99.5, 99.6, 99.5,\n",
    "    100.3, 102.0, 104.2, 103.9, 103.9, 103.0, 102.8, 103.0, 103.2, 104.0,\n",
    "    103.8, 104.1, 104.2, 104.5, 103.8, 105.1, 104.2, 104.2, 104.3, 105.0,\n",
    "    108.0, 105.5, 106.6, 106.9, 106.9, 112.4, 112.7, 112.7, 112.2, 111.1,\n",
    "    107.2, 105.8, 105.1, 105.4, 105.2, 105.3, 104.1, 106.7, 110.6, 112.4,\n",
    "    109.8, 109.2, 106.6, 106.1, 106.6, 107.3, 107.5, 107.4, 107.8, 108.8,\n",
    "    109.4, 109.4, 111.5, 113.9, 114.1, 115.4, 117.1, 118.0, 117.8, 117.2,\n",
    "    117.0, 118.9, 119.2, 119.8\n",
    "]\n",
    "\n",
    "si_infl_df = pd.DataFrame(pd.date_range(\"2017-01\", \"2023-03\", freq=\"MS\"),\n",
    "                          columns=[\"date\"])\n",
    "si_infl_df[\"cpi\"] = si_cpi\n",
    "si_infl = si_infl_df.merge(stats[[\"date\", \"epu_index\"]], how=\"left\", on=\"date\")\n",
    "si_infl[\"inflation\"] = (si_infl[\"cpi\"].diff() / si_infl[\"cpi\"].shift(1)) * 100\n",
    "si_infl[\"epu_change\"] = (si_infl[\"epu_index\"].diff() /\n",
    "                         si_infl[\"epu_index\"].shift(1)) * 100"
   ]
  },
  {
   "cell_type": "code",
   "execution_count": null,
   "id": "29e761da",
   "metadata": {},
   "outputs": [],
   "source": [
    "si_infl"
   ]
  },
  {
   "cell_type": "code",
   "execution_count": null,
   "id": "035b5393",
   "metadata": {},
   "outputs": [],
   "source": [
    "from scipy import signal\n",
    "def ccf_values(series1, series2):\n",
    "    p = series1\n",
    "    q = series2\n",
    "    p = (p - p.mean()) / (p.std() * len(p))\n",
    "    q = (q - q.mean()) / (q.std())\n",
    "    c = np.correlate(p, q, 'full')\n",
    "    return c\n",
    "\n",
    "\n",
    "corr = ccf_values(si_infl[\"epu_index\"][1:], si_infl[\"inflation\"][1:])\n",
    "lags = signal.correlation_lags(len(si_infl[\"inflation\"][1:]),\n",
    "                               len(si_infl[\"epu_index\"][1:]))\n",
    "plt.plot(lags, corr);"
   ]
  },
  {
   "cell_type": "code",
   "execution_count": null,
   "id": "57085f44",
   "metadata": {},
   "outputs": [],
   "source": [
    "ccf_df = pd.DataFrame([lags, corr], index=[\"lags\", \"ccf\"]).T\n",
    "ccf_df[(ccf_df.lags >= -3) & (ccf_df.lags <= 6)]"
   ]
  },
  {
   "cell_type": "code",
   "execution_count": null,
   "id": "7f35e836",
   "metadata": {},
   "outputs": [],
   "source": [
    "var_df = si_infl[[\"inflation\", \"epu_index\"]][1:].reset_index(drop=True)\n",
    "print(adf_test(var_df[\"epu_index\"]), \"\\n\", adf_test(var_df[\"inflation\"]))"
   ]
  },
  {
   "cell_type": "code",
   "execution_count": null,
   "id": "9a2c5843",
   "metadata": {},
   "outputs": [],
   "source": [
    "def cointegration_test(df, alpha=0.05):\n",
    "    out = coint_johansen(df, -1, 5)\n",
    "    d = {'0.90': 0, '0.95': 1, '0.99': 2}\n",
    "    traces = out.lr1\n",
    "    cvts = out.cvt[:, d[str(1 - alpha)]]\n",
    "\n",
    "    def adjust(val, length=6):\n",
    "        return str(val).ljust(length)\n",
    "\n",
    "    print('Name   ::  Test Stat > C(95%)    =>   Signif  \\n', '--' * 20)\n",
    "    for col, trace, cvt in zip(df.columns, traces, cvts):\n",
    "        print(adjust(col), ':: ', adjust(round(trace, 2), 9), \">\",\n",
    "              adjust(cvt, 8), ' =>  ', trace > cvt)\n",
    "\n",
    "\n",
    "cointegration_test(si_infl[[\"inflation\", \"epu_index\"]].iloc[\n",
    "    1:,\n",
    "])"
   ]
  },
  {
   "cell_type": "code",
   "execution_count": null,
   "id": "bfdc5581",
   "metadata": {},
   "outputs": [],
   "source": [
    "length = len(si_infl.iloc[1:])\n",
    "train = int(length * 0.9)\n",
    "test = length - train\n",
    "\n",
    "\n",
    "model = VAR(endog=var_df[:train+1])\n",
    "\n",
    "eval_lst = []\n",
    "for i in range(0, 13):\n",
    "    result = model.fit(i)\n",
    "    eval_metrics = {\n",
    "        \"lag\": i,\n",
    "        \"AIC\": result.aic,\n",
    "        \"BIC\": result.bic,\n",
    "        \"FPE\": result.fpe,\n",
    "        \"HQIC\": result.hqic\n",
    "    }\n",
    "    eval_lst.append(eval_metrics)\n",
    "    \n",
    "eval_df = pd.DataFrame(eval_lst)\n",
    "eval_df"
   ]
  },
  {
   "cell_type": "code",
   "execution_count": null,
   "id": "eaa3d40e",
   "metadata": {},
   "outputs": [],
   "source": [
    "best_mod = model.fit(1)\n",
    "best_mod.summary()"
   ]
  },
  {
   "cell_type": "code",
   "execution_count": null,
   "id": "754c6c54",
   "metadata": {},
   "outputs": [],
   "source": [
    "si_infl[\"epu_change_1\"] = si_infl[\"epu_change\"].shift(1)\n",
    "si_infl[\"epu_change_2\"] = si_infl[\"epu_change\"].shift(2)\n",
    "si_infl"
   ]
  },
  {
   "cell_type": "code",
   "execution_count": null,
   "id": "df94bf78",
   "metadata": {},
   "outputs": [],
   "source": [
    "import statsmodels.formula.api as smf\n",
    "ols_mod = smf.ols(\"inflation~epu_change_1\", data=si_infl[:train+1])\n",
    "ols_res = ols_mod.fit()\n",
    "ols_res.summary()"
   ]
  },
  {
   "cell_type": "code",
   "execution_count": null,
   "id": "105185b3",
   "metadata": {},
   "outputs": [],
   "source": [
    "ols_predict = ols_res.fittedvalues\n",
    "ols_forecast = ols_res.predict(si_infl[\"epu_change_1\"][-test:])\n",
    "ols_all = pd.concat([ols_predict, ols_forecast], axis=0)"
   ]
  },
  {
   "cell_type": "code",
   "execution_count": null,
   "id": "1dacc356",
   "metadata": {},
   "outputs": [],
   "source": [
    "from statsmodels.stats.stattools import durbin_watson\n",
    "out = durbin_watson(best_mod.resid)\n",
    "out"
   ]
  },
  {
   "cell_type": "code",
   "execution_count": null,
   "id": "e39db5bb",
   "metadata": {},
   "outputs": [],
   "source": [
    "var_forecast = best_mod.forecast(y=var_df.values[-test:], steps=test)\n",
    "var_forecast_df = pd.DataFrame(var_forecast, index=var_df.index[-test:], columns=[\"var_inflation\", \"var_epu\"])"
   ]
  },
  {
   "cell_type": "code",
   "execution_count": null,
   "id": "72be7bcf",
   "metadata": {},
   "outputs": [],
   "source": [
    "best_mod.fittedvalues"
   ]
  },
  {
   "cell_type": "code",
   "execution_count": null,
   "id": "11de6d2c",
   "metadata": {},
   "outputs": [],
   "source": [
    "var_df[\"date\"] = pd.date_range(start=\"2017-01\", periods=len(var_df), freq=\"MS\")\n",
    "fit_df = best_mod.fittedvalues.rename({\"epu_index\": \"var_epu_index\",\n",
    "                                       \"inflation\": \"var_inflation\"}, axis=1)\n",
    "fit_df = pd.concat([fit_df, var_df[1:train+1]], axis=1).reset_index(drop=True)"
   ]
  },
  {
   "cell_type": "code",
   "execution_count": null,
   "id": "ac2e99b3",
   "metadata": {},
   "outputs": [],
   "source": [
    "fit_df"
   ]
  },
  {
   "cell_type": "code",
   "execution_count": null,
   "id": "22856649",
   "metadata": {
    "scrolled": false
   },
   "outputs": [],
   "source": [
    "fig, ax = plt.subplots(figsize=(8, 6))\n",
    "ax.plot(var_df[\"date\"].values, var_df[\"inflation\"].values, color=\"green\")\n",
    "fit_df.plot(x=\"date\", y=\"var_inflation\", ax=ax, color=\"blue\")\n",
    "\n",
    "# ax.plot(var_forecast_df[\"var_inflation\"].index.values,\n",
    "#         var_forecast_df[\"var_inflation\"].values,\n",
    "#         label=\"var_predict_test\", color=\"blue\")\n",
    "# ax.plot(ols_all, color=\"orange\")\n",
    "plt.show();"
   ]
  },
  {
   "cell_type": "markdown",
   "id": "ff96b72c",
   "metadata": {},
   "source": [
    "## EPU"
   ]
  },
  {
   "cell_type": "code",
   "execution_count": null,
   "id": "8f17e393",
   "metadata": {
    "scrolled": false
   },
   "outputs": [],
   "source": [
    "plt.plot(stats[\"date\"].values, stats[\"epu_index\"].values, label=\"EPU Index\")\n",
    "plt.xlabel(\"Date\")\n",
    "plt.vlines(x=pd.to_datetime(\"2020-01-01\"), ymin=0, ymax=800, color=\"red\", linestyle=\"dashed\")\n",
    "# plt.hlines(y=100, xmin=pd.to_datetime(\"2007-01\"), xmax=pd.to_datetime(\"2024-01\"), color=\"green\", linestyle=\"dashed\")\n",
    "plt.show()"
   ]
  },
  {
   "cell_type": "code",
   "execution_count": null,
   "id": "7e3bfee3",
   "metadata": {},
   "outputs": [],
   "source": [
    "ss[(ss.date>=\"2015-12-01\") & (ss.date <= \"2015-12-31\") & (ss.epu == True)].url.tolist()"
   ]
  },
  {
   "cell_type": "code",
   "execution_count": null,
   "id": "c7b5c5e2",
   "metadata": {},
   "outputs": [],
   "source": [
    "np_names = [\"st\", \"ss\", \"tis\", \"sibc\"]\n",
    "news_col = [col + \"_news_count\" for col in np_names]\n",
    "stats[\"news_count\"] = stats[news_col].sum(axis=1)\n",
    "for nc, name in zip(news_col, np_names):\n",
    "    stats[str(name) + '_ratio'] = stats[nc]/stats[\"news_count\"]"
   ]
  },
  {
   "cell_type": "code",
   "execution_count": null,
   "id": "23f2e332",
   "metadata": {},
   "outputs": [],
   "source": [
    "stats[stats.adj_epu_index >= np.percentile(stats.adj_epu_index, 95)]"
   ]
  },
  {
   "cell_type": "code",
   "execution_count": null,
   "id": "c88ca42d",
   "metadata": {},
   "outputs": [],
   "source": [
    "adj_ratio_lst = []\n",
    "for idx in stats.index:\n",
    "    adj_ratio = 0\n",
    "    for news in np_names:\n",
    "        zscore_col = news + \"_z_score\"\n",
    "        ratio_col = news + \"_ratio\"\n",
    "        adj_ratio += stats[zscore_col][idx] * stats[ratio_col][idx]\n",
    "    adj_ratio_lst.append(adj_ratio)\n",
    "    \n",
    "stats[\"adj_z_score\"] = adj_ratio_lst"
   ]
  },
  {
   "cell_type": "code",
   "execution_count": null,
   "id": "b6dec5d4",
   "metadata": {},
   "outputs": [],
   "source": [
    "scaling_factor = 100/(stats[stats.date >= \"2020-01-01\"][\"adj_z_score\"].mean())\n",
    "stats[\"adj_epu_index\"] = stats[\"adj_z_score\"] * scaling_factor\n",
    "stats.plot(x=\"date\", y=\"adj_epu_index\");"
   ]
  },
  {
   "cell_type": "code",
   "execution_count": null,
   "id": "5020d3e1",
   "metadata": {},
   "outputs": [],
   "source": [
    "stats_alt = stats.copy()\n",
    "stats_alt[\"news_count\"] = stats_alt[[\"st_news_count\", \"ss_news_count\", \"tis_news_count\", \"sibc_news_count\"]].mean(axis=1)\n",
    "stats_alt[\"epu_count\"] = stats_alt[[\"st_epu_count\", \"ss_epu_count\", \"tis_epu_count\", \"sibc_epu_count\"]].mean(axis=1)\n",
    "cutoff_index = stats_alt[stats_alt.date == pd.to_datetime(\"2019-12-01\")].index[0] + 1\n",
    "stats_alt[\"z_score_alt\"] = get_epu_zscore(stats_alt, cutoff_index=cutoff_index)\n",
    "sf_alt = 100/(stats_alt[\"z_score_alt\"][cutoff_index:].mean())\n",
    "stats_alt[\"epu_alt\"] = sf_alt * stats_alt[\"z_score_alt\"]\n",
    "stats_alt.plot(x=\"date\", y=\"epu_alt\");"
   ]
  }
 ],
 "metadata": {
  "kernelspec": {
   "display_name": "po",
   "language": "python",
   "name": "po"
  },
  "language_info": {
   "codemirror_mode": {
    "name": "ipython",
    "version": 3
   },
   "file_extension": ".py",
   "mimetype": "text/x-python",
   "name": "python",
   "nbconvert_exporter": "python",
   "pygments_lexer": "ipython3",
   "version": "3.9.0"
  },
  "toc": {
   "base_numbering": 1,
   "nav_menu": {},
   "number_sections": true,
   "sideBar": true,
   "skip_h1_title": false,
   "title_cell": "Table of Contents",
   "title_sidebar": "Contents",
   "toc_cell": false,
   "toc_position": {},
   "toc_section_display": true,
   "toc_window_display": false
  }
 },
 "nbformat": 4,
 "nbformat_minor": 5
}
