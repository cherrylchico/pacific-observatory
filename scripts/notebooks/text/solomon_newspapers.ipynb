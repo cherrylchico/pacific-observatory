{
 "cells": [
  {
   "cell_type": "code",
   "execution_count": 1,
   "id": "7e1a9296",
   "metadata": {},
   "outputs": [],
   "source": [
    "import os\n",
    "os.chdir(\"../../../\")\n",
    "\n",
    "import urllib\n",
    "import requests\n",
    "from bs4 import BeautifulSoup\n",
    "from tqdm import tqdm\n",
    "import pandas as pd\n",
    "\n",
    "from scripts.python.scraper.utils import *\n",
    "from concurrent.futures import ThreadPoolExecutor, as_completed, ProcessPoolExecutor\n",
    "import multiprocessing\n",
    "import httpx"
   ]
  },
  {
   "cell_type": "code",
   "execution_count": 2,
   "id": "bb074f49",
   "metadata": {},
   "outputs": [],
   "source": [
    "target_dir = os.getcwd() + \"/data/text/solomon_islands/\"\n",
    "if not os.path.exists(target_dir):\n",
    "    os.mkdir(target_dir)"
   ]
  },
  {
   "cell_type": "markdown",
   "id": "745e254c",
   "metadata": {},
   "source": [
    "## Solomon Stars"
   ]
  },
  {
   "cell_type": "code",
   "execution_count": 4,
   "id": "9120050d",
   "metadata": {},
   "outputs": [
    {
     "name": "stderr",
     "output_type": "stream",
     "text": [
      "100%|████████████████████████████████████████████████████████████████████████████| 1420/1420 [22:00<00:00,  1.08pages/s]\n"
     ]
    }
   ],
   "source": [
    "def main():\n",
    "    params = {\n",
    "        \"title_entry\": \"blog-content wf-td\",\n",
    "        \"title\": \"entry-title\",\n",
    "        \"date\": \"entry-date\"\n",
    "    }\n",
    "\n",
    "    host = \"https://www.solomonstarnews.com/category/news/news-national/page/\"\n",
    "    urls = [host + str(i) for i in range(1, 1421)]\n",
    "    max_workers = multiprocessing.cpu_count() - 1\n",
    "    output = []\n",
    "\n",
    "\n",
    "    with tqdm(total=len(urls), unit=\"pages\") as pbar:\n",
    "        with ThreadPoolExecutor(max_workers=max_workers) as executor:\n",
    "            future_to_url = {\n",
    "                executor.submit(extract_news_info, url, params=params, timeout=5):\n",
    "                url\n",
    "                for url in urls\n",
    "            }\n",
    "            for future in as_completed(future_to_url):\n",
    "                url = future_to_url[future]\n",
    "                try:\n",
    "                    data = future.result()\n",
    "                except Exception as exc:\n",
    "                    print('%r generated an exception: %s' % (url, exc))\n",
    "                else:\n",
    "                    output.append(data)\n",
    "                    pbar.update(1)\n",
    "\n",
    "    return output\n",
    "\n",
    "if __name__ == '__main__':\n",
    "    output = main()"
   ]
  },
  {
   "cell_type": "code",
   "execution_count": 5,
   "id": "967f2a92",
   "metadata": {},
   "outputs": [],
   "source": [
    "output_df = pd.DataFrame()\n",
    "for out in output:\n",
    "    out_df = pd.DataFrame(out)\n",
    "    if output_df.empty:\n",
    "        output_df = out_df\n",
    "    else:\n",
    "        output_df = pd.concat([output_df, out_df], axis=0)"
   ]
  },
  {
   "cell_type": "code",
   "execution_count": 7,
   "id": "52b29b55",
   "metadata": {},
   "outputs": [],
   "source": [
    "output_df = output_df.reset_index().drop(\"index\", axis=1)\n",
    "output_df[\"date\"] = pd.to_datetime(output_df[\"date\"])\n",
    "output_df.sample(10)\n",
    "output_df.to_csv(target_dir+\"solomon_stars_urls.csv\", encoding=\"utf-8\")"
   ]
  },
  {
   "cell_type": "code",
   "execution_count": 17,
   "id": "d3307b5b",
   "metadata": {},
   "outputs": [],
   "source": [
    "def extract_news(url):\n",
    "    content = load_page(url, timeout=5)\n",
    "    soup = BeautifulSoup(content, \"html.parser\")\n",
    "    try: \n",
    "        raw_text = soup.find(class_=\"entry-content\").text\n",
    "    except:\n",
    "        raw_text = soup.find(class_=\"content\").text\n",
    "    return url, raw_text"
   ]
  },
  {
   "cell_type": "code",
   "execution_count": 18,
   "id": "3c0d344f",
   "metadata": {
    "scrolled": false
   },
   "outputs": [
    {
     "name": "stderr",
     "output_type": "stream",
     "text": [
      " 53%|████████████████████████████████████████▍                                   | 7553/14200 [49:26<1:52:23,  1.01s/it]"
     ]
    },
    {
     "name": "stdout",
     "output_type": "stream",
     "text": [
      "'https://www.solomonstarnews.com/honiara-goes-under-flood-waters-again/' generated an exception: 'NoneType' object has no attribute 'text'\n"
     ]
    },
    {
     "name": "stderr",
     "output_type": "stream",
     "text": [
      " 53%|█████████████████████████████████████████▌                                    | 7561/14200 [49:30<40:16,  2.75it/s]"
     ]
    },
    {
     "name": "stdout",
     "output_type": "stream",
     "text": [
      "'https://www.solomonstarnews.com/in-court-with-assumpta-buchanan-d56/' generated an exception: 'NoneType' object has no attribute 'text'\n",
      "'https://www.solomonstarnews.com/stop-spreading-false-rumour-sasako-told/' generated an exception: 'NoneType' object has no attribute 'text'\n"
     ]
    },
    {
     "name": "stderr",
     "output_type": "stream",
     "text": [
      " 53%|█████████████████████████████████████████▌                                    | 7570/14200 [49:35<47:32,  2.32it/s]"
     ]
    },
    {
     "name": "stdout",
     "output_type": "stream",
     "text": [
      "'https://www.solomonstarnews.com/russians-here-to-lobby-says-gov-t/' generated an exception: 'NoneType' object has no attribute 'text'\n"
     ]
    },
    {
     "name": "stderr",
     "output_type": "stream",
     "text": [
      "100%|██████████████████████████████████████████████████████████████████████████▉| 14196/14200 [1:46:43<00:01,  2.22it/s]\n"
     ]
    }
   ],
   "source": [
    "news_lst = []\n",
    "with tqdm(total=len(output_df)) as pbar:\n",
    "    with ThreadPoolExecutor(max_workers=multiprocessing.cpu_count()+4) as executor:  \n",
    "        futures = {executor.submit(extract_news, url): url for url in output_df.url}\n",
    "        for future in as_completed(futures):\n",
    "            url = futures[future]\n",
    "            try:\n",
    "                url, news = future.result()\n",
    "            except Exception as exc:\n",
    "                print('%r generated an exception: %s' % (url, exc))\n",
    "            else:\n",
    "                news_lst.append((url, news))\n",
    "                pbar.update(1)"
   ]
  },
  {
   "cell_type": "code",
   "execution_count": 19,
   "id": "9eebcfa7",
   "metadata": {
    "scrolled": true
   },
   "outputs": [
    {
     "data": {
      "text/html": [
       "<div>\n",
       "<style scoped>\n",
       "    .dataframe tbody tr th:only-of-type {\n",
       "        vertical-align: middle;\n",
       "    }\n",
       "\n",
       "    .dataframe tbody tr th {\n",
       "        vertical-align: top;\n",
       "    }\n",
       "\n",
       "    .dataframe thead th {\n",
       "        text-align: right;\n",
       "    }\n",
       "</style>\n",
       "<table border=\"1\" class=\"dataframe\">\n",
       "  <thead>\n",
       "    <tr style=\"text-align: right;\">\n",
       "      <th></th>\n",
       "      <th>url</th>\n",
       "      <th>news</th>\n",
       "    </tr>\n",
       "  </thead>\n",
       "  <tbody>\n",
       "    <tr>\n",
       "      <th>0</th>\n",
       "      <td>https://www.solomonstarnews.com/taro-airport-u...</td>\n",
       "      <td>\\nALL Solomon Airlines flights to Taro Airport...</td>\n",
       "    </tr>\n",
       "    <tr>\n",
       "      <th>1</th>\n",
       "      <td>https://www.solomonstarnews.com/uspsa-si-succe...</td>\n",
       "      <td>\\nTHE University of the South Pacific Students...</td>\n",
       "    </tr>\n",
       "    <tr>\n",
       "      <th>2</th>\n",
       "      <td>https://www.solomonstarnews.com/bus-stabber-aw...</td>\n",
       "      <td>\\nTHE young man who allegedly stole another ma...</td>\n",
       "    </tr>\n",
       "    <tr>\n",
       "      <th>3</th>\n",
       "      <td>https://www.solomonstarnews.com/last-minute-mou/</td>\n",
       "      <td>\\nMalaita Province to sign ‘Peace’ MOU with Ch...</td>\n",
       "    </tr>\n",
       "    <tr>\n",
       "      <th>4</th>\n",
       "      <td>https://www.solomonstarnews.com/pm-highlights-...</td>\n",
       "      <td>\\nPRIME Minister, Manasseh Sogavare, has highl...</td>\n",
       "    </tr>\n",
       "  </tbody>\n",
       "</table>\n",
       "</div>"
      ],
      "text/plain": [
       "                                                 url  \\\n",
       "0  https://www.solomonstarnews.com/taro-airport-u...   \n",
       "1  https://www.solomonstarnews.com/uspsa-si-succe...   \n",
       "2  https://www.solomonstarnews.com/bus-stabber-aw...   \n",
       "3   https://www.solomonstarnews.com/last-minute-mou/   \n",
       "4  https://www.solomonstarnews.com/pm-highlights-...   \n",
       "\n",
       "                                                news  \n",
       "0  \\nALL Solomon Airlines flights to Taro Airport...  \n",
       "1  \\nTHE University of the South Pacific Students...  \n",
       "2  \\nTHE young man who allegedly stole another ma...  \n",
       "3  \\nMalaita Province to sign ‘Peace’ MOU with Ch...  \n",
       "4  \\nPRIME Minister, Manasseh Sogavare, has highl...  "
      ]
     },
     "metadata": {},
     "output_type": "display_data"
    }
   ],
   "source": [
    "news_df = pd.DataFrame(news_lst, columns=[\"url\", \"news\"])\n",
    "display(news_df.head(5))\n",
    "output_df = output_df.merge(news_df, how=\"left\", on=\"url\")"
   ]
  },
  {
   "cell_type": "code",
   "execution_count": 30,
   "id": "043ae736",
   "metadata": {
    "scrolled": false
   },
   "outputs": [],
   "source": [
    "import math\n",
    "missed_idx = output_df[output_df.news.isna() == True].index.tolist()\n",
    "for idx in missed_idx:\n",
    "    url = output_df[\"url\"][idx]\n",
    "    _ , news = extract_news(url)\n",
    "    if math.isnan(output_df.iloc[idx, -1]):\n",
    "        output_df.iloc[idx, -1] = news"
   ]
  },
  {
   "cell_type": "code",
   "execution_count": 35,
   "id": "67aee4e3",
   "metadata": {},
   "outputs": [],
   "source": [
    "if len(output_df[output_df.news.isna() == True]) == 0:\n",
    "    output_df.to_csv(target_dir+\"solomon_stars_news.csv\", encoding=\"utf-8\")"
   ]
  },
  {
   "cell_type": "markdown",
   "id": "de308a4f",
   "metadata": {},
   "source": [
    "## Solomon Times"
   ]
  },
  {
   "cell_type": "code",
   "execution_count": 3,
   "id": "10e8dffd",
   "metadata": {},
   "outputs": [],
   "source": [
    "host_url = \"https://www.solomontimes.com/news/latest/\"\n",
    "\n",
    "ym_lst = [(i, j) for i in range(2007, 2023) for j in range(1, 13)]\n",
    "ym_lst.extend([(2023, m) for m in range(1, 9)])\n",
    "ss_urls = [host_url + str(y) + \"/\" + str(m) for y, m in ym_lst]"
   ]
  },
  {
   "cell_type": "code",
   "execution_count": 4,
   "id": "619b01c0",
   "metadata": {},
   "outputs": [],
   "source": [
    "def load_page(url, timeout):\n",
    "    r = requests.get(url)\n",
    "    return r.content\n",
    "\n",
    "def extract_news_info_ss(url, params=None, timeout=5):\n",
    "    content = load_page(url, timeout)\n",
    "    soup = BeautifulSoup(content, \"html.parser\")\n",
    "    info_dict = {\"url\": [], \"title\": [], \"date\": []}\n",
    "    if params is None:\n",
    "        params = {\"title_entry\": \"entry-container\",\n",
    "                  \"title\": \"entry-title\",\n",
    "                  \"date\": \"entry-date\"}\n",
    "    for a in soup.find_all(class_=params[\"title_entry\"]):\n",
    "        entry_title = a.find(params[\"title\"])\n",
    "        if params[\"date\"] is not None:\n",
    "            info_dict[\"date\"].append(a.find(class_=params[\"date\"]).text)\n",
    "        else:\n",
    "            info_dict[\"date\"].append(np.NaN)\n",
    "        \n",
    "        info_dict[\"url\"].append(a.find(\"a\").attrs[\"href\"])\n",
    "        \n",
    "        if entry_title is not None:\n",
    "            info_dict[\"title\"].append(entry_title.text)\n",
    "        else:\n",
    "            info_dict[\"title\"].append(\"Missing Title.\")\n",
    "    return info_dict"
   ]
  },
  {
   "cell_type": "code",
   "execution_count": 5,
   "id": "cdc8e151",
   "metadata": {},
   "outputs": [
    {
     "name": "stderr",
     "output_type": "stream",
     "text": [
      "100%|█████████████████████████████████████████████████████████████████████████████| 200/200 [05:12<00:00,  1.56s/pages]\n"
     ]
    }
   ],
   "source": [
    "params = {\n",
    "    \"title_entry\": \"article-list-item\",\n",
    "    \"title\": 'h2',\n",
    "    \"date\": None\n",
    "}\n",
    "\n",
    "urls_df = pd.DataFrame()\n",
    "with tqdm(total=len(ss_urls), unit=\"pages\") as pbar:\n",
    "    for url, ym in zip(ss_urls, ym_lst):\n",
    "        url_dict = extract_news_info_ss(url, params=params)\n",
    "        url_df = pd.DataFrame(url_dict)\n",
    "        url_df[\"date\"] = str(ym)\n",
    "        if urls_df.empty:\n",
    "            urls_df = url_df\n",
    "        else:\n",
    "            urls_df = pd.concat([urls_df, url_df], axis=0)\n",
    "        pbar.update(1)"
   ]
  },
  {
   "cell_type": "code",
   "execution_count": 6,
   "id": "e5de94e9",
   "metadata": {},
   "outputs": [],
   "source": [
    "urls_df_clean = urls_df.reset_index().drop(\"index\", axis=1)\n",
    "urls_df_clean[\"date\"] = [\n",
    "    d.replace(\"(\", \"\").replace(\")\", \"\").replace(\", \", \"-\").strip()\n",
    "    for d in urls_df_clean.date\n",
    "]\n",
    "urls_df_clean[\"url\"] = [\n",
    "    \"https://www.solomontimes.com\" + url for url in urls_df_clean.url\n",
    "]\n",
    "urls_df_clean.to_csv(target_dir+\"solomon_times_urls.csv\", encoding=\"utf-8\")"
   ]
  },
  {
   "cell_type": "code",
   "execution_count": 7,
   "id": "6b4a7814",
   "metadata": {},
   "outputs": [],
   "source": [
    "def extract_news_ss(url):\n",
    "    content = load_page(url, 5)\n",
    "    soup = BeautifulSoup(content)\n",
    "\n",
    "    date = soup.find(class_=\"article-timestamp\").find(\"span\")[\"datetime\"]\n",
    "    text = soup.find(class_=\"article-body\").text.strip()\n",
    "    tags = soup.find(class_=\"tags\").find_all(\"a\")\n",
    "    tags_text = \"\".join(t.text + \",\" if i < len(tags) - 1 else t.text\n",
    "                        for i, t in enumerate(tags))\n",
    "\n",
    "    return {\"url\": url, \"date\": date, \"news\": text, \"tag\": tags_text}"
   ]
  },
  {
   "cell_type": "code",
   "execution_count": 8,
   "id": "772d9293",
   "metadata": {},
   "outputs": [
    {
     "name": "stderr",
     "output_type": "stream",
     "text": [
      "100%|████████████████████████████████████████████████████████████████████████████| 11049/11049 [30:36<00:00,  6.02it/s]\n"
     ]
    }
   ],
   "source": [
    "news_st = []\n",
    "with tqdm(total=len(urls_df_clean)) as pbar:\n",
    "    with ThreadPoolExecutor(max_workers=multiprocessing.cpu_count()+4) as executor:  \n",
    "        futures = {executor.submit(extract_news_ss, url): url for url in urls_df_clean.url}\n",
    "        for future in as_completed(futures):\n",
    "            url = futures[future]\n",
    "            try:\n",
    "                news = future.result()\n",
    "            except Exception as exc:\n",
    "                print('%r generated an exception: %s' % (url, exc))\n",
    "            else:\n",
    "                news_st_dict.append(news)\n",
    "                pbar.update(1)"
   ]
  },
  {
   "cell_type": "code",
   "execution_count": 14,
   "id": "0bbaab42",
   "metadata": {},
   "outputs": [
    {
     "data": {
      "text/html": [
       "<div>\n",
       "<style scoped>\n",
       "    .dataframe tbody tr th:only-of-type {\n",
       "        vertical-align: middle;\n",
       "    }\n",
       "\n",
       "    .dataframe tbody tr th {\n",
       "        vertical-align: top;\n",
       "    }\n",
       "\n",
       "    .dataframe thead th {\n",
       "        text-align: right;\n",
       "    }\n",
       "</style>\n",
       "<table border=\"1\" class=\"dataframe\">\n",
       "  <thead>\n",
       "    <tr style=\"text-align: right;\">\n",
       "      <th></th>\n",
       "      <th>url</th>\n",
       "      <th>date</th>\n",
       "      <th>news</th>\n",
       "      <th>tag</th>\n",
       "    </tr>\n",
       "  </thead>\n",
       "  <tbody>\n",
       "    <tr>\n",
       "      <th>7052</th>\n",
       "      <td>https://www.solomontimes.com/news/pms-link-wit...</td>\n",
       "      <td>2017-01-19 22:19:00</td>\n",
       "      <td>The Parliamentary Opposition Group says text m...</td>\n",
       "      <td>News,Politics</td>\n",
       "    </tr>\n",
       "    <tr>\n",
       "      <th>8583</th>\n",
       "      <td>https://www.solomontimes.com/news/recent-arriv...</td>\n",
       "      <td>2020-09-17 00:58:00</td>\n",
       "      <td>Nationals along with Chinese diplomats, techni...</td>\n",
       "      <td>News,Economy</td>\n",
       "    </tr>\n",
       "    <tr>\n",
       "      <th>4624</th>\n",
       "      <td>https://www.solomontimes.com/news/urban-youth-...</td>\n",
       "      <td>2011-06-03 00:50:30</td>\n",
       "      <td>JOINT PRESS RELEASE - [Suva, Fiji - 2nd June 2...</td>\n",
       "      <td>News,Regional</td>\n",
       "    </tr>\n",
       "    <tr>\n",
       "      <th>4991</th>\n",
       "      <td>https://www.solomontimes.com/news/solomon-isla...</td>\n",
       "      <td>2011-11-29 21:09:30</td>\n",
       "      <td>The opening match of the Oceania Cup between N...</td>\n",
       "      <td>News,Sports</td>\n",
       "    </tr>\n",
       "    <tr>\n",
       "      <th>9234</th>\n",
       "      <td>https://www.solomontimes.com/news/government-c...</td>\n",
       "      <td>2021-06-23 21:35:00</td>\n",
       "      <td>Government officials have successfully complet...</td>\n",
       "      <td>News,Economy</td>\n",
       "    </tr>\n",
       "    <tr>\n",
       "      <th>4490</th>\n",
       "      <td>https://www.solomontimes.com/news/ashika-jury-...</td>\n",
       "      <td>2011-04-03 22:18:30</td>\n",
       "      <td>The jury for the case of the MV Princess Ashik...</td>\n",
       "      <td>News,Regional</td>\n",
       "    </tr>\n",
       "    <tr>\n",
       "      <th>8530</th>\n",
       "      <td>https://www.solomontimes.com/news/ofc-will-inv...</td>\n",
       "      <td>2020-08-04 22:06:00</td>\n",
       "      <td>OFC Will Invest an Unprecedented $43 million D...</td>\n",
       "      <td>News,Sports</td>\n",
       "    </tr>\n",
       "    <tr>\n",
       "      <th>10387</th>\n",
       "      <td>https://www.solomontimes.com/news/siaf-rsipf-p...</td>\n",
       "      <td>2022-08-10 04:05:00</td>\n",
       "      <td>As part of their ongoing community engagement,...</td>\n",
       "      <td>News,Economy</td>\n",
       "    </tr>\n",
       "    <tr>\n",
       "      <th>7645</th>\n",
       "      <td>https://www.solomontimes.com/news/leai-nets-41...</td>\n",
       "      <td>2019-08-22 04:07:00</td>\n",
       "      <td>Solomon Islands young football sensation Rapha...</td>\n",
       "      <td>News,Sports</td>\n",
       "    </tr>\n",
       "    <tr>\n",
       "      <th>171</th>\n",
       "      <td>https://www.solomontimes.com/news/sbd10-millio...</td>\n",
       "      <td>2007-06-24 23:07:30</td>\n",
       "      <td>Governor of Central Bank Rick Hou has praised ...</td>\n",
       "      <td>News,Economy</td>\n",
       "    </tr>\n",
       "  </tbody>\n",
       "</table>\n",
       "</div>"
      ],
      "text/plain": [
       "                                                     url                date  \\\n",
       "7052   https://www.solomontimes.com/news/pms-link-wit... 2017-01-19 22:19:00   \n",
       "8583   https://www.solomontimes.com/news/recent-arriv... 2020-09-17 00:58:00   \n",
       "4624   https://www.solomontimes.com/news/urban-youth-... 2011-06-03 00:50:30   \n",
       "4991   https://www.solomontimes.com/news/solomon-isla... 2011-11-29 21:09:30   \n",
       "9234   https://www.solomontimes.com/news/government-c... 2021-06-23 21:35:00   \n",
       "4490   https://www.solomontimes.com/news/ashika-jury-... 2011-04-03 22:18:30   \n",
       "8530   https://www.solomontimes.com/news/ofc-will-inv... 2020-08-04 22:06:00   \n",
       "10387  https://www.solomontimes.com/news/siaf-rsipf-p... 2022-08-10 04:05:00   \n",
       "7645   https://www.solomontimes.com/news/leai-nets-41... 2019-08-22 04:07:00   \n",
       "171    https://www.solomontimes.com/news/sbd10-millio... 2007-06-24 23:07:30   \n",
       "\n",
       "                                                    news            tag  \n",
       "7052   The Parliamentary Opposition Group says text m...  News,Politics  \n",
       "8583   Nationals along with Chinese diplomats, techni...   News,Economy  \n",
       "4624   JOINT PRESS RELEASE - [Suva, Fiji - 2nd June 2...  News,Regional  \n",
       "4991   The opening match of the Oceania Cup between N...    News,Sports  \n",
       "9234   Government officials have successfully complet...   News,Economy  \n",
       "4490   The jury for the case of the MV Princess Ashik...  News,Regional  \n",
       "8530   OFC Will Invest an Unprecedented $43 million D...    News,Sports  \n",
       "10387  As part of their ongoing community engagement,...   News,Economy  \n",
       "7645   Solomon Islands young football sensation Rapha...    News,Sports  \n",
       "171    Governor of Central Bank Rick Hou has praised ...   News,Economy  "
      ]
     },
     "execution_count": 14,
     "metadata": {},
     "output_type": "execute_result"
    }
   ],
   "source": [
    "st_news = pd.DataFrame(news_ss_dict)\n",
    "st_news[\"date\"] = pd.to_datetime(st_news[\"date\"])\n",
    "st_news.to_csv(target_dir + \"solomon_times_news.csv\", encoding=\"utf-8\")\n",
    "st_news.sample(10)"
   ]
  }
 ],
 "metadata": {
  "kernelspec": {
   "display_name": "Python 3 (ipykernel)",
   "language": "python",
   "name": "python3"
  },
  "language_info": {
   "codemirror_mode": {
    "name": "ipython",
    "version": 3
   },
   "file_extension": ".py",
   "mimetype": "text/x-python",
   "name": "python",
   "nbconvert_exporter": "python",
   "pygments_lexer": "ipython3",
   "version": "3.9.10"
  },
  "toc": {
   "base_numbering": 1,
   "nav_menu": {},
   "number_sections": true,
   "sideBar": true,
   "skip_h1_title": false,
   "title_cell": "Table of Contents",
   "title_sidebar": "Contents",
   "toc_cell": false,
   "toc_position": {},
   "toc_section_display": true,
   "toc_window_display": false
  }
 },
 "nbformat": 4,
 "nbformat_minor": 5
}
