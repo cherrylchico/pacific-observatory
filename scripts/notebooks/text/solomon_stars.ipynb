{
 "cells": [
  {
   "cell_type": "code",
   "execution_count": 1,
   "id": "7e1a9296",
   "metadata": {},
   "outputs": [],
   "source": [
    "import os\n",
    "os.chdir(\"../../../\")\n",
    "\n",
    "import urllib\n",
    "import requests\n",
    "from bs4 import BeautifulSoup\n",
    "from tqdm import tqdm\n",
    "import pandas as pd\n",
    "\n",
    "from scripts.python.scraper.utils import *\n",
    "from concurrent.futures import ThreadPoolExecutor, as_completed, ProcessPoolExecutor\n",
    "import multiprocessing\n",
    "import httpx"
   ]
  },
  {
   "cell_type": "code",
   "execution_count": 2,
   "id": "bb074f49",
   "metadata": {},
   "outputs": [],
   "source": [
    "target_dir = os.getcwd() + \"/data/text/solomon_islands/\"\n",
    "if not os.path.exists(target_dir):\n",
    "    os.mkdir(target_dir)"
   ]
  },
  {
   "cell_type": "code",
   "execution_count": 4,
   "id": "9120050d",
   "metadata": {},
   "outputs": [
    {
     "name": "stderr",
     "output_type": "stream",
     "text": [
      "100%|████████████████████████████████████████████████████████████████████████████| 1420/1420 [22:00<00:00,  1.08pages/s]\n"
     ]
    }
   ],
   "source": [
    "def main():\n",
    "    params = {\n",
    "        \"title_entry\": \"blog-content wf-td\",\n",
    "        \"title\": \"entry-title\",\n",
    "        \"date\": \"entry-date\"\n",
    "    }\n",
    "\n",
    "    host = \"https://www.solomonstarnews.com/category/news/news-national/page/\"\n",
    "    urls = [host + str(i) for i in range(1, 1421)]\n",
    "    max_workers = multiprocessing.cpu_count() - 1\n",
    "    output = []\n",
    "\n",
    "\n",
    "    with tqdm(total=len(urls), unit=\"pages\") as pbar:\n",
    "        with ThreadPoolExecutor(max_workers=max_workers) as executor:\n",
    "            future_to_url = {\n",
    "                executor.submit(extract_news_info, url, params=params, timeout=5):\n",
    "                url\n",
    "                for url in urls\n",
    "            }\n",
    "            for future in as_completed(future_to_url):\n",
    "                url = future_to_url[future]\n",
    "                try:\n",
    "                    data = future.result()\n",
    "                except Exception as exc:\n",
    "                    print('%r generated an exception: %s' % (url, exc))\n",
    "                else:\n",
    "                    output.append(data)\n",
    "                    pbar.update(1)\n",
    "\n",
    "    return output\n",
    "\n",
    "if __name__ == '__main__':\n",
    "    output = main()"
   ]
  },
  {
   "cell_type": "code",
   "execution_count": 5,
   "id": "967f2a92",
   "metadata": {},
   "outputs": [],
   "source": [
    "output_df = pd.DataFrame()\n",
    "for out in output:\n",
    "    out_df = pd.DataFrame(out)\n",
    "    if output_df.empty:\n",
    "        output_df = out_df\n",
    "    else:\n",
    "        output_df = pd.concat([output_df, out_df], axis=0)"
   ]
  },
  {
   "cell_type": "code",
   "execution_count": 7,
   "id": "52b29b55",
   "metadata": {},
   "outputs": [],
   "source": [
    "output_df = output_df.reset_index().drop(\"index\", axis=1)\n",
    "output_df[\"date\"] = pd.to_datetime(output_df[\"date\"])\n",
    "output_df.sample(10)\n",
    "output_df.to_csv(target_dir+\"solomon_stars_urls.csv\", encoding=\"utf-8\")"
   ]
  },
  {
   "cell_type": "code",
   "execution_count": 17,
   "id": "d3307b5b",
   "metadata": {},
   "outputs": [],
   "source": [
    "def extract_news(url):\n",
    "    content = load_page(url, timeout=5)\n",
    "    soup = BeautifulSoup(content, \"html.parser\")\n",
    "    try: \n",
    "        raw_text = soup.find(class_=\"entry-content\").text\n",
    "    except:\n",
    "        raw_text = soup.find(class_=\"content\").text\n",
    "    return url, raw_text"
   ]
  },
  {
   "cell_type": "code",
   "execution_count": 18,
   "id": "3c0d344f",
   "metadata": {
    "scrolled": false
   },
   "outputs": [
    {
     "name": "stderr",
     "output_type": "stream",
     "text": [
      " 53%|████████████████████████████████████████▍                                   | 7553/14200 [49:26<1:52:23,  1.01s/it]"
     ]
    },
    {
     "name": "stdout",
     "output_type": "stream",
     "text": [
      "'https://www.solomonstarnews.com/honiara-goes-under-flood-waters-again/' generated an exception: 'NoneType' object has no attribute 'text'\n"
     ]
    },
    {
     "name": "stderr",
     "output_type": "stream",
     "text": [
      " 53%|█████████████████████████████████████████▌                                    | 7561/14200 [49:30<40:16,  2.75it/s]"
     ]
    },
    {
     "name": "stdout",
     "output_type": "stream",
     "text": [
      "'https://www.solomonstarnews.com/in-court-with-assumpta-buchanan-d56/' generated an exception: 'NoneType' object has no attribute 'text'\n",
      "'https://www.solomonstarnews.com/stop-spreading-false-rumour-sasako-told/' generated an exception: 'NoneType' object has no attribute 'text'\n"
     ]
    },
    {
     "name": "stderr",
     "output_type": "stream",
     "text": [
      " 53%|█████████████████████████████████████████▌                                    | 7570/14200 [49:35<47:32,  2.32it/s]"
     ]
    },
    {
     "name": "stdout",
     "output_type": "stream",
     "text": [
      "'https://www.solomonstarnews.com/russians-here-to-lobby-says-gov-t/' generated an exception: 'NoneType' object has no attribute 'text'\n"
     ]
    },
    {
     "name": "stderr",
     "output_type": "stream",
     "text": [
      "100%|██████████████████████████████████████████████████████████████████████████▉| 14196/14200 [1:46:43<00:01,  2.22it/s]\n"
     ]
    }
   ],
   "source": [
    "news_lst = []\n",
    "with tqdm(total=len(output_df)) as pbar:\n",
    "    with ThreadPoolExecutor(max_workers=multiprocessing.cpu_count()+4) as executor:  \n",
    "        futures = {executor.submit(extract_news, url): url for url in output_df.url}\n",
    "        for future in as_completed(futures):\n",
    "            url = futures[future]\n",
    "            try:\n",
    "                url, news = future.result()\n",
    "            except Exception as exc:\n",
    "                print('%r generated an exception: %s' % (url, exc))\n",
    "            else:\n",
    "                news_lst.append((url, news))\n",
    "                pbar.update(1)"
   ]
  },
  {
   "cell_type": "code",
   "execution_count": 19,
   "id": "9eebcfa7",
   "metadata": {
    "scrolled": true
   },
   "outputs": [
    {
     "data": {
      "text/html": [
       "<div>\n",
       "<style scoped>\n",
       "    .dataframe tbody tr th:only-of-type {\n",
       "        vertical-align: middle;\n",
       "    }\n",
       "\n",
       "    .dataframe tbody tr th {\n",
       "        vertical-align: top;\n",
       "    }\n",
       "\n",
       "    .dataframe thead th {\n",
       "        text-align: right;\n",
       "    }\n",
       "</style>\n",
       "<table border=\"1\" class=\"dataframe\">\n",
       "  <thead>\n",
       "    <tr style=\"text-align: right;\">\n",
       "      <th></th>\n",
       "      <th>url</th>\n",
       "      <th>news</th>\n",
       "    </tr>\n",
       "  </thead>\n",
       "  <tbody>\n",
       "    <tr>\n",
       "      <th>0</th>\n",
       "      <td>https://www.solomonstarnews.com/taro-airport-u...</td>\n",
       "      <td>\\nALL Solomon Airlines flights to Taro Airport...</td>\n",
       "    </tr>\n",
       "    <tr>\n",
       "      <th>1</th>\n",
       "      <td>https://www.solomonstarnews.com/uspsa-si-succe...</td>\n",
       "      <td>\\nTHE University of the South Pacific Students...</td>\n",
       "    </tr>\n",
       "    <tr>\n",
       "      <th>2</th>\n",
       "      <td>https://www.solomonstarnews.com/bus-stabber-aw...</td>\n",
       "      <td>\\nTHE young man who allegedly stole another ma...</td>\n",
       "    </tr>\n",
       "    <tr>\n",
       "      <th>3</th>\n",
       "      <td>https://www.solomonstarnews.com/last-minute-mou/</td>\n",
       "      <td>\\nMalaita Province to sign ‘Peace’ MOU with Ch...</td>\n",
       "    </tr>\n",
       "    <tr>\n",
       "      <th>4</th>\n",
       "      <td>https://www.solomonstarnews.com/pm-highlights-...</td>\n",
       "      <td>\\nPRIME Minister, Manasseh Sogavare, has highl...</td>\n",
       "    </tr>\n",
       "  </tbody>\n",
       "</table>\n",
       "</div>"
      ],
      "text/plain": [
       "                                                 url  \\\n",
       "0  https://www.solomonstarnews.com/taro-airport-u...   \n",
       "1  https://www.solomonstarnews.com/uspsa-si-succe...   \n",
       "2  https://www.solomonstarnews.com/bus-stabber-aw...   \n",
       "3   https://www.solomonstarnews.com/last-minute-mou/   \n",
       "4  https://www.solomonstarnews.com/pm-highlights-...   \n",
       "\n",
       "                                                news  \n",
       "0  \\nALL Solomon Airlines flights to Taro Airport...  \n",
       "1  \\nTHE University of the South Pacific Students...  \n",
       "2  \\nTHE young man who allegedly stole another ma...  \n",
       "3  \\nMalaita Province to sign ‘Peace’ MOU with Ch...  \n",
       "4  \\nPRIME Minister, Manasseh Sogavare, has highl...  "
      ]
     },
     "metadata": {},
     "output_type": "display_data"
    }
   ],
   "source": [
    "news_df = pd.DataFrame(news_lst, columns=[\"url\", \"news\"])\n",
    "display(news_df.head(5))\n",
    "output_df = output_df.merge(news_df, how=\"left\", on=\"url\")"
   ]
  },
  {
   "cell_type": "code",
   "execution_count": 30,
   "id": "043ae736",
   "metadata": {
    "scrolled": false
   },
   "outputs": [],
   "source": [
    "import math\n",
    "missed_idx = output_df[output_df.news.isna() == True].index.tolist()\n",
    "for idx in missed_idx:\n",
    "    url = output_df[\"url\"][idx]\n",
    "    _ , news = extract_news(url)\n",
    "    if math.isnan(output_df.iloc[idx, -1]):\n",
    "        output_df.iloc[idx, -1] = news"
   ]
  },
  {
   "cell_type": "code",
   "execution_count": 35,
   "id": "67aee4e3",
   "metadata": {},
   "outputs": [],
   "source": [
    "if len(output_df[output_df.news.isna() == True]) == 0:\n",
    "    output_df.to_csv(target_dir+\"solomon_stars_news.csv\", encoding=\"utf-8\")"
   ]
  }
 ],
 "metadata": {
  "kernelspec": {
   "display_name": "Python 3 (ipykernel)",
   "language": "python",
   "name": "python3"
  },
  "language_info": {
   "codemirror_mode": {
    "name": "ipython",
    "version": 3
   },
   "file_extension": ".py",
   "mimetype": "text/x-python",
   "name": "python",
   "nbconvert_exporter": "python",
   "pygments_lexer": "ipython3",
   "version": "3.9.10"
  },
  "toc": {
   "base_numbering": 1,
   "nav_menu": {},
   "number_sections": true,
   "sideBar": true,
   "skip_h1_title": false,
   "title_cell": "Table of Contents",
   "title_sidebar": "Contents",
   "toc_cell": false,
   "toc_position": {},
   "toc_section_display": true,
   "toc_window_display": false
  }
 },
 "nbformat": 4,
 "nbformat_minor": 5
}
