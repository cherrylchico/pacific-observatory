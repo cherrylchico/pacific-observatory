{
 "cells": [
  {
   "cell_type": "markdown",
   "id": "05ca1744",
   "metadata": {
    "hide_input": false,
    "slideshow": {
     "slide_type": "slide"
    }
   },
   "source": [
    "**The Employment of Text Analytics in Pacific Islands Countries**"
   ]
  },
  {
   "cell_type": "markdown",
   "id": "638ca796",
   "metadata": {
    "slideshow": {
     "slide_type": "slide"
    }
   },
   "source": [
    "**Economic Policy Uncertainty**"
   ]
  },
  {
   "cell_type": "markdown",
   "id": "1a002976",
   "metadata": {
    "slideshow": {
     "slide_type": "subslide"
    }
   },
   "source": [
    " - Baker, Bloom, and Davis (2016) published an article on QJE, named \"[Measuring Economic Policy Uncertainty](https://doi.org/10.1093/qje/qjw024)\", which has been cited more than 9800 times on Google Scholar.\n",
    " - They found that \"innovations in policy uncertainty foreshadow declines in investment, output, and employment in the United States and, in a panel vector autoregressive setting, for 12 major economies.\"\n",
    " - They also created category-specific EPU indexes, like health-care, trade policy, national security, entitlement program, etc."
   ]
  },
  {
   "cell_type": "markdown",
   "id": "dea8cbc7",
   "metadata": {
    "slideshow": {
     "slide_type": "subslide"
    }
   },
   "source": [
    "**Example: Solomon Islands**\n",
    "- We used four major newspapers in Solomon Islands, all of which can be accessible (scraped) via internet:\n",
    "    - ***Solomon Stars*** has been available from 2014-04;\n",
    "    - ***Solomon Times*** has been available from 2007-04;\n",
    "    - ***The Island Sun*** has been available from 2017-08; and\n",
    "    - ***Solomon Islands Broadcasting Corporation*** has been available from 2014-12;"
   ]
  },
  {
   "cell_type": "code",
   "execution_count": 3,
   "id": "ec2c94d4",
   "metadata": {
    "slideshow": {
     "slide_type": "notes"
    },
    "tags": [
     "hide-input"
    ]
   },
   "outputs": [
    {
     "name": "stdout",
     "output_type": "stream",
     "text": [
      "5\n"
     ]
    }
   ],
   "source": [
    "#hideme\n",
    "import os\n",
    "os.chdir(\"../../../\")\n",
    "\n",
    "import pandas as pd\n",
    "import numpy as np\n",
    "print(5)"
   ]
  }
 ],
 "metadata": {
  "celltoolbar": "Slideshow",
  "gist": {
   "data": {
    "description": "pacific-observatory/scripts/notebooks/text/Untitled.ipynb",
    "public": false
   },
   "id": ""
  },
  "kernelspec": {
   "display_name": "po",
   "language": "python",
   "name": "po"
  },
  "language_info": {
   "codemirror_mode": {
    "name": "ipython",
    "version": 3
   },
   "file_extension": ".py",
   "mimetype": "text/x-python",
   "name": "python",
   "nbconvert_exporter": "python",
   "pygments_lexer": "ipython3",
   "version": "3.9.0"
  },
  "toc": {
   "base_numbering": 1,
   "nav_menu": {},
   "number_sections": true,
   "sideBar": true,
   "skip_h1_title": false,
   "title_cell": "Table of Contents",
   "title_sidebar": "Contents",
   "toc_cell": false,
   "toc_position": {},
   "toc_section_display": true,
   "toc_window_display": false
  }
 },
 "nbformat": 4,
 "nbformat_minor": 5
}
